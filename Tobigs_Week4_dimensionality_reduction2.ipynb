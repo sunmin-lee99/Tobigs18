{
  "cells": [
    {
      "cell_type": "markdown",
      "metadata": {
        "id": "O8Z8qDl2Wf60"
      },
      "source": [
        "# 차원축소 Assignment2"
      ]
    },
    {
      "cell_type": "markdown",
      "metadata": {
        "id": "R6-7qYoBWf63"
      },
      "source": [
        "## MNIST data에 적용을 해보기\n",
        "\n",
        "mnist-original.mat 파일과 같은 위치에서 주피터 노트북을 열어주세요"
      ]
    },
    {
      "cell_type": "code",
      "source": [
        "from google.colab import drive\n",
        "drive.mount('/content/drive')"
      ],
      "metadata": {
        "colab": {
          "base_uri": "https://localhost:8080/"
        },
        "id": "bH8MPuEhoga-",
        "outputId": "ce3381b4-c522-4493-fd8e-e753fe479adf"
      },
      "execution_count": 1,
      "outputs": [
        {
          "output_type": "stream",
          "name": "stdout",
          "text": [
            "Drive already mounted at /content/drive; to attempt to forcibly remount, call drive.mount(\"/content/drive\", force_remount=True).\n"
          ]
        }
      ]
    },
    {
      "cell_type": "code",
      "execution_count": 2,
      "metadata": {
        "id": "sAkGLVaXWf64"
      },
      "outputs": [],
      "source": [
        "import numpy as np\n",
        "import numpy.linalg as lin\n",
        "import matplotlib.pyplot as plt\n",
        "import pandas as pd\n",
        "from sklearn.datasets import fetch_openml\n",
        "from scipy import io\n",
        "%matplotlib inline\n",
        "from mpl_toolkits.mplot3d import Axes3D"
      ]
    },
    {
      "cell_type": "code",
      "execution_count": 3,
      "metadata": {
        "id": "TUW37HdWWf65"
      },
      "outputs": [],
      "source": [
        "mnist = io.loadmat('/content/drive/MyDrive/ToBigs/Dimension/mnist-original.mat') #mnist 손글씨 데이터를 불러옵니다\n",
        "X = mnist['data'].T\n",
        "y = mnist['label'].T"
      ]
    },
    {
      "cell_type": "markdown",
      "metadata": {
        "id": "8VQpfDRyWf65"
      },
      "source": [
        "# 데이터 정보!\n",
        "- 7만개의 작은 숫자 이미지\n",
        "- 행 열이 반대로 되어있음 -> 전치\n",
        "- grayscale 28x28 pixel = 784 feature\n",
        "- 각 picel은 0~255의 값\n",
        "- label = 1~10 label이 총 10개인거에 주목하자"
      ]
    },
    {
      "cell_type": "code",
      "execution_count": 4,
      "metadata": {
        "colab": {
          "base_uri": "https://localhost:8080/"
        },
        "id": "7ZYzybU0Wf66",
        "outputId": "64058983-a265-4efe-c8b3-29752fba5506"
      },
      "outputs": [
        {
          "output_type": "stream",
          "name": "stdout",
          "text": [
            "(70000, 784) (70000, 1)\n"
          ]
        }
      ],
      "source": [
        "print(X.shape, y.shape)"
      ]
    },
    {
      "cell_type": "code",
      "execution_count": 5,
      "metadata": {
        "colab": {
          "base_uri": "https://localhost:8080/",
          "height": 300
        },
        "id": "vNcpzxC-Wf67",
        "outputId": "ea0b02a5-5df3-482c-8ce6-fbd2ff124b48"
      },
      "outputs": [
        {
          "output_type": "execute_result",
          "data": {
            "text/plain": [
              "   pixel0  pixel1  pixel2  pixel3  pixel4  pixel5  pixel6  pixel7  pixel8  \\\n",
              "0       0       0       0       0       0       0       0       0       0   \n",
              "1       0       0       0       0       0       0       0       0       0   \n",
              "2       0       0       0       0       0       0       0       0       0   \n",
              "3       0       0       0       0       0       0       0       0       0   \n",
              "4       0       0       0       0       0       0       0       0       0   \n",
              "\n",
              "   pixel9  ...  pixel774  pixel775  pixel776  pixel777  pixel778  pixel779  \\\n",
              "0       0  ...         0         0         0         0         0         0   \n",
              "1       0  ...         0         0         0         0         0         0   \n",
              "2       0  ...         0         0         0         0         0         0   \n",
              "3       0  ...         0         0         0         0         0         0   \n",
              "4       0  ...         0         0         0         0         0         0   \n",
              "\n",
              "   pixel780  pixel781  pixel782  pixel783  \n",
              "0         0         0         0         0  \n",
              "1         0         0         0         0  \n",
              "2         0         0         0         0  \n",
              "3         0         0         0         0  \n",
              "4         0         0         0         0  \n",
              "\n",
              "[5 rows x 784 columns]"
            ],
            "text/html": [
              "\n",
              "  <div id=\"df-b9364597-fc98-4c17-867e-b1ed73779fe4\">\n",
              "    <div class=\"colab-df-container\">\n",
              "      <div>\n",
              "<style scoped>\n",
              "    .dataframe tbody tr th:only-of-type {\n",
              "        vertical-align: middle;\n",
              "    }\n",
              "\n",
              "    .dataframe tbody tr th {\n",
              "        vertical-align: top;\n",
              "    }\n",
              "\n",
              "    .dataframe thead th {\n",
              "        text-align: right;\n",
              "    }\n",
              "</style>\n",
              "<table border=\"1\" class=\"dataframe\">\n",
              "  <thead>\n",
              "    <tr style=\"text-align: right;\">\n",
              "      <th></th>\n",
              "      <th>pixel0</th>\n",
              "      <th>pixel1</th>\n",
              "      <th>pixel2</th>\n",
              "      <th>pixel3</th>\n",
              "      <th>pixel4</th>\n",
              "      <th>pixel5</th>\n",
              "      <th>pixel6</th>\n",
              "      <th>pixel7</th>\n",
              "      <th>pixel8</th>\n",
              "      <th>pixel9</th>\n",
              "      <th>...</th>\n",
              "      <th>pixel774</th>\n",
              "      <th>pixel775</th>\n",
              "      <th>pixel776</th>\n",
              "      <th>pixel777</th>\n",
              "      <th>pixel778</th>\n",
              "      <th>pixel779</th>\n",
              "      <th>pixel780</th>\n",
              "      <th>pixel781</th>\n",
              "      <th>pixel782</th>\n",
              "      <th>pixel783</th>\n",
              "    </tr>\n",
              "  </thead>\n",
              "  <tbody>\n",
              "    <tr>\n",
              "      <th>0</th>\n",
              "      <td>0</td>\n",
              "      <td>0</td>\n",
              "      <td>0</td>\n",
              "      <td>0</td>\n",
              "      <td>0</td>\n",
              "      <td>0</td>\n",
              "      <td>0</td>\n",
              "      <td>0</td>\n",
              "      <td>0</td>\n",
              "      <td>0</td>\n",
              "      <td>...</td>\n",
              "      <td>0</td>\n",
              "      <td>0</td>\n",
              "      <td>0</td>\n",
              "      <td>0</td>\n",
              "      <td>0</td>\n",
              "      <td>0</td>\n",
              "      <td>0</td>\n",
              "      <td>0</td>\n",
              "      <td>0</td>\n",
              "      <td>0</td>\n",
              "    </tr>\n",
              "    <tr>\n",
              "      <th>1</th>\n",
              "      <td>0</td>\n",
              "      <td>0</td>\n",
              "      <td>0</td>\n",
              "      <td>0</td>\n",
              "      <td>0</td>\n",
              "      <td>0</td>\n",
              "      <td>0</td>\n",
              "      <td>0</td>\n",
              "      <td>0</td>\n",
              "      <td>0</td>\n",
              "      <td>...</td>\n",
              "      <td>0</td>\n",
              "      <td>0</td>\n",
              "      <td>0</td>\n",
              "      <td>0</td>\n",
              "      <td>0</td>\n",
              "      <td>0</td>\n",
              "      <td>0</td>\n",
              "      <td>0</td>\n",
              "      <td>0</td>\n",
              "      <td>0</td>\n",
              "    </tr>\n",
              "    <tr>\n",
              "      <th>2</th>\n",
              "      <td>0</td>\n",
              "      <td>0</td>\n",
              "      <td>0</td>\n",
              "      <td>0</td>\n",
              "      <td>0</td>\n",
              "      <td>0</td>\n",
              "      <td>0</td>\n",
              "      <td>0</td>\n",
              "      <td>0</td>\n",
              "      <td>0</td>\n",
              "      <td>...</td>\n",
              "      <td>0</td>\n",
              "      <td>0</td>\n",
              "      <td>0</td>\n",
              "      <td>0</td>\n",
              "      <td>0</td>\n",
              "      <td>0</td>\n",
              "      <td>0</td>\n",
              "      <td>0</td>\n",
              "      <td>0</td>\n",
              "      <td>0</td>\n",
              "    </tr>\n",
              "    <tr>\n",
              "      <th>3</th>\n",
              "      <td>0</td>\n",
              "      <td>0</td>\n",
              "      <td>0</td>\n",
              "      <td>0</td>\n",
              "      <td>0</td>\n",
              "      <td>0</td>\n",
              "      <td>0</td>\n",
              "      <td>0</td>\n",
              "      <td>0</td>\n",
              "      <td>0</td>\n",
              "      <td>...</td>\n",
              "      <td>0</td>\n",
              "      <td>0</td>\n",
              "      <td>0</td>\n",
              "      <td>0</td>\n",
              "      <td>0</td>\n",
              "      <td>0</td>\n",
              "      <td>0</td>\n",
              "      <td>0</td>\n",
              "      <td>0</td>\n",
              "      <td>0</td>\n",
              "    </tr>\n",
              "    <tr>\n",
              "      <th>4</th>\n",
              "      <td>0</td>\n",
              "      <td>0</td>\n",
              "      <td>0</td>\n",
              "      <td>0</td>\n",
              "      <td>0</td>\n",
              "      <td>0</td>\n",
              "      <td>0</td>\n",
              "      <td>0</td>\n",
              "      <td>0</td>\n",
              "      <td>0</td>\n",
              "      <td>...</td>\n",
              "      <td>0</td>\n",
              "      <td>0</td>\n",
              "      <td>0</td>\n",
              "      <td>0</td>\n",
              "      <td>0</td>\n",
              "      <td>0</td>\n",
              "      <td>0</td>\n",
              "      <td>0</td>\n",
              "      <td>0</td>\n",
              "      <td>0</td>\n",
              "    </tr>\n",
              "  </tbody>\n",
              "</table>\n",
              "<p>5 rows × 784 columns</p>\n",
              "</div>\n",
              "      <button class=\"colab-df-convert\" onclick=\"convertToInteractive('df-b9364597-fc98-4c17-867e-b1ed73779fe4')\"\n",
              "              title=\"Convert this dataframe to an interactive table.\"\n",
              "              style=\"display:none;\">\n",
              "        \n",
              "  <svg xmlns=\"http://www.w3.org/2000/svg\" height=\"24px\"viewBox=\"0 0 24 24\"\n",
              "       width=\"24px\">\n",
              "    <path d=\"M0 0h24v24H0V0z\" fill=\"none\"/>\n",
              "    <path d=\"M18.56 5.44l.94 2.06.94-2.06 2.06-.94-2.06-.94-.94-2.06-.94 2.06-2.06.94zm-11 1L8.5 8.5l.94-2.06 2.06-.94-2.06-.94L8.5 2.5l-.94 2.06-2.06.94zm10 10l.94 2.06.94-2.06 2.06-.94-2.06-.94-.94-2.06-.94 2.06-2.06.94z\"/><path d=\"M17.41 7.96l-1.37-1.37c-.4-.4-.92-.59-1.43-.59-.52 0-1.04.2-1.43.59L10.3 9.45l-7.72 7.72c-.78.78-.78 2.05 0 2.83L4 21.41c.39.39.9.59 1.41.59.51 0 1.02-.2 1.41-.59l7.78-7.78 2.81-2.81c.8-.78.8-2.07 0-2.86zM5.41 20L4 18.59l7.72-7.72 1.47 1.35L5.41 20z\"/>\n",
              "  </svg>\n",
              "      </button>\n",
              "      \n",
              "  <style>\n",
              "    .colab-df-container {\n",
              "      display:flex;\n",
              "      flex-wrap:wrap;\n",
              "      gap: 12px;\n",
              "    }\n",
              "\n",
              "    .colab-df-convert {\n",
              "      background-color: #E8F0FE;\n",
              "      border: none;\n",
              "      border-radius: 50%;\n",
              "      cursor: pointer;\n",
              "      display: none;\n",
              "      fill: #1967D2;\n",
              "      height: 32px;\n",
              "      padding: 0 0 0 0;\n",
              "      width: 32px;\n",
              "    }\n",
              "\n",
              "    .colab-df-convert:hover {\n",
              "      background-color: #E2EBFA;\n",
              "      box-shadow: 0px 1px 2px rgba(60, 64, 67, 0.3), 0px 1px 3px 1px rgba(60, 64, 67, 0.15);\n",
              "      fill: #174EA6;\n",
              "    }\n",
              "\n",
              "    [theme=dark] .colab-df-convert {\n",
              "      background-color: #3B4455;\n",
              "      fill: #D2E3FC;\n",
              "    }\n",
              "\n",
              "    [theme=dark] .colab-df-convert:hover {\n",
              "      background-color: #434B5C;\n",
              "      box-shadow: 0px 1px 3px 1px rgba(0, 0, 0, 0.15);\n",
              "      filter: drop-shadow(0px 1px 2px rgba(0, 0, 0, 0.3));\n",
              "      fill: #FFFFFF;\n",
              "    }\n",
              "  </style>\n",
              "\n",
              "      <script>\n",
              "        const buttonEl =\n",
              "          document.querySelector('#df-b9364597-fc98-4c17-867e-b1ed73779fe4 button.colab-df-convert');\n",
              "        buttonEl.style.display =\n",
              "          google.colab.kernel.accessAllowed ? 'block' : 'none';\n",
              "\n",
              "        async function convertToInteractive(key) {\n",
              "          const element = document.querySelector('#df-b9364597-fc98-4c17-867e-b1ed73779fe4');\n",
              "          const dataTable =\n",
              "            await google.colab.kernel.invokeFunction('convertToInteractive',\n",
              "                                                     [key], {});\n",
              "          if (!dataTable) return;\n",
              "\n",
              "          const docLinkHtml = 'Like what you see? Visit the ' +\n",
              "            '<a target=\"_blank\" href=https://colab.research.google.com/notebooks/data_table.ipynb>data table notebook</a>'\n",
              "            + ' to learn more about interactive tables.';\n",
              "          element.innerHTML = '';\n",
              "          dataTable['output_type'] = 'display_data';\n",
              "          await google.colab.output.renderOutput(dataTable, element);\n",
              "          const docLink = document.createElement('div');\n",
              "          docLink.innerHTML = docLinkHtml;\n",
              "          element.appendChild(docLink);\n",
              "        }\n",
              "      </script>\n",
              "    </div>\n",
              "  </div>\n",
              "  "
            ]
          },
          "metadata": {},
          "execution_count": 5
        }
      ],
      "source": [
        "# data를 각 픽셀에 이름붙여 표현\n",
        "feat_cols = [ 'pixel'+str(i) for i in range(X.shape[1]) ]\n",
        "df = pd.DataFrame(X,columns=feat_cols)\n",
        "df.head()"
      ]
    },
    {
      "cell_type": "code",
      "execution_count": 6,
      "metadata": {
        "colab": {
          "base_uri": "https://localhost:8080/"
        },
        "id": "1M4lJKmuWf67",
        "outputId": "4a0d76a7-ce72-401b-ccd6-e18f46f62b01"
      },
      "outputs": [
        {
          "output_type": "stream",
          "name": "stdout",
          "text": [
            "Size of the dataframe: (70000, 785)\n"
          ]
        }
      ],
      "source": [
        "# df에 라벨 y를 붙여서 데이터프레임 생성\n",
        "df['y'] = y\n",
        "print('Size of the dataframe: {}'.format(df.shape))"
      ]
    },
    {
      "cell_type": "code",
      "execution_count": 7,
      "metadata": {
        "colab": {
          "base_uri": "https://localhost:8080/",
          "height": 488
        },
        "id": "tY1whaePWf68",
        "outputId": "a425ecb0-15ec-4d11-ef23-159084cd6b23"
      },
      "outputs": [
        {
          "output_type": "execute_result",
          "data": {
            "text/plain": [
              "       pixel0  pixel1  pixel2  pixel3  pixel4  pixel5  pixel6  pixel7  pixel8  \\\n",
              "0           0       0       0       0       0       0       0       0       0   \n",
              "1           0       0       0       0       0       0       0       0       0   \n",
              "2           0       0       0       0       0       0       0       0       0   \n",
              "3           0       0       0       0       0       0       0       0       0   \n",
              "4           0       0       0       0       0       0       0       0       0   \n",
              "...       ...     ...     ...     ...     ...     ...     ...     ...     ...   \n",
              "69995       0       0       0       0       0       0       0       0       0   \n",
              "69996       0       0       0       0       0       0       0       0       0   \n",
              "69997       0       0       0       0       0       0       0       0       0   \n",
              "69998       0       0       0       0       0       0       0       0       0   \n",
              "69999       0       0       0       0       0       0       0       0       0   \n",
              "\n",
              "       pixel9  ...  pixel775  pixel776  pixel777  pixel778  pixel779  \\\n",
              "0           0  ...         0         0         0         0         0   \n",
              "1           0  ...         0         0         0         0         0   \n",
              "2           0  ...         0         0         0         0         0   \n",
              "3           0  ...         0         0         0         0         0   \n",
              "4           0  ...         0         0         0         0         0   \n",
              "...       ...  ...       ...       ...       ...       ...       ...   \n",
              "69995       0  ...         0         0         0         0         0   \n",
              "69996       0  ...         0         0         0         0         0   \n",
              "69997       0  ...         0         0         0         0         0   \n",
              "69998       0  ...         0         0         0         0         0   \n",
              "69999       0  ...         0         0         0         0         0   \n",
              "\n",
              "       pixel780  pixel781  pixel782  pixel783    y  \n",
              "0             0         0         0         0  0.0  \n",
              "1             0         0         0         0  0.0  \n",
              "2             0         0         0         0  0.0  \n",
              "3             0         0         0         0  0.0  \n",
              "4             0         0         0         0  0.0  \n",
              "...         ...       ...       ...       ...  ...  \n",
              "69995         0         0         0         0  9.0  \n",
              "69996         0         0         0         0  9.0  \n",
              "69997         0         0         0         0  9.0  \n",
              "69998         0         0         0         0  9.0  \n",
              "69999         0         0         0         0  9.0  \n",
              "\n",
              "[70000 rows x 785 columns]"
            ],
            "text/html": [
              "\n",
              "  <div id=\"df-f5994a98-bad2-44bc-9426-1e2c3930c898\">\n",
              "    <div class=\"colab-df-container\">\n",
              "      <div>\n",
              "<style scoped>\n",
              "    .dataframe tbody tr th:only-of-type {\n",
              "        vertical-align: middle;\n",
              "    }\n",
              "\n",
              "    .dataframe tbody tr th {\n",
              "        vertical-align: top;\n",
              "    }\n",
              "\n",
              "    .dataframe thead th {\n",
              "        text-align: right;\n",
              "    }\n",
              "</style>\n",
              "<table border=\"1\" class=\"dataframe\">\n",
              "  <thead>\n",
              "    <tr style=\"text-align: right;\">\n",
              "      <th></th>\n",
              "      <th>pixel0</th>\n",
              "      <th>pixel1</th>\n",
              "      <th>pixel2</th>\n",
              "      <th>pixel3</th>\n",
              "      <th>pixel4</th>\n",
              "      <th>pixel5</th>\n",
              "      <th>pixel6</th>\n",
              "      <th>pixel7</th>\n",
              "      <th>pixel8</th>\n",
              "      <th>pixel9</th>\n",
              "      <th>...</th>\n",
              "      <th>pixel775</th>\n",
              "      <th>pixel776</th>\n",
              "      <th>pixel777</th>\n",
              "      <th>pixel778</th>\n",
              "      <th>pixel779</th>\n",
              "      <th>pixel780</th>\n",
              "      <th>pixel781</th>\n",
              "      <th>pixel782</th>\n",
              "      <th>pixel783</th>\n",
              "      <th>y</th>\n",
              "    </tr>\n",
              "  </thead>\n",
              "  <tbody>\n",
              "    <tr>\n",
              "      <th>0</th>\n",
              "      <td>0</td>\n",
              "      <td>0</td>\n",
              "      <td>0</td>\n",
              "      <td>0</td>\n",
              "      <td>0</td>\n",
              "      <td>0</td>\n",
              "      <td>0</td>\n",
              "      <td>0</td>\n",
              "      <td>0</td>\n",
              "      <td>0</td>\n",
              "      <td>...</td>\n",
              "      <td>0</td>\n",
              "      <td>0</td>\n",
              "      <td>0</td>\n",
              "      <td>0</td>\n",
              "      <td>0</td>\n",
              "      <td>0</td>\n",
              "      <td>0</td>\n",
              "      <td>0</td>\n",
              "      <td>0</td>\n",
              "      <td>0.0</td>\n",
              "    </tr>\n",
              "    <tr>\n",
              "      <th>1</th>\n",
              "      <td>0</td>\n",
              "      <td>0</td>\n",
              "      <td>0</td>\n",
              "      <td>0</td>\n",
              "      <td>0</td>\n",
              "      <td>0</td>\n",
              "      <td>0</td>\n",
              "      <td>0</td>\n",
              "      <td>0</td>\n",
              "      <td>0</td>\n",
              "      <td>...</td>\n",
              "      <td>0</td>\n",
              "      <td>0</td>\n",
              "      <td>0</td>\n",
              "      <td>0</td>\n",
              "      <td>0</td>\n",
              "      <td>0</td>\n",
              "      <td>0</td>\n",
              "      <td>0</td>\n",
              "      <td>0</td>\n",
              "      <td>0.0</td>\n",
              "    </tr>\n",
              "    <tr>\n",
              "      <th>2</th>\n",
              "      <td>0</td>\n",
              "      <td>0</td>\n",
              "      <td>0</td>\n",
              "      <td>0</td>\n",
              "      <td>0</td>\n",
              "      <td>0</td>\n",
              "      <td>0</td>\n",
              "      <td>0</td>\n",
              "      <td>0</td>\n",
              "      <td>0</td>\n",
              "      <td>...</td>\n",
              "      <td>0</td>\n",
              "      <td>0</td>\n",
              "      <td>0</td>\n",
              "      <td>0</td>\n",
              "      <td>0</td>\n",
              "      <td>0</td>\n",
              "      <td>0</td>\n",
              "      <td>0</td>\n",
              "      <td>0</td>\n",
              "      <td>0.0</td>\n",
              "    </tr>\n",
              "    <tr>\n",
              "      <th>3</th>\n",
              "      <td>0</td>\n",
              "      <td>0</td>\n",
              "      <td>0</td>\n",
              "      <td>0</td>\n",
              "      <td>0</td>\n",
              "      <td>0</td>\n",
              "      <td>0</td>\n",
              "      <td>0</td>\n",
              "      <td>0</td>\n",
              "      <td>0</td>\n",
              "      <td>...</td>\n",
              "      <td>0</td>\n",
              "      <td>0</td>\n",
              "      <td>0</td>\n",
              "      <td>0</td>\n",
              "      <td>0</td>\n",
              "      <td>0</td>\n",
              "      <td>0</td>\n",
              "      <td>0</td>\n",
              "      <td>0</td>\n",
              "      <td>0.0</td>\n",
              "    </tr>\n",
              "    <tr>\n",
              "      <th>4</th>\n",
              "      <td>0</td>\n",
              "      <td>0</td>\n",
              "      <td>0</td>\n",
              "      <td>0</td>\n",
              "      <td>0</td>\n",
              "      <td>0</td>\n",
              "      <td>0</td>\n",
              "      <td>0</td>\n",
              "      <td>0</td>\n",
              "      <td>0</td>\n",
              "      <td>...</td>\n",
              "      <td>0</td>\n",
              "      <td>0</td>\n",
              "      <td>0</td>\n",
              "      <td>0</td>\n",
              "      <td>0</td>\n",
              "      <td>0</td>\n",
              "      <td>0</td>\n",
              "      <td>0</td>\n",
              "      <td>0</td>\n",
              "      <td>0.0</td>\n",
              "    </tr>\n",
              "    <tr>\n",
              "      <th>...</th>\n",
              "      <td>...</td>\n",
              "      <td>...</td>\n",
              "      <td>...</td>\n",
              "      <td>...</td>\n",
              "      <td>...</td>\n",
              "      <td>...</td>\n",
              "      <td>...</td>\n",
              "      <td>...</td>\n",
              "      <td>...</td>\n",
              "      <td>...</td>\n",
              "      <td>...</td>\n",
              "      <td>...</td>\n",
              "      <td>...</td>\n",
              "      <td>...</td>\n",
              "      <td>...</td>\n",
              "      <td>...</td>\n",
              "      <td>...</td>\n",
              "      <td>...</td>\n",
              "      <td>...</td>\n",
              "      <td>...</td>\n",
              "      <td>...</td>\n",
              "    </tr>\n",
              "    <tr>\n",
              "      <th>69995</th>\n",
              "      <td>0</td>\n",
              "      <td>0</td>\n",
              "      <td>0</td>\n",
              "      <td>0</td>\n",
              "      <td>0</td>\n",
              "      <td>0</td>\n",
              "      <td>0</td>\n",
              "      <td>0</td>\n",
              "      <td>0</td>\n",
              "      <td>0</td>\n",
              "      <td>...</td>\n",
              "      <td>0</td>\n",
              "      <td>0</td>\n",
              "      <td>0</td>\n",
              "      <td>0</td>\n",
              "      <td>0</td>\n",
              "      <td>0</td>\n",
              "      <td>0</td>\n",
              "      <td>0</td>\n",
              "      <td>0</td>\n",
              "      <td>9.0</td>\n",
              "    </tr>\n",
              "    <tr>\n",
              "      <th>69996</th>\n",
              "      <td>0</td>\n",
              "      <td>0</td>\n",
              "      <td>0</td>\n",
              "      <td>0</td>\n",
              "      <td>0</td>\n",
              "      <td>0</td>\n",
              "      <td>0</td>\n",
              "      <td>0</td>\n",
              "      <td>0</td>\n",
              "      <td>0</td>\n",
              "      <td>...</td>\n",
              "      <td>0</td>\n",
              "      <td>0</td>\n",
              "      <td>0</td>\n",
              "      <td>0</td>\n",
              "      <td>0</td>\n",
              "      <td>0</td>\n",
              "      <td>0</td>\n",
              "      <td>0</td>\n",
              "      <td>0</td>\n",
              "      <td>9.0</td>\n",
              "    </tr>\n",
              "    <tr>\n",
              "      <th>69997</th>\n",
              "      <td>0</td>\n",
              "      <td>0</td>\n",
              "      <td>0</td>\n",
              "      <td>0</td>\n",
              "      <td>0</td>\n",
              "      <td>0</td>\n",
              "      <td>0</td>\n",
              "      <td>0</td>\n",
              "      <td>0</td>\n",
              "      <td>0</td>\n",
              "      <td>...</td>\n",
              "      <td>0</td>\n",
              "      <td>0</td>\n",
              "      <td>0</td>\n",
              "      <td>0</td>\n",
              "      <td>0</td>\n",
              "      <td>0</td>\n",
              "      <td>0</td>\n",
              "      <td>0</td>\n",
              "      <td>0</td>\n",
              "      <td>9.0</td>\n",
              "    </tr>\n",
              "    <tr>\n",
              "      <th>69998</th>\n",
              "      <td>0</td>\n",
              "      <td>0</td>\n",
              "      <td>0</td>\n",
              "      <td>0</td>\n",
              "      <td>0</td>\n",
              "      <td>0</td>\n",
              "      <td>0</td>\n",
              "      <td>0</td>\n",
              "      <td>0</td>\n",
              "      <td>0</td>\n",
              "      <td>...</td>\n",
              "      <td>0</td>\n",
              "      <td>0</td>\n",
              "      <td>0</td>\n",
              "      <td>0</td>\n",
              "      <td>0</td>\n",
              "      <td>0</td>\n",
              "      <td>0</td>\n",
              "      <td>0</td>\n",
              "      <td>0</td>\n",
              "      <td>9.0</td>\n",
              "    </tr>\n",
              "    <tr>\n",
              "      <th>69999</th>\n",
              "      <td>0</td>\n",
              "      <td>0</td>\n",
              "      <td>0</td>\n",
              "      <td>0</td>\n",
              "      <td>0</td>\n",
              "      <td>0</td>\n",
              "      <td>0</td>\n",
              "      <td>0</td>\n",
              "      <td>0</td>\n",
              "      <td>0</td>\n",
              "      <td>...</td>\n",
              "      <td>0</td>\n",
              "      <td>0</td>\n",
              "      <td>0</td>\n",
              "      <td>0</td>\n",
              "      <td>0</td>\n",
              "      <td>0</td>\n",
              "      <td>0</td>\n",
              "      <td>0</td>\n",
              "      <td>0</td>\n",
              "      <td>9.0</td>\n",
              "    </tr>\n",
              "  </tbody>\n",
              "</table>\n",
              "<p>70000 rows × 785 columns</p>\n",
              "</div>\n",
              "      <button class=\"colab-df-convert\" onclick=\"convertToInteractive('df-f5994a98-bad2-44bc-9426-1e2c3930c898')\"\n",
              "              title=\"Convert this dataframe to an interactive table.\"\n",
              "              style=\"display:none;\">\n",
              "        \n",
              "  <svg xmlns=\"http://www.w3.org/2000/svg\" height=\"24px\"viewBox=\"0 0 24 24\"\n",
              "       width=\"24px\">\n",
              "    <path d=\"M0 0h24v24H0V0z\" fill=\"none\"/>\n",
              "    <path d=\"M18.56 5.44l.94 2.06.94-2.06 2.06-.94-2.06-.94-.94-2.06-.94 2.06-2.06.94zm-11 1L8.5 8.5l.94-2.06 2.06-.94-2.06-.94L8.5 2.5l-.94 2.06-2.06.94zm10 10l.94 2.06.94-2.06 2.06-.94-2.06-.94-.94-2.06-.94 2.06-2.06.94z\"/><path d=\"M17.41 7.96l-1.37-1.37c-.4-.4-.92-.59-1.43-.59-.52 0-1.04.2-1.43.59L10.3 9.45l-7.72 7.72c-.78.78-.78 2.05 0 2.83L4 21.41c.39.39.9.59 1.41.59.51 0 1.02-.2 1.41-.59l7.78-7.78 2.81-2.81c.8-.78.8-2.07 0-2.86zM5.41 20L4 18.59l7.72-7.72 1.47 1.35L5.41 20z\"/>\n",
              "  </svg>\n",
              "      </button>\n",
              "      \n",
              "  <style>\n",
              "    .colab-df-container {\n",
              "      display:flex;\n",
              "      flex-wrap:wrap;\n",
              "      gap: 12px;\n",
              "    }\n",
              "\n",
              "    .colab-df-convert {\n",
              "      background-color: #E8F0FE;\n",
              "      border: none;\n",
              "      border-radius: 50%;\n",
              "      cursor: pointer;\n",
              "      display: none;\n",
              "      fill: #1967D2;\n",
              "      height: 32px;\n",
              "      padding: 0 0 0 0;\n",
              "      width: 32px;\n",
              "    }\n",
              "\n",
              "    .colab-df-convert:hover {\n",
              "      background-color: #E2EBFA;\n",
              "      box-shadow: 0px 1px 2px rgba(60, 64, 67, 0.3), 0px 1px 3px 1px rgba(60, 64, 67, 0.15);\n",
              "      fill: #174EA6;\n",
              "    }\n",
              "\n",
              "    [theme=dark] .colab-df-convert {\n",
              "      background-color: #3B4455;\n",
              "      fill: #D2E3FC;\n",
              "    }\n",
              "\n",
              "    [theme=dark] .colab-df-convert:hover {\n",
              "      background-color: #434B5C;\n",
              "      box-shadow: 0px 1px 3px 1px rgba(0, 0, 0, 0.15);\n",
              "      filter: drop-shadow(0px 1px 2px rgba(0, 0, 0, 0.3));\n",
              "      fill: #FFFFFF;\n",
              "    }\n",
              "  </style>\n",
              "\n",
              "      <script>\n",
              "        const buttonEl =\n",
              "          document.querySelector('#df-f5994a98-bad2-44bc-9426-1e2c3930c898 button.colab-df-convert');\n",
              "        buttonEl.style.display =\n",
              "          google.colab.kernel.accessAllowed ? 'block' : 'none';\n",
              "\n",
              "        async function convertToInteractive(key) {\n",
              "          const element = document.querySelector('#df-f5994a98-bad2-44bc-9426-1e2c3930c898');\n",
              "          const dataTable =\n",
              "            await google.colab.kernel.invokeFunction('convertToInteractive',\n",
              "                                                     [key], {});\n",
              "          if (!dataTable) return;\n",
              "\n",
              "          const docLinkHtml = 'Like what you see? Visit the ' +\n",
              "            '<a target=\"_blank\" href=https://colab.research.google.com/notebooks/data_table.ipynb>data table notebook</a>'\n",
              "            + ' to learn more about interactive tables.';\n",
              "          element.innerHTML = '';\n",
              "          dataTable['output_type'] = 'display_data';\n",
              "          await google.colab.output.renderOutput(dataTable, element);\n",
              "          const docLink = document.createElement('div');\n",
              "          docLink.innerHTML = docLinkHtml;\n",
              "          element.appendChild(docLink);\n",
              "        }\n",
              "      </script>\n",
              "    </div>\n",
              "  </div>\n",
              "  "
            ]
          },
          "metadata": {},
          "execution_count": 7
        }
      ],
      "source": [
        "df"
      ]
    },
    {
      "cell_type": "code",
      "execution_count": 8,
      "metadata": {
        "colab": {
          "base_uri": "https://localhost:8080/",
          "height": 455
        },
        "id": "mt6mKbpSWf69",
        "outputId": "f5b6dbf5-5eab-43c8-c857-94ea4b730f0c"
      },
      "outputs": [
        {
          "output_type": "display_data",
          "data": {
            "text/plain": [
              "<Figure size 432x288 with 0 Axes>"
            ]
          },
          "metadata": {}
        },
        {
          "output_type": "display_data",
          "data": {
            "text/plain": [
              "<Figure size 1152x504 with 15 Axes>"
            ],
            "image/png": "[encoded data removed]"
          },
          "metadata": {
            "needs_background": "light"
          }
        }
      ],
      "source": [
        "# 데이터 형태 시각화\n",
        "\n",
        "import matplotlib.pyplot as plt\n",
        "\n",
        "rndperm = np.random.permutation(df.shape[0])\n",
        "\n",
        "# Plot the graph\n",
        "plt.gray()\n",
        "fig = plt.figure( figsize=(16,7) )\n",
        "for i in range(0,15):\n",
        "    ax = fig.add_subplot(3,5,i+1, title=\"Digit: {}\".format(str(df.loc[rndperm[i],'y'])) )\n",
        "    ax.matshow(df.loc[rndperm[i],feat_cols].values.reshape((28,28)).astype(float))\n",
        "plt.show()"
      ]
    },
    {
      "cell_type": "markdown",
      "metadata": {
        "id": "n0YlAYRJWf6-"
      },
      "source": [
        "### 1) train_test_split을 통해 데이터를 0.8 0.2의 비율로 분할 해 주세요"
      ]
    },
    {
      "cell_type": "code",
      "execution_count": 9,
      "metadata": {
        "id": "0_Ngz73BWf6-"
      },
      "outputs": [],
      "source": [
        "from sklearn.model_selection import train_test_split\n",
        "\n",
        "X_train, X_test, y_train, y_test = train_test_split(X,y,test_size=0.2)"
      ]
    },
    {
      "cell_type": "markdown",
      "metadata": {
        "id": "UJBE0Z9rWf6-"
      },
      "source": [
        "### 여기서부터는 원본데이터 & PCA 축소 데이터 & LDA 축소 데이터 비교해주세요"
      ]
    },
    {
      "cell_type": "markdown",
      "metadata": {
        "id": "lxDpyMdrWf6_"
      },
      "source": [
        "### 2) 차원축소 기법(PCA와 LDA)을 이용하여 mnist data를 축소시켜주세요\n",
        "\n",
        "pca를 이용할 때는, 주성분 개수를 정하는 과정에 대해 잘 서술해주시면 좋겠죠!<br>\n",
        "강의에서 배웠던 3가지 중 어떤 걸 고려해서 갯수를 정했는지요!!!!<br>\n",
        "scree plot같은거는 직접 그려서 확인해주면 좋겠죠???"
      ]
    },
    {
      "cell_type": "markdown",
      "source": [
        "**PCA**"
      ],
      "metadata": {
        "id": "ZyVshTQ4p_4L"
      }
    },
    {
      "cell_type": "markdown",
      "source": [
        "(1) Scaling하기"
      ],
      "metadata": {
        "id": "lJANjBwFqEL9"
      }
    },
    {
      "cell_type": "code",
      "source": [
        "from sklearn.preprocessing import StandardScaler\n",
        "\n",
        "scaler = StandardScaler()\n",
        "X_train_std = scaler.fit_transform(X_train)\n",
        "\n",
        "X_train_std"
      ],
      "metadata": {
        "colab": {
          "base_uri": "https://localhost:8080/"
        },
        "id": "Ui_JhjIurGhg",
        "outputId": "3b93ce54-e7a1-453d-9cba-e6f6329aa71b"
      },
      "execution_count": 10,
      "outputs": [
        {
          "output_type": "execute_result",
          "data": {
            "text/plain": [
              "array([[0., 0., 0., ..., 0., 0., 0.],\n",
              "       [0., 0., 0., ..., 0., 0., 0.],\n",
              "       [0., 0., 0., ..., 0., 0., 0.],\n",
              "       ...,\n",
              "       [0., 0., 0., ..., 0., 0., 0.],\n",
              "       [0., 0., 0., ..., 0., 0., 0.],\n",
              "       [0., 0., 0., ..., 0., 0., 0.]])"
            ]
          },
          "metadata": {},
          "execution_count": 10
        }
      ]
    },
    {
      "cell_type": "code",
      "source": [
        "X_test_std = scaler.transform(X_test) \n",
        "\n",
        "X_test_std"
      ],
      "metadata": {
        "colab": {
          "base_uri": "https://localhost:8080/"
        },
        "id": "eBvd0pjQyvl3",
        "outputId": "cdd9d76d-61ce-4aae-a2eb-3b784a179a7d"
      },
      "execution_count": 11,
      "outputs": [
        {
          "output_type": "execute_result",
          "data": {
            "text/plain": [
              "array([[0., 0., 0., ..., 0., 0., 0.],\n",
              "       [0., 0., 0., ..., 0., 0., 0.],\n",
              "       [0., 0., 0., ..., 0., 0., 0.],\n",
              "       ...,\n",
              "       [0., 0., 0., ..., 0., 0., 0.],\n",
              "       [0., 0., 0., ..., 0., 0., 0.],\n",
              "       [0., 0., 0., ..., 0., 0., 0.]])"
            ]
          },
          "metadata": {},
          "execution_count": 11
        }
      ]
    },
    {
      "cell_type": "markdown",
      "source": [
        "(2) PCA 진행하기"
      ],
      "metadata": {
        "id": "uixOiKqJuVTx"
      }
    },
    {
      "cell_type": "code",
      "execution_count": 12,
      "metadata": {
        "colab": {
          "base_uri": "https://localhost:8080/"
        },
        "id": "yQe8daJVWf6_",
        "outputId": "4e44165e-486b-41d6-8d23-53e3ec684fc9"
      },
      "outputs": [
        {
          "output_type": "execute_result",
          "data": {
            "text/plain": [
              "array([[-5.93022667e+02, -2.73346725e+02, -2.56451601e+01, ...,\n",
              "        -0.00000000e+00, -0.00000000e+00, -0.00000000e+00],\n",
              "       [ 1.44688843e+02, -5.85332327e+02, -7.22878291e+02, ...,\n",
              "         8.60454001e-14,  3.24902345e-14,  1.02675651e-13],\n",
              "       [-2.46762877e+02,  3.59312766e+02, -4.62123110e+02, ...,\n",
              "         1.15121793e-13, -2.47905836e-13,  7.01028700e-14],\n",
              "       ...,\n",
              "       [ 4.79002167e+02, -4.69799762e+02, -8.91260823e+02, ...,\n",
              "        -2.52410490e-15, -4.69471902e-16,  7.60572872e-16],\n",
              "       [-8.22161674e+01,  2.37391301e+01,  6.35541651e+02, ...,\n",
              "         4.06924049e-15,  1.23408085e-15,  6.52585288e-16],\n",
              "       [ 4.45484046e+01,  5.39102241e+02,  5.26818671e+02, ...,\n",
              "         4.01319572e-16, -3.61595301e-16,  3.46462396e-16]])"
            ]
          },
          "metadata": {},
          "execution_count": 12
        }
      ],
      "source": [
        "from sklearn.decomposition import PCA\n",
        "\n",
        "pca = PCA()\n",
        "\n",
        "pca.fit_transform(X_train)"
      ]
    },
    {
      "cell_type": "markdown",
      "source": [
        "(3) 주성분 개수 구하기\n",
        "- *Scree Plot*\n",
        "- *Rule of Thumb*"
      ],
      "metadata": {
        "id": "sKUby-2nukbR"
      }
    },
    {
      "cell_type": "code",
      "source": [
        "!pip install --upgrade kneed"
      ],
      "metadata": {
        "colab": {
          "base_uri": "https://localhost:8080/"
        },
        "id": "W8S2-mY_vhWZ",
        "outputId": "0fd84ce0-fedf-4173-eb2f-5ae67f311222"
      },
      "execution_count": 13,
      "outputs": [
        {
          "output_type": "stream",
          "name": "stdout",
          "text": [
            "Looking in indexes: https://pypi.org/simple, https://us-python.pkg.dev/colab-wheels/public/simple/\n",
            "Requirement already satisfied: kneed in /usr/local/lib/python3.7/dist-packages (0.8.1)\n",
            "Requirement already satisfied: numpy>=1.14.2 in /usr/local/lib/python3.7/dist-packages (from kneed) (1.21.6)\n",
            "Requirement already satisfied: scipy>=1.0.0 in /usr/local/lib/python3.7/dist-packages (from kneed) (1.7.3)\n"
          ]
        }
      ]
    },
    {
      "cell_type": "code",
      "source": [
        "# Scree Plot (1)\n",
        "exp_var_ratio = pca.explained_variance_ratio_\n",
        "print('explained variance ratio :', exp_var_ratio) # explained variance ratio 구하기"
      ],
      "metadata": {
        "colab": {
          "base_uri": "https://localhost:8080/"
        },
        "id": "kG4DurBFu6p-",
        "outputId": "65a3a7b7-7a7c-4844-e2da-e54fe8c9e025"
      },
      "execution_count": 14,
      "outputs": [
        {
          "output_type": "stream",
          "name": "stdout",
          "text": [
            "explained variance ratio : [9.75637507e-02 7.17515366e-02 6.12193326e-02 5.40279405e-02\n",
            " 4.89542742e-02 4.31212995e-02 3.28663912e-02 2.88972312e-02\n",
            " 2.75973978e-02 2.34787626e-02 2.10485765e-02 2.03277775e-02\n",
            " 1.71204594e-02 1.69456800e-02 1.58816714e-02 1.48362869e-02\n",
            " 1.32556414e-02 1.27748474e-02 1.18628713e-02 1.15099048e-02\n",
            " 1.06100396e-02 1.01119764e-02 9.62252221e-03 9.06616667e-03\n",
            " 8.80853834e-03 8.39409657e-03 8.11260444e-03 7.84610373e-03\n",
            " 7.37473992e-03 6.87135702e-03 6.55405545e-03 6.45596845e-03\n",
            " 6.03402872e-03 5.85577544e-03 5.67417019e-03 5.42829155e-03\n",
            " 5.04296983e-03 4.85702356e-03 4.80316055e-03 4.68466454e-03\n",
            " 4.53917548e-03 4.45380247e-03 4.16983857e-03 3.97331806e-03\n",
            " 3.82140678e-03 3.72425457e-03 3.60354911e-03 3.46716424e-03\n",
            " 3.39195385e-03 3.17708597e-03 3.16110546e-03 3.09194941e-03\n",
            " 2.95028191e-03 2.86028328e-03 2.82921381e-03 2.69298043e-03\n",
            " 2.69166500e-03 2.56988623e-03 2.52132058e-03 2.45437559e-03\n",
            " 2.39914944e-03 2.38018472e-03 2.29795292e-03 2.20844230e-03\n",
            " 2.13994437e-03 2.07534187e-03 2.02575616e-03 1.94372258e-03\n",
            " 1.91338164e-03 1.88712056e-03 1.86677796e-03 1.79587389e-03\n",
            " 1.76324359e-03 1.72894258e-03 1.64706711e-03 1.62924536e-03\n",
            " 1.61426033e-03 1.54306605e-03 1.47190861e-03 1.42086769e-03\n",
            " 1.40927063e-03 1.40482376e-03 1.38688284e-03 1.35388794e-03\n",
            " 1.32128120e-03 1.31680925e-03 1.29403377e-03 1.25748907e-03\n",
            " 1.21920589e-03 1.20186489e-03 1.15512298e-03 1.14647204e-03\n",
            " 1.11984129e-03 1.09735834e-03 1.08242862e-03 1.07076434e-03\n",
            " 1.03478896e-03 1.03244035e-03 1.00480611e-03 9.96053844e-04\n",
            " 9.74862172e-04 9.43410077e-04 9.31772357e-04 9.16455525e-04\n",
            " 9.01847052e-04 8.88308466e-04 8.58356083e-04 8.52719504e-04\n",
            " 8.40125890e-04 8.15584614e-04 7.90195651e-04 7.80878608e-04\n",
            " 7.73478776e-04 7.64915707e-04 7.58378910e-04 7.50183843e-04\n",
            " 7.29648898e-04 7.22785744e-04 7.10050052e-04 7.02281763e-04\n",
            " 6.93103131e-04 6.84220489e-04 6.76874708e-04 6.69458960e-04\n",
            " 6.61206892e-04 6.41835580e-04 6.33763420e-04 6.29890877e-04\n",
            " 6.21994468e-04 6.00955068e-04 5.99786275e-04 5.92541178e-04\n",
            " 5.85850149e-04 5.82648385e-04 5.77912126e-04 5.71726070e-04\n",
            " 5.63629874e-04 5.52098054e-04 5.35139540e-04 5.26912037e-04\n",
            " 5.21004316e-04 5.13437755e-04 5.02077331e-04 4.97056964e-04\n",
            " 4.95280061e-04 4.92693103e-04 4.83168966e-04 4.78853810e-04\n",
            " 4.71086687e-04 4.67061599e-04 4.61324384e-04 4.60917997e-04\n",
            " 4.55099044e-04 4.50111254e-04 4.46976078e-04 4.38990123e-04\n",
            " 4.35789534e-04 4.25862343e-04 4.20039359e-04 4.19283837e-04\n",
            " 4.13831358e-04 4.08430388e-04 3.98331637e-04 3.94317402e-04\n",
            " 3.91264992e-04 3.89266183e-04 3.83603387e-04 3.76642439e-04\n",
            " 3.74533717e-04 3.73488143e-04 3.66716410e-04 3.65970971e-04\n",
            " 3.63323180e-04 3.55424394e-04 3.51837190e-04 3.51031740e-04\n",
            " 3.46149663e-04 3.45245770e-04 3.41800835e-04 3.38625586e-04\n",
            " 3.34515447e-04 3.29336460e-04 3.27235975e-04 3.23539569e-04\n",
            " 3.23077873e-04 3.20093073e-04 3.17544849e-04 3.15370316e-04\n",
            " 3.11408200e-04 3.09473517e-04 3.05539280e-04 3.03529832e-04\n",
            " 3.01788993e-04 3.01045105e-04 2.96132908e-04 2.93173177e-04\n",
            " 2.91982286e-04 2.90495077e-04 2.86959826e-04 2.84471804e-04\n",
            " 2.80788188e-04 2.76381461e-04 2.73355610e-04 2.70988404e-04\n",
            " 2.69166605e-04 2.66340842e-04 2.63794309e-04 2.63166822e-04\n",
            " 2.61676891e-04 2.58375844e-04 2.57765263e-04 2.57164266e-04\n",
            " 2.54327911e-04 2.52216200e-04 2.50888360e-04 2.49006665e-04\n",
            " 2.46474253e-04 2.44768450e-04 2.42949746e-04 2.41019606e-04\n",
            " 2.40168295e-04 2.38722150e-04 2.37605115e-04 2.35064443e-04\n",
            " 2.32126260e-04 2.30822356e-04 2.30027426e-04 2.27448212e-04\n",
            " 2.26562668e-04 2.22590189e-04 2.20437607e-04 2.19716953e-04\n",
            " 2.17137453e-04 2.14807905e-04 2.14470683e-04 2.13587020e-04\n",
            " 2.11146008e-04 2.10464630e-04 2.09410997e-04 2.06005299e-04\n",
            " 2.03813414e-04 2.02441147e-04 2.01010700e-04 1.99854508e-04\n",
            " 1.98548476e-04 1.97632137e-04 1.95276557e-04 1.93024955e-04\n",
            " 1.92412014e-04 1.91761374e-04 1.90966884e-04 1.89273342e-04\n",
            " 1.87150003e-04 1.86892703e-04 1.86073243e-04 1.84387120e-04\n",
            " 1.83490848e-04 1.82237177e-04 1.82157942e-04 1.80026959e-04\n",
            " 1.77118537e-04 1.76718640e-04 1.75648721e-04 1.73350884e-04\n",
            " 1.72267431e-04 1.71313317e-04 1.70824828e-04 1.70513010e-04\n",
            " 1.68422721e-04 1.67142822e-04 1.66496122e-04 1.65467655e-04\n",
            " 1.64398186e-04 1.63649121e-04 1.62677886e-04 1.61147586e-04\n",
            " 1.60504923e-04 1.59742798e-04 1.58952452e-04 1.57640003e-04\n",
            " 1.55658693e-04 1.54428181e-04 1.53961879e-04 1.52033512e-04\n",
            " 1.51718220e-04 1.50232617e-04 1.49269718e-04 1.47515855e-04\n",
            " 1.47392284e-04 1.45176116e-04 1.44460119e-04 1.43149027e-04\n",
            " 1.42376890e-04 1.41239805e-04 1.40942004e-04 1.39930399e-04\n",
            " 1.37592401e-04 1.37510662e-04 1.35658576e-04 1.35211429e-04\n",
            " 1.35013932e-04 1.34201254e-04 1.33201386e-04 1.32849534e-04\n",
            " 1.30253159e-04 1.30041689e-04 1.28374970e-04 1.27661676e-04\n",
            " 1.27368629e-04 1.27140804e-04 1.26318170e-04 1.25519312e-04\n",
            " 1.24439529e-04 1.23630314e-04 1.21409173e-04 1.20631830e-04\n",
            " 1.20491091e-04 1.19548905e-04 1.19094283e-04 1.18735578e-04\n",
            " 1.16876949e-04 1.16706364e-04 1.16316191e-04 1.14722561e-04\n",
            " 1.14485921e-04 1.13087428e-04 1.12177873e-04 1.11366545e-04\n",
            " 1.10595383e-04 1.10303451e-04 1.09701790e-04 1.09523927e-04\n",
            " 1.08337514e-04 1.07740044e-04 1.06694396e-04 1.06075692e-04\n",
            " 1.05970636e-04 1.04630660e-04 1.02933344e-04 1.02330982e-04\n",
            " 1.01753816e-04 1.00738281e-04 9.96854004e-05 9.96298014e-05\n",
            " 9.90596698e-05 9.81538011e-05 9.73796913e-05 9.65295230e-05\n",
            " 9.48516031e-05 9.43417181e-05 9.34386517e-05 9.32801829e-05\n",
            " 9.29317551e-05 9.15707453e-05 9.10769695e-05 9.04825074e-05\n",
            " 8.99405968e-05 8.92164155e-05 8.86706491e-05 8.78653771e-05\n",
            " 8.72534678e-05 8.65350498e-05 8.51707211e-05 8.45579778e-05\n",
            " 8.41179562e-05 8.37896092e-05 8.27691370e-05 8.24039068e-05\n",
            " 8.17491366e-05 8.07152682e-05 8.02323374e-05 7.93181178e-05\n",
            " 7.89264397e-05 7.83212359e-05 7.73373573e-05 7.68467703e-05\n",
            " 7.61604907e-05 7.57558618e-05 7.41593047e-05 7.35739808e-05\n",
            " 7.33478786e-05 7.26665080e-05 7.23854673e-05 7.18297519e-05\n",
            " 7.10709217e-05 7.02494774e-05 6.94655915e-05 6.92144975e-05\n",
            " 6.77397303e-05 6.73063177e-05 6.66139510e-05 6.59749676e-05\n",
            " 6.48403095e-05 6.39047453e-05 6.30750777e-05 6.29463251e-05\n",
            " 6.18927298e-05 6.08851093e-05 5.99730295e-05 5.95131283e-05\n",
            " 5.86585821e-05 5.82241600e-05 5.79541243e-05 5.68932689e-05\n",
            " 5.58063674e-05 5.56888551e-05 5.50141751e-05 5.46270786e-05\n",
            " 5.41671180e-05 5.38374546e-05 5.29632425e-05 5.26970377e-05\n",
            " 5.21428484e-05 5.19351742e-05 5.16735139e-05 5.06682257e-05\n",
            " 4.96077137e-05 4.91999742e-05 4.88504345e-05 4.78711527e-05\n",
            " 4.73974843e-05 4.66811072e-05 4.60347077e-05 4.59809878e-05\n",
            " 4.50290404e-05 4.43318650e-05 4.36359783e-05 4.22952114e-05\n",
            " 4.18412118e-05 4.17302425e-05 4.13474585e-05 4.09905496e-05\n",
            " 4.06483653e-05 4.02061597e-05 4.00437915e-05 3.85103410e-05\n",
            " 3.78871877e-05 3.76422628e-05 3.74211173e-05 3.66625840e-05\n",
            " 3.65343229e-05 3.61196497e-05 3.51670616e-05 3.49839795e-05\n",
            " 3.48648750e-05 3.42768638e-05 3.40394774e-05 3.36534123e-05\n",
            " 3.27449595e-05 3.24339629e-05 3.17659738e-05 3.15746249e-05\n",
            " 3.10770372e-05 3.07067094e-05 2.97669344e-05 2.92603034e-05\n",
            " 2.89769674e-05 2.88190283e-05 2.85932328e-05 2.82299228e-05\n",
            " 2.75900793e-05 2.73803588e-05 2.68375604e-05 2.64388234e-05\n",
            " 2.55922499e-05 2.53232085e-05 2.48658960e-05 2.48290053e-05\n",
            " 2.43379129e-05 2.42191150e-05 2.40196433e-05 2.39727595e-05\n",
            " 2.35373660e-05 2.31952912e-05 2.30675297e-05 2.27463714e-05\n",
            " 2.19304049e-05 2.17121400e-05 2.14262731e-05 2.08128060e-05\n",
            " 2.07060753e-05 2.02806947e-05 2.02744456e-05 1.98097618e-05\n",
            " 1.96980450e-05 1.96368167e-05 1.91527463e-05 1.90791636e-05\n",
            " 1.85230197e-05 1.82756054e-05 1.79109446e-05 1.77973575e-05\n",
            " 1.71000199e-05 1.68405562e-05 1.59906676e-05 1.58907423e-05\n",
            " 1.56853517e-05 1.56731477e-05 1.55474937e-05 1.55237280e-05\n",
            " 1.53278618e-05 1.46858335e-05 1.45696955e-05 1.43557670e-05\n",
            " 1.42455572e-05 1.38937537e-05 1.36049941e-05 1.35118801e-05\n",
            " 1.33406023e-05 1.31139403e-05 1.29194088e-05 1.24441750e-05\n",
            " 1.23667802e-05 1.22307289e-05 1.21355177e-05 1.18985921e-05\n",
            " 1.18834527e-05 1.13881911e-05 1.12838747e-05 1.12097136e-05\n",
            " 1.08926913e-05 1.08644837e-05 1.07397979e-05 1.03488072e-05\n",
            " 1.01108993e-05 1.00420099e-05 9.89031233e-06 9.44440328e-06\n",
            " 9.15275813e-06 9.08284170e-06 9.03543202e-06 8.87210290e-06\n",
            " 8.56224725e-06 8.52567105e-06 8.17058174e-06 8.11008472e-06\n",
            " 7.82395048e-06 7.75585399e-06 7.59971809e-06 7.51097149e-06\n",
            " 7.41319608e-06 7.18521852e-06 7.17608989e-06 7.11479425e-06\n",
            " 7.06577587e-06 6.93066926e-06 6.72276570e-06 6.62478386e-06\n",
            " 6.56070952e-06 6.31200085e-06 5.87848232e-06 5.72109126e-06\n",
            " 5.61898186e-06 5.57620283e-06 5.45687576e-06 5.40561886e-06\n",
            " 5.33751868e-06 5.23612860e-06 4.95014893e-06 4.85862610e-06\n",
            " 4.82725249e-06 4.63426371e-06 4.54406198e-06 4.51927817e-06\n",
            " 4.46096648e-06 4.40685028e-06 4.21164960e-06 4.15404212e-06\n",
            " 4.10622557e-06 3.99572901e-06 3.88845538e-06 3.77813930e-06\n",
            " 3.63304057e-06 3.29535130e-06 3.28043521e-06 3.20162828e-06\n",
            " 3.19571609e-06 3.05468540e-06 3.03568662e-06 3.02371125e-06\n",
            " 3.00463091e-06 2.97937581e-06 2.91547444e-06 2.81520206e-06\n",
            " 2.67522486e-06 2.57988166e-06 2.52329099e-06 2.40045571e-06\n",
            " 2.25442184e-06 2.18607610e-06 2.17268329e-06 2.14912566e-06\n",
            " 2.06079916e-06 2.04641161e-06 2.03732887e-06 1.91060772e-06\n",
            " 1.88590407e-06 1.82188020e-06 1.80242343e-06 1.71137653e-06\n",
            " 1.69130831e-06 1.67287437e-06 1.61814588e-06 1.58343862e-06\n",
            " 1.54309307e-06 1.44692933e-06 1.32343159e-06 1.31666863e-06\n",
            " 1.31044565e-06 1.24737941e-06 1.20129279e-06 1.18755287e-06\n",
            " 1.09768204e-06 1.09557094e-06 1.08570597e-06 1.07583443e-06\n",
            " 1.03075009e-06 1.02860440e-06 1.01596760e-06 9.36482134e-07\n",
            " 8.82799252e-07 8.64033123e-07 8.51098624e-07 8.08456987e-07\n",
            " 7.94910880e-07 7.86755041e-07 7.80488733e-07 7.49771326e-07\n",
            " 7.05821034e-07 6.74329255e-07 6.49138791e-07 6.48151638e-07\n",
            " 6.17743296e-07 6.06426013e-07 5.88448988e-07 5.40050425e-07\n",
            " 5.36275641e-07 5.13833896e-07 5.04260841e-07 4.97153962e-07\n",
            " 4.79027328e-07 4.77509339e-07 4.26330614e-07 4.17945586e-07\n",
            " 4.02914577e-07 3.80687868e-07 3.51328796e-07 3.37371970e-07\n",
            " 3.11621771e-07 2.94319477e-07 2.86863423e-07 2.81237619e-07\n",
            " 2.74120536e-07 2.68879791e-07 2.22564932e-07 2.12827684e-07\n",
            " 2.00679581e-07 1.96906930e-07 1.93103861e-07 1.90349115e-07\n",
            " 1.81725494e-07 1.79647784e-07 1.59650814e-07 1.56291070e-07\n",
            " 1.45391062e-07 1.37175147e-07 1.24771532e-07 1.21774183e-07\n",
            " 1.05809265e-07 1.00933742e-07 9.57424734e-08 9.47827990e-08\n",
            " 8.35121950e-08 7.54186643e-08 7.33368657e-08 6.76438485e-08\n",
            " 5.92134057e-08 4.77397103e-08 4.70684812e-08 3.86990819e-08\n",
            " 3.74554852e-08 3.46935356e-08 3.21793863e-08 2.59072366e-08\n",
            " 2.57419326e-08 2.46132134e-08 2.10754467e-08 1.99922964e-08\n",
            " 1.78007824e-08 1.75303627e-08 1.45489548e-08 1.17446679e-08\n",
            " 1.10173948e-08 8.52178156e-09 7.40059385e-09 6.45017781e-09\n",
            " 5.78115799e-09 5.31831229e-09 5.01971618e-09 5.01406586e-09\n",
            " 4.94933021e-09 4.63625924e-09 3.71334324e-09 3.70547779e-09\n",
            " 2.12149005e-09 9.86639912e-10 7.00347827e-10 4.15350391e-10\n",
            " 2.54561296e-10 9.32452789e-11 8.16319329e-11 6.92458210e-11\n",
            " 1.92695965e-32 8.50242337e-33 6.95563864e-33 5.60189558e-33\n",
            " 5.01349005e-33 4.57308849e-33 4.12634410e-33 3.58897072e-33\n",
            " 3.28062607e-33 3.13890119e-33 2.90189067e-33 2.45111842e-33\n",
            " 1.72414368e-33 1.55641838e-33 1.31354711e-33 1.22394489e-33\n",
            " 1.17590585e-33 1.00658170e-33 7.01755013e-34 4.31668334e-34\n",
            " 3.77855106e-34 3.77855106e-34 3.77855106e-34 3.77855106e-34\n",
            " 3.77855106e-34 3.77855106e-34 3.77855106e-34 3.77855106e-34\n",
            " 3.77855106e-34 3.77855106e-34 3.77855106e-34 3.77855106e-34\n",
            " 3.77855106e-34 3.77855106e-34 3.77855106e-34 3.77855106e-34\n",
            " 3.77855106e-34 3.77855106e-34 3.77855106e-34 3.77855106e-34\n",
            " 3.77855106e-34 3.77855106e-34 3.77855106e-34 3.77855106e-34\n",
            " 3.77855106e-34 3.77855106e-34 3.77855106e-34 3.77855106e-34\n",
            " 3.77855106e-34 3.77855106e-34 3.77855106e-34 3.77855106e-34\n",
            " 3.77855106e-34 3.77855106e-34 3.77855106e-34 3.77855106e-34\n",
            " 3.77855106e-34 3.77855106e-34 3.77855106e-34 3.77855106e-34\n",
            " 3.77855106e-34 3.77855106e-34 3.77855106e-34 3.77855106e-34\n",
            " 3.77855106e-34 3.66874842e-34 2.84775958e-34 1.53094552e-34\n",
            " 1.47461736e-34 1.27416898e-34 4.17432146e-35 1.02385037e-35]\n"
          ]
        }
      ]
    },
    {
      "cell_type": "code",
      "source": [
        "# Scree Plot (2)\n",
        "plt.plot(range(len(exp_var_ratio)), exp_var_ratio, marker = 'o')\n",
        "plt.title(\"Scree plot\")\n",
        "plt.xlabel(\"Factor Number\")\n",
        "plt.ylabel(\"Eigenvalue\")\n",
        "\n",
        "from kneed import KneeLocator\n",
        "kn = KneeLocator(range(len(exp_var_ratio)), exp_var_ratio, curve = 'convex', direction = 'decreasing')     \n",
        "plt.vlines(kn.knee, plt.ylim()[0], plt.ylim()[1], linestyles = 'dashed', colors = 'r')    \n",
        "\n",
        "plt.show()"
      ],
      "metadata": {
        "colab": {
          "base_uri": "https://localhost:8080/",
          "height": 295
        },
        "id": "JCmdQ5_yupT4",
        "outputId": "af910af1-0c93-45a3-bb70-0ec8fc732700"
      },
      "execution_count": 15,
      "outputs": [
        {
          "output_type": "display_data",
          "data": {
            "text/plain": [
              "<Figure size 432x288 with 1 Axes>"
            ],
            "image/png": "[encoded data removed]"
          },
          "metadata": {
            "needs_background": "light"
          }
        }
      ]
    },
    {
      "cell_type": "code",
      "source": [
        "print(\"Elbow Point :\", kn.knee)"
      ],
      "metadata": {
        "colab": {
          "base_uri": "https://localhost:8080/"
        },
        "id": "J6WDvv_lv4lG",
        "outputId": "7a37fe61-844b-425b-e30e-49b33533162d"
      },
      "execution_count": 16,
      "outputs": [
        {
          "output_type": "stream",
          "name": "stdout",
          "text": [
            "Elbow Point : 49\n"
          ]
        }
      ]
    },
    {
      "cell_type": "markdown",
      "source": [
        "**Rule of Thumb**\n",
        "\n",
        ": 총 분산 설명하는 비중이 70%~90% 사이에서 선택하는 방법\n",
        "- 평균고유값 (σi 𝜆𝑖 ) / 𝑝 보다 작은 고유값을 갖는 주성분 제거"
      ],
      "metadata": {
        "id": "koAbaLWytEkG"
      }
    },
    {
      "cell_type": "code",
      "source": [
        "# rule of thumb\n",
        "for value in [0.7, 0.8, 0.9]:\n",
        "    pca = PCA(n_components = value, svd_solver = 'full')\n",
        "    X_pca = pca.fit_transform(X_train)\n",
        "    exp_var_ratio = pca.explained_variance_\n",
        "    print(len(exp_var_ratio))"
      ],
      "metadata": {
        "colab": {
          "base_uri": "https://localhost:8080/"
        },
        "id": "WW2hSI8Gsoae",
        "outputId": "4e3f6575-d6d0-4f89-f8b9-848197a535f1"
      },
      "execution_count": 17,
      "outputs": [
        {
          "output_type": "stream",
          "name": "stdout",
          "text": [
            "26\n",
            "43\n",
            "87\n"
          ]
        }
      ]
    },
    {
      "cell_type": "markdown",
      "source": [
        "**Output**\n",
        "\n",
        "[주성분의 개수 선정]\n",
        "- Scree Plot = 49개\n",
        "- Rule of Thumb = 26개 (70%), 43개 (80%), 87개 (90%)\n",
        "\n",
        "따라서, PCA의 주성분 개수는 **49개**로 설정하였다."
      ],
      "metadata": {
        "id": "TQQyCzKNweEz"
      }
    },
    {
      "cell_type": "markdown",
      "source": [
        "**LDA**"
      ],
      "metadata": {
        "id": "-_rrKTakwMOH"
      }
    },
    {
      "cell_type": "markdown",
      "source": [
        "(1) LDA 진행하기"
      ],
      "metadata": {
        "id": "Z897KWBIxs0v"
      }
    },
    {
      "cell_type": "code",
      "execution_count": 18,
      "metadata": {
        "colab": {
          "base_uri": "https://localhost:8080/"
        },
        "id": "Lxv9wyRYWf6_",
        "outputId": "6bd7d4a2-a759-4502-ae3b-30d2ecfef031"
      },
      "outputs": [
        {
          "output_type": "execute_result",
          "data": {
            "text/plain": [
              "array([[-0.06912157,  1.13957008,  0.38794875, ..., -0.14368827,\n",
              "         1.11553249, -0.59958101],\n",
              "       [-0.67173413,  1.42075406, -2.19965501, ...,  3.47665626,\n",
              "        -1.42106679,  1.23848873],\n",
              "       [ 1.83352224, -0.94239731,  1.44931672, ...,  2.94741639,\n",
              "        -0.01629124, -0.01672142],\n",
              "       ...,\n",
              "       [-0.03694951,  0.32853802, -1.89390555, ...,  3.27434752,\n",
              "        -2.16376956,  0.08726653],\n",
              "       [-0.3749295 ,  0.31745898,  0.13492208, ..., -4.4336454 ,\n",
              "         0.20476323,  0.02792065],\n",
              "       [ 2.35304938, -1.81565835, -0.27061984, ...,  0.23786285,\n",
              "        -0.87308289, -1.60394468]])"
            ]
          },
          "metadata": {},
          "execution_count": 18
        }
      ],
      "source": [
        "from sklearn.discriminant_analysis import LinearDiscriminantAnalysis\n",
        "\n",
        "lda = LinearDiscriminantAnalysis()\n",
        "X_lda = lda.fit_transform(X_train, np.ravel(y_train))\n",
        "\n",
        "X_lda"
      ]
    },
    {
      "cell_type": "markdown",
      "source": [
        "(2) 주성분 개수 구하기\n",
        "\n",
        "- 누적설명률\n",
        "\n"
      ],
      "metadata": {
        "id": "atqw35WaxwhH"
      }
    },
    {
      "cell_type": "code",
      "source": [
        "# 누적설명률 (1)\n",
        "exp_var_ratio = lda.explained_variance_ratio_\n",
        "exp_var_ratio"
      ],
      "metadata": {
        "colab": {
          "base_uri": "https://localhost:8080/"
        },
        "id": "mIaAP25Ixoh9",
        "outputId": "9ba5c397-de6b-4821-f6de-9b8a865d2959"
      },
      "execution_count": 19,
      "outputs": [
        {
          "output_type": "execute_result",
          "data": {
            "text/plain": [
              "array([0.23755701, 0.20426112, 0.17582578, 0.10700601, 0.09465149,\n",
              "       0.06888294, 0.049974  , 0.03481279, 0.02702885])"
            ]
          },
          "metadata": {},
          "execution_count": 19
        }
      ]
    },
    {
      "cell_type": "code",
      "source": [
        "# 누적설명률 (2)\n",
        "exp_var_ratio_cumsum = np.cumsum(exp_var_ratio)\n",
        "\n",
        "plt.plot(list(range(1, 1+len(exp_var_ratio_cumsum))), exp_var_ratio_cumsum)\n",
        "plt.xlabel(\"Number of Components\")\n",
        "plt.ylabel(\"Cumulated Sum of Explained Variance Ratio\")\n",
        "plt.show()\n",
        "\n",
        "print(exp_var_ratio_cumsum)"
      ],
      "metadata": {
        "colab": {
          "base_uri": "https://localhost:8080/",
          "height": 317
        },
        "id": "A_Ef3eDjyFUI",
        "outputId": "dc24ff5f-33aa-441c-99be-6f5a8e88c23a"
      },
      "execution_count": 20,
      "outputs": [
        {
          "output_type": "display_data",
          "data": {
            "text/plain": [
              "<Figure size 432x288 with 1 Axes>"
            ],
            "image/png": "[encoded data removed]"
          },
          "metadata": {
            "needs_background": "light"
          }
        },
        {
          "output_type": "stream",
          "name": "stdout",
          "text": [
            "[0.23755701 0.44181813 0.61764392 0.72464993 0.81930142 0.88818436\n",
            " 0.93815836 0.97297115 1.        ]\n"
          ]
        }
      ]
    },
    {
      "cell_type": "markdown",
      "source": [
        "**Output**\n",
        "\n",
        "[주성분의 개수 선정]\n",
        "- 누적사용률 = 5개\n",
        "\n",
        "따라서, LDA의 주성분 개수는 **5개**로 설정하였다."
      ],
      "metadata": {
        "id": "Z_Z8grgFyNAk"
      }
    },
    {
      "cell_type": "markdown",
      "metadata": {
        "id": "CU4YzfB9Wf7A"
      },
      "source": [
        "### 3) 지금까지 배웠던 머신러닝 기법을 이용하여 학습해주세요 (2개이상 사용)"
      ]
    },
    {
      "cell_type": "markdown",
      "metadata": {
        "id": "hUYjqEKGWf7A"
      },
      "source": [
        "###  이때 time stamp를 찍어서 training 시간을 비교하고, test accuracy도 비교해주세요\n",
        "#### (원본 데이터 & PCA 축소 데이터 & LDA 축소 데이터 비교)"
      ]
    },
    {
      "cell_type": "markdown",
      "metadata": {
        "id": "_mgWMcI-Wf7A"
      },
      "source": [
        "특정한 틀 없이 자유롭게 해주시면 됩니다!"
      ]
    },
    {
      "cell_type": "markdown",
      "source": [
        "**PCA**"
      ],
      "metadata": {
        "id": "fSRMGcyizB7J"
      }
    },
    {
      "cell_type": "markdown",
      "source": [
        "- 주성분 개수 지정 (49개)"
      ],
      "metadata": {
        "id": "BOTPeTb4z5SE"
      }
    },
    {
      "cell_type": "code",
      "source": [
        "pca = PCA(n_components=49)\n",
        "\n",
        "pca.fit(X_train_std)"
      ],
      "metadata": {
        "colab": {
          "base_uri": "https://localhost:8080/"
        },
        "id": "9fzocWeyzAfN",
        "outputId": "6cef14ff-aea8-4fed-abd1-76d6c27a2799"
      },
      "execution_count": 21,
      "outputs": [
        {
          "output_type": "execute_result",
          "data": {
            "text/plain": [
              "PCA(n_components=49)"
            ]
          },
          "metadata": {},
          "execution_count": 21
        }
      ]
    },
    {
      "cell_type": "code",
      "source": [
        "PCA(copy=True, iterated_power='auto', n_components=49, random_state=None,\n",
        "    svd_solver='auto', tol=0.0, whiten=False)"
      ],
      "metadata": {
        "colab": {
          "base_uri": "https://localhost:8080/"
        },
        "id": "4jKDd76HzJ9U",
        "outputId": "9e36bd20-ec4f-4686-ebe6-6eae57823de5"
      },
      "execution_count": 22,
      "outputs": [
        {
          "output_type": "execute_result",
          "data": {
            "text/plain": [
              "PCA(n_components=49)"
            ]
          },
          "metadata": {},
          "execution_count": 22
        }
      ]
    },
    {
      "cell_type": "markdown",
      "source": [
        "(1) RandomForestClassifier"
      ],
      "metadata": {
        "id": "99BgASwByemK"
      }
    },
    {
      "cell_type": "code",
      "source": [
        "X_train_pca = pca.fit_transform(X_train_std)\n",
        "X_test_pca = pca.transform(X_test_std)"
      ],
      "metadata": {
        "id": "P7e7J4PfyyMU"
      },
      "execution_count": 26,
      "outputs": []
    },
    {
      "cell_type": "code",
      "source": [
        "import time\n",
        "from sklearn.ensemble import RandomForestClassifier\n",
        "from sklearn.metrics import accuracy_score \n",
        "\n",
        "clf = RandomForestClassifier()\n",
        "\n",
        "start = time.time()\n",
        "clf.fit(X_train_pca, np.ravel(y_train))\n",
        "end = time.time()\n",
        "elapse_time = end - start"
      ],
      "metadata": {
        "id": "bmT6UVVTpUhh"
      },
      "execution_count": 27,
      "outputs": []
    },
    {
      "cell_type": "code",
      "source": [
        "print('Training time :', elapse_time)\n",
        "print('Test accuracy : ', accuracy_score(y_test, clf.predict(X_test_pca)))"
      ],
      "metadata": {
        "colab": {
          "base_uri": "https://localhost:8080/"
        },
        "id": "yvOqpYpO1BtL",
        "outputId": "ba516099-8758-4637-da99-bb21baabc4d8"
      },
      "execution_count": 28,
      "outputs": [
        {
          "output_type": "stream",
          "name": "stdout",
          "text": [
            "Training time : 50.526631593704224\n",
            "Test accuracy :  0.9469285714285715\n"
          ]
        }
      ]
    },
    {
      "cell_type": "markdown",
      "source": [
        "(2) SVM"
      ],
      "metadata": {
        "id": "UTMAOrNjzURy"
      }
    },
    {
      "cell_type": "code",
      "source": [
        "from sklearn import svm\n",
        "\n",
        "svc = svm.SVC(kernel = 'rbf')\n",
        "\n",
        "start = time.time()\n",
        "svc.fit(X_train_pca, y_train)\n",
        "end = time.time()\n",
        "elapse_time = end - start"
      ],
      "metadata": {
        "colab": {
          "base_uri": "https://localhost:8080/"
        },
        "id": "iOkbl7e6zcMD",
        "outputId": "4a187050-15a3-4ea8-8d70-6aba94296c4c"
      },
      "execution_count": 29,
      "outputs": [
        {
          "output_type": "stream",
          "name": "stderr",
          "text": [
            "/usr/local/lib/python3.7/dist-packages/sklearn/utils/validation.py:993: DataConversionWarning: A column-vector y was passed when a 1d array was expected. Please change the shape of y to (n_samples, ), for example using ravel().\n",
            "  y = column_or_1d(y, warn=True)\n"
          ]
        }
      ]
    },
    {
      "cell_type": "code",
      "source": [
        "print('Training time :', elapse_time)\n",
        "print('Test accuracy : ', accuracy_score(y_test, svc.predict(X_test_pca)))"
      ],
      "metadata": {
        "colab": {
          "base_uri": "https://localhost:8080/"
        },
        "id": "GSH5Qxbx14t5",
        "outputId": "719360a8-d864-4795-b79a-cae358e06678"
      },
      "execution_count": 30,
      "outputs": [
        {
          "output_type": "stream",
          "name": "stdout",
          "text": [
            "Training time : 36.9807243347168\n",
            "Test accuracy :  0.9690714285714286\n"
          ]
        }
      ]
    },
    {
      "cell_type": "markdown",
      "source": [
        "**LDA**"
      ],
      "metadata": {
        "id": "20kbKu420O1z"
      }
    },
    {
      "cell_type": "markdown",
      "source": [
        "- 주성분 개수 지정"
      ],
      "metadata": {
        "id": "po9sfyv50QWK"
      }
    },
    {
      "cell_type": "code",
      "execution_count": 31,
      "metadata": {
        "id": "2GrsRZeXWf7A"
      },
      "outputs": [],
      "source": [
        "lda = LinearDiscriminantAnalysis(n_components = 5)\n",
        "\n",
        "X_train_lda = lda.fit_transform(X_train, np.ravel(y_train))\n",
        "X_test_lda = lda.transform(X_test) "
      ]
    },
    {
      "cell_type": "markdown",
      "source": [
        "(1) RandomForestClassifier"
      ],
      "metadata": {
        "id": "3lG9KxEB3EyL"
      }
    },
    {
      "cell_type": "code",
      "source": [
        "clf = RandomForestClassifier()\n",
        "\n",
        "start = time.time()\n",
        "clf.fit(X_train_lda, np.ravel(y_train))\n",
        "end = time.time()\n",
        "elapse_time = end - start"
      ],
      "metadata": {
        "id": "ImLlxHDX2Tc_"
      },
      "execution_count": 32,
      "outputs": []
    },
    {
      "cell_type": "code",
      "source": [
        "print('Training time :', elapse_time)\n",
        "print('Test accuracy : ', accuracy_score(y_test, clf.predict(X_test_lda)))"
      ],
      "metadata": {
        "colab": {
          "base_uri": "https://localhost:8080/"
        },
        "id": "gFr9fMB13Jp0",
        "outputId": "936e79fe-f304-4671-f837-ded2871017fd"
      },
      "execution_count": 33,
      "outputs": [
        {
          "output_type": "stream",
          "name": "stdout",
          "text": [
            "Training time : 15.303900957107544\n",
            "Test accuracy :  0.8422857142857143\n"
          ]
        }
      ]
    },
    {
      "cell_type": "markdown",
      "source": [
        "(2) SVM"
      ],
      "metadata": {
        "id": "W7hsOwjH3Nkz"
      }
    },
    {
      "cell_type": "code",
      "source": [
        "svc = svm.SVC(kernel = 'rbf')\n",
        "\n",
        "start = time.time()\n",
        "svc.fit(X_train_lda, y_train)\n",
        "end = time.time()\n",
        "elapse_time = end - start"
      ],
      "metadata": {
        "colab": {
          "base_uri": "https://localhost:8080/"
        },
        "id": "JSPtrapJ3NJF",
        "outputId": "546df6e4-fe21-452d-caf5-24b50b986bd2"
      },
      "execution_count": 34,
      "outputs": [
        {
          "output_type": "stream",
          "name": "stderr",
          "text": [
            "/usr/local/lib/python3.7/dist-packages/sklearn/utils/validation.py:993: DataConversionWarning: A column-vector y was passed when a 1d array was expected. Please change the shape of y to (n_samples, ), for example using ravel().\n",
            "  y = column_or_1d(y, warn=True)\n"
          ]
        }
      ]
    },
    {
      "cell_type": "code",
      "source": [
        "print('Training time :', elapse_time)\n",
        "print('Test accuracy : ', accuracy_score(y_test, svc.predict(X_test_lda)))"
      ],
      "metadata": {
        "colab": {
          "base_uri": "https://localhost:8080/"
        },
        "id": "vbDhAKQR3Ra6",
        "outputId": "d8145b01-4cd5-4cf3-edc1-f239016adc4a"
      },
      "execution_count": 35,
      "outputs": [
        {
          "output_type": "stream",
          "name": "stdout",
          "text": [
            "Training time : 24.227909088134766\n",
            "Test accuracy :  0.8432857142857143\n"
          ]
        }
      ]
    }
  ],
  "metadata": {
    "kernelspec": {
      "display_name": "Python 3 (ipykernel)",
      "language": "python",
      "name": "python3"
    },
    "language_info": {
      "codemirror_mode": {
        "name": "ipython",
        "version": 3
      },
      "file_extension": ".py",
      "mimetype": "text/x-python",
      "name": "python",
      "nbconvert_exporter": "python",
      "pygments_lexer": "ipython3",
      "version": "3.8.6"
    },
    "colab": {
      "name": "Tobigs_Week4_dimensionality_reduction2.ipynb",
      "provenance": [],
      "toc_visible": true
    },
    "accelerator": "GPU",
    "gpuClass": "standard"
  },
  "nbformat": 4,
  "nbformat_minor": 0
}