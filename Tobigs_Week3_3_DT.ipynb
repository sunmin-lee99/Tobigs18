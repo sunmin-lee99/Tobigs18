{
  "cells": [
    {
      "cell_type": "markdown",
      "metadata": {
        "id": "ifh1u3JfqT-2"
      },
      "source": [
        "# DT Assignment"
      ]
    },
    {
      "cell_type": "markdown",
      "metadata": {
        "id": "T-j5i8WkqT-6"
      },
      "source": [
        "# Data Loading"
      ]
    },
    {
      "cell_type": "code",
      "execution_count": 1,
      "metadata": {
        "id": "hwNrH9IkqT-7"
      },
      "outputs": [],
      "source": [
        "import pandas as pd \n",
        "import numpy as np"
      ]
    },
    {
      "cell_type": "code",
      "execution_count": 2,
      "metadata": {
        "colab": {
          "base_uri": "https://localhost:8080/",
          "height": 488
        },
        "id": "X50rKNtvqT-8",
        "outputId": "91689788-7fb4-4548-8fbf-13526c1291c2"
      },
      "outputs": [
        {
          "output_type": "execute_result",
          "data": {
            "text/plain": [
              "            age  income student credit_rating class_buys_computer\n",
              "0         youth    high      no          fair                  no\n",
              "1         youth    high      no     excellent                  no\n",
              "2   middle_aged    high      no          fair                 yes\n",
              "3        senior  medium      no          fair                 yes\n",
              "4        senior     low     yes          fair                 yes\n",
              "5        senior     low     yes     excellent                  no\n",
              "6   middle_aged     low     yes     excellent                 yes\n",
              "7         youth  medium      no          fair                  no\n",
              "8         youth     low     yes          fair                 yes\n",
              "9        senior  medium     yes          fair                 yes\n",
              "10        youth  medium     yes     excellent                 yes\n",
              "11  middle_aged  medium      no     excellent                 yes\n",
              "12  middle_aged    high     yes          fair                 yes\n",
              "13       senior  medium      no     excellent                  no"
            ],
            "text/html": [
              "\n",
              "  <div id=\"df-793938f3-8aca-4145-a13d-e4e8785106c6\">\n",
              "    <div class=\"colab-df-container\">\n",
              "      <div>\n",
              "<style scoped>\n",
              "    .dataframe tbody tr th:only-of-type {\n",
              "        vertical-align: middle;\n",
              "    }\n",
              "\n",
              "    .dataframe tbody tr th {\n",
              "        vertical-align: top;\n",
              "    }\n",
              "\n",
              "    .dataframe thead th {\n",
              "        text-align: right;\n",
              "    }\n",
              "</style>\n",
              "<table border=\"1\" class=\"dataframe\">\n",
              "  <thead>\n",
              "    <tr style=\"text-align: right;\">\n",
              "      <th></th>\n",
              "      <th>age</th>\n",
              "      <th>income</th>\n",
              "      <th>student</th>\n",
              "      <th>credit_rating</th>\n",
              "      <th>class_buys_computer</th>\n",
              "    </tr>\n",
              "  </thead>\n",
              "  <tbody>\n",
              "    <tr>\n",
              "      <th>0</th>\n",
              "      <td>youth</td>\n",
              "      <td>high</td>\n",
              "      <td>no</td>\n",
              "      <td>fair</td>\n",
              "      <td>no</td>\n",
              "    </tr>\n",
              "    <tr>\n",
              "      <th>1</th>\n",
              "      <td>youth</td>\n",
              "      <td>high</td>\n",
              "      <td>no</td>\n",
              "      <td>excellent</td>\n",
              "      <td>no</td>\n",
              "    </tr>\n",
              "    <tr>\n",
              "      <th>2</th>\n",
              "      <td>middle_aged</td>\n",
              "      <td>high</td>\n",
              "      <td>no</td>\n",
              "      <td>fair</td>\n",
              "      <td>yes</td>\n",
              "    </tr>\n",
              "    <tr>\n",
              "      <th>3</th>\n",
              "      <td>senior</td>\n",
              "      <td>medium</td>\n",
              "      <td>no</td>\n",
              "      <td>fair</td>\n",
              "      <td>yes</td>\n",
              "    </tr>\n",
              "    <tr>\n",
              "      <th>4</th>\n",
              "      <td>senior</td>\n",
              "      <td>low</td>\n",
              "      <td>yes</td>\n",
              "      <td>fair</td>\n",
              "      <td>yes</td>\n",
              "    </tr>\n",
              "    <tr>\n",
              "      <th>5</th>\n",
              "      <td>senior</td>\n",
              "      <td>low</td>\n",
              "      <td>yes</td>\n",
              "      <td>excellent</td>\n",
              "      <td>no</td>\n",
              "    </tr>\n",
              "    <tr>\n",
              "      <th>6</th>\n",
              "      <td>middle_aged</td>\n",
              "      <td>low</td>\n",
              "      <td>yes</td>\n",
              "      <td>excellent</td>\n",
              "      <td>yes</td>\n",
              "    </tr>\n",
              "    <tr>\n",
              "      <th>7</th>\n",
              "      <td>youth</td>\n",
              "      <td>medium</td>\n",
              "      <td>no</td>\n",
              "      <td>fair</td>\n",
              "      <td>no</td>\n",
              "    </tr>\n",
              "    <tr>\n",
              "      <th>8</th>\n",
              "      <td>youth</td>\n",
              "      <td>low</td>\n",
              "      <td>yes</td>\n",
              "      <td>fair</td>\n",
              "      <td>yes</td>\n",
              "    </tr>\n",
              "    <tr>\n",
              "      <th>9</th>\n",
              "      <td>senior</td>\n",
              "      <td>medium</td>\n",
              "      <td>yes</td>\n",
              "      <td>fair</td>\n",
              "      <td>yes</td>\n",
              "    </tr>\n",
              "    <tr>\n",
              "      <th>10</th>\n",
              "      <td>youth</td>\n",
              "      <td>medium</td>\n",
              "      <td>yes</td>\n",
              "      <td>excellent</td>\n",
              "      <td>yes</td>\n",
              "    </tr>\n",
              "    <tr>\n",
              "      <th>11</th>\n",
              "      <td>middle_aged</td>\n",
              "      <td>medium</td>\n",
              "      <td>no</td>\n",
              "      <td>excellent</td>\n",
              "      <td>yes</td>\n",
              "    </tr>\n",
              "    <tr>\n",
              "      <th>12</th>\n",
              "      <td>middle_aged</td>\n",
              "      <td>high</td>\n",
              "      <td>yes</td>\n",
              "      <td>fair</td>\n",
              "      <td>yes</td>\n",
              "    </tr>\n",
              "    <tr>\n",
              "      <th>13</th>\n",
              "      <td>senior</td>\n",
              "      <td>medium</td>\n",
              "      <td>no</td>\n",
              "      <td>excellent</td>\n",
              "      <td>no</td>\n",
              "    </tr>\n",
              "  </tbody>\n",
              "</table>\n",
              "</div>\n",
              "      <button class=\"colab-df-convert\" onclick=\"convertToInteractive('df-793938f3-8aca-4145-a13d-e4e8785106c6')\"\n",
              "              title=\"Convert this dataframe to an interactive table.\"\n",
              "              style=\"display:none;\">\n",
              "        \n",
              "  <svg xmlns=\"http://www.w3.org/2000/svg\" height=\"24px\"viewBox=\"0 0 24 24\"\n",
              "       width=\"24px\">\n",
              "    <path d=\"M0 0h24v24H0V0z\" fill=\"none\"/>\n",
              "    <path d=\"M18.56 5.44l.94 2.06.94-2.06 2.06-.94-2.06-.94-.94-2.06-.94 2.06-2.06.94zm-11 1L8.5 8.5l.94-2.06 2.06-.94-2.06-.94L8.5 2.5l-.94 2.06-2.06.94zm10 10l.94 2.06.94-2.06 2.06-.94-2.06-.94-.94-2.06-.94 2.06-2.06.94z\"/><path d=\"M17.41 7.96l-1.37-1.37c-.4-.4-.92-.59-1.43-.59-.52 0-1.04.2-1.43.59L10.3 9.45l-7.72 7.72c-.78.78-.78 2.05 0 2.83L4 21.41c.39.39.9.59 1.41.59.51 0 1.02-.2 1.41-.59l7.78-7.78 2.81-2.81c.8-.78.8-2.07 0-2.86zM5.41 20L4 18.59l7.72-7.72 1.47 1.35L5.41 20z\"/>\n",
              "  </svg>\n",
              "      </button>\n",
              "      \n",
              "  <style>\n",
              "    .colab-df-container {\n",
              "      display:flex;\n",
              "      flex-wrap:wrap;\n",
              "      gap: 12px;\n",
              "    }\n",
              "\n",
              "    .colab-df-convert {\n",
              "      background-color: #E8F0FE;\n",
              "      border: none;\n",
              "      border-radius: 50%;\n",
              "      cursor: pointer;\n",
              "      display: none;\n",
              "      fill: #1967D2;\n",
              "      height: 32px;\n",
              "      padding: 0 0 0 0;\n",
              "      width: 32px;\n",
              "    }\n",
              "\n",
              "    .colab-df-convert:hover {\n",
              "      background-color: #E2EBFA;\n",
              "      box-shadow: 0px 1px 2px rgba(60, 64, 67, 0.3), 0px 1px 3px 1px rgba(60, 64, 67, 0.15);\n",
              "      fill: #174EA6;\n",
              "    }\n",
              "\n",
              "    [theme=dark] .colab-df-convert {\n",
              "      background-color: #3B4455;\n",
              "      fill: #D2E3FC;\n",
              "    }\n",
              "\n",
              "    [theme=dark] .colab-df-convert:hover {\n",
              "      background-color: #434B5C;\n",
              "      box-shadow: 0px 1px 3px 1px rgba(0, 0, 0, 0.15);\n",
              "      filter: drop-shadow(0px 1px 2px rgba(0, 0, 0, 0.3));\n",
              "      fill: #FFFFFF;\n",
              "    }\n",
              "  </style>\n",
              "\n",
              "      <script>\n",
              "        const buttonEl =\n",
              "          document.querySelector('#df-793938f3-8aca-4145-a13d-e4e8785106c6 button.colab-df-convert');\n",
              "        buttonEl.style.display =\n",
              "          google.colab.kernel.accessAllowed ? 'block' : 'none';\n",
              "\n",
              "        async function convertToInteractive(key) {\n",
              "          const element = document.querySelector('#df-793938f3-8aca-4145-a13d-e4e8785106c6');\n",
              "          const dataTable =\n",
              "            await google.colab.kernel.invokeFunction('convertToInteractive',\n",
              "                                                     [key], {});\n",
              "          if (!dataTable) return;\n",
              "\n",
              "          const docLinkHtml = 'Like what you see? Visit the ' +\n",
              "            '<a target=\"_blank\" href=https://colab.research.google.com/notebooks/data_table.ipynb>data table notebook</a>'\n",
              "            + ' to learn more about interactive tables.';\n",
              "          element.innerHTML = '';\n",
              "          dataTable['output_type'] = 'display_data';\n",
              "          await google.colab.output.renderOutput(dataTable, element);\n",
              "          const docLink = document.createElement('div');\n",
              "          docLink.innerHTML = docLinkHtml;\n",
              "          element.appendChild(docLink);\n",
              "        }\n",
              "      </script>\n",
              "    </div>\n",
              "  </div>\n",
              "  "
            ]
          },
          "metadata": {},
          "execution_count": 2
        }
      ],
      "source": [
        "pd_data = pd.read_csv('https://raw.githubusercontent.com/AugustLONG/ML01/master/01decisiontree/AllElectronics.csv')\n",
        "pd_data.drop(\"RID\",axis=1, inplace = True) #RID는 그냥 순서라서 삭제\n",
        "pd_data"
      ]
    },
    {
      "cell_type": "markdown",
      "metadata": {
        "id": "knnpgJvGqT-9"
      },
      "source": [
        "## Gini 계수를 구하는 함수 만들기"
      ]
    },
    {
      "cell_type": "markdown",
      "metadata": {
        "id": "W9Qe4PlCqT-9"
      },
      "source": [
        "- Input: df(데이터), label(타겟변수명)\n",
        "- 해당 결과는 아래와 같이 나와야 합니다.\n",
        "\n",
        "![스크린샷 2022-08-09 오후 10.44.48.png](data:image/png;base64,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)\n",
        "- 지니계수는 데이터의 통계적 분산 정도를 정량화 해서 표현한 값이다.\n",
        "- 어떤 집합의 gini index가 높을수록 그 집단의 데이터가 분산되어 있음을 확인할 수 있다."
      ]
    },
    {
      "cell_type": "code",
      "execution_count": 3,
      "metadata": {
        "id": "ad-2emogqT--"
      },
      "outputs": [],
      "source": [
        "# get_gini : 위 이미지 속 식을 그대로 구현한 함수\n",
        "  # df[label].value_counts() : class별 데이터 개수를 리스트로 저장한 값\n",
        "  # len(df) : 행의 개수\n",
        "\n",
        "def get_gini(df, label):\n",
        "    gini = 1\n",
        "    percentage = df[label].value_counts() / len(df)\n",
        "    for p in percentage:\n",
        "        gini -= p**2\n",
        "        \n",
        "    return gini"
      ]
    },
    {
      "cell_type": "code",
      "execution_count": 4,
      "metadata": {
        "colab": {
          "base_uri": "https://localhost:8080/"
        },
        "id": "XIZMDXloqT--",
        "outputId": "574bafc5-a336-4689-c3d6-ba840782001c"
      },
      "outputs": [
        {
          "output_type": "execute_result",
          "data": {
            "text/plain": [
              "0.4591836734693877"
            ]
          },
          "metadata": {},
          "execution_count": 4
        }
      ],
      "source": [
        "# 'class_buys_computer'에 대한 지니 계수\n",
        "get_gini(pd_data,'class_buys_computer')"
      ]
    },
    {
      "cell_type": "markdown",
      "metadata": {
        "id": "Vnfhg6cEqT-_"
      },
      "source": [
        "## Feature의 Class를 이진 분류로 만들기\n",
        "- ex) {A,B,C} -> ({A}, {B,C}), ({B}, {A,C}), ({C}, {A,B})"
      ]
    },
    {
      "cell_type": "markdown",
      "metadata": {
        "id": "y49Z80fvqT-_"
      },
      "source": [
        "- Input: df(데이터), attribute(Gini index를 구하고자 하는 변수명)\n",
        "- Income 변수를 결과로 출력해주세요."
      ]
    },
    {
      "cell_type": "code",
      "execution_count": 5,
      "metadata": {
        "id": "CnP382xeqT_A"
      },
      "outputs": [],
      "source": [
        "from itertools import combinations\n",
        "\n",
        "def get_binary_split(df, attribute):\n",
        "\n",
        "    uniques = list(df[attribute].unique()) # 속성 데이터 고유값들을 담은 리스트 \n",
        "    result=[]\n",
        "    len_uniques = len(uniques)\n",
        "    \n",
        "    # unique의 요소 중 가능한 모든 combinations을 list로 변환하여 result에 저장함\n",
        "    for i in range(len_uniques - 1):\n",
        "        for j in list(combinations(uniques, i+1)):\n",
        "            result.append(list(j))\n",
        "    \n",
        "    return result"
      ]
    },
    {
      "cell_type": "markdown",
      "source": [
        "**Class 개수 확인**\n",
        "\n",
        "이진 분류를 만들기위해 각각의 class 개수를 확인한다."
      ],
      "metadata": {
        "id": "kXihsPQC7FvA"
      }
    },
    {
      "cell_type": "code",
      "source": [
        "# check columns\n",
        "pd_data.columns.unique()"
      ],
      "metadata": {
        "colab": {
          "base_uri": "https://localhost:8080/"
        },
        "id": "W8AlfcVh7Unm",
        "outputId": "acb1c172-738c-4e38-ccce-1191689f1219"
      },
      "execution_count": 11,
      "outputs": [
        {
          "output_type": "execute_result",
          "data": {
            "text/plain": [
              "Index(['age', 'income', 'student', 'credit_rating', 'class_buys_computer'], dtype='object')"
            ]
          },
          "metadata": {},
          "execution_count": 11
        }
      ]
    },
    {
      "cell_type": "code",
      "source": [
        "pd_data.age.unique()"
      ],
      "metadata": {
        "colab": {
          "base_uri": "https://localhost:8080/"
        },
        "id": "PyBEY7286y6n",
        "outputId": "eea02ab0-3f4f-4206-f74c-8f6ee165285f"
      },
      "execution_count": 10,
      "outputs": [
        {
          "output_type": "execute_result",
          "data": {
            "text/plain": [
              "array(['youth', 'middle_aged', 'senior'], dtype=object)"
            ]
          },
          "metadata": {},
          "execution_count": 10
        }
      ]
    },
    {
      "cell_type": "code",
      "source": [
        "pd_data.income.unique()"
      ],
      "metadata": {
        "colab": {
          "base_uri": "https://localhost:8080/"
        },
        "id": "ROmGUB4u7QkH",
        "outputId": "e084ede8-b8b8-4455-90aa-9308c4aa76f9"
      },
      "execution_count": 12,
      "outputs": [
        {
          "output_type": "execute_result",
          "data": {
            "text/plain": [
              "array(['high', 'medium', 'low'], dtype=object)"
            ]
          },
          "metadata": {},
          "execution_count": 12
        }
      ]
    },
    {
      "cell_type": "code",
      "source": [
        "pd_data.student.unique()"
      ],
      "metadata": {
        "colab": {
          "base_uri": "https://localhost:8080/"
        },
        "id": "9q-PAQ867gRw",
        "outputId": "9773c04b-2f24-4fef-ae31-20f8054c76ae"
      },
      "execution_count": 13,
      "outputs": [
        {
          "output_type": "execute_result",
          "data": {
            "text/plain": [
              "array(['no', 'yes'], dtype=object)"
            ]
          },
          "metadata": {},
          "execution_count": 13
        }
      ]
    },
    {
      "cell_type": "code",
      "source": [
        "pd_data.credit_rating.unique()"
      ],
      "metadata": {
        "colab": {
          "base_uri": "https://localhost:8080/"
        },
        "id": "3_TtVfGL7ib4",
        "outputId": "8de198ce-8c8a-4d5d-fd49-fdcba293789d"
      },
      "execution_count": 14,
      "outputs": [
        {
          "output_type": "execute_result",
          "data": {
            "text/plain": [
              "array(['fair', 'excellent'], dtype=object)"
            ]
          },
          "metadata": {},
          "execution_count": 14
        }
      ]
    },
    {
      "cell_type": "code",
      "source": [
        "pd_data.class_buys_computer.unique()"
      ],
      "metadata": {
        "colab": {
          "base_uri": "https://localhost:8080/"
        },
        "id": "9D5C_Hvv7mXB",
        "outputId": "d5864e6f-b40d-49b2-85d6-c0e82e231195"
      },
      "execution_count": 15,
      "outputs": [
        {
          "output_type": "execute_result",
          "data": {
            "text/plain": [
              "array(['no', 'yes'], dtype=object)"
            ]
          },
          "metadata": {},
          "execution_count": 15
        }
      ]
    },
    {
      "cell_type": "markdown",
      "source": [
        "**Class가 2개인 경우,**\n",
        "- student\n",
        "- class_buys_computer\n",
        "- credit_rating"
      ],
      "metadata": {
        "id": "4wPw8WF_6UVp"
      }
    },
    {
      "cell_type": "code",
      "source": [
        "# 'student' 분류\n",
        "get_binary_split(pd_data, \"student\")"
      ],
      "metadata": {
        "colab": {
          "base_uri": "https://localhost:8080/"
        },
        "id": "x3iq7R436RTl",
        "outputId": "3cb335f3-9940-437b-d940-d71f13011789"
      },
      "execution_count": 16,
      "outputs": [
        {
          "output_type": "execute_result",
          "data": {
            "text/plain": [
              "[['no'], ['yes']]"
            ]
          },
          "metadata": {},
          "execution_count": 16
        }
      ]
    },
    {
      "cell_type": "code",
      "source": [
        "# 'class_buys_computer' 분류\n",
        "get_binary_split(pd_data, \"class_buys_computer\")"
      ],
      "metadata": {
        "colab": {
          "base_uri": "https://localhost:8080/"
        },
        "id": "2KlloPCy8Bgh",
        "outputId": "ea46536b-e487-4662-8e57-774b8828ca63"
      },
      "execution_count": 17,
      "outputs": [
        {
          "output_type": "execute_result",
          "data": {
            "text/plain": [
              "[['no'], ['yes']]"
            ]
          },
          "metadata": {},
          "execution_count": 17
        }
      ]
    },
    {
      "cell_type": "code",
      "source": [
        "# 'credit_rating' 분류\n",
        "get_binary_split(pd_data, \"credit_rating\")"
      ],
      "metadata": {
        "colab": {
          "base_uri": "https://localhost:8080/"
        },
        "id": "TeMr82pa8MkN",
        "outputId": "41564d58-1bd3-4dfb-b362-6b6d1dfdffd6"
      },
      "execution_count": 18,
      "outputs": [
        {
          "output_type": "execute_result",
          "data": {
            "text/plain": [
              "[['fair'], ['excellent']]"
            ]
          },
          "metadata": {},
          "execution_count": 18
        }
      ]
    },
    {
      "cell_type": "markdown",
      "source": [
        "**Class가 3개인 경우,**\n",
        "- income\n",
        "- age"
      ],
      "metadata": {
        "id": "5bJY84VA8RJ6"
      }
    },
    {
      "cell_type": "code",
      "execution_count": 6,
      "metadata": {
        "colab": {
          "base_uri": "https://localhost:8080/"
        },
        "id": "fPv8d2QTqT_A",
        "outputId": "7ac2723a-c3c5-4614-8caf-2e79242e6ea4"
      },
      "outputs": [
        {
          "output_type": "execute_result",
          "data": {
            "text/plain": [
              "[['high'],\n",
              " ['medium'],\n",
              " ['low'],\n",
              " ['high', 'medium'],\n",
              " ['high', 'low'],\n",
              " ['medium', 'low']]"
            ]
          },
          "metadata": {},
          "execution_count": 6
        }
      ],
      "source": [
        "# 'income' 분류 \n",
        "get_binary_split(pd_data,'income')"
      ]
    },
    {
      "cell_type": "code",
      "source": [
        "# 'age' 분류\n",
        "get_binary_split(pd_data, \"age\")"
      ],
      "metadata": {
        "colab": {
          "base_uri": "https://localhost:8080/"
        },
        "id": "7NCkJlM56FDv",
        "outputId": "ae13fc7a-7c82-496d-d626-26568cc959a9"
      },
      "execution_count": 7,
      "outputs": [
        {
          "output_type": "execute_result",
          "data": {
            "text/plain": [
              "[['youth'],\n",
              " ['middle_aged'],\n",
              " ['senior'],\n",
              " ['youth', 'middle_aged'],\n",
              " ['youth', 'senior'],\n",
              " ['middle_aged', 'senior']]"
            ]
          },
          "metadata": {},
          "execution_count": 7
        }
      ]
    },
    {
      "cell_type": "markdown",
      "source": [
        "**Output**\n",
        "\n",
        "각 colum들에 대해 class의 개수와 상관없이 모두 이진 분류가 제대로 생성되고있음을 확인할 수 있다."
      ],
      "metadata": {
        "id": "3mTTWSEx8ZC4"
      }
    },
    {
      "cell_type": "markdown",
      "metadata": {
        "id": "eScldzwuqT_A"
      },
      "source": [
        "## 모든 이진분류의 경우의 Gini index를 구하는 함수 만들기\n",
        "- 위에서 완성한 두 함수를 사용하여 만들어주세요!\n",
        "- 해당 결과는 아래와 같이 나와야 합니다.\n",
        "![스크린샷 2022-08-09 오후 10.44.55.png](data:image/png;base64,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)\n",
        "- 경제적 불평등을 표현하는 방법\n",
        "- 지니계수가 1에 가까울수록 소수가 우세한 것을 의미하고, 0에 가까울수록 모두가 평등함을 의미함"
      ]
    },
    {
      "cell_type": "code",
      "execution_count": 19,
      "metadata": {
        "id": "_jw9EzFAqT_B"
      },
      "outputs": [],
      "source": [
        "def get_attribute_gini_index(df, attribute, label):\n",
        "    \n",
        "    result = {}\n",
        "    binary_split = get_binary_split(df, attribute)\n",
        "    n = len(df)\n",
        "    for i in binary_split:\n",
        "        key = '_'.join(i)\n",
        "        df_1 = df[df[attribute].isin(i)] # binary split 중 i를 포함한 경우\n",
        "        df_2 = df[~df[attribute].isin(i)] # binary split 중 i를 포함하지 않은 경우\n",
        "        gini_index = len(df_1) / n * get_gini(df_1, label) + len(df_2) / n * get_gini(df_2, label) # 위 이미지 속 Gini index 함수를 표현한 식\n",
        "        result[key] = gini_index\n",
        "    \n",
        "    return result"
      ]
    },
    {
      "cell_type": "code",
      "execution_count": 20,
      "metadata": {
        "colab": {
          "base_uri": "https://localhost:8080/"
        },
        "id": "r1TbRFwrqT_B",
        "outputId": "6c36b349-b956-4bd4-efa8-4b287c009dc9"
      },
      "outputs": [
        {
          "output_type": "execute_result",
          "data": {
            "text/plain": [
              "{'high': 0.4428571428571429,\n",
              " 'high_low': 0.4583333333333333,\n",
              " 'high_medium': 0.45,\n",
              " 'low': 0.45,\n",
              " 'medium': 0.4583333333333333,\n",
              " 'medium_low': 0.4428571428571429}"
            ]
          },
          "metadata": {},
          "execution_count": 20
        }
      ],
      "source": [
        "get_attribute_gini_index(pd_data, 'income', 'class_buys_computer')"
      ]
    },
    {
      "cell_type": "markdown",
      "metadata": {
        "id": "O2pGr65eqT_B"
      },
      "source": [
        "- 여기서 가장 작은 Gini index값을 가지는 class를 확인합니다."
      ]
    },
    {
      "cell_type": "code",
      "execution_count": 21,
      "metadata": {
        "colab": {
          "base_uri": "https://localhost:8080/"
        },
        "id": "_Rs1RNqLqT_C",
        "outputId": "a2ac4cba-fd91-4942-d35e-141bc429e2be"
      },
      "outputs": [
        {
          "output_type": "execute_result",
          "data": {
            "text/plain": [
              "('high', 0.4428571428571429)"
            ]
          },
          "metadata": {},
          "execution_count": 21
        }
      ],
      "source": [
        "min(get_attribute_gini_index(pd_data, 'income', 'class_buys_computer').items())"
      ]
    },
    {
      "cell_type": "code",
      "execution_count": 22,
      "metadata": {
        "colab": {
          "base_uri": "https://localhost:8080/",
          "height": 36
        },
        "id": "BaJXjMsnqT_C",
        "outputId": "5f04ae3a-e233-44a1-e6c3-00caf6b44489"
      },
      "outputs": [
        {
          "output_type": "execute_result",
          "data": {
            "text/plain": [
              "'high'"
            ],
            "application/vnd.google.colaboratory.intrinsic+json": {
              "type": "string"
            }
          },
          "metadata": {},
          "execution_count": 22
        }
      ],
      "source": [
        "min(get_attribute_gini_index(pd_data, 'income', 'class_buys_computer').items())[0]"
      ]
    },
    {
      "cell_type": "markdown",
      "source": [
        "**Output**\n",
        "\n",
        "이 경우(`income` 변수)에는 이중에서 가장 작은 Gini index를 가지는 변수인 `high`가 최초 split을 해야한다."
      ],
      "metadata": {
        "id": "vffmLKQH8tjf"
      }
    },
    {
      "cell_type": "markdown",
      "metadata": {
        "id": "Cy_hlDIMqT_C"
      },
      "source": [
        "## 분류를 하는 데 가장 중요한 변수를 선정하고, 해당 변수의 Gini index를 제시해주세요.\n",
        "- 모든 변수에 대한 Gini index(최소)를 출력해주세요.\n",
        "- 해당 결과는 아래와 같이 나와야 합니다."
      ]
    },
    {
      "cell_type": "markdown",
      "source": [
        "- 전체 columns에 대한 Gini index의 최솟값을 계산합니다."
      ],
      "metadata": {
        "id": "JPopxG0_-7es"
      }
    },
    {
      "cell_type": "code",
      "execution_count": 23,
      "metadata": {
        "colab": {
          "base_uri": "https://localhost:8080/"
        },
        "id": "BiXiaf0gqT_C",
        "outputId": "f8f315e2-df4a-4a3b-8714-6d8a1edcf2a3"
      },
      "outputs": [
        {
          "output_type": "stream",
          "name": "stdout",
          "text": [
            "Minimum Gini index of age : 0.3571\n",
            "Minimum Gini index of income : 0.4429\n",
            "Minimum Gini index of student : 0.3673\n",
            "Minimum Gini index of credit_rating : 0.4286\n"
          ]
        }
      ],
      "source": [
        "# 변수명 중 마지막에 위치한 label 컬럼 얻기\n",
        "label = pd_data.columns[-1]\n",
        "# label 변수를 제외한 변수명 얻기\n",
        "features = list(pd_data.columns[:-1])\n",
        "\n",
        "# 각 변수를 대상으로 반복문 수행(해당 변수 중 가장 낮은 gini 계수와 변수 출력)\n",
        "for feature in features:\n",
        "\n",
        "    min_val = min(get_attribute_gini_index(pd_data, feature, 'class_buys_computer').items())\n",
        "    print(\"Minimum Gini index of \" + feature +\" : \" + str(round(min_val[1], 4)))"
      ]
    },
    {
      "cell_type": "markdown",
      "metadata": {
        "id": "z5yqobymqT_C"
      },
      "source": [
        "**Output**\n",
        "\n",
        "Gini index가 가장 작게 나온 **`age`**를 가장 중요한 변수로 선정한다."
      ]
    },
    {
      "cell_type": "markdown",
      "source": [
        "- 이어서 해당 변수의 이진 분류된 각 class에 대해 Gini index도 계산합니다."
      ],
      "metadata": {
        "id": "nQsJQMij-C2T"
      }
    },
    {
      "cell_type": "code",
      "execution_count": 24,
      "metadata": {
        "colab": {
          "base_uri": "https://localhost:8080/"
        },
        "id": "zupqtSrlqT_D",
        "outputId": "973ac4f1-83f2-4cea-a856-3ae185ddfb25"
      },
      "outputs": [
        {
          "output_type": "execute_result",
          "data": {
            "text/plain": [
              "{'middle_aged': 0.35714285714285715,\n",
              " 'middle_aged_senior': 0.3936507936507937,\n",
              " 'senior': 0.4571428571428572,\n",
              " 'youth': 0.3936507936507937,\n",
              " 'youth_middle_aged': 0.4571428571428572,\n",
              " 'youth_senior': 0.35714285714285715}"
            ]
          },
          "metadata": {},
          "execution_count": 24
        }
      ],
      "source": [
        "get_attribute_gini_index(pd_data, 'age', 'class_buys_computer')"
      ]
    },
    {
      "cell_type": "markdown",
      "metadata": {
        "id": "-Q4YA7SSqT_D"
      },
      "source": [
        "**Output**\n",
        "\n",
        "`age` 변수에서 gini index가 가장 작게 나온 **`middle_aged`** class를 선정한다."
      ]
    },
    {
      "cell_type": "markdown",
      "metadata": {
        "id": "xKNl6BOQqT_D"
      },
      "source": [
        "## 위에서 선정한 feature로 DataFrame을 split한 후 나눠진 2개의 DataFrame에서 각각 다음으로 중요한 변수를 선정하고 해당 변수의 Gini index를 제시해주세요."
      ]
    },
    {
      "cell_type": "markdown",
      "source": [
        "- `age` 변수에서 gini index가 가장 작게 나온 class가 **`middle_aged`**이므로 `age`의 이진 분류에 따른 각각의 Gini Index를 계산한다."
      ],
      "metadata": {
        "id": "NtoXN6aX-VBd"
      }
    },
    {
      "cell_type": "code",
      "source": [
        "get_attribute_gini_index(pd_data, \"age\", \"class_buys_computer\")"
      ],
      "metadata": {
        "colab": {
          "base_uri": "https://localhost:8080/"
        },
        "id": "7FhmGiSw_Ltn",
        "outputId": "77afacb1-a8eb-442c-e3fe-5384aa7fd99b"
      },
      "execution_count": 25,
      "outputs": [
        {
          "output_type": "execute_result",
          "data": {
            "text/plain": [
              "{'middle_aged': 0.35714285714285715,\n",
              " 'middle_aged_senior': 0.3936507936507937,\n",
              " 'senior': 0.4571428571428572,\n",
              " 'youth': 0.3936507936507937,\n",
              " 'youth_middle_aged': 0.4571428571428572,\n",
              " 'youth_senior': 0.35714285714285715}"
            ]
          },
          "metadata": {},
          "execution_count": 25
        }
      ]
    },
    {
      "cell_type": "code",
      "source": [
        "min(get_attribute_gini_index(pd_data, 'age', 'class_buys_computer').items())"
      ],
      "metadata": {
        "colab": {
          "base_uri": "https://localhost:8080/"
        },
        "id": "Em72UK_IAR4r",
        "outputId": "81a1e9d8-83ac-4f47-e68c-17bef8d3b628"
      },
      "execution_count": 30,
      "outputs": [
        {
          "output_type": "execute_result",
          "data": {
            "text/plain": [
              "('middle_aged', 0.35714285714285715)"
            ]
          },
          "metadata": {},
          "execution_count": 30
        }
      ]
    },
    {
      "cell_type": "code",
      "source": [
        "min(get_attribute_gini_index(pd_data, 'age', 'class_buys_computer').items())[0]"
      ],
      "metadata": {
        "colab": {
          "base_uri": "https://localhost:8080/",
          "height": 36
        },
        "id": "VKvRJL_KAT7O",
        "outputId": "6f60819a-d84b-48d0-d71c-95fa11983dfc"
      },
      "execution_count": 31,
      "outputs": [
        {
          "output_type": "execute_result",
          "data": {
            "text/plain": [
              "'middle_aged'"
            ],
            "application/vnd.google.colaboratory.intrinsic+json": {
              "type": "string"
            }
          },
          "metadata": {},
          "execution_count": 31
        }
      ]
    },
    {
      "cell_type": "markdown",
      "source": [
        "**Output**\n",
        "\n",
        "`age`에서 최소 Gini Index값을 가지는 변수는 `middle_aged`이다. 따라서 `middle_aged` class에 따라 DataFrame를 split 해야한다."
      ],
      "metadata": {
        "id": "xSBYuk-cAD8Y"
      }
    },
    {
      "cell_type": "markdown",
      "source": [
        "- Gini Index가 가장 작게 나온 변수 `middle_aged`로 DataFrame을 split한다."
      ],
      "metadata": {
        "id": "2cXXIy6Q_LzE"
      }
    },
    {
      "cell_type": "code",
      "execution_count": 32,
      "metadata": {
        "id": "tOL5rIRtqT_D"
      },
      "outputs": [],
      "source": [
        "#선정한 feature로 데이터프레임 split을 해주세요.\n",
        "\n",
        "df_1 = pd_data[pd_data['age'] == 'middle_aged']\n",
        "df_2 = pd_data[pd_data['age'] != 'middle_aged']"
      ]
    },
    {
      "cell_type": "code",
      "execution_count": 33,
      "metadata": {
        "colab": {
          "base_uri": "https://localhost:8080/",
          "height": 175
        },
        "id": "jfVouT9BqT_D",
        "outputId": "cad68ef2-63d9-4faf-ce53-cd2207288dc8"
      },
      "outputs": [
        {
          "output_type": "execute_result",
          "data": {
            "text/plain": [
              "            age  income student credit_rating class_buys_computer\n",
              "2   middle_aged    high      no          fair                 yes\n",
              "6   middle_aged     low     yes     excellent                 yes\n",
              "11  middle_aged  medium      no     excellent                 yes\n",
              "12  middle_aged    high     yes          fair                 yes"
            ],
            "text/html": [
              "\n",
              "  <div id=\"df-066fee1a-28eb-4327-b107-a2cd007b8773\">\n",
              "    <div class=\"colab-df-container\">\n",
              "      <div>\n",
              "<style scoped>\n",
              "    .dataframe tbody tr th:only-of-type {\n",
              "        vertical-align: middle;\n",
              "    }\n",
              "\n",
              "    .dataframe tbody tr th {\n",
              "        vertical-align: top;\n",
              "    }\n",
              "\n",
              "    .dataframe thead th {\n",
              "        text-align: right;\n",
              "    }\n",
              "</style>\n",
              "<table border=\"1\" class=\"dataframe\">\n",
              "  <thead>\n",
              "    <tr style=\"text-align: right;\">\n",
              "      <th></th>\n",
              "      <th>age</th>\n",
              "      <th>income</th>\n",
              "      <th>student</th>\n",
              "      <th>credit_rating</th>\n",
              "      <th>class_buys_computer</th>\n",
              "    </tr>\n",
              "  </thead>\n",
              "  <tbody>\n",
              "    <tr>\n",
              "      <th>2</th>\n",
              "      <td>middle_aged</td>\n",
              "      <td>high</td>\n",
              "      <td>no</td>\n",
              "      <td>fair</td>\n",
              "      <td>yes</td>\n",
              "    </tr>\n",
              "    <tr>\n",
              "      <th>6</th>\n",
              "      <td>middle_aged</td>\n",
              "      <td>low</td>\n",
              "      <td>yes</td>\n",
              "      <td>excellent</td>\n",
              "      <td>yes</td>\n",
              "    </tr>\n",
              "    <tr>\n",
              "      <th>11</th>\n",
              "      <td>middle_aged</td>\n",
              "      <td>medium</td>\n",
              "      <td>no</td>\n",
              "      <td>excellent</td>\n",
              "      <td>yes</td>\n",
              "    </tr>\n",
              "    <tr>\n",
              "      <th>12</th>\n",
              "      <td>middle_aged</td>\n",
              "      <td>high</td>\n",
              "      <td>yes</td>\n",
              "      <td>fair</td>\n",
              "      <td>yes</td>\n",
              "    </tr>\n",
              "  </tbody>\n",
              "</table>\n",
              "</div>\n",
              "      <button class=\"colab-df-convert\" onclick=\"convertToInteractive('df-066fee1a-28eb-4327-b107-a2cd007b8773')\"\n",
              "              title=\"Convert this dataframe to an interactive table.\"\n",
              "              style=\"display:none;\">\n",
              "        \n",
              "  <svg xmlns=\"http://www.w3.org/2000/svg\" height=\"24px\"viewBox=\"0 0 24 24\"\n",
              "       width=\"24px\">\n",
              "    <path d=\"M0 0h24v24H0V0z\" fill=\"none\"/>\n",
              "    <path d=\"M18.56 5.44l.94 2.06.94-2.06 2.06-.94-2.06-.94-.94-2.06-.94 2.06-2.06.94zm-11 1L8.5 8.5l.94-2.06 2.06-.94-2.06-.94L8.5 2.5l-.94 2.06-2.06.94zm10 10l.94 2.06.94-2.06 2.06-.94-2.06-.94-.94-2.06-.94 2.06-2.06.94z\"/><path d=\"M17.41 7.96l-1.37-1.37c-.4-.4-.92-.59-1.43-.59-.52 0-1.04.2-1.43.59L10.3 9.45l-7.72 7.72c-.78.78-.78 2.05 0 2.83L4 21.41c.39.39.9.59 1.41.59.51 0 1.02-.2 1.41-.59l7.78-7.78 2.81-2.81c.8-.78.8-2.07 0-2.86zM5.41 20L4 18.59l7.72-7.72 1.47 1.35L5.41 20z\"/>\n",
              "  </svg>\n",
              "      </button>\n",
              "      \n",
              "  <style>\n",
              "    .colab-df-container {\n",
              "      display:flex;\n",
              "      flex-wrap:wrap;\n",
              "      gap: 12px;\n",
              "    }\n",
              "\n",
              "    .colab-df-convert {\n",
              "      background-color: #E8F0FE;\n",
              "      border: none;\n",
              "      border-radius: 50%;\n",
              "      cursor: pointer;\n",
              "      display: none;\n",
              "      fill: #1967D2;\n",
              "      height: 32px;\n",
              "      padding: 0 0 0 0;\n",
              "      width: 32px;\n",
              "    }\n",
              "\n",
              "    .colab-df-convert:hover {\n",
              "      background-color: #E2EBFA;\n",
              "      box-shadow: 0px 1px 2px rgba(60, 64, 67, 0.3), 0px 1px 3px 1px rgba(60, 64, 67, 0.15);\n",
              "      fill: #174EA6;\n",
              "    }\n",
              "\n",
              "    [theme=dark] .colab-df-convert {\n",
              "      background-color: #3B4455;\n",
              "      fill: #D2E3FC;\n",
              "    }\n",
              "\n",
              "    [theme=dark] .colab-df-convert:hover {\n",
              "      background-color: #434B5C;\n",
              "      box-shadow: 0px 1px 3px 1px rgba(0, 0, 0, 0.15);\n",
              "      filter: drop-shadow(0px 1px 2px rgba(0, 0, 0, 0.3));\n",
              "      fill: #FFFFFF;\n",
              "    }\n",
              "  </style>\n",
              "\n",
              "      <script>\n",
              "        const buttonEl =\n",
              "          document.querySelector('#df-066fee1a-28eb-4327-b107-a2cd007b8773 button.colab-df-convert');\n",
              "        buttonEl.style.display =\n",
              "          google.colab.kernel.accessAllowed ? 'block' : 'none';\n",
              "\n",
              "        async function convertToInteractive(key) {\n",
              "          const element = document.querySelector('#df-066fee1a-28eb-4327-b107-a2cd007b8773');\n",
              "          const dataTable =\n",
              "            await google.colab.kernel.invokeFunction('convertToInteractive',\n",
              "                                                     [key], {});\n",
              "          if (!dataTable) return;\n",
              "\n",
              "          const docLinkHtml = 'Like what you see? Visit the ' +\n",
              "            '<a target=\"_blank\" href=https://colab.research.google.com/notebooks/data_table.ipynb>data table notebook</a>'\n",
              "            + ' to learn more about interactive tables.';\n",
              "          element.innerHTML = '';\n",
              "          dataTable['output_type'] = 'display_data';\n",
              "          await google.colab.output.renderOutput(dataTable, element);\n",
              "          const docLink = document.createElement('div');\n",
              "          docLink.innerHTML = docLinkHtml;\n",
              "          element.appendChild(docLink);\n",
              "        }\n",
              "      </script>\n",
              "    </div>\n",
              "  </div>\n",
              "  "
            ]
          },
          "metadata": {},
          "execution_count": 33
        }
      ],
      "source": [
        "df_1.head() #split 결과 확인 "
      ]
    },
    {
      "cell_type": "code",
      "execution_count": 34,
      "metadata": {
        "colab": {
          "base_uri": "https://localhost:8080/",
          "height": 206
        },
        "id": "BAPVxUUOqT_D",
        "outputId": "615e51b9-fa3a-40cc-bde0-524295aea166"
      },
      "outputs": [
        {
          "output_type": "execute_result",
          "data": {
            "text/plain": [
              "      age  income student credit_rating class_buys_computer\n",
              "0   youth    high      no          fair                  no\n",
              "1   youth    high      no     excellent                  no\n",
              "3  senior  medium      no          fair                 yes\n",
              "4  senior     low     yes          fair                 yes\n",
              "5  senior     low     yes     excellent                  no"
            ],
            "text/html": [
              "\n",
              "  <div id=\"df-838ecbbb-111e-4bc6-a023-2547e94ccfe1\">\n",
              "    <div class=\"colab-df-container\">\n",
              "      <div>\n",
              "<style scoped>\n",
              "    .dataframe tbody tr th:only-of-type {\n",
              "        vertical-align: middle;\n",
              "    }\n",
              "\n",
              "    .dataframe tbody tr th {\n",
              "        vertical-align: top;\n",
              "    }\n",
              "\n",
              "    .dataframe thead th {\n",
              "        text-align: right;\n",
              "    }\n",
              "</style>\n",
              "<table border=\"1\" class=\"dataframe\">\n",
              "  <thead>\n",
              "    <tr style=\"text-align: right;\">\n",
              "      <th></th>\n",
              "      <th>age</th>\n",
              "      <th>income</th>\n",
              "      <th>student</th>\n",
              "      <th>credit_rating</th>\n",
              "      <th>class_buys_computer</th>\n",
              "    </tr>\n",
              "  </thead>\n",
              "  <tbody>\n",
              "    <tr>\n",
              "      <th>0</th>\n",
              "      <td>youth</td>\n",
              "      <td>high</td>\n",
              "      <td>no</td>\n",
              "      <td>fair</td>\n",
              "      <td>no</td>\n",
              "    </tr>\n",
              "    <tr>\n",
              "      <th>1</th>\n",
              "      <td>youth</td>\n",
              "      <td>high</td>\n",
              "      <td>no</td>\n",
              "      <td>excellent</td>\n",
              "      <td>no</td>\n",
              "    </tr>\n",
              "    <tr>\n",
              "      <th>3</th>\n",
              "      <td>senior</td>\n",
              "      <td>medium</td>\n",
              "      <td>no</td>\n",
              "      <td>fair</td>\n",
              "      <td>yes</td>\n",
              "    </tr>\n",
              "    <tr>\n",
              "      <th>4</th>\n",
              "      <td>senior</td>\n",
              "      <td>low</td>\n",
              "      <td>yes</td>\n",
              "      <td>fair</td>\n",
              "      <td>yes</td>\n",
              "    </tr>\n",
              "    <tr>\n",
              "      <th>5</th>\n",
              "      <td>senior</td>\n",
              "      <td>low</td>\n",
              "      <td>yes</td>\n",
              "      <td>excellent</td>\n",
              "      <td>no</td>\n",
              "    </tr>\n",
              "  </tbody>\n",
              "</table>\n",
              "</div>\n",
              "      <button class=\"colab-df-convert\" onclick=\"convertToInteractive('df-838ecbbb-111e-4bc6-a023-2547e94ccfe1')\"\n",
              "              title=\"Convert this dataframe to an interactive table.\"\n",
              "              style=\"display:none;\">\n",
              "        \n",
              "  <svg xmlns=\"http://www.w3.org/2000/svg\" height=\"24px\"viewBox=\"0 0 24 24\"\n",
              "       width=\"24px\">\n",
              "    <path d=\"M0 0h24v24H0V0z\" fill=\"none\"/>\n",
              "    <path d=\"M18.56 5.44l.94 2.06.94-2.06 2.06-.94-2.06-.94-.94-2.06-.94 2.06-2.06.94zm-11 1L8.5 8.5l.94-2.06 2.06-.94-2.06-.94L8.5 2.5l-.94 2.06-2.06.94zm10 10l.94 2.06.94-2.06 2.06-.94-2.06-.94-.94-2.06-.94 2.06-2.06.94z\"/><path d=\"M17.41 7.96l-1.37-1.37c-.4-.4-.92-.59-1.43-.59-.52 0-1.04.2-1.43.59L10.3 9.45l-7.72 7.72c-.78.78-.78 2.05 0 2.83L4 21.41c.39.39.9.59 1.41.59.51 0 1.02-.2 1.41-.59l7.78-7.78 2.81-2.81c.8-.78.8-2.07 0-2.86zM5.41 20L4 18.59l7.72-7.72 1.47 1.35L5.41 20z\"/>\n",
              "  </svg>\n",
              "      </button>\n",
              "      \n",
              "  <style>\n",
              "    .colab-df-container {\n",
              "      display:flex;\n",
              "      flex-wrap:wrap;\n",
              "      gap: 12px;\n",
              "    }\n",
              "\n",
              "    .colab-df-convert {\n",
              "      background-color: #E8F0FE;\n",
              "      border: none;\n",
              "      border-radius: 50%;\n",
              "      cursor: pointer;\n",
              "      display: none;\n",
              "      fill: #1967D2;\n",
              "      height: 32px;\n",
              "      padding: 0 0 0 0;\n",
              "      width: 32px;\n",
              "    }\n",
              "\n",
              "    .colab-df-convert:hover {\n",
              "      background-color: #E2EBFA;\n",
              "      box-shadow: 0px 1px 2px rgba(60, 64, 67, 0.3), 0px 1px 3px 1px rgba(60, 64, 67, 0.15);\n",
              "      fill: #174EA6;\n",
              "    }\n",
              "\n",
              "    [theme=dark] .colab-df-convert {\n",
              "      background-color: #3B4455;\n",
              "      fill: #D2E3FC;\n",
              "    }\n",
              "\n",
              "    [theme=dark] .colab-df-convert:hover {\n",
              "      background-color: #434B5C;\n",
              "      box-shadow: 0px 1px 3px 1px rgba(0, 0, 0, 0.15);\n",
              "      filter: drop-shadow(0px 1px 2px rgba(0, 0, 0, 0.3));\n",
              "      fill: #FFFFFF;\n",
              "    }\n",
              "  </style>\n",
              "\n",
              "      <script>\n",
              "        const buttonEl =\n",
              "          document.querySelector('#df-838ecbbb-111e-4bc6-a023-2547e94ccfe1 button.colab-df-convert');\n",
              "        buttonEl.style.display =\n",
              "          google.colab.kernel.accessAllowed ? 'block' : 'none';\n",
              "\n",
              "        async function convertToInteractive(key) {\n",
              "          const element = document.querySelector('#df-838ecbbb-111e-4bc6-a023-2547e94ccfe1');\n",
              "          const dataTable =\n",
              "            await google.colab.kernel.invokeFunction('convertToInteractive',\n",
              "                                                     [key], {});\n",
              "          if (!dataTable) return;\n",
              "\n",
              "          const docLinkHtml = 'Like what you see? Visit the ' +\n",
              "            '<a target=\"_blank\" href=https://colab.research.google.com/notebooks/data_table.ipynb>data table notebook</a>'\n",
              "            + ' to learn more about interactive tables.';\n",
              "          element.innerHTML = '';\n",
              "          dataTable['output_type'] = 'display_data';\n",
              "          await google.colab.output.renderOutput(dataTable, element);\n",
              "          const docLink = document.createElement('div');\n",
              "          docLink.innerHTML = docLinkHtml;\n",
              "          element.appendChild(docLink);\n",
              "        }\n",
              "      </script>\n",
              "    </div>\n",
              "  </div>\n",
              "  "
            ]
          },
          "metadata": {},
          "execution_count": 34
        }
      ],
      "source": [
        "df_2.head() #split 결과 확인 "
      ]
    },
    {
      "cell_type": "code",
      "execution_count": 43,
      "metadata": {
        "colab": {
          "base_uri": "https://localhost:8080/"
        },
        "id": "iKiBDBIeqT_E",
        "outputId": "af02610a-805b-4bbc-98a0-8431f55a1003"
      },
      "outputs": [
        {
          "output_type": "stream",
          "name": "stdout",
          "text": [
            "['age', 'income', 'student', 'credit_rating', 'class_buys_computer']\n"
          ]
        }
      ],
      "source": [
        "features = [x for x in list(pd_data.columns)  if x != 'age']  # 탐색할 피쳐들 (income 제외)\n",
        "# res.loc['middle_aged'] = propose_feature(pos, left_features)\n",
        "# res.loc['not middle_aged'] = propose_feature(neg, left_features)\n",
        "# res\n",
        "print(list(pd_data.columns))"
      ]
    },
    {
      "cell_type": "code",
      "execution_count": 48,
      "metadata": {
        "colab": {
          "base_uri": "https://localhost:8080/"
        },
        "id": "eJ0-lGuZqT_E",
        "outputId": "0ef531f5-90a3-46cd-9c14-d32e4d40adfb"
      },
      "outputs": [
        {
          "output_type": "stream",
          "name": "stdout",
          "text": [
            "Age : Middle_aged, Minimum Gini index of income : 0.0\n",
            "Age : Middle_aged, Minimum Gini index of student : 0.0\n",
            "Age : Middle_aged, Minimum Gini index of credit_rating : 0.0\n",
            "#############################################################\n",
            "Age : Middle_aged, Minimum Gini index of income : 0.375\n",
            "Age : Middle_aged, Minimum Gini index of student : 0.32\n",
            "Age : Middle_aged, Minimum Gini index of credit_rating : 0.4167\n"
          ]
        }
      ],
      "source": [
        "# 각 변수를 대상으로 반복문 수행\n",
        "# 결과는 소수점 이하 4자리까지 출력\n",
        "rest_features = [\"income\", \"student\", \"credit_rating\"]\n",
        "\n",
        "for feature in rest_features:\n",
        "    print(\"Age : Middle_aged,\", \"Minimum Gini index of\", feature, \":\", round(min(get_attribute_gini_index(df_1, feature, label).values()), 4))\n",
        "\n",
        "print(\"#############################################################\")\n",
        "\n",
        "for feature in rest_features:\n",
        "    print(\"Age : Middle_aged,\", \"Minimum Gini index of\", feature, \":\", round(min(get_attribute_gini_index(df_2, feature, label).values()), 4))"
      ]
    },
    {
      "cell_type": "markdown",
      "metadata": {
        "id": "xsPAjU2kqT_E"
      },
      "source": [
        "## Entropy 를 구하는 함수 만들기\n",
        "\n",
        "<img src = https://miro.medium.com/max/1122/0*DkWdyGidNSfdT1Nu.png width = \"350\">"
      ]
    },
    {
      "cell_type": "code",
      "execution_count": 41,
      "metadata": {
        "id": "iXjhVwIAqT_E"
      },
      "outputs": [],
      "source": [
        "from math import log2\n",
        "\n",
        "# 위 이미지 속 식을 그대로 구현한 함수\n",
        "def getEntropy(df, feature) :\n",
        "    \n",
        "    entropy = 0\n",
        "    percentage = df[feature].value_counts() / len(df)\n",
        "\n",
        "    for i in percentage:\n",
        "        entropy += - i*log2(i)\n",
        "    return entropy\n"
      ]
    },
    {
      "cell_type": "code",
      "execution_count": 42,
      "metadata": {
        "colab": {
          "base_uri": "https://localhost:8080/"
        },
        "id": "3S0viOChqT_E",
        "outputId": "e45f127c-8bcf-4014-a156-f05f83420bd3"
      },
      "outputs": [
        {
          "output_type": "execute_result",
          "data": {
            "text/plain": [
              "0.9402859586706309"
            ]
          },
          "metadata": {},
          "execution_count": 42
        }
      ],
      "source": [
        "getEntropy(pd_data, \"class_buys_computer\")"
      ]
    },
    {
      "cell_type": "code",
      "execution_count": 53,
      "metadata": {
        "id": "WPZ0bdt9qT_E"
      },
      "outputs": [],
      "source": [
        "# 가장 중요한 변수로 선정된 목표변수를 제외한 다른 변수들에 대해\n",
        "# 각 칼럼별로 엔트로피를 구해주는 함수를 작성해주세요.\n",
        "\n",
        "def getGainA(df, feature) :\n",
        "        \n",
        "    result = {}\n",
        "\n",
        "    info_D = getEntropy(df, feature) # 목표변수에 대한 Entropy 를 구하기\n",
        "    columns = list(df.loc[:, df.columns != feature]) # 목표변수(feature)를 제외한 나머지 변수들의 변수명을 리스트 형태로 저장\n",
        "\n",
        "    for i in columns: \n",
        "        pre_info = 0     \n",
        "        for j in list(df[i].unique()):\n",
        "            S = len(df[feature])     \n",
        "            S_j = sum(df[i] == j)     \n",
        "            pre_info += (S_j / S) * getEntropy(df[df[i] == j], feature)   \n",
        "        result[i] = info_D - pre_info\n",
        "    \n",
        "    return(result)"
      ]
    },
    {
      "cell_type": "code",
      "execution_count": 54,
      "metadata": {
        "scrolled": true,
        "colab": {
          "base_uri": "https://localhost:8080/"
        },
        "id": "DboX-8uqqT_E",
        "outputId": "485630e8-c3b9-4127-8239-9adf48007bee"
      },
      "outputs": [
        {
          "output_type": "execute_result",
          "data": {
            "text/plain": [
              "{'age': 0.2467498197744391,\n",
              " 'credit_rating': 0.04812703040826927,\n",
              " 'income': 0.029222565658954647,\n",
              " 'student': 0.15183550136234136}"
            ]
          },
          "metadata": {},
          "execution_count": 54
        }
      ],
      "source": [
        "getGainA(pd_data, \"class_buys_computer\")"
      ]
    }
  ],
  "metadata": {
    "kernelspec": {
      "display_name": "Python 3",
      "language": "python",
      "name": "python3"
    },
    "language_info": {
      "codemirror_mode": {
        "name": "ipython",
        "version": 3
      },
      "file_extension": ".py",
      "mimetype": "text/x-python",
      "name": "python",
      "nbconvert_exporter": "python",
      "pygments_lexer": "ipython3",
      "version": "3.7.10"
    },
    "toc": {
      "base_numbering": 1,
      "nav_menu": {},
      "number_sections": true,
      "sideBar": true,
      "skip_h1_title": false,
      "title_cell": "Table of Contents",
      "title_sidebar": "Contents",
      "toc_cell": false,
      "toc_position": {},
      "toc_section_display": true,
      "toc_window_display": false
    },
    "colab": {
      "name": "Tobigs_Week3_3_DT.ipynb",
      "provenance": []
    }
  },
  "nbformat": 4,
  "nbformat_minor": 0
}