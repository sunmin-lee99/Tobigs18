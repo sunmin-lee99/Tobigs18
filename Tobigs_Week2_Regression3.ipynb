{
  "cells": [
    {
      "cell_type": "markdown",
      "metadata": {
        "id": "fu39oBW0RVn5"
      },
      "source": [
        "# [과제 3] 로지스틱 회귀분석\n",
        "### - sklearn 패키지를 사용해 로지스틱 회귀분석을 진행해주세요.\n",
        "### - 성능지표를 계산하고 이에 대해 해석해주세요.\n",
        "### - 성능 개선을 시도해주세요. (어떠한 성능지표를 기준으로 개선을 시도했는지, 그 이유도 함께 적어주세요.)\n",
        "### - 주석으로 설명 및 근거 자세하게 달아주시면 감사하겠습니다. :)"
      ]
    },
    {
      "cell_type": "markdown",
      "metadata": {
        "id": "8rN2SWezRVn_"
      },
      "source": [
        "# Data "
      ]
    },
    {
      "cell_type": "markdown",
      "metadata": {
        "id": "Y7SYKNvQRVn_"
      },
      "source": [
        "출처 : https://www.kaggle.com/mlg-ulb/creditcardfraud\n",
        "\n",
        "\n",
        "* V1 ~ V28 : 비식별화 된 개인정보 \n",
        "* **Class** : Target 변수  \n",
        "  - 1 : fraudulent transactions (사기)\n",
        "  - 0 : otherwise "
      ]
    },
    {
      "cell_type": "markdown",
      "source": [
        "## Load Data"
      ],
      "metadata": {
        "id": "f-KkVfgN6czd"
      }
    },
    {
      "cell_type": "code",
      "source": [
        "# 구글 드라이브 연결\n",
        "from google.colab import drive\n",
        "drive.mount('/content/drive')"
      ],
      "metadata": {
        "colab": {
          "base_uri": "https://localhost:8080/"
        },
        "id": "DHlcKn_SwkG2",
        "outputId": "ed7491ec-b712-4a62-e3d4-3a81a5bc1f0e"
      },
      "execution_count": 2,
      "outputs": [
        {
          "output_type": "stream",
          "name": "stdout",
          "text": [
            "Mounted at /content/drive\n"
          ]
        }
      ]
    },
    {
      "cell_type": "code",
      "execution_count": 3,
      "metadata": {
        "id": "Uvjw2fTCRVoA"
      },
      "outputs": [],
      "source": [
        "import pandas as pd\n",
        "import numpy as np\n",
        "import seaborn as sns\n",
        "import matplotlib.pyplot as plt\n",
        "import warnings\n",
        "warnings.filterwarnings(action='ignore')"
      ]
    },
    {
      "cell_type": "code",
      "execution_count": 4,
      "metadata": {
        "id": "znQit70ZRVoA"
      },
      "outputs": [],
      "source": [
        "data = pd.read_csv(\"/content/drive/MyDrive/ToBigs/Regression/assignment3_creditcard.csv\")"
      ]
    },
    {
      "cell_type": "code",
      "execution_count": 5,
      "metadata": {
        "colab": {
          "base_uri": "https://localhost:8080/",
          "height": 300
        },
        "id": "v98OeXW5RVoB",
        "outputId": "467b7f93-ad55-4884-8006-f6cdddaf4db6"
      },
      "outputs": [
        {
          "output_type": "execute_result",
          "data": {
            "text/plain": [
              "         V1        V2        V3        V4        V5        V6        V7  \\\n",
              "0 -1.848212  2.384900  0.379573  1.048381 -0.845070  2.537837 -4.542983   \n",
              "1  2.071805 -0.477943 -1.444444 -0.548657  0.010036 -0.582242 -0.042878   \n",
              "2 -2.985294 -2.747472  1.194068 -0.003036 -1.151041 -0.263559  0.553500   \n",
              "3 -1.479452  1.542874  0.290895  0.838142 -0.529290 -0.717661  0.484516   \n",
              "4 -0.281976 -0.309699 -2.162299 -0.851514  0.106167 -1.483888  1.930994   \n",
              "\n",
              "          V8        V9       V10  ...       V20       V21       V22       V23  \\\n",
              "0 -10.201458 -1.504967 -2.234167  ...  2.585817 -5.291690  0.859364  0.423231   \n",
              "1  -0.247160  1.171923 -0.342382  ... -0.077306  0.042858  0.390125  0.041569   \n",
              "2   0.635600  0.438545 -1.806488  ...  1.345776  0.373760 -0.385777  1.197596   \n",
              "3   0.545092 -0.780767  0.324804  ...  0.038397  0.116771  0.405560 -0.116453   \n",
              "4  -0.843049 -1.249272  1.079608  ... -0.875516 -0.004199  1.015108 -0.026748   \n",
              "\n",
              "        V24       V25       V26       V27       V28  Class  \n",
              "0 -0.506985  1.020052 -0.627751 -0.017753  0.280982      0  \n",
              "1  0.598427  0.098803  0.979686 -0.093244 -0.065615      0  \n",
              "2  0.407229  0.008013  0.762362 -0.299024 -0.303929      0  \n",
              "3  0.541275 -0.216665 -0.415578  0.027126 -0.150347      0  \n",
              "4  0.077115 -1.468822  0.751700  0.496732  0.331001      0  \n",
              "\n",
              "[5 rows x 29 columns]"
            ],
            "text/html": [
              "\n",
              "  <div id=\"df-6e911445-dfed-4678-a3a6-28bb81e9eb4f\">\n",
              "    <div class=\"colab-df-container\">\n",
              "      <div>\n",
              "<style scoped>\n",
              "    .dataframe tbody tr th:only-of-type {\n",
              "        vertical-align: middle;\n",
              "    }\n",
              "\n",
              "    .dataframe tbody tr th {\n",
              "        vertical-align: top;\n",
              "    }\n",
              "\n",
              "    .dataframe thead th {\n",
              "        text-align: right;\n",
              "    }\n",
              "</style>\n",
              "<table border=\"1\" class=\"dataframe\">\n",
              "  <thead>\n",
              "    <tr style=\"text-align: right;\">\n",
              "      <th></th>\n",
              "      <th>V1</th>\n",
              "      <th>V2</th>\n",
              "      <th>V3</th>\n",
              "      <th>V4</th>\n",
              "      <th>V5</th>\n",
              "      <th>V6</th>\n",
              "      <th>V7</th>\n",
              "      <th>V8</th>\n",
              "      <th>V9</th>\n",
              "      <th>V10</th>\n",
              "      <th>...</th>\n",
              "      <th>V20</th>\n",
              "      <th>V21</th>\n",
              "      <th>V22</th>\n",
              "      <th>V23</th>\n",
              "      <th>V24</th>\n",
              "      <th>V25</th>\n",
              "      <th>V26</th>\n",
              "      <th>V27</th>\n",
              "      <th>V28</th>\n",
              "      <th>Class</th>\n",
              "    </tr>\n",
              "  </thead>\n",
              "  <tbody>\n",
              "    <tr>\n",
              "      <th>0</th>\n",
              "      <td>-1.848212</td>\n",
              "      <td>2.384900</td>\n",
              "      <td>0.379573</td>\n",
              "      <td>1.048381</td>\n",
              "      <td>-0.845070</td>\n",
              "      <td>2.537837</td>\n",
              "      <td>-4.542983</td>\n",
              "      <td>-10.201458</td>\n",
              "      <td>-1.504967</td>\n",
              "      <td>-2.234167</td>\n",
              "      <td>...</td>\n",
              "      <td>2.585817</td>\n",
              "      <td>-5.291690</td>\n",
              "      <td>0.859364</td>\n",
              "      <td>0.423231</td>\n",
              "      <td>-0.506985</td>\n",
              "      <td>1.020052</td>\n",
              "      <td>-0.627751</td>\n",
              "      <td>-0.017753</td>\n",
              "      <td>0.280982</td>\n",
              "      <td>0</td>\n",
              "    </tr>\n",
              "    <tr>\n",
              "      <th>1</th>\n",
              "      <td>2.071805</td>\n",
              "      <td>-0.477943</td>\n",
              "      <td>-1.444444</td>\n",
              "      <td>-0.548657</td>\n",
              "      <td>0.010036</td>\n",
              "      <td>-0.582242</td>\n",
              "      <td>-0.042878</td>\n",
              "      <td>-0.247160</td>\n",
              "      <td>1.171923</td>\n",
              "      <td>-0.342382</td>\n",
              "      <td>...</td>\n",
              "      <td>-0.077306</td>\n",
              "      <td>0.042858</td>\n",
              "      <td>0.390125</td>\n",
              "      <td>0.041569</td>\n",
              "      <td>0.598427</td>\n",
              "      <td>0.098803</td>\n",
              "      <td>0.979686</td>\n",
              "      <td>-0.093244</td>\n",
              "      <td>-0.065615</td>\n",
              "      <td>0</td>\n",
              "    </tr>\n",
              "    <tr>\n",
              "      <th>2</th>\n",
              "      <td>-2.985294</td>\n",
              "      <td>-2.747472</td>\n",
              "      <td>1.194068</td>\n",
              "      <td>-0.003036</td>\n",
              "      <td>-1.151041</td>\n",
              "      <td>-0.263559</td>\n",
              "      <td>0.553500</td>\n",
              "      <td>0.635600</td>\n",
              "      <td>0.438545</td>\n",
              "      <td>-1.806488</td>\n",
              "      <td>...</td>\n",
              "      <td>1.345776</td>\n",
              "      <td>0.373760</td>\n",
              "      <td>-0.385777</td>\n",
              "      <td>1.197596</td>\n",
              "      <td>0.407229</td>\n",
              "      <td>0.008013</td>\n",
              "      <td>0.762362</td>\n",
              "      <td>-0.299024</td>\n",
              "      <td>-0.303929</td>\n",
              "      <td>0</td>\n",
              "    </tr>\n",
              "    <tr>\n",
              "      <th>3</th>\n",
              "      <td>-1.479452</td>\n",
              "      <td>1.542874</td>\n",
              "      <td>0.290895</td>\n",
              "      <td>0.838142</td>\n",
              "      <td>-0.529290</td>\n",
              "      <td>-0.717661</td>\n",
              "      <td>0.484516</td>\n",
              "      <td>0.545092</td>\n",
              "      <td>-0.780767</td>\n",
              "      <td>0.324804</td>\n",
              "      <td>...</td>\n",
              "      <td>0.038397</td>\n",
              "      <td>0.116771</td>\n",
              "      <td>0.405560</td>\n",
              "      <td>-0.116453</td>\n",
              "      <td>0.541275</td>\n",
              "      <td>-0.216665</td>\n",
              "      <td>-0.415578</td>\n",
              "      <td>0.027126</td>\n",
              "      <td>-0.150347</td>\n",
              "      <td>0</td>\n",
              "    </tr>\n",
              "    <tr>\n",
              "      <th>4</th>\n",
              "      <td>-0.281976</td>\n",
              "      <td>-0.309699</td>\n",
              "      <td>-2.162299</td>\n",
              "      <td>-0.851514</td>\n",
              "      <td>0.106167</td>\n",
              "      <td>-1.483888</td>\n",
              "      <td>1.930994</td>\n",
              "      <td>-0.843049</td>\n",
              "      <td>-1.249272</td>\n",
              "      <td>1.079608</td>\n",
              "      <td>...</td>\n",
              "      <td>-0.875516</td>\n",
              "      <td>-0.004199</td>\n",
              "      <td>1.015108</td>\n",
              "      <td>-0.026748</td>\n",
              "      <td>0.077115</td>\n",
              "      <td>-1.468822</td>\n",
              "      <td>0.751700</td>\n",
              "      <td>0.496732</td>\n",
              "      <td>0.331001</td>\n",
              "      <td>0</td>\n",
              "    </tr>\n",
              "  </tbody>\n",
              "</table>\n",
              "<p>5 rows × 29 columns</p>\n",
              "</div>\n",
              "      <button class=\"colab-df-convert\" onclick=\"convertToInteractive('df-6e911445-dfed-4678-a3a6-28bb81e9eb4f')\"\n",
              "              title=\"Convert this dataframe to an interactive table.\"\n",
              "              style=\"display:none;\">\n",
              "        \n",
              "  <svg xmlns=\"http://www.w3.org/2000/svg\" height=\"24px\"viewBox=\"0 0 24 24\"\n",
              "       width=\"24px\">\n",
              "    <path d=\"M0 0h24v24H0V0z\" fill=\"none\"/>\n",
              "    <path d=\"M18.56 5.44l.94 2.06.94-2.06 2.06-.94-2.06-.94-.94-2.06-.94 2.06-2.06.94zm-11 1L8.5 8.5l.94-2.06 2.06-.94-2.06-.94L8.5 2.5l-.94 2.06-2.06.94zm10 10l.94 2.06.94-2.06 2.06-.94-2.06-.94-.94-2.06-.94 2.06-2.06.94z\"/><path d=\"M17.41 7.96l-1.37-1.37c-.4-.4-.92-.59-1.43-.59-.52 0-1.04.2-1.43.59L10.3 9.45l-7.72 7.72c-.78.78-.78 2.05 0 2.83L4 21.41c.39.39.9.59 1.41.59.51 0 1.02-.2 1.41-.59l7.78-7.78 2.81-2.81c.8-.78.8-2.07 0-2.86zM5.41 20L4 18.59l7.72-7.72 1.47 1.35L5.41 20z\"/>\n",
              "  </svg>\n",
              "      </button>\n",
              "      \n",
              "  <style>\n",
              "    .colab-df-container {\n",
              "      display:flex;\n",
              "      flex-wrap:wrap;\n",
              "      gap: 12px;\n",
              "    }\n",
              "\n",
              "    .colab-df-convert {\n",
              "      background-color: #E8F0FE;\n",
              "      border: none;\n",
              "      border-radius: 50%;\n",
              "      cursor: pointer;\n",
              "      display: none;\n",
              "      fill: #1967D2;\n",
              "      height: 32px;\n",
              "      padding: 0 0 0 0;\n",
              "      width: 32px;\n",
              "    }\n",
              "\n",
              "    .colab-df-convert:hover {\n",
              "      background-color: #E2EBFA;\n",
              "      box-shadow: 0px 1px 2px rgba(60, 64, 67, 0.3), 0px 1px 3px 1px rgba(60, 64, 67, 0.15);\n",
              "      fill: #174EA6;\n",
              "    }\n",
              "\n",
              "    [theme=dark] .colab-df-convert {\n",
              "      background-color: #3B4455;\n",
              "      fill: #D2E3FC;\n",
              "    }\n",
              "\n",
              "    [theme=dark] .colab-df-convert:hover {\n",
              "      background-color: #434B5C;\n",
              "      box-shadow: 0px 1px 3px 1px rgba(0, 0, 0, 0.15);\n",
              "      filter: drop-shadow(0px 1px 2px rgba(0, 0, 0, 0.3));\n",
              "      fill: #FFFFFF;\n",
              "    }\n",
              "  </style>\n",
              "\n",
              "      <script>\n",
              "        const buttonEl =\n",
              "          document.querySelector('#df-6e911445-dfed-4678-a3a6-28bb81e9eb4f button.colab-df-convert');\n",
              "        buttonEl.style.display =\n",
              "          google.colab.kernel.accessAllowed ? 'block' : 'none';\n",
              "\n",
              "        async function convertToInteractive(key) {\n",
              "          const element = document.querySelector('#df-6e911445-dfed-4678-a3a6-28bb81e9eb4f');\n",
              "          const dataTable =\n",
              "            await google.colab.kernel.invokeFunction('convertToInteractive',\n",
              "                                                     [key], {});\n",
              "          if (!dataTable) return;\n",
              "\n",
              "          const docLinkHtml = 'Like what you see? Visit the ' +\n",
              "            '<a target=\"_blank\" href=https://colab.research.google.com/notebooks/data_table.ipynb>data table notebook</a>'\n",
              "            + ' to learn more about interactive tables.';\n",
              "          element.innerHTML = '';\n",
              "          dataTable['output_type'] = 'display_data';\n",
              "          await google.colab.output.renderOutput(dataTable, element);\n",
              "          const docLink = document.createElement('div');\n",
              "          docLink.innerHTML = docLinkHtml;\n",
              "          element.appendChild(docLink);\n",
              "        }\n",
              "      </script>\n",
              "    </div>\n",
              "  </div>\n",
              "  "
            ]
          },
          "metadata": {},
          "execution_count": 5
        }
      ],
      "source": [
        "data.head()"
      ]
    },
    {
      "cell_type": "markdown",
      "source": [
        "## Data preprocessing\n"
      ],
      "metadata": {
        "id": "GJHjnRdB6fAW"
      }
    },
    {
      "cell_type": "markdown",
      "source": [
        "### Scaling data"
      ],
      "metadata": {
        "id": "JhGuZ8Mq8dHD"
      }
    },
    {
      "cell_type": "code",
      "source": [
        "from sklearn.preprocessing import StandardScaler"
      ],
      "metadata": {
        "id": "tiztllGT6SWd"
      },
      "execution_count": 6,
      "outputs": []
    },
    {
      "cell_type": "code",
      "source": [
        "scaler = StandardScaler() # Scaling\n",
        "scaler.fit_transform(data)"
      ],
      "metadata": {
        "colab": {
          "base_uri": "https://localhost:8080/"
        },
        "id": "xbT4ofVE6lpD",
        "outputId": "c7a28b55-76ce-40e1-c700-69229bedb2a9"
      },
      "execution_count": 7,
      "outputs": [
        {
          "output_type": "execute_result",
          "data": {
            "text/plain": [
              "array([[-0.90218019,  1.44246214,  0.24207645, ..., -0.04709654,\n",
              "         0.9417547 , -0.09301733],\n",
              "       [ 1.02744235, -0.32892601, -0.7953942 , ..., -0.23721911,\n",
              "        -0.22629752, -0.09301733],\n",
              "       [-1.46190736, -1.73320058,  0.7053479 , ..., -0.7554671 ,\n",
              "        -1.02943014, -0.09301733],\n",
              "       ...,\n",
              "       [ 1.02786291,  0.0843943 , -0.9747001 , ..., -0.15087861,\n",
              "        -0.1030219 , -0.09301733],\n",
              "       [-0.33236542,  0.79733419,  0.8782926 , ..., -2.140772  ,\n",
              "        -1.05999649, -0.09301733],\n",
              "       [ 1.09831537, -0.52987507, -0.90637085, ..., -0.13776702,\n",
              "        -0.2565925 , -0.09301733]])"
            ]
          },
          "metadata": {},
          "execution_count": 7
        }
      ]
    },
    {
      "cell_type": "code",
      "source": [
        "s_features = pd.DataFrame(scaler.fit_transform(features), columns= features.columns)"
      ],
      "metadata": {
        "id": "FIDPRKSS9IQn"
      },
      "execution_count": 27,
      "outputs": []
    },
    {
      "cell_type": "code",
      "source": [
        "s_features.describe()"
      ],
      "metadata": {
        "colab": {
          "base_uri": "https://localhost:8080/",
          "height": 428
        },
        "id": "65deEXuo9Kbj",
        "outputId": "1dfa9794-6fc1-4530-aff8-8e079222a5d2"
      },
      "execution_count": 28,
      "outputs": [
        {
          "output_type": "execute_result",
          "data": {
            "text/plain": [
              "                 V1            V2            V3            V4            V5  \\\n",
              "count  2.867800e+04  2.867800e+04  2.867800e+04  2.867800e+04  2.867800e+04   \n",
              "mean  -1.635254e-17 -1.263606e-17  2.527211e-17 -1.263606e-17  1.015840e-17   \n",
              "std    1.000017e+00  1.000017e+00  1.000017e+00  1.000017e+00  1.000017e+00   \n",
              "min   -1.503177e+01 -2.612761e+01 -1.766508e+01 -3.776757e+00 -2.832210e+01   \n",
              "25%   -4.437564e-01 -3.892156e-01 -4.856507e-01 -5.942105e-01 -4.580970e-01   \n",
              "50%    1.746923e-02  1.342993e-02  1.289095e-01 -3.116696e-02 -1.769798e-02   \n",
              "75%    6.561176e-01  4.661079e-01  6.119879e-01  4.956607e-01  4.351471e-01   \n",
              "max    1.188742e+00  1.324966e+01  2.341054e+00  8.022605e+00  2.215588e+01   \n",
              "\n",
              "                 V6            V7            V8            V9           V10  \\\n",
              "count  2.867800e+04  2.867800e+04  2.867800e+04  2.867800e+04  2.867800e+04   \n",
              "mean   2.477658e-19  4.707550e-18  4.955316e-19 -6.503852e-18 -9.910632e-19   \n",
              "std    1.000017e+00  1.000017e+00  1.000017e+00  1.000017e+00  1.000017e+00   \n",
              "min   -1.637204e+01 -2.849580e+01 -2.878613e+01 -1.182981e+01 -1.944962e+01   \n",
              "25%   -5.678302e-01 -3.554381e-01 -1.555117e-01 -5.673308e-01 -4.010154e-01   \n",
              "50%   -2.001620e-01  5.991243e-02  1.201993e-02 -3.224254e-02 -4.490062e-02   \n",
              "75%    2.991023e-01  4.196195e-01  2.371456e-01  5.504490e-01  4.006397e-01   \n",
              "max    1.682497e+01  2.524627e+01  1.466017e+01  7.170510e+00  1.219665e+01   \n",
              "\n",
              "       ...           V19           V20           V21           V22  \\\n",
              "count  ...  2.867800e+04  2.867800e+04  2.867800e+04  2.867800e+04   \n",
              "mean   ... -5.946379e-18  4.955316e-18  1.982126e-18 -1.288382e-17   \n",
              "std    ...  1.000017e+00  1.000017e+00  1.000017e+00  1.000017e+00   \n",
              "min    ... -5.591230e+00 -2.969587e+01 -2.533713e+01 -1.201742e+01   \n",
              "25%    ... -5.635158e-01 -2.947559e-01 -2.783608e-01 -7.283577e-01   \n",
              "50%    ... -6.129726e-03 -9.083206e-02 -4.611644e-02  1.076176e-02   \n",
              "75%    ...  5.566773e-01  1.784910e-01  2.054238e-01  7.127044e-01   \n",
              "max    ...  6.310274e+00  3.642229e+01  3.209935e+01  1.130917e+01   \n",
              "\n",
              "                V23           V24           V25           V26           V27  \\\n",
              "count  2.867800e+04  2.867800e+04  2.867800e+04  2.867800e+04  2.867800e+04   \n",
              "mean  -3.716487e-18  3.468721e-18  1.982126e-18  8.424037e-18  1.486595e-18   \n",
              "std    1.000017e+00  1.000017e+00  1.000017e+00  1.000017e+00  1.000017e+00   \n",
              "min   -6.175535e+01 -4.503490e+00 -1.295591e+01 -4.631360e+00 -1.868655e+01   \n",
              "25%   -2.624144e-01 -5.886414e-01 -6.113030e-01 -6.749650e-01 -1.800852e-01   \n",
              "50%   -1.077972e-02  6.779550e-02  4.200870e-02 -1.146949e-01  2.773428e-03   \n",
              "75%    2.554264e-01  7.260327e-01  6.848133e-01  4.990833e-01  2.283979e-01   \n",
              "max    1.624181e+01  6.545184e+00  4.850554e+00  6.455620e+00  2.804256e+01   \n",
              "\n",
              "                V28  \n",
              "count  2.867800e+04  \n",
              "mean  -2.973189e-18  \n",
              "std    1.000017e+00  \n",
              "min   -3.241807e+01  \n",
              "25%   -1.810515e-01  \n",
              "50%    3.215157e-02  \n",
              "75%    2.607619e-01  \n",
              "max    5.030682e+01  \n",
              "\n",
              "[8 rows x 28 columns]"
            ],
            "text/html": [
              "\n",
              "  <div id=\"df-a1761695-2a98-45f8-b50b-a435a03b072c\">\n",
              "    <div class=\"colab-df-container\">\n",
              "      <div>\n",
              "<style scoped>\n",
              "    .dataframe tbody tr th:only-of-type {\n",
              "        vertical-align: middle;\n",
              "    }\n",
              "\n",
              "    .dataframe tbody tr th {\n",
              "        vertical-align: top;\n",
              "    }\n",
              "\n",
              "    .dataframe thead th {\n",
              "        text-align: right;\n",
              "    }\n",
              "</style>\n",
              "<table border=\"1\" class=\"dataframe\">\n",
              "  <thead>\n",
              "    <tr style=\"text-align: right;\">\n",
              "      <th></th>\n",
              "      <th>V1</th>\n",
              "      <th>V2</th>\n",
              "      <th>V3</th>\n",
              "      <th>V4</th>\n",
              "      <th>V5</th>\n",
              "      <th>V6</th>\n",
              "      <th>V7</th>\n",
              "      <th>V8</th>\n",
              "      <th>V9</th>\n",
              "      <th>V10</th>\n",
              "      <th>...</th>\n",
              "      <th>V19</th>\n",
              "      <th>V20</th>\n",
              "      <th>V21</th>\n",
              "      <th>V22</th>\n",
              "      <th>V23</th>\n",
              "      <th>V24</th>\n",
              "      <th>V25</th>\n",
              "      <th>V26</th>\n",
              "      <th>V27</th>\n",
              "      <th>V28</th>\n",
              "    </tr>\n",
              "  </thead>\n",
              "  <tbody>\n",
              "    <tr>\n",
              "      <th>count</th>\n",
              "      <td>2.867800e+04</td>\n",
              "      <td>2.867800e+04</td>\n",
              "      <td>2.867800e+04</td>\n",
              "      <td>2.867800e+04</td>\n",
              "      <td>2.867800e+04</td>\n",
              "      <td>2.867800e+04</td>\n",
              "      <td>2.867800e+04</td>\n",
              "      <td>2.867800e+04</td>\n",
              "      <td>2.867800e+04</td>\n",
              "      <td>2.867800e+04</td>\n",
              "      <td>...</td>\n",
              "      <td>2.867800e+04</td>\n",
              "      <td>2.867800e+04</td>\n",
              "      <td>2.867800e+04</td>\n",
              "      <td>2.867800e+04</td>\n",
              "      <td>2.867800e+04</td>\n",
              "      <td>2.867800e+04</td>\n",
              "      <td>2.867800e+04</td>\n",
              "      <td>2.867800e+04</td>\n",
              "      <td>2.867800e+04</td>\n",
              "      <td>2.867800e+04</td>\n",
              "    </tr>\n",
              "    <tr>\n",
              "      <th>mean</th>\n",
              "      <td>-1.635254e-17</td>\n",
              "      <td>-1.263606e-17</td>\n",
              "      <td>2.527211e-17</td>\n",
              "      <td>-1.263606e-17</td>\n",
              "      <td>1.015840e-17</td>\n",
              "      <td>2.477658e-19</td>\n",
              "      <td>4.707550e-18</td>\n",
              "      <td>4.955316e-19</td>\n",
              "      <td>-6.503852e-18</td>\n",
              "      <td>-9.910632e-19</td>\n",
              "      <td>...</td>\n",
              "      <td>-5.946379e-18</td>\n",
              "      <td>4.955316e-18</td>\n",
              "      <td>1.982126e-18</td>\n",
              "      <td>-1.288382e-17</td>\n",
              "      <td>-3.716487e-18</td>\n",
              "      <td>3.468721e-18</td>\n",
              "      <td>1.982126e-18</td>\n",
              "      <td>8.424037e-18</td>\n",
              "      <td>1.486595e-18</td>\n",
              "      <td>-2.973189e-18</td>\n",
              "    </tr>\n",
              "    <tr>\n",
              "      <th>std</th>\n",
              "      <td>1.000017e+00</td>\n",
              "      <td>1.000017e+00</td>\n",
              "      <td>1.000017e+00</td>\n",
              "      <td>1.000017e+00</td>\n",
              "      <td>1.000017e+00</td>\n",
              "      <td>1.000017e+00</td>\n",
              "      <td>1.000017e+00</td>\n",
              "      <td>1.000017e+00</td>\n",
              "      <td>1.000017e+00</td>\n",
              "      <td>1.000017e+00</td>\n",
              "      <td>...</td>\n",
              "      <td>1.000017e+00</td>\n",
              "      <td>1.000017e+00</td>\n",
              "      <td>1.000017e+00</td>\n",
              "      <td>1.000017e+00</td>\n",
              "      <td>1.000017e+00</td>\n",
              "      <td>1.000017e+00</td>\n",
              "      <td>1.000017e+00</td>\n",
              "      <td>1.000017e+00</td>\n",
              "      <td>1.000017e+00</td>\n",
              "      <td>1.000017e+00</td>\n",
              "    </tr>\n",
              "    <tr>\n",
              "      <th>min</th>\n",
              "      <td>-1.503177e+01</td>\n",
              "      <td>-2.612761e+01</td>\n",
              "      <td>-1.766508e+01</td>\n",
              "      <td>-3.776757e+00</td>\n",
              "      <td>-2.832210e+01</td>\n",
              "      <td>-1.637204e+01</td>\n",
              "      <td>-2.849580e+01</td>\n",
              "      <td>-2.878613e+01</td>\n",
              "      <td>-1.182981e+01</td>\n",
              "      <td>-1.944962e+01</td>\n",
              "      <td>...</td>\n",
              "      <td>-5.591230e+00</td>\n",
              "      <td>-2.969587e+01</td>\n",
              "      <td>-2.533713e+01</td>\n",
              "      <td>-1.201742e+01</td>\n",
              "      <td>-6.175535e+01</td>\n",
              "      <td>-4.503490e+00</td>\n",
              "      <td>-1.295591e+01</td>\n",
              "      <td>-4.631360e+00</td>\n",
              "      <td>-1.868655e+01</td>\n",
              "      <td>-3.241807e+01</td>\n",
              "    </tr>\n",
              "    <tr>\n",
              "      <th>25%</th>\n",
              "      <td>-4.437564e-01</td>\n",
              "      <td>-3.892156e-01</td>\n",
              "      <td>-4.856507e-01</td>\n",
              "      <td>-5.942105e-01</td>\n",
              "      <td>-4.580970e-01</td>\n",
              "      <td>-5.678302e-01</td>\n",
              "      <td>-3.554381e-01</td>\n",
              "      <td>-1.555117e-01</td>\n",
              "      <td>-5.673308e-01</td>\n",
              "      <td>-4.010154e-01</td>\n",
              "      <td>...</td>\n",
              "      <td>-5.635158e-01</td>\n",
              "      <td>-2.947559e-01</td>\n",
              "      <td>-2.783608e-01</td>\n",
              "      <td>-7.283577e-01</td>\n",
              "      <td>-2.624144e-01</td>\n",
              "      <td>-5.886414e-01</td>\n",
              "      <td>-6.113030e-01</td>\n",
              "      <td>-6.749650e-01</td>\n",
              "      <td>-1.800852e-01</td>\n",
              "      <td>-1.810515e-01</td>\n",
              "    </tr>\n",
              "    <tr>\n",
              "      <th>50%</th>\n",
              "      <td>1.746923e-02</td>\n",
              "      <td>1.342993e-02</td>\n",
              "      <td>1.289095e-01</td>\n",
              "      <td>-3.116696e-02</td>\n",
              "      <td>-1.769798e-02</td>\n",
              "      <td>-2.001620e-01</td>\n",
              "      <td>5.991243e-02</td>\n",
              "      <td>1.201993e-02</td>\n",
              "      <td>-3.224254e-02</td>\n",
              "      <td>-4.490062e-02</td>\n",
              "      <td>...</td>\n",
              "      <td>-6.129726e-03</td>\n",
              "      <td>-9.083206e-02</td>\n",
              "      <td>-4.611644e-02</td>\n",
              "      <td>1.076176e-02</td>\n",
              "      <td>-1.077972e-02</td>\n",
              "      <td>6.779550e-02</td>\n",
              "      <td>4.200870e-02</td>\n",
              "      <td>-1.146949e-01</td>\n",
              "      <td>2.773428e-03</td>\n",
              "      <td>3.215157e-02</td>\n",
              "    </tr>\n",
              "    <tr>\n",
              "      <th>75%</th>\n",
              "      <td>6.561176e-01</td>\n",
              "      <td>4.661079e-01</td>\n",
              "      <td>6.119879e-01</td>\n",
              "      <td>4.956607e-01</td>\n",
              "      <td>4.351471e-01</td>\n",
              "      <td>2.991023e-01</td>\n",
              "      <td>4.196195e-01</td>\n",
              "      <td>2.371456e-01</td>\n",
              "      <td>5.504490e-01</td>\n",
              "      <td>4.006397e-01</td>\n",
              "      <td>...</td>\n",
              "      <td>5.566773e-01</td>\n",
              "      <td>1.784910e-01</td>\n",
              "      <td>2.054238e-01</td>\n",
              "      <td>7.127044e-01</td>\n",
              "      <td>2.554264e-01</td>\n",
              "      <td>7.260327e-01</td>\n",
              "      <td>6.848133e-01</td>\n",
              "      <td>4.990833e-01</td>\n",
              "      <td>2.283979e-01</td>\n",
              "      <td>2.607619e-01</td>\n",
              "    </tr>\n",
              "    <tr>\n",
              "      <th>max</th>\n",
              "      <td>1.188742e+00</td>\n",
              "      <td>1.324966e+01</td>\n",
              "      <td>2.341054e+00</td>\n",
              "      <td>8.022605e+00</td>\n",
              "      <td>2.215588e+01</td>\n",
              "      <td>1.682497e+01</td>\n",
              "      <td>2.524627e+01</td>\n",
              "      <td>1.466017e+01</td>\n",
              "      <td>7.170510e+00</td>\n",
              "      <td>1.219665e+01</td>\n",
              "      <td>...</td>\n",
              "      <td>6.310274e+00</td>\n",
              "      <td>3.642229e+01</td>\n",
              "      <td>3.209935e+01</td>\n",
              "      <td>1.130917e+01</td>\n",
              "      <td>1.624181e+01</td>\n",
              "      <td>6.545184e+00</td>\n",
              "      <td>4.850554e+00</td>\n",
              "      <td>6.455620e+00</td>\n",
              "      <td>2.804256e+01</td>\n",
              "      <td>5.030682e+01</td>\n",
              "    </tr>\n",
              "  </tbody>\n",
              "</table>\n",
              "<p>8 rows × 28 columns</p>\n",
              "</div>\n",
              "      <button class=\"colab-df-convert\" onclick=\"convertToInteractive('df-a1761695-2a98-45f8-b50b-a435a03b072c')\"\n",
              "              title=\"Convert this dataframe to an interactive table.\"\n",
              "              style=\"display:none;\">\n",
              "        \n",
              "  <svg xmlns=\"http://www.w3.org/2000/svg\" height=\"24px\"viewBox=\"0 0 24 24\"\n",
              "       width=\"24px\">\n",
              "    <path d=\"M0 0h24v24H0V0z\" fill=\"none\"/>\n",
              "    <path d=\"M18.56 5.44l.94 2.06.94-2.06 2.06-.94-2.06-.94-.94-2.06-.94 2.06-2.06.94zm-11 1L8.5 8.5l.94-2.06 2.06-.94-2.06-.94L8.5 2.5l-.94 2.06-2.06.94zm10 10l.94 2.06.94-2.06 2.06-.94-2.06-.94-.94-2.06-.94 2.06-2.06.94z\"/><path d=\"M17.41 7.96l-1.37-1.37c-.4-.4-.92-.59-1.43-.59-.52 0-1.04.2-1.43.59L10.3 9.45l-7.72 7.72c-.78.78-.78 2.05 0 2.83L4 21.41c.39.39.9.59 1.41.59.51 0 1.02-.2 1.41-.59l7.78-7.78 2.81-2.81c.8-.78.8-2.07 0-2.86zM5.41 20L4 18.59l7.72-7.72 1.47 1.35L5.41 20z\"/>\n",
              "  </svg>\n",
              "      </button>\n",
              "      \n",
              "  <style>\n",
              "    .colab-df-container {\n",
              "      display:flex;\n",
              "      flex-wrap:wrap;\n",
              "      gap: 12px;\n",
              "    }\n",
              "\n",
              "    .colab-df-convert {\n",
              "      background-color: #E8F0FE;\n",
              "      border: none;\n",
              "      border-radius: 50%;\n",
              "      cursor: pointer;\n",
              "      display: none;\n",
              "      fill: #1967D2;\n",
              "      height: 32px;\n",
              "      padding: 0 0 0 0;\n",
              "      width: 32px;\n",
              "    }\n",
              "\n",
              "    .colab-df-convert:hover {\n",
              "      background-color: #E2EBFA;\n",
              "      box-shadow: 0px 1px 2px rgba(60, 64, 67, 0.3), 0px 1px 3px 1px rgba(60, 64, 67, 0.15);\n",
              "      fill: #174EA6;\n",
              "    }\n",
              "\n",
              "    [theme=dark] .colab-df-convert {\n",
              "      background-color: #3B4455;\n",
              "      fill: #D2E3FC;\n",
              "    }\n",
              "\n",
              "    [theme=dark] .colab-df-convert:hover {\n",
              "      background-color: #434B5C;\n",
              "      box-shadow: 0px 1px 3px 1px rgba(0, 0, 0, 0.15);\n",
              "      filter: drop-shadow(0px 1px 2px rgba(0, 0, 0, 0.3));\n",
              "      fill: #FFFFFF;\n",
              "    }\n",
              "  </style>\n",
              "\n",
              "      <script>\n",
              "        const buttonEl =\n",
              "          document.querySelector('#df-a1761695-2a98-45f8-b50b-a435a03b072c button.colab-df-convert');\n",
              "        buttonEl.style.display =\n",
              "          google.colab.kernel.accessAllowed ? 'block' : 'none';\n",
              "\n",
              "        async function convertToInteractive(key) {\n",
              "          const element = document.querySelector('#df-a1761695-2a98-45f8-b50b-a435a03b072c');\n",
              "          const dataTable =\n",
              "            await google.colab.kernel.invokeFunction('convertToInteractive',\n",
              "                                                     [key], {});\n",
              "          if (!dataTable) return;\n",
              "\n",
              "          const docLinkHtml = 'Like what you see? Visit the ' +\n",
              "            '<a target=\"_blank\" href=https://colab.research.google.com/notebooks/data_table.ipynb>data table notebook</a>'\n",
              "            + ' to learn more about interactive tables.';\n",
              "          element.innerHTML = '';\n",
              "          dataTable['output_type'] = 'display_data';\n",
              "          await google.colab.output.renderOutput(dataTable, element);\n",
              "          const docLink = document.createElement('div');\n",
              "          docLink.innerHTML = docLinkHtml;\n",
              "          element.appendChild(docLink);\n",
              "        }\n",
              "      </script>\n",
              "    </div>\n",
              "  </div>\n",
              "  "
            ]
          },
          "metadata": {},
          "execution_count": 28
        }
      ]
    },
    {
      "cell_type": "markdown",
      "source": [
        "### Set target data"
      ],
      "metadata": {
        "id": "3ngFMcMU8W8Y"
      }
    },
    {
      "cell_type": "code",
      "source": [
        "data[\"Class\"] = pd.Series(data[\"Class\"], dtype = \"category\")"
      ],
      "metadata": {
        "id": "XaLvFU4Y7CeL"
      },
      "execution_count": 13,
      "outputs": []
    },
    {
      "cell_type": "code",
      "source": [
        "features = data.iloc[:, :-1]\n",
        "target = data.iloc[:, -1]"
      ],
      "metadata": {
        "id": "CT2YGhiZ6mzY"
      },
      "execution_count": 15,
      "outputs": []
    },
    {
      "cell_type": "code",
      "source": [
        "data.describe()"
      ],
      "metadata": {
        "colab": {
          "base_uri": "https://localhost:8080/",
          "height": 394
        },
        "id": "iUMYb5JF6tqe",
        "outputId": "66f91d9b-ee00-486d-a675-be1960f695f5"
      },
      "execution_count": 16,
      "outputs": [
        {
          "output_type": "execute_result",
          "data": {
            "text/plain": [
              "                 V1            V2            V3            V4            V5  \\\n",
              "count  28678.000000  28678.000000  28678.000000  28678.000000  28678.000000   \n",
              "mean      -0.015438      0.053653     -0.046031      0.037348     -0.033724   \n",
              "std        2.031529      1.616186      1.758169      1.482109      1.486998   \n",
              "min      -30.552380    -42.172688    -31.103685     -5.560118    -42.147898   \n",
              "25%       -0.916927     -0.575381     -0.899872     -0.843321     -0.714901   \n",
              "50%        0.020050      0.075358      0.180610     -0.008844     -0.060040   \n",
              "75%        1.317461      0.806957      1.029928      0.771958      0.613328   \n",
              "max        2.399484     21.467203      4.069865     11.927512     32.911462   \n",
              "\n",
              "                 V6            V7            V8            V9           V10  \\\n",
              "count  28678.000000  28678.000000  28678.000000  28678.000000  28678.000000   \n",
              "mean      -0.003299     -0.051054      0.006064     -0.018530     -0.041149   \n",
              "std        1.339259      1.454827      1.364342      1.134065      1.252593   \n",
              "min      -21.929312    -41.506796    -39.267378    -13.434066    -24.403185   \n",
              "25%       -0.763757     -0.568146     -0.206103     -0.661909     -0.543450   \n",
              "50%       -0.271363      0.036107      0.022463     -0.055095     -0.097390   \n",
              "75%        0.397269      0.559409      0.329606      0.605704      0.460681   \n",
              "max       22.529298     36.677268     20.007208      8.113152     15.236028   \n",
              "\n",
              "       ...           V19           V20           V21           V22  \\\n",
              "count  ...  28678.000000  28678.000000  28678.000000  28678.000000   \n",
              "mean   ...      0.007183      0.002633      0.010289     -0.000656   \n",
              "std    ...      0.827420      0.720307      0.847152      0.739469   \n",
              "min    ...     -4.619034    -21.387122    -21.453736     -8.887017   \n",
              "25%    ...     -0.459073     -0.209678     -0.225520     -0.539244   \n",
              "50%    ...      0.002111     -0.062792     -0.028778      0.007302   \n",
              "75%    ...      0.467781      0.131199      0.184312      0.526358   \n",
              "max    ...      5.228342     26.237391     27.202839      8.361985   \n",
              "\n",
              "                V23           V24           V25           V26           V27  \\\n",
              "count  28678.000000  28678.000000  28678.000000  28678.000000  28678.000000   \n",
              "mean      -0.004800     -0.000897     -0.001989     -0.000765      0.000948   \n",
              "std        0.593663      0.603349      0.517968      0.483852      0.397075   \n",
              "min      -36.666000     -2.718024     -6.712624     -2.241620     -7.418878   \n",
              "25%       -0.160583     -0.356047     -0.318619     -0.327343     -0.070558   \n",
              "50%       -0.011199      0.040006      0.019770     -0.056260      0.002049   \n",
              "75%        0.146835      0.437146      0.352717      0.240713      0.091637   \n",
              "max        9.637187      3.948061      2.510401      3.122747     11.135740   \n",
              "\n",
              "                V28  \n",
              "count  28678.000000  \n",
              "mean       0.001535  \n",
              "std        0.296736  \n",
              "min       -9.617915  \n",
              "25%       -0.052189  \n",
              "50%        0.011075  \n",
              "75%        0.078911  \n",
              "max       14.929133  \n",
              "\n",
              "[8 rows x 28 columns]"
            ],
            "text/html": [
              "\n",
              "  <div id=\"df-e3075a62-b4be-46e3-be63-a9b846fd1c61\">\n",
              "    <div class=\"colab-df-container\">\n",
              "      <div>\n",
              "<style scoped>\n",
              "    .dataframe tbody tr th:only-of-type {\n",
              "        vertical-align: middle;\n",
              "    }\n",
              "\n",
              "    .dataframe tbody tr th {\n",
              "        vertical-align: top;\n",
              "    }\n",
              "\n",
              "    .dataframe thead th {\n",
              "        text-align: right;\n",
              "    }\n",
              "</style>\n",
              "<table border=\"1\" class=\"dataframe\">\n",
              "  <thead>\n",
              "    <tr style=\"text-align: right;\">\n",
              "      <th></th>\n",
              "      <th>V1</th>\n",
              "      <th>V2</th>\n",
              "      <th>V3</th>\n",
              "      <th>V4</th>\n",
              "      <th>V5</th>\n",
              "      <th>V6</th>\n",
              "      <th>V7</th>\n",
              "      <th>V8</th>\n",
              "      <th>V9</th>\n",
              "      <th>V10</th>\n",
              "      <th>...</th>\n",
              "      <th>V19</th>\n",
              "      <th>V20</th>\n",
              "      <th>V21</th>\n",
              "      <th>V22</th>\n",
              "      <th>V23</th>\n",
              "      <th>V24</th>\n",
              "      <th>V25</th>\n",
              "      <th>V26</th>\n",
              "      <th>V27</th>\n",
              "      <th>V28</th>\n",
              "    </tr>\n",
              "  </thead>\n",
              "  <tbody>\n",
              "    <tr>\n",
              "      <th>count</th>\n",
              "      <td>28678.000000</td>\n",
              "      <td>28678.000000</td>\n",
              "      <td>28678.000000</td>\n",
              "      <td>28678.000000</td>\n",
              "      <td>28678.000000</td>\n",
              "      <td>28678.000000</td>\n",
              "      <td>28678.000000</td>\n",
              "      <td>28678.000000</td>\n",
              "      <td>28678.000000</td>\n",
              "      <td>28678.000000</td>\n",
              "      <td>...</td>\n",
              "      <td>28678.000000</td>\n",
              "      <td>28678.000000</td>\n",
              "      <td>28678.000000</td>\n",
              "      <td>28678.000000</td>\n",
              "      <td>28678.000000</td>\n",
              "      <td>28678.000000</td>\n",
              "      <td>28678.000000</td>\n",
              "      <td>28678.000000</td>\n",
              "      <td>28678.000000</td>\n",
              "      <td>28678.000000</td>\n",
              "    </tr>\n",
              "    <tr>\n",
              "      <th>mean</th>\n",
              "      <td>-0.015438</td>\n",
              "      <td>0.053653</td>\n",
              "      <td>-0.046031</td>\n",
              "      <td>0.037348</td>\n",
              "      <td>-0.033724</td>\n",
              "      <td>-0.003299</td>\n",
              "      <td>-0.051054</td>\n",
              "      <td>0.006064</td>\n",
              "      <td>-0.018530</td>\n",
              "      <td>-0.041149</td>\n",
              "      <td>...</td>\n",
              "      <td>0.007183</td>\n",
              "      <td>0.002633</td>\n",
              "      <td>0.010289</td>\n",
              "      <td>-0.000656</td>\n",
              "      <td>-0.004800</td>\n",
              "      <td>-0.000897</td>\n",
              "      <td>-0.001989</td>\n",
              "      <td>-0.000765</td>\n",
              "      <td>0.000948</td>\n",
              "      <td>0.001535</td>\n",
              "    </tr>\n",
              "    <tr>\n",
              "      <th>std</th>\n",
              "      <td>2.031529</td>\n",
              "      <td>1.616186</td>\n",
              "      <td>1.758169</td>\n",
              "      <td>1.482109</td>\n",
              "      <td>1.486998</td>\n",
              "      <td>1.339259</td>\n",
              "      <td>1.454827</td>\n",
              "      <td>1.364342</td>\n",
              "      <td>1.134065</td>\n",
              "      <td>1.252593</td>\n",
              "      <td>...</td>\n",
              "      <td>0.827420</td>\n",
              "      <td>0.720307</td>\n",
              "      <td>0.847152</td>\n",
              "      <td>0.739469</td>\n",
              "      <td>0.593663</td>\n",
              "      <td>0.603349</td>\n",
              "      <td>0.517968</td>\n",
              "      <td>0.483852</td>\n",
              "      <td>0.397075</td>\n",
              "      <td>0.296736</td>\n",
              "    </tr>\n",
              "    <tr>\n",
              "      <th>min</th>\n",
              "      <td>-30.552380</td>\n",
              "      <td>-42.172688</td>\n",
              "      <td>-31.103685</td>\n",
              "      <td>-5.560118</td>\n",
              "      <td>-42.147898</td>\n",
              "      <td>-21.929312</td>\n",
              "      <td>-41.506796</td>\n",
              "      <td>-39.267378</td>\n",
              "      <td>-13.434066</td>\n",
              "      <td>-24.403185</td>\n",
              "      <td>...</td>\n",
              "      <td>-4.619034</td>\n",
              "      <td>-21.387122</td>\n",
              "      <td>-21.453736</td>\n",
              "      <td>-8.887017</td>\n",
              "      <td>-36.666000</td>\n",
              "      <td>-2.718024</td>\n",
              "      <td>-6.712624</td>\n",
              "      <td>-2.241620</td>\n",
              "      <td>-7.418878</td>\n",
              "      <td>-9.617915</td>\n",
              "    </tr>\n",
              "    <tr>\n",
              "      <th>25%</th>\n",
              "      <td>-0.916927</td>\n",
              "      <td>-0.575381</td>\n",
              "      <td>-0.899872</td>\n",
              "      <td>-0.843321</td>\n",
              "      <td>-0.714901</td>\n",
              "      <td>-0.763757</td>\n",
              "      <td>-0.568146</td>\n",
              "      <td>-0.206103</td>\n",
              "      <td>-0.661909</td>\n",
              "      <td>-0.543450</td>\n",
              "      <td>...</td>\n",
              "      <td>-0.459073</td>\n",
              "      <td>-0.209678</td>\n",
              "      <td>-0.225520</td>\n",
              "      <td>-0.539244</td>\n",
              "      <td>-0.160583</td>\n",
              "      <td>-0.356047</td>\n",
              "      <td>-0.318619</td>\n",
              "      <td>-0.327343</td>\n",
              "      <td>-0.070558</td>\n",
              "      <td>-0.052189</td>\n",
              "    </tr>\n",
              "    <tr>\n",
              "      <th>50%</th>\n",
              "      <td>0.020050</td>\n",
              "      <td>0.075358</td>\n",
              "      <td>0.180610</td>\n",
              "      <td>-0.008844</td>\n",
              "      <td>-0.060040</td>\n",
              "      <td>-0.271363</td>\n",
              "      <td>0.036107</td>\n",
              "      <td>0.022463</td>\n",
              "      <td>-0.055095</td>\n",
              "      <td>-0.097390</td>\n",
              "      <td>...</td>\n",
              "      <td>0.002111</td>\n",
              "      <td>-0.062792</td>\n",
              "      <td>-0.028778</td>\n",
              "      <td>0.007302</td>\n",
              "      <td>-0.011199</td>\n",
              "      <td>0.040006</td>\n",
              "      <td>0.019770</td>\n",
              "      <td>-0.056260</td>\n",
              "      <td>0.002049</td>\n",
              "      <td>0.011075</td>\n",
              "    </tr>\n",
              "    <tr>\n",
              "      <th>75%</th>\n",
              "      <td>1.317461</td>\n",
              "      <td>0.806957</td>\n",
              "      <td>1.029928</td>\n",
              "      <td>0.771958</td>\n",
              "      <td>0.613328</td>\n",
              "      <td>0.397269</td>\n",
              "      <td>0.559409</td>\n",
              "      <td>0.329606</td>\n",
              "      <td>0.605704</td>\n",
              "      <td>0.460681</td>\n",
              "      <td>...</td>\n",
              "      <td>0.467781</td>\n",
              "      <td>0.131199</td>\n",
              "      <td>0.184312</td>\n",
              "      <td>0.526358</td>\n",
              "      <td>0.146835</td>\n",
              "      <td>0.437146</td>\n",
              "      <td>0.352717</td>\n",
              "      <td>0.240713</td>\n",
              "      <td>0.091637</td>\n",
              "      <td>0.078911</td>\n",
              "    </tr>\n",
              "    <tr>\n",
              "      <th>max</th>\n",
              "      <td>2.399484</td>\n",
              "      <td>21.467203</td>\n",
              "      <td>4.069865</td>\n",
              "      <td>11.927512</td>\n",
              "      <td>32.911462</td>\n",
              "      <td>22.529298</td>\n",
              "      <td>36.677268</td>\n",
              "      <td>20.007208</td>\n",
              "      <td>8.113152</td>\n",
              "      <td>15.236028</td>\n",
              "      <td>...</td>\n",
              "      <td>5.228342</td>\n",
              "      <td>26.237391</td>\n",
              "      <td>27.202839</td>\n",
              "      <td>8.361985</td>\n",
              "      <td>9.637187</td>\n",
              "      <td>3.948061</td>\n",
              "      <td>2.510401</td>\n",
              "      <td>3.122747</td>\n",
              "      <td>11.135740</td>\n",
              "      <td>14.929133</td>\n",
              "    </tr>\n",
              "  </tbody>\n",
              "</table>\n",
              "<p>8 rows × 28 columns</p>\n",
              "</div>\n",
              "      <button class=\"colab-df-convert\" onclick=\"convertToInteractive('df-e3075a62-b4be-46e3-be63-a9b846fd1c61')\"\n",
              "              title=\"Convert this dataframe to an interactive table.\"\n",
              "              style=\"display:none;\">\n",
              "        \n",
              "  <svg xmlns=\"http://www.w3.org/2000/svg\" height=\"24px\"viewBox=\"0 0 24 24\"\n",
              "       width=\"24px\">\n",
              "    <path d=\"M0 0h24v24H0V0z\" fill=\"none\"/>\n",
              "    <path d=\"M18.56 5.44l.94 2.06.94-2.06 2.06-.94-2.06-.94-.94-2.06-.94 2.06-2.06.94zm-11 1L8.5 8.5l.94-2.06 2.06-.94-2.06-.94L8.5 2.5l-.94 2.06-2.06.94zm10 10l.94 2.06.94-2.06 2.06-.94-2.06-.94-.94-2.06-.94 2.06-2.06.94z\"/><path d=\"M17.41 7.96l-1.37-1.37c-.4-.4-.92-.59-1.43-.59-.52 0-1.04.2-1.43.59L10.3 9.45l-7.72 7.72c-.78.78-.78 2.05 0 2.83L4 21.41c.39.39.9.59 1.41.59.51 0 1.02-.2 1.41-.59l7.78-7.78 2.81-2.81c.8-.78.8-2.07 0-2.86zM5.41 20L4 18.59l7.72-7.72 1.47 1.35L5.41 20z\"/>\n",
              "  </svg>\n",
              "      </button>\n",
              "      \n",
              "  <style>\n",
              "    .colab-df-container {\n",
              "      display:flex;\n",
              "      flex-wrap:wrap;\n",
              "      gap: 12px;\n",
              "    }\n",
              "\n",
              "    .colab-df-convert {\n",
              "      background-color: #E8F0FE;\n",
              "      border: none;\n",
              "      border-radius: 50%;\n",
              "      cursor: pointer;\n",
              "      display: none;\n",
              "      fill: #1967D2;\n",
              "      height: 32px;\n",
              "      padding: 0 0 0 0;\n",
              "      width: 32px;\n",
              "    }\n",
              "\n",
              "    .colab-df-convert:hover {\n",
              "      background-color: #E2EBFA;\n",
              "      box-shadow: 0px 1px 2px rgba(60, 64, 67, 0.3), 0px 1px 3px 1px rgba(60, 64, 67, 0.15);\n",
              "      fill: #174EA6;\n",
              "    }\n",
              "\n",
              "    [theme=dark] .colab-df-convert {\n",
              "      background-color: #3B4455;\n",
              "      fill: #D2E3FC;\n",
              "    }\n",
              "\n",
              "    [theme=dark] .colab-df-convert:hover {\n",
              "      background-color: #434B5C;\n",
              "      box-shadow: 0px 1px 3px 1px rgba(0, 0, 0, 0.15);\n",
              "      filter: drop-shadow(0px 1px 2px rgba(0, 0, 0, 0.3));\n",
              "      fill: #FFFFFF;\n",
              "    }\n",
              "  </style>\n",
              "\n",
              "      <script>\n",
              "        const buttonEl =\n",
              "          document.querySelector('#df-e3075a62-b4be-46e3-be63-a9b846fd1c61 button.colab-df-convert');\n",
              "        buttonEl.style.display =\n",
              "          google.colab.kernel.accessAllowed ? 'block' : 'none';\n",
              "\n",
              "        async function convertToInteractive(key) {\n",
              "          const element = document.querySelector('#df-e3075a62-b4be-46e3-be63-a9b846fd1c61');\n",
              "          const dataTable =\n",
              "            await google.colab.kernel.invokeFunction('convertToInteractive',\n",
              "                                                     [key], {});\n",
              "          if (!dataTable) return;\n",
              "\n",
              "          const docLinkHtml = 'Like what you see? Visit the ' +\n",
              "            '<a target=\"_blank\" href=https://colab.research.google.com/notebooks/data_table.ipynb>data table notebook</a>'\n",
              "            + ' to learn more about interactive tables.';\n",
              "          element.innerHTML = '';\n",
              "          dataTable['output_type'] = 'display_data';\n",
              "          await google.colab.output.renderOutput(dataTable, element);\n",
              "          const docLink = document.createElement('div');\n",
              "          docLink.innerHTML = docLinkHtml;\n",
              "          element.appendChild(docLink);\n",
              "        }\n",
              "      </script>\n",
              "    </div>\n",
              "  </div>\n",
              "  "
            ]
          },
          "metadata": {},
          "execution_count": 16
        }
      ]
    },
    {
      "cell_type": "code",
      "source": [
        "target.value_counts()"
      ],
      "metadata": {
        "colab": {
          "base_uri": "https://localhost:8080/"
        },
        "id": "anCiuOEK8pRk",
        "outputId": "b592961f-6034-446e-e443-6164d0490028"
      },
      "execution_count": 18,
      "outputs": [
        {
          "output_type": "execute_result",
          "data": {
            "text/plain": [
              "0    28432\n",
              "1      246\n",
              "Name: Class, dtype: int64"
            ]
          },
          "metadata": {},
          "execution_count": 18
        }
      ]
    },
    {
      "cell_type": "markdown",
      "source": [
        "# Modeling"
      ],
      "metadata": {
        "id": "44PxsAA58tAN"
      }
    },
    {
      "cell_type": "markdown",
      "source": [
        "## Logistic Regression"
      ],
      "metadata": {
        "id": "EZriH54k9xgU"
      }
    },
    {
      "cell_type": "code",
      "source": [
        "from sklearn.linear_model import LogisticRegression\n",
        "from sklearn.model_selection import train_test_split"
      ],
      "metadata": {
        "id": "IPUj3kCy8rZj"
      },
      "execution_count": 19,
      "outputs": []
    },
    {
      "cell_type": "code",
      "source": [
        "from sklearn.model_selection import train_test_split\n",
        "\n",
        "X_train, X_test, y_train, y_test = train_test_split(s_features, target, test_size=0.2, random_state = 11, stratify = target)"
      ],
      "metadata": {
        "id": "XQs3s9IV9Blj"
      },
      "execution_count": 29,
      "outputs": []
    },
    {
      "cell_type": "code",
      "source": [
        "print(X_train.shape, X_test.shape, y_train.shape, y_test.shape)"
      ],
      "metadata": {
        "colab": {
          "base_uri": "https://localhost:8080/"
        },
        "id": "L7wZnejY8w5D",
        "outputId": "4e4f3188-2310-467d-b981-c45d3591b710"
      },
      "execution_count": 30,
      "outputs": [
        {
          "output_type": "stream",
          "name": "stdout",
          "text": [
            "(22942, 28) (5736, 28) (22942,) (5736,)\n"
          ]
        }
      ]
    },
    {
      "cell_type": "code",
      "source": [
        "# Logistic Regression \n",
        "\n",
        "model = LogisticRegression()\n",
        "model.fit(X_train,y_train)"
      ],
      "metadata": {
        "colab": {
          "base_uri": "https://localhost:8080/"
        },
        "id": "CRNXRIhh9Pcx",
        "outputId": "ed741dbb-037a-4a70-bff5-bd535e5463a4"
      },
      "execution_count": 31,
      "outputs": [
        {
          "output_type": "execute_result",
          "data": {
            "text/plain": [
              "LogisticRegression()"
            ]
          },
          "metadata": {},
          "execution_count": 31
        }
      ]
    },
    {
      "cell_type": "code",
      "source": [
        "# class 예측\n",
        "y_pred = model.predict(X_test) \n",
        "y_pred"
      ],
      "metadata": {
        "colab": {
          "base_uri": "https://localhost:8080/"
        },
        "id": "WSMVxWC387OA",
        "outputId": "899b4111-c440-429c-ae64-13034b5cdc5d"
      },
      "execution_count": 33,
      "outputs": [
        {
          "output_type": "execute_result",
          "data": {
            "text/plain": [
              "array([0, 0, 0, ..., 0, 0, 0])"
            ]
          },
          "metadata": {},
          "execution_count": 33
        }
      ]
    },
    {
      "cell_type": "code",
      "source": [
        "model.predict_proba(X_test)"
      ],
      "metadata": {
        "colab": {
          "base_uri": "https://localhost:8080/"
        },
        "id": "Z0QIeTtb89Ok",
        "outputId": "d9eefe8c-59b3-4c4d-fce7-2dbabfa4ba2a"
      },
      "execution_count": 34,
      "outputs": [
        {
          "output_type": "execute_result",
          "data": {
            "text/plain": [
              "array([[9.99861069e-01, 1.38931098e-04],\n",
              "       [9.92351335e-01, 7.64866506e-03],\n",
              "       [9.99910912e-01, 8.90875031e-05],\n",
              "       ...,\n",
              "       [9.99578181e-01, 4.21818784e-04],\n",
              "       [9.99895720e-01, 1.04279757e-04],\n",
              "       [9.99667779e-01, 3.32221087e-04]])"
            ]
          },
          "metadata": {},
          "execution_count": 34
        }
      ]
    },
    {
      "cell_type": "code",
      "source": [
        "# mean accuracy \n",
        "model.score(X_test, y_test)"
      ],
      "metadata": {
        "colab": {
          "base_uri": "https://localhost:8080/"
        },
        "id": "mGxS6qIM9aRo",
        "outputId": "71725739-5a5d-42f3-b5d3-e5e5b813ca2e"
      },
      "execution_count": 35,
      "outputs": [
        {
          "output_type": "execute_result",
          "data": {
            "text/plain": [
              "0.9980822873082287"
            ]
          },
          "metadata": {},
          "execution_count": 35
        }
      ]
    },
    {
      "cell_type": "markdown",
      "source": [
        "# Evaluation"
      ],
      "metadata": {
        "id": "Tm8bUH779p_n"
      }
    },
    {
      "cell_type": "markdown",
      "source": [
        "## Confusion matrix"
      ],
      "metadata": {
        "id": "T55I1PGp9ttx"
      }
    },
    {
      "cell_type": "code",
      "source": [
        "from sklearn.metrics import *"
      ],
      "metadata": {
        "id": "XtBn28cT96C3"
      },
      "execution_count": 38,
      "outputs": []
    },
    {
      "cell_type": "code",
      "source": [
        "tn, fp, fn, tp = confusion_matrix(y_test, y_pred).ravel()\n",
        "\n",
        "p = fn + tp\n",
        "n = tn + fp"
      ],
      "metadata": {
        "id": "g_M6hajU9d9u"
      },
      "execution_count": 39,
      "outputs": []
    },
    {
      "cell_type": "markdown",
      "source": [
        "### Accuracy"
      ],
      "metadata": {
        "id": "MmLwqhiE99PH"
      }
    },
    {
      "cell_type": "code",
      "source": [
        "accuracy = (tp + tn) / (p + n)\n",
        "print(\"Accuracy : \", accuracy) "
      ],
      "metadata": {
        "colab": {
          "base_uri": "https://localhost:8080/"
        },
        "id": "T2LSskF99oi4",
        "outputId": "cb4cc34f-7898-42dc-dd9d-a3a629a53294"
      },
      "execution_count": 40,
      "outputs": [
        {
          "output_type": "stream",
          "name": "stdout",
          "text": [
            "Accuracy :  0.9980822873082287\n"
          ]
        }
      ]
    },
    {
      "cell_type": "markdown",
      "source": [
        "### Error Rate"
      ],
      "metadata": {
        "id": "_tHPPwDx9_uf"
      }
    },
    {
      "cell_type": "code",
      "source": [
        "errorRate = (fn + fp) / (p+n)\n",
        "print(\"Error Rate : \", errorRate)"
      ],
      "metadata": {
        "colab": {
          "base_uri": "https://localhost:8080/"
        },
        "id": "YI0Ol6-09_cY",
        "outputId": "cfb13df9-894b-4ca3-b09e-b990224a1b73"
      },
      "execution_count": 41,
      "outputs": [
        {
          "output_type": "stream",
          "name": "stdout",
          "text": [
            "Error Rate :  0.0019177126917712692\n"
          ]
        }
      ]
    },
    {
      "cell_type": "markdown",
      "source": [
        "### Recall"
      ],
      "metadata": {
        "id": "KDpETAkv-E3S"
      }
    },
    {
      "cell_type": "code",
      "source": [
        "recall = (tp) / p\n",
        "print(\"Recall : \", recall)"
      ],
      "metadata": {
        "colab": {
          "base_uri": "https://localhost:8080/"
        },
        "id": "g4sBy6Y1-DYU",
        "outputId": "9d0bdcea-d10a-4ea9-9dce-92282958751e"
      },
      "execution_count": 42,
      "outputs": [
        {
          "output_type": "stream",
          "name": "stdout",
          "text": [
            "Recall :  0.8571428571428571\n"
          ]
        }
      ]
    },
    {
      "cell_type": "markdown",
      "source": [
        "### Precision"
      ],
      "metadata": {
        "id": "fbfLeu44-JD5"
      }
    },
    {
      "cell_type": "code",
      "source": [
        "precision = tp/ (tp + fp)\n",
        "print(\"precision : \", precision)"
      ],
      "metadata": {
        "colab": {
          "base_uri": "https://localhost:8080/"
        },
        "id": "QQeh0g89-IhJ",
        "outputId": "0eddf012-6da5-4c43-fba3-4af1c0786a2f"
      },
      "execution_count": 43,
      "outputs": [
        {
          "output_type": "stream",
          "name": "stdout",
          "text": [
            "precision :  0.9130434782608695\n"
          ]
        }
      ]
    },
    {
      "cell_type": "markdown",
      "source": [
        "### Specificity"
      ],
      "metadata": {
        "id": "tSjDE3QX-dsM"
      }
    },
    {
      "cell_type": "code",
      "source": [
        "specificity =  tn / (tn + fp)\n",
        "print(\"specificity : \", specificity)"
      ],
      "metadata": {
        "colab": {
          "base_uri": "https://localhost:8080/"
        },
        "id": "6oBzydJt-hmj",
        "outputId": "b06415e0-516b-4849-a53d-e34bfe17f948"
      },
      "execution_count": 47,
      "outputs": [
        {
          "output_type": "stream",
          "name": "stdout",
          "text": [
            "specificity :  0.9992966414629858\n"
          ]
        }
      ]
    },
    {
      "cell_type": "markdown",
      "source": [
        "### False Positive Rate"
      ],
      "metadata": {
        "id": "ZCn5yIJr-MwH"
      }
    },
    {
      "cell_type": "code",
      "source": [
        "fpr = fp / n\n",
        "print(\"FPR : \", fpr) "
      ],
      "metadata": {
        "colab": {
          "base_uri": "https://localhost:8080/"
        },
        "id": "KDNv_eh5-MMw",
        "outputId": "f01fdd77-34fb-4a8b-8f98-7a3c03af339f"
      },
      "execution_count": 44,
      "outputs": [
        {
          "output_type": "stream",
          "name": "stdout",
          "text": [
            "FPR :  0.000703358537014243\n"
          ]
        }
      ]
    },
    {
      "cell_type": "markdown",
      "source": [
        "### F1 score"
      ],
      "metadata": {
        "id": "isH-Vmm_-Re7"
      }
    },
    {
      "cell_type": "code",
      "source": [
        "f1 = f1_score(y_pred, y_test)\n",
        "print(\"f1 : \", f1)"
      ],
      "metadata": {
        "colab": {
          "base_uri": "https://localhost:8080/"
        },
        "id": "Scb5bbzx-Q3y",
        "outputId": "8f521e4e-2e77-4d87-a9ec-3195c2c98b62"
      },
      "execution_count": 45,
      "outputs": [
        {
          "output_type": "stream",
          "name": "stdout",
          "text": [
            "f1 :  0.8842105263157894\n"
          ]
        }
      ]
    },
    {
      "cell_type": "markdown",
      "source": [
        "### ROC Curve"
      ],
      "metadata": {
        "id": "KWABAzXD-UEK"
      }
    },
    {
      "cell_type": "code",
      "source": [
        "from sklearn.metrics import roc_curve\n",
        "fpr, tpr, thresholds = roc_curve(y_test, model.decision_function(X_test))\n",
        "\n",
        "import matplotlib.pyplot as plt\n",
        "\n",
        "plt.plot(fpr, tpr, 'o-', label=\"Logistic Regression\") \n",
        "plt.plot([0, 1], [0, 1], 'k--')\n",
        "plt.plot([1-specificity], [recall], 'ro', ms=10) # 현재 cutoff value 값 \n",
        "plt.xlabel('1-Specificity')\n",
        "plt.ylabel('Sensitivity')\n",
        "plt.show()"
      ],
      "metadata": {
        "colab": {
          "base_uri": "https://localhost:8080/",
          "height": 279
        },
        "id": "d6cnlbdL-Unp",
        "outputId": "c65220b1-997a-443c-c68f-2adbe4060de4"
      },
      "execution_count": 48,
      "outputs": [
        {
          "output_type": "display_data",
          "data": {
            "text/plain": [
              "<Figure size 432x288 with 1 Axes>"
            ],
            "image/png": "[encoded data removed]"
          },
          "metadata": {
            "needs_background": "light"
          }
        }
      ]
    },
    {
      "cell_type": "markdown",
      "source": [
        "### AUC"
      ],
      "metadata": {
        "id": "J-LCMhUc-nkG"
      }
    },
    {
      "cell_type": "code",
      "source": [
        "from sklearn.metrics import auc\n",
        "print(\"auc : \", auc(fpr, tpr))"
      ],
      "metadata": {
        "colab": {
          "base_uri": "https://localhost:8080/"
        },
        "id": "pLAEfmYM-av6",
        "outputId": "00f34086-1d12-44ff-8921-9de7bc74a4b5"
      },
      "execution_count": 49,
      "outputs": [
        {
          "output_type": "stream",
          "name": "stdout",
          "text": [
            "auc :  0.9964329674194277\n"
          ]
        }
      ]
    }
  ],
  "metadata": {
    "colab": {
      "collapsed_sections": [],
      "name": "Tobigs_Week2_Regression3.ipynb",
      "provenance": [],
      "toc_visible": true
    },
    "kernelspec": {
      "display_name": "Python 3",
      "language": "python",
      "name": "python3"
    },
    "language_info": {
      "codemirror_mode": {
        "name": "ipython",
        "version": 3
      },
      "file_extension": ".py",
      "mimetype": "text/x-python",
      "name": "python",
      "nbconvert_exporter": "python",
      "pygments_lexer": "ipython3",
      "version": "3.8.5"
    }
  },
  "nbformat": 4,
  "nbformat_minor": 0
}