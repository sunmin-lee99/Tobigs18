{
  "cells": [
    {
      "cell_type": "markdown",
      "metadata": {
        "id": "zU92BX-5Pgsm"
      },
      "source": [
        "# 차원축소 Assignment1"
      ]
    },
    {
      "cell_type": "markdown",
      "metadata": {
        "id": "b15X2e8HPgsn"
      },
      "source": [
        "# ''' ? ''' 이 있는 부분을 채워주세요 \n",
        "\n",
        "참고하셔야 하는 함수들은 링크 달아드렸으니 들어가서 확인해보세요\n",
        "\n",
        "무작정 빈칸 채우기가 아니라 꼭 차원축소 과정을 이해하시면서 과제를 진행하시면 좋겠습니다!!!\n",
        "\n",
        "또 질문은 언제나 환영이니 과제하다가 궁금하신것 있으시면 자유롭게 물어보세요!!"
      ]
    },
    {
      "cell_type": "markdown",
      "metadata": {
        "id": "VHM2ow0gPgsn"
      },
      "source": [
        "# 1) PCA의 과정 차근차근 밟아보기"
      ]
    },
    {
      "cell_type": "markdown",
      "source": [
        "**PCA**\n",
        "\n",
        ": Principal Component Analysis, 주성분 분석\n",
        "- 대표적인 차원 축소 알고리즘\n",
        "- PCA 단계\n",
        "  1. 학습 데이터셋에서 분산이 최대인 축(axis)을 찾는다. \n",
        "  2. 이렇게 찾은 첫번째 축과 직교(orthogonal)하면서 분산이 최대인 두 번째 축을 찾는다.\n",
        "  3. 첫 번째 축과 두 번째 축에 직교하고 분산을 최대한 보존하는 세 번째 축을 찾는다.\n",
        "  4. 1~3과 같은 방법으로 데이터셋의 차원(특성 수)만큼의 축을 찾는다.\n",
        "\n"
      ],
      "metadata": {
        "id": "SgJoMrpqeF6F"
      }
    },
    {
      "cell_type": "code",
      "execution_count": 1,
      "metadata": {
        "id": "tpoi2PmKPgsn"
      },
      "outputs": [],
      "source": [
        "#기본 모듈 불러오기\n",
        "import numpy as np\n",
        "import numpy.linalg as lin\n",
        "import matplotlib.pyplot as plt\n",
        "import pandas as pd\n",
        "import random"
      ]
    },
    {
      "cell_type": "code",
      "execution_count": 2,
      "metadata": {
        "id": "ZcFtAQxoPgsn"
      },
      "outputs": [],
      "source": [
        "#설명변수 x1, x2, x3\n",
        "x1 = [95, 91, 66, 94, 68, 63, 12, 73, 93, 51, 13, 70, 63, 63, 97, 56, 67, 96, 75, 6]\n",
        "x2 = [56, 27, 25, 1, 9, 80, 92, 69, 6, 25, 83, 82, 54, 97, 66, 93, 76, 59, 94, 9]\n",
        "x3 = [57, 34, 9, 79, 4, 77, 100, 42, 6, 96, 61, 66, 9, 25, 84, 46, 16, 63, 53, 30]"
      ]
    },
    {
      "cell_type": "code",
      "execution_count": 3,
      "metadata": {
        "id": "QB3ElSfuPgso"
      },
      "outputs": [],
      "source": [
        "#설명변수들을 하나의 행렬로\n",
        "X = np.stack((x1,x2,x3),axis=0)"
      ]
    },
    {
      "cell_type": "code",
      "execution_count": 4,
      "metadata": {
        "id": "WRc6gLv2Pgso"
      },
      "outputs": [],
      "source": [
        "X = pd.DataFrame(X.T,columns=['x1','x2','x3'])"
      ]
    },
    {
      "cell_type": "code",
      "execution_count": 5,
      "metadata": {
        "colab": {
          "base_uri": "https://localhost:8080/",
          "height": 677
        },
        "id": "6YYdgIxXPgso",
        "outputId": "83eb5735-f669-41bd-c1b0-af0337ee5806"
      },
      "outputs": [
        {
          "output_type": "execute_result",
          "data": {
            "text/plain": [
              "    x1  x2   x3\n",
              "0   95  56   57\n",
              "1   91  27   34\n",
              "2   66  25    9\n",
              "3   94   1   79\n",
              "4   68   9    4\n",
              "5   63  80   77\n",
              "6   12  92  100\n",
              "7   73  69   42\n",
              "8   93   6    6\n",
              "9   51  25   96\n",
              "10  13  83   61\n",
              "11  70  82   66\n",
              "12  63  54    9\n",
              "13  63  97   25\n",
              "14  97  66   84\n",
              "15  56  93   46\n",
              "16  67  76   16\n",
              "17  96  59   63\n",
              "18  75  94   53\n",
              "19   6   9   30"
            ],
            "text/html": [
              "\n",
              "  <div id=\"df-fc8aef58-ab0b-4108-97a1-f9d6ff92379a\">\n",
              "    <div class=\"colab-df-container\">\n",
              "      <div>\n",
              "<style scoped>\n",
              "    .dataframe tbody tr th:only-of-type {\n",
              "        vertical-align: middle;\n",
              "    }\n",
              "\n",
              "    .dataframe tbody tr th {\n",
              "        vertical-align: top;\n",
              "    }\n",
              "\n",
              "    .dataframe thead th {\n",
              "        text-align: right;\n",
              "    }\n",
              "</style>\n",
              "<table border=\"1\" class=\"dataframe\">\n",
              "  <thead>\n",
              "    <tr style=\"text-align: right;\">\n",
              "      <th></th>\n",
              "      <th>x1</th>\n",
              "      <th>x2</th>\n",
              "      <th>x3</th>\n",
              "    </tr>\n",
              "  </thead>\n",
              "  <tbody>\n",
              "    <tr>\n",
              "      <th>0</th>\n",
              "      <td>95</td>\n",
              "      <td>56</td>\n",
              "      <td>57</td>\n",
              "    </tr>\n",
              "    <tr>\n",
              "      <th>1</th>\n",
              "      <td>91</td>\n",
              "      <td>27</td>\n",
              "      <td>34</td>\n",
              "    </tr>\n",
              "    <tr>\n",
              "      <th>2</th>\n",
              "      <td>66</td>\n",
              "      <td>25</td>\n",
              "      <td>9</td>\n",
              "    </tr>\n",
              "    <tr>\n",
              "      <th>3</th>\n",
              "      <td>94</td>\n",
              "      <td>1</td>\n",
              "      <td>79</td>\n",
              "    </tr>\n",
              "    <tr>\n",
              "      <th>4</th>\n",
              "      <td>68</td>\n",
              "      <td>9</td>\n",
              "      <td>4</td>\n",
              "    </tr>\n",
              "    <tr>\n",
              "      <th>5</th>\n",
              "      <td>63</td>\n",
              "      <td>80</td>\n",
              "      <td>77</td>\n",
              "    </tr>\n",
              "    <tr>\n",
              "      <th>6</th>\n",
              "      <td>12</td>\n",
              "      <td>92</td>\n",
              "      <td>100</td>\n",
              "    </tr>\n",
              "    <tr>\n",
              "      <th>7</th>\n",
              "      <td>73</td>\n",
              "      <td>69</td>\n",
              "      <td>42</td>\n",
              "    </tr>\n",
              "    <tr>\n",
              "      <th>8</th>\n",
              "      <td>93</td>\n",
              "      <td>6</td>\n",
              "      <td>6</td>\n",
              "    </tr>\n",
              "    <tr>\n",
              "      <th>9</th>\n",
              "      <td>51</td>\n",
              "      <td>25</td>\n",
              "      <td>96</td>\n",
              "    </tr>\n",
              "    <tr>\n",
              "      <th>10</th>\n",
              "      <td>13</td>\n",
              "      <td>83</td>\n",
              "      <td>61</td>\n",
              "    </tr>\n",
              "    <tr>\n",
              "      <th>11</th>\n",
              "      <td>70</td>\n",
              "      <td>82</td>\n",
              "      <td>66</td>\n",
              "    </tr>\n",
              "    <tr>\n",
              "      <th>12</th>\n",
              "      <td>63</td>\n",
              "      <td>54</td>\n",
              "      <td>9</td>\n",
              "    </tr>\n",
              "    <tr>\n",
              "      <th>13</th>\n",
              "      <td>63</td>\n",
              "      <td>97</td>\n",
              "      <td>25</td>\n",
              "    </tr>\n",
              "    <tr>\n",
              "      <th>14</th>\n",
              "      <td>97</td>\n",
              "      <td>66</td>\n",
              "      <td>84</td>\n",
              "    </tr>\n",
              "    <tr>\n",
              "      <th>15</th>\n",
              "      <td>56</td>\n",
              "      <td>93</td>\n",
              "      <td>46</td>\n",
              "    </tr>\n",
              "    <tr>\n",
              "      <th>16</th>\n",
              "      <td>67</td>\n",
              "      <td>76</td>\n",
              "      <td>16</td>\n",
              "    </tr>\n",
              "    <tr>\n",
              "      <th>17</th>\n",
              "      <td>96</td>\n",
              "      <td>59</td>\n",
              "      <td>63</td>\n",
              "    </tr>\n",
              "    <tr>\n",
              "      <th>18</th>\n",
              "      <td>75</td>\n",
              "      <td>94</td>\n",
              "      <td>53</td>\n",
              "    </tr>\n",
              "    <tr>\n",
              "      <th>19</th>\n",
              "      <td>6</td>\n",
              "      <td>9</td>\n",
              "      <td>30</td>\n",
              "    </tr>\n",
              "  </tbody>\n",
              "</table>\n",
              "</div>\n",
              "      <button class=\"colab-df-convert\" onclick=\"convertToInteractive('df-fc8aef58-ab0b-4108-97a1-f9d6ff92379a')\"\n",
              "              title=\"Convert this dataframe to an interactive table.\"\n",
              "              style=\"display:none;\">\n",
              "        \n",
              "  <svg xmlns=\"http://www.w3.org/2000/svg\" height=\"24px\"viewBox=\"0 0 24 24\"\n",
              "       width=\"24px\">\n",
              "    <path d=\"M0 0h24v24H0V0z\" fill=\"none\"/>\n",
              "    <path d=\"M18.56 5.44l.94 2.06.94-2.06 2.06-.94-2.06-.94-.94-2.06-.94 2.06-2.06.94zm-11 1L8.5 8.5l.94-2.06 2.06-.94-2.06-.94L8.5 2.5l-.94 2.06-2.06.94zm10 10l.94 2.06.94-2.06 2.06-.94-2.06-.94-.94-2.06-.94 2.06-2.06.94z\"/><path d=\"M17.41 7.96l-1.37-1.37c-.4-.4-.92-.59-1.43-.59-.52 0-1.04.2-1.43.59L10.3 9.45l-7.72 7.72c-.78.78-.78 2.05 0 2.83L4 21.41c.39.39.9.59 1.41.59.51 0 1.02-.2 1.41-.59l7.78-7.78 2.81-2.81c.8-.78.8-2.07 0-2.86zM5.41 20L4 18.59l7.72-7.72 1.47 1.35L5.41 20z\"/>\n",
              "  </svg>\n",
              "      </button>\n",
              "      \n",
              "  <style>\n",
              "    .colab-df-container {\n",
              "      display:flex;\n",
              "      flex-wrap:wrap;\n",
              "      gap: 12px;\n",
              "    }\n",
              "\n",
              "    .colab-df-convert {\n",
              "      background-color: #E8F0FE;\n",
              "      border: none;\n",
              "      border-radius: 50%;\n",
              "      cursor: pointer;\n",
              "      display: none;\n",
              "      fill: #1967D2;\n",
              "      height: 32px;\n",
              "      padding: 0 0 0 0;\n",
              "      width: 32px;\n",
              "    }\n",
              "\n",
              "    .colab-df-convert:hover {\n",
              "      background-color: #E2EBFA;\n",
              "      box-shadow: 0px 1px 2px rgba(60, 64, 67, 0.3), 0px 1px 3px 1px rgba(60, 64, 67, 0.15);\n",
              "      fill: #174EA6;\n",
              "    }\n",
              "\n",
              "    [theme=dark] .colab-df-convert {\n",
              "      background-color: #3B4455;\n",
              "      fill: #D2E3FC;\n",
              "    }\n",
              "\n",
              "    [theme=dark] .colab-df-convert:hover {\n",
              "      background-color: #434B5C;\n",
              "      box-shadow: 0px 1px 3px 1px rgba(0, 0, 0, 0.15);\n",
              "      filter: drop-shadow(0px 1px 2px rgba(0, 0, 0, 0.3));\n",
              "      fill: #FFFFFF;\n",
              "    }\n",
              "  </style>\n",
              "\n",
              "      <script>\n",
              "        const buttonEl =\n",
              "          document.querySelector('#df-fc8aef58-ab0b-4108-97a1-f9d6ff92379a button.colab-df-convert');\n",
              "        buttonEl.style.display =\n",
              "          google.colab.kernel.accessAllowed ? 'block' : 'none';\n",
              "\n",
              "        async function convertToInteractive(key) {\n",
              "          const element = document.querySelector('#df-fc8aef58-ab0b-4108-97a1-f9d6ff92379a');\n",
              "          const dataTable =\n",
              "            await google.colab.kernel.invokeFunction('convertToInteractive',\n",
              "                                                     [key], {});\n",
              "          if (!dataTable) return;\n",
              "\n",
              "          const docLinkHtml = 'Like what you see? Visit the ' +\n",
              "            '<a target=\"_blank\" href=https://colab.research.google.com/notebooks/data_table.ipynb>data table notebook</a>'\n",
              "            + ' to learn more about interactive tables.';\n",
              "          element.innerHTML = '';\n",
              "          dataTable['output_type'] = 'display_data';\n",
              "          await google.colab.output.renderOutput(dataTable, element);\n",
              "          const docLink = document.createElement('div');\n",
              "          docLink.innerHTML = docLinkHtml;\n",
              "          element.appendChild(docLink);\n",
              "        }\n",
              "      </script>\n",
              "    </div>\n",
              "  </div>\n",
              "  "
            ]
          },
          "metadata": {},
          "execution_count": 5
        }
      ],
      "source": [
        "X"
      ]
    },
    {
      "cell_type": "markdown",
      "metadata": {
        "id": "NTRZsZjkPgso"
      },
      "source": [
        "### 1-1) 먼저 PCA를 시작하기 전 데이터 scaling!!!! 매우 중요합니다!\n",
        "\n",
        "https://datascienceschool.net/03%20machine%20learning/02.01%20%EB%8D%B0%EC%9D%B4%ED%84%B0%20%EC%A0%84%EC%B2%98%EB%A6%AC%20%EA%B8%B0%EC%B4%88.html?highlight=%EC%A0%84%EC%B2%98%EB%A6%AC  를 참고하시면 도움이 될거에요"
      ]
    },
    {
      "cell_type": "markdown",
      "source": [
        "**scaling을 하는 이유?**\n",
        "\n",
        "선형회귀분석을 할 때는 조건수(condition number)의 영향때문에 데이터의 평균을 0으로 표준편차를 1로 만드는 스케일링(scaling) 작업을 하는 것이 분석 결과의 품질을 높일 수 있으므로"
      ],
      "metadata": {
        "id": "rV6_QRWUXDZN"
      }
    },
    {
      "cell_type": "markdown",
      "source": [
        "**조건수(condition number)**\n",
        "\n",
        ": 함수의 입력인 x의 작은 변화율에 대해 함수의 출력인 y의 변화율이 얼마인지를 나타내는 수 (= 함수의 민감도를 측정하는 지표)\n",
        "- 조건수가 낮을수록 공분산 행렬의 변동성을 줄여 분석 결과의 변동을 줄일 수 있으므로 overfitting 확률이 낮아짐\n",
        "- 조건수를 낮추는 방법\n",
        "  1.   변수들 간 단위차이를 없애주는 **scaling** 사용\n",
        "  2.   독립변수들 간 상관관계가 높은 **다중공선성 제거** (VIF, PCA 등 사용)\n",
        "  3. 독립변수들 간 의존성이 높은 변수들에 **페널티 부과**\n",
        "\n"
      ],
      "metadata": {
        "id": "Gs25JXmdcJTk"
      }
    },
    {
      "cell_type": "code",
      "source": [
        "#scaling\n",
        "from sklearn.preprocessing import StandardScaler\n",
        "\n",
        "scaler = StandardScaler()\n",
        "X_std = scaler.fit_transform(X)\n",
        "\n",
        "X_std"
      ],
      "metadata": {
        "colab": {
          "base_uri": "https://localhost:8080/"
        },
        "id": "xZkYiUDdZZRs",
        "outputId": "24698776-322d-410b-ac57-a7927990a884"
      },
      "execution_count": 6,
      "outputs": [
        {
          "output_type": "execute_result",
          "data": {
            "text/plain": [
              "array([[ 1.08573604,  0.02614175,  0.30684189],\n",
              "       [ 0.93801686, -0.86575334, -0.46445467],\n",
              "       [ 0.01477192, -0.92726334, -1.30282049],\n",
              "       [ 1.04880625, -1.66538341,  1.04460382],\n",
              "       [ 0.08863151, -1.41934339, -1.47049366],\n",
              "       [-0.09601747,  0.76426183,  0.97753455],\n",
              "       [-1.97943714,  1.13332186,  1.74883111],\n",
              "       [ 0.2732805 ,  0.42595679, -0.1961776 ],\n",
              "       [ 1.01187645, -1.5116084 , -1.40342439],\n",
              "       [-0.53917504, -0.92726334,  1.61469258],\n",
              "       [-1.94250735,  0.85652683,  0.44098042],\n",
              "       [ 0.16249111,  0.82577183,  0.60865359],\n",
              "       [-0.09601747, -0.03536825, -1.30282049],\n",
              "       [-0.09601747,  1.28709688, -0.76626636],\n",
              "       [ 1.15959564,  0.33369178,  1.21227698],\n",
              "       [-0.35452606,  1.16407687, -0.06203907],\n",
              "       [ 0.05170172,  0.64124181, -1.06807806],\n",
              "       [ 1.12266584,  0.11840676,  0.50804969],\n",
              "       [ 0.3471401 ,  1.19483187,  0.17270336],\n",
              "       [-2.20101593, -1.41934339, -0.5985932 ]])"
            ]
          },
          "metadata": {},
          "execution_count": 6
        }
      ]
    },
    {
      "cell_type": "code",
      "execution_count": 7,
      "metadata": {
        "id": "TjuIDQNMPgsp"
      },
      "outputs": [],
      "source": [
        "features = X_std.T"
      ]
    },
    {
      "cell_type": "code",
      "execution_count": 8,
      "metadata": {
        "colab": {
          "base_uri": "https://localhost:8080/"
        },
        "id": "9Z5Hpvl3vnfp",
        "outputId": "a42f0453-9e3a-408b-f6cc-6c11408f7645"
      },
      "outputs": [
        {
          "output_type": "execute_result",
          "data": {
            "text/plain": [
              "array([[ 1.08573604,  0.93801686,  0.01477192,  1.04880625,  0.08863151,\n",
              "        -0.09601747, -1.97943714,  0.2732805 ,  1.01187645, -0.53917504,\n",
              "        -1.94250735,  0.16249111, -0.09601747, -0.09601747,  1.15959564,\n",
              "        -0.35452606,  0.05170172,  1.12266584,  0.3471401 , -2.20101593],\n",
              "       [ 0.02614175, -0.86575334, -0.92726334, -1.66538341, -1.41934339,\n",
              "         0.76426183,  1.13332186,  0.42595679, -1.5116084 , -0.92726334,\n",
              "         0.85652683,  0.82577183, -0.03536825,  1.28709688,  0.33369178,\n",
              "         1.16407687,  0.64124181,  0.11840676,  1.19483187, -1.41934339],\n",
              "       [ 0.30684189, -0.46445467, -1.30282049,  1.04460382, -1.47049366,\n",
              "         0.97753455,  1.74883111, -0.1961776 , -1.40342439,  1.61469258,\n",
              "         0.44098042,  0.60865359, -1.30282049, -0.76626636,  1.21227698,\n",
              "        -0.06203907, -1.06807806,  0.50804969,  0.17270336, -0.5985932 ]])"
            ]
          },
          "metadata": {},
          "execution_count": 8
        }
      ],
      "source": [
        "features"
      ]
    },
    {
      "cell_type": "markdown",
      "metadata": {
        "id": "3HHTB65iPgsp"
      },
      "source": [
        "### 1-2) 다음으로 공분산 행렬을 구합니다\n",
        "\n",
        "https://docs.scipy.org/doc/numpy/reference/generated/numpy.cov.html 를 참고하시면 도움이 될거에요"
      ]
    },
    {
      "cell_type": "markdown",
      "source": [
        "**공분산**\n",
        "\n",
        ": 2개의 특성(또는 변수)간의 상관정도를 나타낸 값\n",
        "\n",
        "- 공분산 행렬 : \n",
        "  - `cov = np.dot(m * w, m.T) * v1 / (v1**2 - ddof * v2)` 이용!\n",
        "\n",
        "![스크린샷 2022-08-16 오후 8.07.22.png](data:image/png;base64,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)\n"
      ],
      "metadata": {
        "id": "iH6ISTkhTTq3"
      }
    },
    {
      "cell_type": "code",
      "execution_count": 9,
      "metadata": {
        "id": "lZ2KT6M3Pgsq",
        "scrolled": true,
        "colab": {
          "base_uri": "https://localhost:8080/"
        },
        "outputId": "8f75d1e8-7f62-4e58-8f0a-1b17a2165e4e"
      },
      "outputs": [
        {
          "output_type": "execute_result",
          "data": {
            "text/plain": [
              "array([[ 1.05263158, -0.2037104 , -0.12079228],\n",
              "       [-0.2037104 ,  1.05263158,  0.3125801 ],\n",
              "       [-0.12079228,  0.3125801 ,  1.05263158]])"
            ]
          },
          "metadata": {},
          "execution_count": 9
        }
      ],
      "source": [
        "X_cov = np.cov(features)\n",
        "\n",
        "X_cov"
      ]
    },
    {
      "cell_type": "markdown",
      "metadata": {
        "id": "LDPacia_Pgsq"
      },
      "source": [
        "### 1-3) 이제 고유값과 고유벡터를 구합니다\n",
        "\n",
        "실습코드를 참고해주세요"
      ]
    },
    {
      "cell_type": "markdown",
      "source": [
        "**고유값 & 고유벡터**\n",
        "\n",
        "`np.lin.eig`를 이용해 eigenvalue(w)와 eigenvector(v)를 구할 수 있다.\n",
        "\n",
        "- 고유값(eigenvalue) = w\n",
        "- 고유벡터(eigenvector) = v"
      ],
      "metadata": {
        "id": "9eDIvMsgVcO2"
      }
    },
    {
      "cell_type": "markdown",
      "source": [
        "(1) 고유값 & 고유벡터 구하기"
      ],
      "metadata": {
        "id": "5QssbAOaZK28"
      }
    },
    {
      "cell_type": "code",
      "execution_count": 13,
      "metadata": {
        "id": "u850XjOtv3b9",
        "colab": {
          "base_uri": "https://localhost:8080/"
        },
        "outputId": "9c66e79b-538f-4c3f-c75a-023069892f71"
      },
      "outputs": [
        {
          "output_type": "stream",
          "name": "stdout",
          "text": [
            "eigenvalue :  [1.48756162 0.94435407 0.72597904]\n",
            "eigenvectors :  [[ 0.47018528 -0.85137353 -0.23257022]\n",
            " [-0.64960236 -0.15545725 -0.74421087]\n",
            " [-0.59744671 -0.50099516  0.62614797]]\n"
          ]
        }
      ],
      "source": [
        "import numpy.linalg as lin\n",
        "\n",
        "lin.eig(X_cov)\n",
        "\n",
        "eigenvalues = lin.eig(X_cov)[0]  # 고유값\n",
        "eigenvectors = lin.eig(X_cov)[1] # 고유벡터\n",
        "\n",
        "print('eigenvalue : ', eigenvalues)\n",
        "print('eigenvectors : ', eigenvectors)"
      ]
    },
    {
      "cell_type": "markdown",
      "source": [
        "(2) `mat` 행렬 생성하기\n",
        "\n",
        "- 고유값 분해를 위한 대각행렬 `mat` 생성\n",
        "\n",
        "![스크린샷 2022-08-16 오후 8.30.24.png](data:image/png;base64,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)"
      ],
      "metadata": {
        "id": "nM3Rg1dyZPRJ"
      }
    },
    {
      "cell_type": "code",
      "source": [
        "# mat 행렬 생성\n",
        "mat = np.zeros((3,3)) # 0으로 가득찬 새로운 array 생성\n",
        "\n",
        "mat"
      ],
      "metadata": {
        "colab": {
          "base_uri": "https://localhost:8080/"
        },
        "id": "56xxTCmxYoNU",
        "outputId": "7ac477ca-1d4a-426f-8de6-fddbcde4ddfc"
      },
      "execution_count": 14,
      "outputs": [
        {
          "output_type": "execute_result",
          "data": {
            "text/plain": [
              "array([[0., 0., 0.],\n",
              "       [0., 0., 0.],\n",
              "       [0., 0., 0.]])"
            ]
          },
          "metadata": {},
          "execution_count": 14
        }
      ]
    },
    {
      "cell_type": "code",
      "source": [
        "# 각 고유값을 mat 대각 행렬에 채움\n",
        "mat[0][0] = eigenvalues[0]\n",
        "mat[1][1] = eigenvalues[1]\n",
        "mat[2][2] = eigenvalues[2]\n",
        "\n",
        "mat"
      ],
      "metadata": {
        "colab": {
          "base_uri": "https://localhost:8080/"
        },
        "id": "77BT32hJY92Z",
        "outputId": "5906df37-b58c-43e9-eadd-d4d1852cc487"
      },
      "execution_count": 15,
      "outputs": [
        {
          "output_type": "execute_result",
          "data": {
            "text/plain": [
              "array([[1.48756162, 0.        , 0.        ],\n",
              "       [0.        , 0.94435407, 0.        ],\n",
              "       [0.        , 0.        , 0.72597904]])"
            ]
          },
          "metadata": {},
          "execution_count": 15
        }
      ]
    },
    {
      "cell_type": "markdown",
      "metadata": {
        "id": "--C9kkKDPgsr"
      },
      "source": [
        "### 1-4) 고유값 분해: 고유값 분해의 곱으로 원래 공분산 행렬을 구해봅니다\n",
        "\n",
        "https://docs.scipy.org/doc/numpy/reference/generated/numpy.dot.html 를 참고해주세요\n",
        "\n",
        "A = 𝑃Λ𝑃`\n",
        "이 식 기억나죠?"
      ]
    },
    {
      "cell_type": "markdown",
      "source": [
        "**대각화 분해(eigendecomposition)**\n",
        " \n",
        ": 행렬 A는 자신의 고유벡터들을 열벡터로 하는 행렬과 고유값을 대각원소로 하는 행렬의 곱으로 대각화 분해함\n",
        "- `numpy.dot` 사용! (numpy array들을 곱할때 이용됨)\n",
        "\n",
        "![스크린샷 2022-08-16 오후 8.30.51.png](data:image/png;base64,iVBORw0KGgoAAAANSUhEUgAAAloAAAEWCAYAAAC+KTlgAAAMbWlDQ1BJQ0MgUHJvZmlsZQAASImVVwdYU8kWnltSSWgBBKSE3gSRGkBKCC2A9CLYCEkgocSYEFTsZVHBtSAiihVdFVFsKyB27Mqi2PtiQUVZF3WxofImJKDrvvK9831z758zZ/5T7kzuPQBofeBJpXmoNgD5kgJZQngwc3RaOpP0FBCAHqABOrDi8eVSdlxcNIAycP+7vLsBEOX9qrOS65/z/1V0BUI5HwBkLMSZAjk/H+LjAOBr+VJZAQBEpd5qcoFUiWdDrCeDAUJcrsTZKrxdiTNV+HC/TVICB+LLAJBpPJ4sGwDNe1DPLORnQx7NzxC7SgRiCQBawyAO4It4AoiVsQ/Lz5+oxJUQ20N7KcQwHsDK/I4z+2/8mYP8PF72IFbl1S/kELFcmseb+n+W5n9Lfp5iwIctHDSRLCJBmT+s4a3ciVFKTIO4S5IZE6usNcQfxAJV3QFAqSJFRLLKHjXhyzmwfsAAYlcBLyQKYhOIwyR5MdFqfWaWOIwLMdwt6BRxATcJYkOIFwrloYlqm42yiQlqX2h9lozDVuvP8WT9fpW+Hihyk9lq/jciIVfNj2kWiZJSIaZCbF0oTomBWBNiF3luYpTaZmSRiBMzYCNTJCjjt4Y4QSgJD1bxY4VZsrAEtX1JvnwgX2yjSMyNUeN9BaKkCFV9sFN8Xn/8MBfsslDCTh7gEcpHRw/kIhCGhKpyx54LJcmJap4P0oLgBNVanCrNi1Pb45bCvHCl3hJiD3lhonotnlIAN6eKH8+SFsQlqeLEi3J4kXGqePBlIBpwQAhgAgUcmWAiyAHi1q6GLvhLNRMGeEAGsoEQOKs1AytS+2ck8JoIisAfEAmBfHBdcP+sEBRC/ZdBrerqDLL6Zwv7V+SCpxDngyiQB38r+ldJBr2lgCdQI/6Hdx4cfBhvHhzK+X+vH9B+07ChJlqtUQx4ZGoNWBJDiSHECGIY0QE3xgNwPzwaXoPgcMNZuM9AHt/sCU8JbYRHhOuEdsLtCeK5sh+iHAXaIX+YuhaZ39cCt4Wcnngw7g/ZITNugBsDZ9wD+mHjgdCzJ9Ry1HErq8L8gftvGXz3NNR2FFcKShlCCaLY/7hS01HTc5BFWevv66OKNXOw3pzBmR/9c76rvgDeo360xBZi+7Gz2AnsPHYYawBM7BjWiLVgR5R4cHc96d9dA94S+uPJhTzif/gbeLLKSspda107XT+r5gqEUwqUB48zUTpVJs4WFTDZ8O0gZHIlfJdhTDdXNzcAlO8a1d/X2/j+dwhi0PJNN+93APyP9fX1HfqmizwGwF5vePwPftPZswDQ0QDg3EG+Qlao0uHKCwH+S2jBk2YEzIAVsIf5uAEv4AeCQCiIBLEgCaSB8TB6EdznMjAZTAdzQDEoBcvASrAGbACbwXawC+wDDeAwOAHOgIvgMrgO7sLd0wFegm7wDvQiCEJC6AgDMULMERvECXFDWEgAEopEIwlIGpKBZCMSRIFMR+YhpUgZsgbZhNQge5GDyAnkPNKG3EYeIp3IG+QTiqE0VA81RW3R4SgLZaNRaBI6Ds1GJ6FF6Hx0CVqJVqM70Xr0BHoRvY62oy/RHgxgGpgBZoE5YyyMg8Vi6VgWJsNmYiVYBVaN1WFN8DlfxdqxLuwjTsQZOBN3hjs4Ak/G+fgkfCa+GF+Db8fr8VP4Vfwh3o1/JdAJJgQngi+BSxhNyCZMJhQTKghbCQcIp+FZ6iC8IxKJBkQ7ojc8i2nEHOI04mLiOuJu4nFiG/ExsYdEIhmRnEj+pFgSj1RAKiatJu0kHSNdIXWQPpA1yOZkN3IYOZ0sIc8lV5B3kI+Sr5CfkXsp2hQbii8lliKgTKUspWyhNFEuUToovVQdqh3Vn5pEzaHOoVZS66inqfeobzU0NCw1fDTiNcQaszUqNfZonNN4qPGRpktzpHFoY2kK2hLaNtpx2m3aWzqdbksPoqfTC+hL6DX0k/QH9A+aDE0XTa6mQHOWZpVmveYVzVdaFC0bLbbWeK0irQqt/VqXtLq0Kdq22hxtnvZM7Srtg9o3tXt0GDojdGJ18nUW6+zQOa/zXJeka6sbqivQna+7Wfek7mMGxrBicBh8xjzGFsZpRoceUc9Oj6uXo1eqt0uvVa9bX1ffQz9Ff4p+lf4R/XYDzMDWgGuQZ7DUYJ/BDYNPQ0yHsIcIhywaUjfkypD3hkMNgwyFhiWGuw2vG34yYhqFGuUaLTdqMLpvjBs7GscbTzZeb3zauGuo3lC/ofyhJUP3Db1jgpo4miSYTDPZbNJi0mNqZhpuKjVdbXrStMvMwCzILMes3OyoWac5wzzAXGxebn7M/AVTn8lm5jErmaeY3RYmFhEWCotNFq0WvZZ2lsmWcy13W963olqxrLKsyq2arbqtza1HWU+3rrW+Y0OxYdmIbFbZnLV5b2tnm2q7wLbB9rmdoR3Xrsiu1u6ePd0+0H6SfbX9NQeiA8sh12Gdw2VH1NHTUeRY5XjJCXXychI7rXNqG0YY5jNMMqx62E1nmjPbudC51vmhi4FLtMtclwaXV8Oth6cPXz787PCvrp6uea5bXO+O0B0ROWLuiKYRb9wc3fhuVW7X3OnuYe6z3BvdX3s4eQg91nvc8mR4jvJc4Nns+cXL20vmVefV6W3tneG91vsmS48Vx1rMOudD8An2meVz2Oejr5dvge8+3z/9nP1y/Xb4PR9pN1I4csvIx/6W/jz/Tf7tAcyAjICNAe2BFoG8wOrAR0FWQYKgrUHP2A7sHPZO9qtg12BZ8IHg9xxfzgzO8RAsJDykJKQ1VDc0OXRN6IMwy7DssNqw7nDP8GnhxyMIEVERyyNuck25fG4NtzvSO3JG5KkoWlRi1JqoR9GO0bLoplHoqMhRK0bdi7GJkcQ0xIJYbuyK2PtxdnGT4g7FE+Pj4qvinyaMSJiecDaRkTghcUfiu6TgpKVJd5PtkxXJzSlaKWNTalLep4aklqW2jx4+esboi2nGaeK0xnRSekr61vSeMaFjVo7pGOs5tnjsjXF246aMOz/eeHze+CMTtCbwJuzPIGSkZuzI+MyL5VXzejK5mWszu/kc/ir+S0GQoFzQKfQXlgmfZflnlWU9z/bPXpHdKQoUVYi6xBzxGvHrnIicDTnvc2Nzt+X25aXm7c4n52fkH5ToSnIlpyaaTZwysU3qJC2Wtk/ynbRyUrcsSrZVjsjHyRsL9OBHfYvCXvGT4mFhQGFV4YfJKZP3T9GZIpnSMtVx6qKpz4rCin6Zhk/jT2uebjF9zvSHM9gzNs1EZmbObJ5lNWv+rI7Z4bO3z6HOyZ3z21zXuWVz/5qXOq9pvun82fMf/xT+U22xZrGs+OYCvwUbFuILxQtbF7kvWr3oa4mg5EKpa2lF6efF/MUXfh7xc+XPfUuylrQu9Vq6fhlxmWTZjeWBy7eX6ZQVlT1eMWpFfTmzvKT8r5UTVp6v8KjYsIq6SrGqvTK6snG19eplqz+vEa25XhVctXutydpFa9+vE6y7sj5ofd0G0w2lGz5tFG+8tSl8U321bXXFZuLmws1Pt6RsOfsL65earcZbS7d+2SbZ1r49YfupGu+amh0mO5bWorWK2s6dY3de3hWyq7HOuW7TboPdpXvAHsWeF3sz9t7YF7WveT9rf92vNr+uPcA4UFKP1E+t724QNbQ3pjW2HYw82Nzk13TgkMuhbYctDlcd0T+y9Cj16PyjfceKjvUclx7vOpF94nHzhOa7J0efvHYq/lTr6ajT586EnTl5ln322Dn/c4fP+54/eIF1oeGi18X6Fs+WA795/nag1au1/pL3pcbLPpeb2ka2Hb0SeOXE1ZCrZ65xr128HnO97UbyjVs3x95svyW49fx23u3Xdwrv9N6dfY9wr+S+9v2KByYPqn93+H13u1f7kYchD1seJT66+5j/+OUT+ZPPHfOf0p9WPDN/VvPc7fnhzrDOyy/GvOh4KX3Z21X8h84fa1/Zv/r1z6A/W7pHd3e8lr3ue7P4rdHbbX95/NXcE9fz4F3+u973JR+MPmz/yPp49lPqp2e9kz+TPld+cfjS9DXq672+/L4+KU/G6/8UwOBAs7IAeLMNAHoaAAzYt1HHqHrBfkFU/Ws/Av8Jq/rFfvECoA5+v8d3wa+bmwDs2QLbL8ivBXvVODoAST4AdXcfHGqRZ7m7qbhosE8hPOjrewt7NtIKAL4s6+vrre7r+7IZBgt7x+MSVQ+qFCLsGTbGfMnMzwT/RlT96Xc5/ngHygg8wI/3fwFQoJDj3GBNpgAAAIplWElmTU0AKgAAAAgABAEaAAUAAAABAAAAPgEbAAUAAAABAAAARgEoAAMAAAABAAIAAIdpAAQAAAABAAAATgAAAAAAAACQAAAAAQAAAJAAAAABAAOShgAHAAAAEgAAAHigAgAEAAAAAQAAAlqgAwAEAAAAAQAAARYAAAAAQVNDSUkAAABTY3JlZW5zaG90ZAk9OgAAAAlwSFlzAAAWJQAAFiUBSVIk8AAAAdZpVFh0WE1MOmNvbS5hZG9iZS54bXAAAAAAADx4OnhtcG1ldGEgeG1sbnM6eD0iYWRvYmU6bnM6bWV0YS8iIHg6eG1wdGs9IlhNUCBDb3JlIDYuMC4wIj4KICAgPHJkZjpSREYgeG1sbnM6cmRmPSJodHRwOi8vd3d3LnczLm9yZy8xOTk5LzAyLzIyLXJkZi1zeW50YXgtbnMjIj4KICAgICAgPHJkZjpEZXNjcmlwdGlvbiByZGY6YWJvdXQ9IiIKICAgICAgICAgICAgeG1sbnM6ZXhpZj0iaHR0cDovL25zLmFkb2JlLmNvbS9leGlmLzEuMC8iPgogICAgICAgICA8ZXhpZjpQaXhlbFlEaW1lbnNpb24+Mjc4PC9leGlmOlBpeGVsWURpbWVuc2lvbj4KICAgICAgICAgPGV4aWY6UGl4ZWxYRGltZW5zaW9uPjYwMjwvZXhpZjpQaXhlbFhEaW1lbnNpb24+CiAgICAgICAgIDxleGlmOlVzZXJDb21tZW50PlNjcmVlbnNob3Q8L2V4aWY6VXNlckNvbW1lbnQ+CiAgICAgIDwvcmRmOkRlc2NyaXB0aW9uPgogICA8L3JkZjpSREY+CjwveDp4bXBtZXRhPgp+k+SaAAAAHGlET1QAAAACAAAAAAAAAIsAAAAoAAAAiwAAAIsAADDtF8DfwAAAMLlJREFUeAHsnfnzFMX5x5tTLhFFUC5R8AIRlEMkKFHA4BlDgkZRi8MAiUnKvyW/xVAUSQUt8GuhJhpR8QCPKJcCXohyg4KcyiXn19fjt/kO4+w9szsz++6qz2d3Z2dnel7d0/3u53m6p8XpH5JTEgEREAEREAEREAERiJ1ACwmt2JnqgCIgAiIgAiIgAiJgBCS0VBFEQAREQAREQAREICECEloJgdVhRUAEREAEREAEREBCS3VABERABERABERABBIiIKGVEFgdVgREQAREQAREQAQktFQHREAEREAEREAERCAhAhJaCYHVYUVABERABERABERAQkt1QAREQAREQAREQAQSIiChlRBYHVYEREAEREAEREAEJLRUB0RABERABERABEQgIQISWgmB1WFFQAREQAREQAREQEJLdUAEREAEREAEREAEEiIgoZUQWB1WBERABERABERABCS0VAdEQAREQAREQAREICECEloJgdVhRUAEREAEREAEREBCS3VABERABERABERABBIikGqhderUKXfy5En7O3HihONzsdSqVSvXpk0b17p1a9eiRQv7K7a/vhOBLBPIyv1x+vRpxx/38PHjx+1+Lsa9ZcuWdg9zP/PH5zgS5z58+LA7dOiQO3jwoDt27Jjlq3379q5r166uY8eOdt64zhdHnut5DPGpJ+36nUvlGs0abfH9999buxS9x49b0RK0CV5f8FppSrXQClYQGkg+F0vt2rVz5513njWYCK5mbTCLMdJ3+SGQlfsDQUheETgHDhxwR48eLVoI3LsdOnSw+5hXPseROPfmzZvdxo0b3YYNG9yePXts8NarVy83cuRI169fP9epUyfXtm3bOE6XuWOIT+aKrKwMq1yjMaEpvvnmGxt8Re/x41Z0BG0CbRH6Ap1RaUq10GLU+fXXX5/5o8Hu1q2bXXDUhQKC7zt37uzOOeccU6BR+2mbCOSBAKOx7777zn377bf2x+dgCguxc889111++eXu4osvrqugwHLk7+UvvvjCBFeXLl3sPkZEhUeI3Lvcw/yRZz7XkjyH3bt3m8jasmWL27p1q9u5c6fbt2+f6969uxs9erQbNGiQ6927t523lvNl7bfik7USKy+/KtfinGg3t2/fbm1n1J5eiMGRdoh2k/bzggsuiNq96LZUC61du3a5tWvXnvnDxD9mzBjXt2/fyIuS0IrEoo05JVBKaDGS3bRpk1lxsOTQQIwfP95de+21Ji5wldUjYcny9/LixYttBDl48GC7jxFc4RFi3EILDggr8kDjiguT8AIsWrQvCEHalAEDBrjhw4e7nj171gNLas4hPqkpilgzonItjrOU0KLNXLp0qWOAxmCMdnPcuHFm+S5+5J9+WxehRXwG1ihG31io6CAQRajEqIbWZ3Pbtm3u/fffP/N3/vnnu8mTJ9sF+32Cr3IdBmnofd4J+BErQibKtY7Fxg9UPvroI4tD+vWvf+1uvPFGh7sMi1E9km/Q3nvvPbdw4UJzHdJgecGHuy6Y4nYd+g5n//79JrJwA9DuYM1auXKljWqJ18B1OGHCBNe/f/9gdnL/XnzyWcQq1+Ll6i1WvEYl2s6nnnrKBqq0l7SbtJ8DBw6M2r3otroILRoxOoV169a5RYsW2ciyT58+7qqrrnLXX3+9meSichkWWpjuZs2aZaPOqP19sJqC4aPoaFveCJQKht+xY4cJiRUrVjj+EBdpEFq0B7/85S/dsGHDzHrEgCuYiIngHuZ+5q/WWEsvSHll0MfxEHN0ROvXr7d26ZNPPrGwg0mTJlXVkAbzn7X34pO1EisvvyrX4pxKBcPTZj7xxBPu888/t4Fp6oUWI26Czsj4M888Y0LriiuucCNGjDBT3GWXXRZJJCy0UJWPP/64Ba5G/kAbRUAEzhAI3z9YsNIgtMhgI/JxBsz/vaFdwuq3evVqGwDiSp0yZYobMmRIeNem/Cw++Sx2lWt55Yo37S9/+Yv79NNPsyG0vvrqK/fBBx+45cuXu3fffdeCYb3QKmaqD3cUElrlVRDtJQIQCN8/Elpn1wtG/EeOHDGr37x588zKNWPGDLO0nb1nc34Sn3yWu8q1vHLNjNDyLkOmUi9ZssRGjgSYsb1Hjx5u6NCh7s4773SIrqgU7igktKIoaZsIRBMI3z8SWmdz8rGjWNpnz55t6+7NnDnTQhNYO6fZk/jkswaoXMsr18wILdbLIeCU2Ky33nrLplajpknESDDLh1gNYrWiUrijkNCKoqRtIhBNIHz/SGj9lBOdzqpVq9ycOXMsfmvatGk2ACQ2TGLLGRPx+Wm9yfoW1fvSJZgZobV3714LNsWixSKBfEZoMZ0aEYYla+LEiSa4oi473FEkLbQILmbqNz5sBCKvwRXpmSl54YUX2mxJv/4PFZZZC0wBDa42TUNNkO9FF11kCy9GXV+t27KW31qvN+nf541n+P6R0Dq7BnmLO0Ji7ty59uXUqVPNdejv77N/Ud6nvNSjpPh4innh5K8nK69JlWveyjMzQos1fN58800LhGcdCkQLiwWyng1LPbD413333eeuueaayDoa7iiSFloIQPJFvnEn8MpntpMuueQSd/PNN7srr7zSsdQE6/1QuXCHvvPOOyYqmUJORWapCSx1rFvEtPEkUtbymwSDOI+ZN57h+0dC6+zawmCPmYfLli1zxGgxOJo+fbpN0mFQhdiqJuWlHiXFxzPNCyd/PVl5Tapc81aeqRdaPtiOaZGvvfaaCRUecUFDxujRW7dYr+bBBx+0FZmjKmm4o6iX0Pryyy/d22+/7dasWWN5RTyRrr76averX/3KYjiIMWOWEkKL/VmIkTV5eE+FQ1gyq5LZVbhIk0i+Ymclv0kwiPOYeeMZvn8ktM6uLVituXdoUF988UVb2w+LFm0VrKpdkT4v9SgpPr4U8sLJX09WXpMq17yVZ+qFFgsU0sjzuA0W/WJ0OHbsWFu/hpVWP/74Y5tWjdB6+OGHHatER6VwR5G00PKmTyxuxJVh1XrjjTdMbJE/LFT33nuvu+GGG8y6xXOPcB0yRRxRxsiY62MmE4/zYL9bb73VXXrppVGXV/O2rOW35gtO+AB54xm+fyS0zq5AWKyxuHPfsqArgyMWROa+5SHTPImimpSXepQUH880L5z89WTlNalyzVt5pl5osZwD1h0ee8Eq8DzSYtSoURafhYXrww8/NCHG+lmMIK+77rrIOhruKJIWWj4T/rlsrGT99NNPmzDkO1yGd911l414EYn+mUfEZ7HWBgXD9SG+brnlFmuwEVw04EmmrOQX1zH1gfxiJeTGpPNnZfAoVw37ItqJlcPcjSuHDhBLol+UNsgVgUtZ8Eqio2R/jl1JygrPUtcUvn9KCS2/UjLucqzSlE8liRXXiUv0f/7hzOGV4TlmI9fR4tqoU5999pl7+eWX7f5mlM9zDrm/WUSZ2MrwivWVsGDfrNajevHxPLPCKSvtl+cafq1XuWalPMN8wp9TL7SwBj3//PMW/4CIwhLEs8RozLAQ4T4kQB5Lz6OPPmqzfMIXyedwR1EvoUUHT+wGoP/+97+bMCQ/iKtf/OIXJrRwBxIYT2IFbtYIwwKGwCR+ixWmeW5aNR29HbSCf1nJL50bC9di6aQOcOPDkVg96gcWwmBiX6yfuJp5dBNcEewIdERUOIYGYf/f//7XBD7HoeP82c9+5ngKQSUpKzxLXVP4/ikltIg1ZBkWXP7UfzhUkqjr3OsMSHjlMyltQguRz7VixeIexyKNm5B6wmr15J338KolZbUe1YuPZ5sVTllpvzzX8Gu9yjUr5RnmE/6cWqGFj5ZGlcdZMFIk3X777fZIC0a5WLpwrSFIGE3SufJIHRq3qBTuKOoltAhmx4KCS+Fvf/ub5RcrFfnFFUgMB+5OLFVsJ87j1VdfPTMyRkAyYseaVcvspSgmUduykl9udEQTIuv111+3jhw3Deup8dw7rAjBRGfIsiCs3M3v+P6ee+6xlbsRXeGHEVPveJYer5QLIq6aR6pkhWeQVdT78P1TSmgx+HnllVfMOluL0IJ7sDzTIrSoE/whyGlEefwOFlDaLYQ79zMTVxDyvFLHaklZq0f15uPZZoVTVtovz9W/1rtcs1Kenk+h19QKLRotrFl0ijRmuNZ+/vOfW6OFq4eGn9l5WH/oPJnF99hjj1nQeNTFhjuKegktKiZuE4TWX//6V3vFbIyFZPTo0Sa0EIc8exGrDNcyf/58ezgtDTQiDMsLo2Keq5b0ejxZyS8WKlyslD9Ciw6OCQP8Ibgo32BCwNLxsz/vEVpMRmB/JiOEXTu4pLFA8hQCmGBNxTWNK6iSMsgKzyCrqPfh+6eU0PIucGIUqdfVug4RLIgVnq1ISovQ4nq4Lqykzz777Jk4UVzRuEtxdXJPM1DCquUt1lFsy9mWtXpUbz6eYVY4ZaX98lz9a73LNSvl6fkUek2d0AIsKpYgOyxWVEhEFo1tcGRLw49rBwGDVYuO9U9/+pN1snSE4c4w3FHUS2h58LgBWTEa4MT90IEgCLBoIaS4xj179ljHjqsU4UBsFh07117riNjno9zXtOcX1zFWEyYOILgRr4ghni3HEh/wDSbvCvSzP+F92223WZ1iXzrIYELE0YF6ixazRLEs8rT1cN0K/q7Q+7TzLJRvvz18/5QSWsRoUZ8LPc3eH7fUKzFxQZd5WoSWj0FDkDPLkDZr3Lhxdh/TdnGP475mABhst0pdb6nvs1KPGsXH80s7p6y1X55ro8o17eXp+RR6TZ3QosOkkWKG4XPPPWejRmKZaKxocP3sne3bt5t1ggtAcGGVwKKFcMHihfUnmMIdRb2FFpaqf/zjHya0MBszQkcY8BTvMWPG2HVxzXTsuEL5nkcK0bFjbQnHEAWvLYn3ac8vQpQ4B8oVboy0YIWlkA4uPJ3eB1USA0fdwVVInaLesC91JpiwyFAOvCL+sUggtrp16xbcrez3aedZ6kLC908poYXwIL6C11oSy7hQPryS0iK0/DNXic3CbUi9wBVN3aOsGSByz1IfsVgziSeOlJV61Cg+nnHaOWWt/fJcG1WuaS9Pz6fQa+qEFmZ3CpOR4qJFiyzfxGZhfg8KKO9apJNF7SKcfv/735vQCjbM/sLDHUW9hRYN8oIFCxyzDwmYZaSO5YUg95tuusk6cyx4iADyT7A8AoxYrqjkOzIEBJ0PHVGUZSbqt+VsqzW/PogR0ew7W28JQrggdLDSeeFcTp6i9uHasVaR6NQQAP48wf3JA64eePFUAXgVmw1G/jk28XUkyiRKwAXPUex9rTyLHbse34Xvn2YVWv6+I8ifWEpi/6gbBO1jIaVe456mTtKZIrAIESg0icIfr9z7OO56VOn5S9U1f7xa+dTafsTFqdZ8lOKVlfYrrnItxaPQ93GVZ6HjJ709dULLW6qIfSCWBgsXHSIB8EErFY2YF2XsRyzE7373O7MQRU3vD3cU9RZaWEdwRQGcFe0RjTTOBLkTwI1JlqB/rpdYNGKzombP+QrB/sS/EMOG2MT1xfpiuBnjSLXml7xxc1CeiBUsTt5qxE1L/Aois9aRPuIJMUeKmj3oWXhfv28wEGN0ij5Pfj//6mMReOW3CDMsFME66Pct57VWnuWcI8l9wvdPKaFF/cyj69C7Tojdw8XPZ6zSuPgZOFG/+A63NoIeiykuxUL3ZaX3cdz1qNLzl6pjcfGptf2Ii1Ot+SjFKyvtV1zlWopHoe/jKs9Cx096e2qElu8Ama7P+lE07MVcZlRQCp+p+gTNM2LkIa6FVmIOdxT1Flq4F1566aUzM5S4XhpfBCKvXA/CBCsPD8fGrYV4CrsMES3495nJhdDkuMymw9ry0EMP2e/iqDS15Bdh4mf54apDADHqR9Tg7sOih6uFWZc8o5LvvGsojryn8Ri18EzD9YTvn1JCK6/B8LgEce9jRSc2kHuUhYcZLGFRpn5zH2PR2fRDrBbb7r77bhtUBcux2vs4rnpU7fmD1xD1Pg4+cbQfcXCKIx9RjLK4LY5yreW64yjPWs5f629TI7QQTYyAsWQxi4xKTkdcaCRInBOWIaw5NHjEND3yyCM2uoxySYU7inoLLSxPXBfAyTMNHXkgrwgNLHbEoLEOFEHyCEfER9iC4n3kiC2uGaHJekUcB6FJ3Fccqdr8Yimi7BjRI5i5Th+jwncIMFbQxlKES8XHPVW6EGgc11jPY1TLM1z+9cxz8Fzh+6eU0Mrr8g5YzwlpYLIEooqBEguTsgwF9zEDIAZ+tGPElXBP33///T95Bmu193Fc9aja8wfrRNT7WvnQdsTRftTKKa58RDHK4rZay7XWa661PGs9f62/T43Q8sHHmAj5I/iY6fd0xFHJx2gR84TLjY6aZx1i0WIUGe64wx1FvYUWMRs88xDgjIYRSjTCCCwaaNyELDVAQDfvEVFRyTeQ+PZxqfIZSxkdX7EFW6OOVWxbtfn1DRQuQ2aDIq64LniTsAb8z//8j8VKsQAo7hbcK3DIc6qWZ1qYhO+fUkILQZ2nBUt98DKzVpmkw32HyMLFT4wlswtJDAC5dmJMGVBglX/ggQfsvuYYDJ6o67gVcTFWeh/HVY/ibkfi4sPAAma077W0H7VyUjv2Y8sTV7n6ek9fV02qtTyrOWecv0mN0PIWEBp0bjTWkEI0EeAclWioMCcitBAarFvDyJF4CeJ/OEYwhTuKegstXGg0HADHAsdn8owLjWvFEoWFh/dRLkN/Ld7kTywXlZaR9ZNPPmkuxjiFVi35pZEibgoxSWIpBR/0zkifRxFhDWD5Cr8UA9ec51QLzzRwCd8/pYSWj+nAvY1bHAtmJYl7A0Hi//hMQpgg4rnvWVCWVI9H8FCXGdVzD7MeGwOICRMmWJwhVncsyiSC2nGNExBP/tiPhW7ZhzaLASCDR9onjlnpfRxXPYq7HYmTDxOfaA9qaT/i4KR2zFkZxFnvq11PLo7ytBu0Qf8aLrRQzDROxDX8+9//tg4Y1xlB4sy88w1YmA9uRoQWF4DQQjFPnDjRxBmjS2KWgincUdRbaBFUicuQ/DLSR6ETf4X1CnFIYDhrQGGlqiSxMvqcOXPsJ3EKrbjzS0waZY0wpJzpfMePH28uF6x31Y50KmHVyH3j4EnDTweJ1YQO2osPtsEWpmzjnvFinfsijhS+f0oJrTjOGXWMegstODNoIEwBkYVFC9cg9ykCitgs2homVpD8bFWs1gwocCWyTh7tDWITaztWsPB9Xu59HEc9iuJa7vnDv60Xn0rbj6Q4VZqPMK+sfI67XDEoUO+5V6ppv+Ioz0a2nw0XWozyvGJevHixWT7uu+8+Ex5BS0i4ghKcR6fNBTDNmpHjHXfcYUKL2Xy45YIp3FHUW2ghDAmQpbEmdgnTPZUOQcl6WQS/BxvsYN6Lva+2gSx2TL6LO790VkErJIKA6fCUVS2z+UpdR1q+r5UnjQR/1BtifxAcjA7pvLGgcHy2cc/Q+XsrixcAtXII3z/NIrT8zGYGSQyQGFljlcLFT3uD9YX66wUt5YHgpW164YUXLFaRMsDKjiWLyR+UTTg0oNz7uNZ6VKgelHv+8O/rxafS9iMpTpXmI8wrK5/jLlf/DFoGhdW0X7WWZ6Pbz4YJLT/yY6RIPAPw+aOjYKSIVcu7ABFRPtGI4XbCfYAVjDgHVocn4WpkmjXiBSFFg+hn7YU7inoLLV9xGQ0z2kV0IKxoqG+++WazbPlrrOS12gay1Dniyq+v4MRcIDQRChwbIUzsVq3LO5S6jrR8XytPz5GgUDp8RngwxBLIvUR94p7A1ca9Q6cOWz7HkcL3T7MJLX/fUo60HQwQmORBfGFUoixolzb9MPMQiz1WRkb0iCzKLRxDWu59XGs9isor28o9f/j34fzEzcfX+0rbj3C+am1vq81HmFdWPof51Vqul/4Qz0jfzqCwmvYrnJ9Ky9OXX6Paz4YJLW+RQiwhtAggxaRIg0QDhiuNPxo1hJYXW+xD40XDxyiT5SBo1ADpG0DinRAwzNxDzJDCHUW9hZY3xVJhiD3A1YMIpCPErBpueMu9IattIEsdP678+hE+Vss33njDrpty9W5hH7tVKj9Z/z4OntRx6j4ccT0jshiMMOMNzn42K3GNNGzeqhUHu/D90yxCK1xufKbOct/SVhWyGHrLB4NCfoMFl7YIly7l5i1gvmzKvY/D+Wl0OxLOT9x8qm0/wvmqlVO1+fDlm7XXML84ypV7gHarmvYrnJ9qyrOR7WfDhRZWDsQSCpVEA8YoMThijBJaBM/zh0Im8JaEWKHj4bd0MmkSWpbBBP6V20AncOqyDsloHivWph8EAjMOKd9iy3aUddAm3ol7heUFWNYDgY5JHlchlt53333XBisMIohTLDZ7tVKEzSq0KuVU7f6Nvo8bff5C3NLSfqQlH4U4ZWV7o9ovz6dR52+Y0PKuQyowfyhUEotaMmJkVo4fMXprFt971yEjRX7HcVC7JH7LCJPfMnJMk+vQMpjAv7Q2kP5ScQ2zoCrxQ8yoRAAgBLCIKFVOgFmbLI/B4ALByqxNYrUQs8Qqsh3hhcWQ7XFZDCW0Ki+rSn7R6Pu40ecvxCot7Uda8lGIU1a2N6r98nwadf6GCS1/4fV6DXcU9XYdJnWdaW0gEcDMuMKSRUwaIpjlK3Bp4TLFFI9YJiGMMSsrFSaA2du7B+fPn2+ucpYzYRIFbLEMBx/CToxWcKBR+MjlfRO+f5rFdVgendr3avR93Ojzhwmmpf1ISz7CfLL2udHtV6PPL6H1QwB9VhOVh8kASSzvUCsTgrWJv2O2CCLKu7mwUpKIU0OEYa3E+kKgpFJhAn5aOSMynplJjA+zc7FowRDWTz31lImx3/72tybA2CeuleUltAqXTa3fNPo+bvT5o/ilpf1ISz6iGGVpW6Pbr0afX0IrY0IL1ynuIUZavGddH9brobNlBWpmNtHBIm7itGiUe1PTaOPKJfidZSyYLUSsHOsGIaYIBMZNjDWLiQ0ECGOVCa8rVO75mmU/P7JmEgizduDIMzGJ0eI76sGCBQsMB09IYE02LIcSWumsIY2+jxt9/kKlkpb2Iy35KMQpa9sb3X41+vwSWhkTWrjjiBdgpMUMRlxGPNqHDnXs2LG2Tg8CiynkwckA9boxacCZccVSHcQSMWEBKxYxc4g/GjC+x/XEzFBcXKxJhMVLqTABYtyYsYMVkIV64Ud5swAmVkNmHPIoKuoBz95DvMa5EKwsWoXLpppvGn0fN/r8hZilpf1ISz4Kccra9ka3X40+f9MKLWYnzpo1y5aQiKq0WIWwCBD/grWIvzSkcANJEDQzKehgmebPjM00CC2eV8mjSli2gwkKcCRh7WLROoQVa54htpgd55fhSAPjNOYBUc0yJghs3K7M3mS9OOLbEFoIWqxa1AOWR2HWbSVCi/gvzOv8UUZ8DiYW6iTWjgV3+ePY9Xj0TTAPvKfBhIN/BA/5xbLnH1wOl2CCB3WP+zlOV2rwHNW8b/R93OjzF2LmBU6j24+05KMQp6xtT7r9KsUj6fPTDmE18xPzwvmhzXziiSfMMEJ8OE+Dof3EyFBpavGDteJ0pT+q1/7hETlWlsmTJ9vIPyoPiAO/7k2cLpioc1WyjQYg6DpEtDD7EiGIlYN8p8F1SMVm6Q1chOTHC1WqCJUS1xdlQMfYCBdnJczTsC83MJZAyps6gHigfvLKDQ5nOk8SXBFgldRbX684DvWLz8FEWWI14494MCymaRBa8Bg3bpzdx1j3uO5gggH1KzwLObhPI9573pQd7+t9Hzf6/IWY0z5Q1xvdfqQlH4U4ZW170u1XKR5Jn582k7VBeY1KtJvE0GJ4yLXQwhLgOwpemfY+ZsyYgiuy0zhjdUG8RC0wGAVT20QgqwTo8OncsBjxx+dgQsThtqSh4I94O55ViYsSgYOQqUdCCPp7mUd20bARl+jXDGOgEUzcu9zD/CHq+awkAiIgAnES8JZ2XqMSbebSpUstZpn2knaTASJLHlWaUm3RwurDIo/+D9cIQgpBFZUktKKoaFteCZQSWt4C4i1eiBYC8f1jsuq1PAcTKfy9jMuc/ODG5H7FeoX1NJgktII09F4ERCAJAqWElrd40Y7SdtJu0n5WM9s+1UIr3FHwuVhKq+uwWJ71nQhUSyAr9wcDJPKKwMLKhsutWEqr67BYnvWdCIhAtgh4IVXIdeivhphRvyIAoR9hC7zfr9hrqoVWqWDf8IUxMqaRJgYmTcHw4XzqswjEQSAr9wexMz5+BsFFvF+xlNZg+GJ51nciIALZIlAqGN5fDVqCNsnri7AF3u9X7DXVQqtYxvWdCIiACIiACIiACKSdgIRW2ktI+RMBERABERABEcgsAQmtzBadMi4CIiACIiACIpB2AhJaaS8h5U8EREAEREAERCCzBCS0Mlt0yrgIiIAIiIAIiEDaCUhopb2ElD8REAEREAEREIHMEpDQymzRKeMiIAIiIAIiIAJpJyChlfYSUv5EQAREQAREQAQyS0BCK7NFp4yLgAiIgAiIgAiknYCEVtpLSPkTAREQAREQARHILAEJrcwWnTIuAiIgAiIgAiKQdgISWmkvIeVPBERABERABEQgswQktDJbdMq4CIiACIiACIhA2glIaKW9hJQ/ERABERABERCBzBKQ0Mps0SnjIiACIpBfAsePH3eHDx92hw4dcgcPHnTHjh1zp0+fdu3bt3ddu3Z1HTt2dK1bt3YtW7bMLwRdWS4ISGjlohh1ESIgAiKQLwIHDhxwmzdvdhs3bnQbNmxwe/bscadOnXK9evVyI0eOdP369XOdOnVybdu2zdeF62pyR0BCK3dFqgsSAREQgewS8Jas3bt3m8jasmWL27p1q9u5c6fbt2+f6969uxs9erQbNGiQ6927t+vcuXN2L1Y5r5qAryfe4snnFi1a2PF4RYCfe+65rkOHDq5du3Zm/az6ZDX+UEKrRoD6uQiIgAiIQHwEsGQhrHbt2uW+/fZbd+LECesksWitXbvWXIh9+/Z1AwYMcMOHD3c9e/aM7+Q6UmYIhC2e+/fvNzdyq1atTHDhXr7iiivcJZdc4nr06GHWz0ZdnIRWo8jrvCIgAiIgAj8h4IUWHSciC8tEly5dzJq1cuVKt337dnfy5ElzHU6YMMH179//J8fQhvwSIFaPmD3qwSeffOK2bdvmvvvuuzOCnDi+I0eOWL1BbCHKsX4iyBtl2ZLQym991JWJgAiIQOYIeJcQr3SaBLu3adPGIcDWr1/v1q1bZx1st27d3KRJk9zAgQMzd43KcPUE9u7de6YefPTRR1Y3sGz26dPHnXPOOTZ5Aovol19+6T799FOzZI0dO9YNHjy4YZYtCa3qy1u/FAEREAER+D8CWJm+//57c/d98803ZlVgViCuHF59/EwYGLMHEU3E0hRLxOIQp7V69Wq3aNEim3U4ZcoUN2TIkGI/03c5IoDwZoLE0qVL3WeffWYTJIjTu+uuu8yVjPUTaxdCa8WKFe6FF16wejhq1Cg3YsQIqysXX3yxEaG+elGP9fTo0aORpJiAwX5YVzk/cV9MyKgkNlBCKxKtNoqACIiACFRCgKUYEFhYEZYsWeJ27Nhh4gkhhYgqNDsQ186YMWPMxVPsfHR2uIRwH86bN88sGTNmzHDDhg0r9jN9lxMCiBzEEXF6CxYsMJch8Ve4BRFSvMf6iSCiLq5Zs8Y988wzNmP1ggsuMIvWPffc46688kojgrDycV6Id0R8VGI/hBhCn2NfddVV7je/+Y0Ju6j9o7ZJaEVR0TYREAEREIGKCBC4TtzMe++95xYuXOiYLYj1wP9hCYhK5QotOlqsC1gqZs+ebRaymTNnWkB8IWtZ1Pm0LZsEfGwW5f/Pf/7TRBICHbfhNddcY1bR4JVh8Xr22Wfdhx9+aPsisB555BF33XXXmZWV45UjtJiE8cUXX7ivv/7arGXXX3+9e/zxx22JkeD5ir2X0CpGR9+JgAiIgAiURSAstOigsDZce+219seyDFGpXNchv0VsrVq1ys2ZM8feT5s2zQ0dOtQ6TomtKLr52ebr1/vvv28Cirpw7733uhtuuMGsWeedd95ZF8v6a6+//rpbvny5xfXhYsTVjAsRCyvWr3Jchxxn8eLFZkljJix1WkLrLNT6IAIiIAIiUA8CviP0Fi0+s7Co/6OjqyX5mBqE1ty5c+1QU6dONdchwfLEginllwBuaWYZIrReffVVi9F76KGHrH5deOGFP4nxw7rKvvxRJ3EfPvzww+7GG2+09zxhoJzEObHQcgyOybIiElrlkNM+IiACIiACsRJIWmj5mJply5ZZjBbCavr06WcsFIgtpfwSCAsnJlBQ/gh53NLhGEA/cQKh9eabb9qjm4itYv9KFrqV0MpvndKViYAIiECmCCQttFgVnin7dJwvvviiWTCwaNFxMgOMqf1K+SWwadMmm2RB+RO8jliaNWuWlT9lz8zWYOLJAkzMYP9XXnnFLJ5333237c/aa+eff35w94LvJbQKotEXIiACIiAC9SSQtNCio8UygUWL9ZOI+Zo8ebLF6LAwZbmuoHoy0bniI8DzLl977TUTTh9//LHNUn3sscdMOGHNDD9cnBhB1l1DaL300ksW03f77beb65DAeOpMOUlCqxxK2kcEREAERCBxAkkJLQKWmVrPLLKXX37Z0cli3cKiwfpJzAK76KKLGvqIlcTh6gQ284/yRzixaC1WqT/+8Y8mnBBZ4ckQQQso62kR43fbbbeZMCPOCtdjOUlCqxxK2kcEREAERCBxAkkJLdYwYpFKrFh0ssTe4CpiJXDW0GJdI95XsoBk4jB0gtgJfP755+Yypg5g3eI5hn/+859NOIVFFien3jBjkP3/9a9/2TMyx40bZ/szc7DQLNhwxiW0wkT0WQREQAREoCEE4hZaTN/nj1W+6SxxAxF3w/pHuAnpKPv16+cuu+wyey035qYhcHTSmgkgtLBMeaGF+68SoYVldPz48Sa0otbdKpRBCa1CZLRdBERABESgrgTiFlr+0Se4Cll4EksW7iLW3eIhwswyYzHUSy+91KxaTPFXyi8BFg39z3/+c0Z0X3755RW5DqlPitHKb/3QlYmACIhA7gnELbT8I31Y2ZtZhsTY4PphPSQC43kcD4tU8ugVFkUlTisq8Tuewcgz8Mgjy0JgDUOwKWWHADNOmT2IRYvZhFgy//CHP1iMVjnB8LgXeQQPs1SxhJZrAZVFKzt1RDkVAREQgVwTiFtoffXVV+6DDz6w2CzchgQv01EirpjezwKWdLAExROr1bNnz0i+CDZW9CZeh+fkIbDGjh1rHXXkD7QxlQT8Su8sHEq8HnF5PIIJ4YQrOWp5ByZQIMwIoqeuTJw40fZHnIdXki900RJahchouwiIgAiIQF0JxCW0vAWKmBxWACcQnuB3YnKYNdauXTt7rAqxW8RrIbBGjx5tHW/wglnglJlnPM8OVyNi7a233rIOlhXFsYIpZYcAz8585513TDjxYHGskjyCqdA6aohrhDVCi0fxdOrUyT3wwAO2fyUWTQmt7NQR5VQEREAEck0gLqHlXYZYs55//nnHZx6bwjIOBDEjxPiOmWd79+51PXr0MJcirqRg8hYxxFaXLl3socBLliwxlxEdNA8XVsoOAV+eCCcEM7NMH3zwwTPCiecXBtOOHTscgoz9EWhYRGfMmGH7YwHDwlVOktAqh5L2EQEREAERSJxAXELLP9OOTpIOElcfDw/m4dFYIlhTC9cRFi9itdjGit9YvILJd8zki/gtPrNwJR30o48+ascL7q/36SaAqMYqieuQcmTtLOoFIrxv374mpoNXgCUUQUY9IqYLdyHlPnz4cPtt1JIQwd/79xJanoReRUAEREAEGkogLqFF0POiRYusc0RUMauQhUlZZBIXIq5AFqxkNiKxWqzwff/995u1KwjAuw5PnDhhv6OzffLJJ82SIaEVJJWN99QFZp5ioZo/f75Nbrj11lvNQjV48OCfTIZAlDFLkXqC65h1t3w9KVdkQUZCKxv1Q7kUAREQgdwTqFVoEW9FZ7pmzRr33HPPmQUKkUUnetNNN5lFAoh+AVNmI/JIHh97M3DgQIvZYlYhDxlGlAXTqlWr3Jw5c2yThFaQTDbe+/qB23jBggWOh0xTP3ABjxkzxiY3UPYs44DIxupJPdq2bZstA8Iipbfccov9ppIrltCqhJb2FQEREAERSIxArULLPzJlxYoVNo0fq8OECRPM1UP8lZ+OzzINWDaWL1/uFi5caI9emTRpknW0uJeI1bn66qtdeF0tCa3Eir4uB0ZAYZ1kPS2WeUBIUd6ILWYTIsgpe5bywE1MPWJFeBYqZRIFLsNKlnXwFyWh5UnoVQREQAREoKEEqhVadJ6sicWsMjpHLFq4BomrQkARm8VUfGYbkuhIORexN08//bS5EkeNGuV69epl1gxitqJcSRJaDa0esZ0ckU0dYUYhr1gusXj6xWyxfLEPkyUQY8Tk3XnnnQ6LFvUobOkslTEJrVKE9L0IiIAIiEBdCFQrtIifwQJBx8msQGaLYZnAFXjHHXfYqu/MEMMtRPIrxhNzxSNZ6FARYawSjyWLWBwsYMw0DCYJrSCN7L7HLUic3qYfJkJQprgQEetYQKkHBMnz2T+miSB4noeJAKce8X0lSUKrElraVwREQAREIDECtQotrFhYqRBeWKeYRchCpCzfEJXoYJctW2YdLu5EXItYshBZBMiHp/tLaEVRzO42nntJnWEhU+oC8X0IKRYu5RWLKBMoWNAW0e0topVesYRWpcS0vwiIgAiIQCIEqhVa3nWIwCJOy1sjCGhHPBXqIHE3EqNDB8tvePYhriGWg8A95C1g/mIltDyJfLziIqTOUf5YuagDWLWwWHnrFm5Dv2ZWuD6US0FCq1xS2k8EREAERCBRAtUKrUQzFTi4hFYAht6WTUBCq2xU2lEEREAERCBJAmkWWqdPn7bV5LW8Q5I1IJ/HltDKZ7nqqkRABEQgcwTSJrSY1s/je5ilyHtmqDFLEbcSz7wjngt3Ei5H4rmI61ESgTABCa0wEX0WAREQARFoCIG0CS1mprFkBA8XJv6LR/a8/fbbFsMzduxYm52IwCJwvk+fPhbf1RBwOmmqCUhopbp4lDkREAERaB4CaRdaLCHBYpcESzMbjdmMElrNUz+rvVIJrWrJ6XciIAIiIAKxEkib0Aq7DpmZxjIQuA6ZjcZsRrkOY60CuTyYhFYui1UXJQIiIALZI5A2oZU9gspxGglIaKWxVJQnERABEWhCAhJaTVjoTXDJElpNUMi6RBEQARHIAgEJrSyUkvJYKQEJrUqJaX8REAEREIFECEhoJYJVB20wAQmtBheATi8CIiACIvAjAQkt1YQ8EpDQymOp6ppEQAREIIMEJLQyWGjKckkCElolEWkHERABERCBehCQ0KoHZZ2j3gQktOpNXOcTAREQARGIJCChFYlFGzNOQEIr4wWo7IuACIhAXghIaOWlJHUdQQISWkEaei8CIiACItAwAhJaDUOvEydIQEIrQbg6tAiIgAiIQPkEJLTKZ6U9s0NAQis7ZaWcioAIiECuCUho5bp4m/biJLSatuh14SIgAiKQLgISWukqD+UmHgISWvFw1FFEQAREQARqJCChVSNA/TyVBCS0UlksypQIiIAINB8BCa3mK/NmuGIJrWYoZV2jCIiACGSAgIRWBgpJWayYgIRWxcj0AxEQAREQgSQISGglQVXHbDQBCa1Gl4DOLwIiIAIiYAQktFQR8khAQiuPpaprEgEREIEMEmhWoXX8+HF3+PBhd+jQIXfw4EF37Ngxd/r0ade+fXvXtWtX17FjR9e6dWvXsmXLDJaqsiyhpTogAiIgAiKQCgLNKrQOHDjgNm/e7DZu3Og2bNjg9uzZ406dOuV69erlRo4c6fr16+c6derk2rZtm4pyUiYqIyChVRkv7S0CIiACIpAQgWYTWt6StXv3bhNZW7ZscVu3bnU7d+50+/btc927d3ejR492gwYNcr1793adO3dOiLwOmyQBCa0k6erYIiACIiACZRNoNqGFJQthtWvXLse1nzhxwlyEWLTWrl1rLsS+ffu6AQMGuOHDh7uePXuWzVI7poeAhFZ6ykI5EQEREIGmJtCsQmv//v0msnANdunSxaxZK1eudNu3b3cnT5401+GECRNc//79m7p+ZPXiJbSyWnLKtwiIgAjkjECzCS3vOuSV4HeC3du0aeOwdK1fv96tW7fO0Ul369bNTZo0yQ0cODBnJd4clyOh1RzlrKsUAREQgdQTaDahVahAmH1InNbq1avdokWLbNbhlClT3JAhQwr9RNtTTEBCK8WFo6yJgAiIQDMRkND6sbSxcB05csThPpw3b55ZuWbMmOGGDRvWTNUhN9cqoZWbotSFiIAIiEC2CUho/Vh+uBFZ3mHFihVu9uzZrkWLFm7mzJkWEM97pWwRkNDKVnkptyIgAiKQWwISWv9ftIitVatWuTlz5lj81rRp09zQoUNdq1atTHj9/556l3YCElppLyHlTwREQASahICE1o8FzUxD3IcIrblz59rGqVOnmuuQYHnEllJ2CEhoZaeslFMREAERyDUBCa0fi/fo0aM283DZsmUWo4Wwmj59uhsxYoTr0KGDxWzluiLk7OLiEFr/CwAA//+dOG+TAAArkElEQVTtnYmzFNXZhw/gggIKLuyyKaIgq6yCBJEliEgSEVGSCsQyqSSV4t9JxTJLJbFYEpYosgVZFBUumywRFAFZREBQBAQV9eN58x0yd+y5M31vz5npnt+pgp7p6ek+/Zzu2795t9Psu6vNqYmACIiACIhAEwh8/vnn7vjx4+7tt992ixcvdrwfMWLEtX9du3Ztwt7T89VPP/3UffDBB27z5s1u+fLl7uabb3Zz5swxDrfccou78cYb03My6qn7z3/+Y9cz1zXX9/333+/mzZtn41kqnmYSWqWi0nYiIAIiIAKFCEho/ZfM4cOH3fr1692WLVvcnj17XPv27d2zzz7rhg8f7m6//XZ30003FUKo9VVIQEKrCgdFXRIBERCBWiRQ60Lr66+/dhcvXnT79u1zq1atcnv37nVYt7DkTZ061Q0ePNh16NDBtW7duhYvj9Ses4RWaodOHRcBERCBbBGodaH12WefuQ8//NCsWLgNT548aW7Cu+66yz344IOuT58+jte4D9XSQ0BCKz1jpZ6KgAiIQKYJ1KrQIsyZf0ePHrW4rPfff9998skn7quvvjI3Ia7DXr16uZ49e9qyXbt2mb4OsnZyElpZG1GdjwiIgAiklECtCq1vv/3W4TbEVbhkyRKzZN19992uVatW7vz58+6GG25wHTt2dD169DCr1h133JHSEa7Nbkto1ea466xFQAREoOoI1KrQ+uKLL9zp06fdzp07Lcvwm2++cY8++qi77bbbHIHxly5dcrfeeqvr1q2b69+/v8Vp5Q7el19+6c6dO2fb8V1as2bNbImlrGXLlg4rmILoDUnw/yS0giPXAUVABERABKII1KrQOnHihNuxY4fFZuE2vPPOO920adNMXL3zzjsmwq6//noLiidWq3PnzvXwnTp1yr5L6YDLly87LGTXXXedbYPwwho2dOjQ732v3k70pmwEJLTKhlY7FgEREAERiEOg1oQWIghr1HvvvefWrFljgfDUyLr33nvdxIkTzRJVV1dnsVvEayGwRo8ebQHxnisWKwLoX3/9dffRRx+Z1Yp9ILTIYCSgHuH2yCOPuN69e1twfYsWLfzXtQxAQEIrAGQdQgREQAREoDiBWhNa3mWINWvZsmWO9yNHjrQyDv369XMIMT47ePCgO3v2rOvUqZO5FAmKp/kgej5fu3atWbO8xQvXIQKMelxYuBBo9913n4kuCqCqhSMgoRWOtY4kAiIgAiLQAIFaE1rEZfEQ3rZtm9u0aZMFv0+fPt0NGTLEipRikaJgKRYvYrXIPnz88cfN4gVGL7RwGW7dutXisoYNG+a6dOlilNn3okWL3IULF9xDDz3kEG+ItTZt2jQwCvooaQISWkkT1f5EQAREQAQaRaDWhBbT7KxcudK9++675uYjq5DCpEzRgvuPAPf9+/dbNiKxWlSFnzlzpgkmDxixRbA8hU1pBND7oHeyGBcuXGj7HjdunH0PsUY2o1o4AhJa4VjrSCkk4Cs1Ex9x5coVM8E3dBr8cdRcZA0R0mdZIpD0/VErQou/J1irdu3a5ZYuXeoIhkdkDRgwwI0ZM8ayC7lOfAFTshFxAVIRftasWa5v375WY4tYK6xT/N3JbbgcOQYC7uWXX7bSERMmTDAB17Zt2+9tn/tdvU6egIRW8ky1xwwR8H/oKB5I/AR/vBpqBJ3ya5SlmghknUDS90etCC0/aTTuvtWrV5vLb/LkyZYZSPyVL0iKy49gdgLimWSbuKsZM2ZY4VJitoi1Iu4qv64WFi4+J4ORiYypw0VwPUH2ZC82b94865dmVZ2fhFZVDYc6U20EyOLhjyFBpQgt/kghogoFk0poVdsIqj/lJFBMaPlgb4pukl3XvXt3e+BT5TyqZV1oYRVHBB05csT+rmDRwjXI/IUIKGKzqJdF3SsazGBCDBcuQFyJo0aNshgsAtxxA2IF4/s0H7PFD0PiurCUwR6XI7Fb+WUh7Ev6r+wEJLTKjlgHSDOBAwcOuBUrVtgfLczxzDM2duxYe2BEnZdch1FUtC6rBIq5DvmBsnHjRnNhEfiNRWXu3Llu0KBBkUiyLrQQPYif3bt3uw0bNlg5Bn604QqcMmWKVX3nx5wvv+ArxuMCfOWVVyz7EBFGXSwsWZRrwAKGO5Dmtyf2a926dWaBp34WVeZVsDTykguyUkIrCGYdJK0E/A3CksYfxJ/85Ce2TOs5qd8iEIqAv39wX5EZh1t93rx5bsSIEZFdqBWhhRULKxXCiwxBBChlGcgIjGqw27Jlizt8NfMQdyKiCUsWIgtrlbew8xlCju1gT/wW9bN8OYiofWtd+QnEvQ+ietTsqrnyu6gPtE4E0k7A3yAsaRJaaR9R9T8kAX//SGj9l7p3HSKwiNPiPRmCCCLEk3cZ5o+Rj7kigJ7vEHOFi5HsQazo3gKGS5LCpQhW3LNM2YOQI0FHrXIE4t4HUT2V0IqionWZIOBvEAmtTAynTiIwAX//SGiVF7yf6xBLFpYyqsJToJRMRlyRuBQRaTQyFxFqauEIxL0PonomoRVFResyQcDfIBJamRhOnURgAv7+kdAqL3g/1+GZM2dMRJGUc88991zLXsR6hggja5F4LWptqYUjEPc+iOqZhFYUFa3LBAF/g0hoZWI4dRKBCfj7R0KrPOCJ2sGVSPA7U/CQbUjCDlmIiCncir5mFxmiuBv79+9/LUuxPL3SXvMJxL0P8r/PewmtKCpalwkC/gaR0MrEcOokAhPw94+EVnnAk/VJ/BZV45lqhzkPifUidgv3IEKMz4nR6tOnj2UqEmeqOn/lGY9Ce417H0TtR0IriorWZYKAv0FCCS1iKfiFSjwF5n4f/Mp6GtlFFCckeNangfPHlHpF/Jol64hfsKzzVaP5dZv0lBtp6WfaLsKscfX3j4RWea5EL7T27dtnhU8pp0FAPTFaNP6WXL582YTV4MGDTWxRywzLllo4AnHvg6ieSWhFUdG6TBDwN0gooYVIIiOJeAoKpbLkva9ITxbRww8/bOng/HLFNcDDmT+wTEpLJWhcBNT84g8uv2KZeqNQgcjGDlJa+tnY86vU97LG1d8/ElrluaK865C/EVSQ54cZP7CIxaLxOX8L+DvB3wt+oPFjjR9pauEIxL0PonomoRVFResyQcDfIKGFFjEXb7zxhs2FdujQIRNPAKVI4Y9+9CObqoOaO1iqEFps/+9//9syjnjNA5uq0VSDpu4X9YuSbF4QVHs/kzznEPvKGld//0hohbh6dIxqJRD3Pog6DwmtKCpalwkC/gYJJbS864gsIooaYtWiwjNii4aFavr06W748OFWIwcXAL9a+TXLdB4UNaQSN3EZDzzwgG1HwcIeV9O8k2xp6WeS5xxiX1nj6u8fCa0QV4+OUa0E4t4HUechoRVFReuCEsidU424BR5YcRqBo5jV/T9fZ8bfIKGElu8zsVYff/yxTQjLHGd79+61j6ggPXXqVKusnZumTXwW03Rs3rzZso8QX+PGjTOhheDCulWOlpZ++nMnZoWaQ/QbFyvXCYHC1BaKcqn4ueZwyRDrgsuFStxYEomD8S4av38ELmPBkkYxytzK3X67Ysu0cS10Pv7+kdAqREjra4FA3PsgiomEVhQVrQtKgBgl5g5jIlUmXuUBGafxMMRahJBhyXuav0FCCy1fgBDh9Oc//9nt3LnT+oO4mjRpkgkt3IEExtOY/Lqurs4sYBQsJB6DSWqZ56wxD3rbaQn/paWf/lQQTMy5xxyW27dvd4hyOFJzKCpImG0RuVgUEb5wZVJfpjRBROXHuhw9etS99dZbjiWta9eu7qGHHrKUe9+HUpZp41ronPz9I6FViJDW1wKBuPdBFBMJrSgqWheUAGnNq1evNqtOU4QWD93cOjP+BgkttAhgxYKCK/APf/iDCSisVIgBXIHMFcdcZ1iqWE+s1Jo1a0wUkK2Iq5DYLKxZPjuxHAOSln76c8eKhWhCZL322msmyHHDDhkypN64++0R8ExpQvo83yODc9q0aW7gwIEmuvKnTMm9XhgXricELyn1cVrauBY6N89DQqsQIa2vBQJx74MoJhJaUVS0LigB7zojtqkprkOEC9aKtm3bWv/9DcKSFmquQx7SuLUQWr///e9tidsLCwlTayC0mIS2Y8eOdr4Igfnz59vEvWQYIsKwvFC8sHnz5t9zcdnJJPBfWvrpTxULFS5WrH8ILYLPSRjgH4KLeeFyGwIWAc/2vEZokYzA9iQj4HLMbVgesUDu2LHDBPCgQYPcnDlzHKn1+W7G3O/lv04b1/z++/f+/pHQ8kS0rEUCce+DKEYSWlFUtC4oAWK0mH6CZVMacTq5rjZ/g4QWWv4ccAO+8MILFntF3A9CEEGA0EJIUf2Z8+bBvmzZMhMOxGbxYEcw4uoK0dLST6x9WD9JHKAcBuIVMYSFql+/ft+LZfOuQLbHogXviRMnmvWLscivT4aIW7JkibmcEUtkiWJZRKDHEVp+zNLC1fc3f+nvHwmtfDJ6X0sE4t4HUWwktKKoaF1QArhaiGth2ZRGDRpqzrCk+RukUkILS9Vf/vIXE1q4vbC0IQxGjhzpxo4da3FCu3fvtn5StJDPH3vsMXuwY23JjyFqCpuGvpuWfmLBIk7r2LFjDm5YDRFBWArJ4GTsc5sPSicG7vjx41abDNcy1iy29YUh/XewrDIOLBFaxNAhthpbiTstXP355y/9/SOhlU9G72uJQNz7IIqNhFYUFa0LSiCrQmvPnj1uwYIFln1ICQcsblheCHIfM2aMPcwp54AI4MFPsDwCjFiuqOY5ISA+//xzE5RRlpmo7za0Lql++iBwrHdeNHtLEMKFmCisdASiN6Vx7rkB62Qe+uPk7pc+4IqG19mzZ40X7sN8l6H/Dv1n38TX0RiTKAHnty+2TIprseOU6/O4DxjYcS0jzBYvXmwssd76fwhiNRFIG4G490HU+UloRVHRuqAEsuo6xDqCK4rswyNHjpgFhcxIgtwJ4Oa8V61aZS6wH/zgBxabFZU95weD7Yljww2GRQfX1/jx483N6LdpzDKpftI3xAUPW8QKFidvNUL0EJOGyOzcuXNjunntO4in3BIMhSx/PlbKC1TEWO4UJ9d2+P8v6K+PEeS7WEbZN3FyjWlJcW3MsZP4TtwHjIRWEtS1j2ojEPc+iOq/hFYUFa0LSiBrwfAeHlPqrFixwoQWr3ngE3tFViFLHuoIE6w8TzzxhMUOIZ7yhQOihfgkMjKZroN9kU2HtWX27Nn2PX/MxiyT6CfCxGf54arDauXdc7j7sOjhgiPrsnfv3vaZd/E2ps9p+E4SXCt5nnEfMBJalRwtHbtcBOLeB1H9kNCKoqJ1QQlkrbyDh4fliew4LFpYoBBMZMYhrBAhFFgleJ86UATJk2WI+Mi3oJw4ccIC5hFbxHFRE4q6Y+xn7ty5Fvflj9mYZVP7icjiH+O4du1aO0+yKrFcYUVCgK1fv94sXGRd+rgnXKlZbk3lWmk2cR8wElqVHjEdvxwE4t4HUX2Q0IqionVBCWStYKmHRxwRcx4itMhAQyghrBBYCC3chJQaIKCb174shf++X3qhxYOMGCPeYykjNum5554zN6TftjHLpvbTCy1chkw7hLjivHy5Bf5QLVq0yGKlKABKnBoB6XDIcmsq10qzifuAkdCq9Ijp+OUgEPc+iOqDhFYUFa0LSoDYI2ok4RbzMTJxOlBtU/D4vuNCQ3ggtChHwHv6iguNellkIGLh4XWUy9Dvx7sOKWeAQKMMwd///ndzMSYhtJLoJ2KLuCnEJI1SCj7onersTEWEC5HyFb4UQ355BX++WVkmwbWSLOI+YCS0KjlaOna5CMS9D6L6IaEVRUXrMkHA3yAsaaEKlnp4BIfjMkRo4erDwkH8FdYrSjwQGE4NKKxUcRqV0V988UX7ShJCq1z9JCaNkgwIw5dfftlE9IQJE6ziOtY7RGOWWxJcEbAIbcqDILT9PJ6sgy0/TFiHG9mL9aRi3/z9o/IOWb5KdW7FCMS9D6L2J6EVRUXrMkHA3yCVEloUI2X+RqxaxC7h8iOAnaxD6mVR04n3+VPBFIOftNAqVz+xcFFWgaBwHtYIAgqGknnZlGy+Ynyq5fOmcvUuWa4banJhMaK2F9mRJBewf9ZhPSSL1Re5jXs9FeLl7x8JrUKEtL4WCMS9D6KYSGhFUdG6TBDwN0ilhBauUB6S+/fvtxgtRAfCiomvH3744YL1sorBT1poJd1PLxDIJkVowoBjEJ9G7FZTyzsU41MtnzeVq+dIUD0WUSxkMMQSSM0vrifi4oh1I5mCJAPYJhX75u8fCa1quaLUj0oQiHsfRPVRQiuKitZlgoC/QSoltHD1YNXhgUvsEq4eLDk8CInTamzWXdJCK+l++npUzC+4bt06O2/cpBRkxcXlY7cycZE1cBJJcEVsHT582DjiekZkUY+MCa/h7LNZKQbqy4bAOInm7x8JrSRoah9pJRD3Pog6TwmtKCpalwkC/gaplNAqF8SkhVbS/aQSO1YsBALsEZbUz8K1pRafwIEDB9zKlSutrAcCnXIguAqJz3rzzTctfosMz27dujWYvRr3yP7+kdCKS07bZ4lA3Psg6twltKKoaF0mCPgbhCUtdDB8uSBWu9CiCj4FVYkfIqMSAYAQoByFWnwCZG1SHoPsXAQrWZvEaiFm16xZY+sRXlgMWZ+UxdDfPxJa8cdM38gOgbj3QdSZS2hFUdG6TBDwN4iEVpjh9HMdYsmibhjT71C+ApcWLlNcXZR4oDHfoM+gC9O79B0Ft6F3D86fP9+Kws6cOdOSKGBL/NvSpUvNsjVp0iSL0cIdDeskmr9/JLSSoKl9pJVA3Psg6jwltKKoaF0mCPgbJEtCi4fvjh07Ei3vkNRgE6zNlEJkwyGivJvLxwwRp4YIo6Ap1hey5dQKE/DlMbBoMWcmZRueeuops2jBENYvvfSSibGnn37aBFjUzAKFj9DwJ/7+kdBqmJM+zTaBuPdBFA0JrSgqWpcJAv4GSbvQIhYHtxEWI17v2rXLCoDysJ01a5ZNRs0DFnGTpEWj1IsA8UfgN8HvlLEg25DphKgPhpgigJtEAKxZ1IMi85LSFnHrh5Xan6xs5y2EZK2SdQhH5sQkRovPuA4WLFhgp/vMM89YTbYky2b4+0dCKytXlM6jMQTi3gdRx5DQiqKidZkg4G+QtAstJpMm7gmLERmMuIyY2oc5EcePH2+TNCOwSP1H4CBkQjbEH9mV1Hoilog5D30BTcQfQozPidGitAVlCIiXw+KlVpgAMW5kGmIFpBYZ/Bjv9u3bm9WQjMNVq1bZdTB16lQTr0kWgvX3j4RW4THSJ9knEPc+iCIioRVFResyQcDfILhYcMMQmD1lyhSzCESdIBYDHmYsq6nlCy2CoMlEQ2iR5s+8gdUgtPbt2+dWr15tk0hTNJM4IhrWLiqZI6wGDx5sYovq+KEFYTWNaSl9QVRTJwuBjduV7E2K3RLfhnsWQYtVi+uASbzJ6owjtBDIWBmxNjJGxIPlNq4x5tTcuXOnZTwShD9v3jw3YsSI3M2uvUYY0l+E2eLFiy0Zgm39P0pQqIUjwHj6MabmGq/5O8H1w7WkGMnSxsI/R0r9wRG1VwmtKCpalwkC/gbB0sIDhQc99ZwKFczkc4RLtVla+AOZ6zpEtFBCAdchwhBRUw2uQ4QBFcthTX/oHw2LFkIXAYuliz/ylXBxpu2i9nW4GG+uAYQr4pQlrkM4I8JpcOUBGsd1iBuXCd1x9XJ9Ibhym5+rEUHHg5rpoiS0cglV92uuEe5Jxo9pwHiNxZsfnFiVsYCrFSfgnyMSWsVZaYsaJMBDZOPGjeZ24UHCw73H1Qy4QpaUahVaNTh0OuUABIoJLUTc4atuSyZ85/7p3bu3e/LJJ+3HSFT3ZNGKolK5dQhxrKFYJF999VWziiKwmMyeuVZlYSxtbCS0SuOkrWqUAA8HHhJYf7AOYAloyJJSra7DGh0+nXaZCXi3UiHXYa4llfsHS2RD9dAktMo8YDF3j1Dmx2ZdXZ1bvny5CS1iI7HqU4+NH51qxQlIaBVnpC1EQAREQAQCEJDQCgA5xiFwFeL+JY6PqbB4z4TuAwYMqKk5R2Mgi9xUQisSi1aKgAiIgAiEJiChFZp4w8fzMX6ILRKCiNnCioVVkjAJrPtqxQlIaBVnpC1EQAREQAQCEJDQCgC5EYfAkkWmMkkpCCySJgij4D3uYbITSVwhgYX1ZLGq/Y+AhNb/WOiVCIiACIhABQlIaFUQfgOH9pYtNiEOFTGFsMLCRdkQYvTIViV7GRGmsg/1YUpo1eehdyIgAiIgAhUiIKFVIfAxD4slCysWGYlM74TYYiJyCuEy64CmxqoPVEKrPg+9EwEREAERqBABCa0KgY95WGra4TIkbuuf//ynFT/GkkUx3GnTplnAfMxdZnpzCa1MD69OTgREQATSQ0BCKx1j5YXWtm3b3B//+EezaiG0KPswe/Zsm8opHWcSppcSWmE46ygiIAIiIAJFCEhoFQFUJR971yFuw4ULFzomLSc+C4vW9OnTrWp8lXS1KrohoVUVw6BOiIAIiIAISGil6xpgovpNmza5Y8eOWYB8t27dbF5KVYyvP44SWvV56J0IiIAIiECFCEhoVQh8Iw/LzBnMc3np0iXLQqSuFvMfEhiv9j8CElr/Y6FXIiACIiACFSQgoVVB+AkeGtci/ygLQQkISkHgWqQsRC02Ca1aHHWdswiIgAhUIQEJrSoclEZ0idIPZCUyR+yZM2esgGnHjh2txlYjdpf6r0hopX4IdQIiIAIikA0CElrZGEcE1smTJ22eROK3fKB8586drxU8zcaZlnYWElqlcdJWIiACIiACZSYgoVVmwIF2j7h666233O7du93Bgwdd27Zt3YQJE2wy6g4dOrhWrVoF6kl1HEZCqzrGQb0QAREQgZonIKGVjUsAcbVmzRpXV1dnxUyZH5GyD8OGDXNYtdq0aZONEy3xLCS0SgSlzURABERABMpLQEKrvHxD7Z2yD2+88YbbuXOnWbSYmoeK8QMHDnTt2rWruaxECa1QV56OIwIiIAIi0CABCa0G8aTmw9OnTzvExaFDh9yJEyfMdThq1CjXs2dPRwkIJqCupSahVUujrXMVAREQgSomIKFVxYMTo2uUdGAsL1686C5fvmzCivpaxGa1aNHCshBj7C71m0popX4IdQIiIAIikA0CElrZGEedRX0CElr1eeidCIiACIhAhQhIaFUIvA5bVgISWmXFq52LgAiIgAiUSkBCq1RS2i5NBCS00jRa6qsIiIAIZJiAhFaGB7eGT01Cq4YHX6cuAiIgAtVEQEKrmkZDfUmKgIRWUiS1HxEQAREQgSYRkNBqEj59uUoJSGhV6cCoWyIgAiJQawQktGptxGvjfCW0amOcdZYiIAIiUPUEJLSqfojUwUYQkNBqBDR9RQREQAREIHkCElrJM9UeK09AQqvyY6AeiIAIiIAIXCUgoaXLIIsEJLSyOKo6JxEQARFIIQEJrRQOmrpclICEVlFE2kAEREAERCAEAQmtEJR1jNAEJLRCE9fxREAEREAEIglIaEVi0cqUE5DQSvkAqvsiIAIikBUCElpZGUmdRy4BCa1cGnotAiIgAiJQMQISWhVDrwOXkYCEVhnhatciIAIiIAKlE5DQKp2VtkwPAQmt9IyVeioCIiACmSYgoZXp4a3Zk5PQqtmh14mLgAiIQHURkNCqrvFQb5IhIKGVDEftRQREQAREoIkEJLSaCFBfr0oCElpVOSzqlAiIgAjUHgEJrdob81o4YwmtWhhlnaMIiIAIpICAhFYKBkldjE1AQis2Mn1BBERABESgHAQktMpBVfusNAEJrUqPgI4vAiIgAiJgBCS0dCE0hcDXX3/tvvjiC3fx4kV34cIF99VXX7nvvvvO3XTTTe722293rVq1ctddd51r3rx5Uw4T+7sSWrGR6QsiIAIiIALlICChVQ6qtbPPc+fOuQ8//NAdOnTIHTx40J05c8Z9++23rkuXLm7EiBGuV69ernXr1u6GG24ICkVCKyhuHUwEREAERKAQgXIJrXxLB++bNWtm3WDJg7dNmzbu5ptvdi1btjSrR6E+an31EfDj+8knn5jIOnLkiDt69Kg7efKk+/TTT1379u3d6NGj3QMPPOC6du3qbrnllqAnIaEVFLcOJgIiIAIiUIhAuYRWvqXjs88+M/dRixYtTHDhVurdu7fr1q2b69Spk1k9CvVR66uPAOOLsDp16pTjGrpy5YqJZSxau3fvNhdi9+7d3f333++GDh3qOnfuHPQkJLSC4tbBREAEREAEChFIWmgRo0OszvHjxx0Pu2PHjrnz589fexATv3Pp0iWzaCG2eBhj9eBBLMtWoVGqvvVeaCGgEVlYKNu2bWvWrG3bttn4f/PNN+Y6nDx5srv77ruDnoSEVlDcOpgIiIAIiEAhAkkLrbNnz7r333/f7d+/3+3Zs8ddf/31ZtG466673I033mhB01hCPvjgA/fuu++aJWv8+PFuwIABsmwVGqQqXO9dhywRzwS7M9YIMD/+iJ0777zTzZgxw/Xt2zfoWUhoBcWtg4mACIiACBQikKTQ4oFLYPTGjRvdvn37LDCa+JypU6eaCwmrB9YuhNbWrVvdK6+8YtatUaNGuWHDhrmBAwe6jh07Fuqq1qeAANmHxGm98847buXKlZZ1+POf/9zGNmT3JbRC0taxREAEREAEChJISmghsnAVEZ+zYMECcxkSf4VbECHFa6weuJkoB7Br1y73j3/8wzLVbrvtNrNoTZs2zd17770F+6oPqp8AFi5cw7gP//a3v5mV6/nnn3cPPvhg0M5LaAXFrYOJgAiIgAgUIpCU0PKxWViq/vrXv5oLaezYseY27Nevn7mQcvuAxWvJkiVu586dti0C62c/+5kbNGiQI2A+dN2l3L7pdeMJILgp78B18MILL1jiwy9/+Uu7DnzWaeP3Xvo3JbRKZ6UtRUAEREAEykggKaHl97N582YTUDxwp0+f7oYPH27WrFtvvbXeWVB36bXXXnN1dXUWz4WLERcTLkRKPhDvo5ZOAoz99u3b3YsvvmjxW3PnznVDhgwxAR1KbElopfPaUa9FQAREIHMEvEB6++233eLFiy1Vn0KT/h8CqJR2+vRpyzJEaK1Zs8Zic2bPnm37ueOOO0w85e6HrES25R/Hxn3405/+1I0cOdJeU1lcLX0EcB/jPkRo/elPf7ITmDNnjrkOEc9YK0M0Ca0QlHUMERABERCBogSSElr5wolss1/84hcmtChMml8Z3AdMI7TWr19vU7Y8+eSTtn0lClwWBaUNSiJw+fJlcwVv2bLFYrQQVlwHoS2VElolDZc2EgEREAERKDeBpITW4cOH3YYNG8xCRcYZYulXv/qVCSfKOjDfXW6jojjlHRBaq1evNkvH448/bttTc6ldu3a5m+t1SghQFZ7SHYzr8uXLzZKJRQsLKdXhuRZCNAmtEJR1DBEQAREQgaIEkhJazHO3du1ae8Du3bvXCpH+5je/sQcsLqP84HYqiFNviQfyihUrLJbnhz/8obkOCYynmKla+ggguLFQYtGijhpT8Tz77LMWq8eYhnIJS2il79pRj0VABEQgkwSSEloHDhxwq1atMuFEsVKsUr/97W9NOCGy8oOgcy0f1NMitmfixIkmzJi2BdejWnoIEJdFDS2ySbkOENuMMZZN6qgNHjzYdejQIdhUSxJa6bl21FMREAERyDSBpITWe++9Z64iLFRYt5jH8He/+50Jp3yRBVCmbiHzkO3/9a9/2dx4jz76qG1P7S0sIWrpIcB4UqwWKxZjSgwebkJmBKCGVp8+fex1qMmlJbTSc+2opyIgAiKQaQJJCi0sU15o4f6LI7SwiEyYMMGEVlTdrUwPQopPjlIO/KPaP2OPO5j4O+qq4SZEMPfq1cv17NnTlqFi7yS0UnxRqesiIAIikCUCSQktXIevvvrqtYftPffcE8t1SJFLxWil78pi3BDJuAopQIslC7dxq1atbDJxsk2ZVqlHjx5m1aLUR4gmoRWCso4hAiIgAiJQlEBSQotMM7IHsWqQTYgF49e//rXFaJUSDI97kSl4yE7DAhLK8lEUkDZokADTKVFDjQr/ZBkSa4cLmLpoBMYzHQ/FapmCqX///han1eAOE/pQQishkNqNCIiACIhA0wgkJbR8pXeKjxKnQ2wOU68gnHAhRZV3IHAaYUbwNGLsxz/+sW3PQzm/knzTzlLfLheBEydOuB07dtiY4zYkiQHBzPhR5gMRxtgSFE+sVufOncvVlXr7ldCqh0NvREAEREAEKkUgKaF15MgRt2nTJhNOTChMbA5TrxSqn3Tq1CmbgBqhxVQ8rVu3drNmzbLt+S6uJ7XqJYDl6ssvv3QkQTATAIHwBL8Tm0f2aMuWLW16JWK3iNdCYI0ePdoEeIizktAKQVnHEAEREAERKEogKaHlLRsIp9dff92KUz7zzDPXhBPzF+a2jz76yCHI2B6BhiXk+eeft+2xgGEFUateAt5liDVr2bJljvdMn0QZB5IZEGJ8Rgbq2bNnXadOncyliEs5RJPQCkFZxxABERABEShKICmhxcMU1xGuQwqQUjuLSaV5+Hbv3t21bdu2Xl+wgCDIEFvEdOEufO6559zQoUPtu1ElIertQG8qSsDPbcn4IZSxQDLeTB6NRZKaWriQsXgRq8U6Kv9j8QrRJLRCUNYxREAEREAEihJISmjxYCXjDAvV/Pnz3YULF9wjjzxiFqoBAwZ8LwgaUUaWItlq58+ft7pbM2fONGuIRFbRYav4BiQ/rFy50kQyY09WIYVJKTaLC/HcuXOOwrWML7FaVIX34xui8xJaISjrGCIgAiIgAkUJJCW0iMPhgYu7aMGCBY5Jpnn4Dho0yI0dO9ayEJlgmHIATDyMtWPp0qXu2LFjlv5PkdJx48bZd4p2WhtUjIAf5127dtn44TJmnBHTY8aMMcsknfMFTMlGZEoeH4PXt29fi9niWmCy8XLNfSihVbFLRAcWAREQARHIJZCU0EJAXblyxVFPizIPCCnciTyEySbkQUycFgHUPJy3bt1qFeGpwUTwNC5DlXXIHZnqfO2nTmL8GGesj5MnT7bxI/7Kl+XAoomFs66uzi1evNi2mzFjhglurguuhfvuu8+Vq66WhFZ1Xj/qlQiIgAjUHIGkhJYHx8MVa8fu3btticUCS4cvYolFhG0IkkaMMSXLY4895rBoURKgXBYO3z8tG0cAEU1NLLJLEVmMMa5B5i9EQBGbxfiRbUhDUHNtEcO1cOFCcyWOGjXKdenSxayaJD8gvvkO1i/2T3FTGhZPrhNEOOsQb8SAkSCBJayUJqFVCiVtIwIiIAIiUHYCSQstHpLE5xAAvX37dnMh8hDF8sFDmCB53vvpWQiCZx48gqV5kPK5WvURII4OSyQCesOGDY6sUaxSuAKnTJliY5grhHzFeBIdmJoJYc34UyUeSxYzB5AkwfVCDBfXIdYtvocQP3PmjK2j8CkizlvLvJArRkhCqxghfS4CIiACIhCEQL7Qwq1Dij6xVfzjwRjVsDxhjSpkgWK+OyweFDIlXov4LR7EFC5liSWEwGkKWZKRWOoDNKovWld+Al5oMaZYqXiPdYosQgqRUr4hqjH2W7ZsMeGNOxHrFJYsXMqIKEQVwo26agTMcz1hDeM65LvEcQ0fPtzEGbW4sGz5Gl6UlMDyFdVwYZP9SozYxx9/bEkW8+bNs+SMqO2j1jW7Oonjd1EfaJ0IiIAIiIAIlEogX2hhtcDNR7wUSx9zk78/XD8IJZZRjQcg+0ZgYbXwVi0sVt66hVDzNbNKdQlFHUvryk+A8cN1iMAiTstbJRFCXCOFhDLfQTRxHfAdXIG4CxFMvKag6bp162yJyELYc11h2cJ6xrWDGEeYYdUiqN7X8KJECG7HqIbFDRenr+M1cOBAJ6EVRUrrREAEREAEykoAKwO/+PnljwWABxTiCTcO7rz8QqO+M1gzqPrOQ1BNBBpLAMsTZSK4BrnucCniKiQ+68033zQhxbWGixlXI8IcsUe2Km5J6nlFNZ/1yOcIM4qoMlMBVtpSmyxapZLSdiIgAiIgAgUJYDHA4sAvfywAuHCwLPAPi0P+HIV+RxJanoSWTSFAna1FixaZGKLuGoIIkY9llal9EEkIL6yrrMciWorQQqhhRcMNiasRaxjZrVhqS20SWqWS0nYiIAIiIAIFCfBAKsUVk7+DYq7D/O31XgRyCRD95N2DFLjlPQVN+/fvb+KeivLUWeP6nDRpksVoeetqqOtVQit3xPRaBERABESgUQR42JUSXJy/cyxeDQXD52+v9yKQS4Brjjg+LFpLliyxsg1PPfXUtZkBKP3x0ksvmRh7+umnTYD5OL5Q16uEVu6I6bUIiIAIiIAIiEBqCODS89P0kHWIcH/iiScsRovPqNPFDAM0JicnmD10+Q8JrdRcTuqoCIiACIiACIhALgEyUsk4PHy13hrzXmIdHT9+vCVgUEOLjMNVq1ZZTBZzKOJSpAwIgixUk9AKRVrHEQEREAEREAERSJQAAe3UySL5gnIRlIlgdgDKNyC0SM7AqkXwO3W6CGaX0Ep0CLQzERABERABERCBrBLwdbnIeiXgnexW6muxxHVIxiCuRRp1uhBgch1m9WrQeYmACIiACIiACNQcAbkOa27IdcIiIAIiIAIiIAKhCEhohSKt44iACIiACIiACNQcAQmtmhtynbAIiIAIiIAIiEAoAhJaoUjrOCIgAiIgAiIgAjVHQEKr5oZcJywCIiACIiACIhCKgIRWKNI6jgiIgAiIgAiIQM0RkNCquSHXCYuACIiACIiACIQiIKEVirSOIwIiIAIiIAIiUHME/g+jQfFfGlqkgQAAAABJRU5ErkJggg==)"
      ],
      "metadata": {
        "id": "_WtYsuOwbH54"
      }
    },
    {
      "cell_type": "code",
      "execution_count": 16,
      "metadata": {
        "colab": {
          "base_uri": "https://localhost:8080/"
        },
        "id": "R8cFonbvQEQU",
        "outputId": "aa299666-55b9-442c-a7ad-54a3958d685d"
      },
      "outputs": [
        {
          "output_type": "execute_result",
          "data": {
            "text/plain": [
              "array([[ 1.05263158, -0.2037104 , -0.12079228],\n",
              "       [-0.2037104 ,  1.05263158,  0.3125801 ],\n",
              "       [-0.12079228,  0.3125801 ,  1.05263158]])"
            ]
          },
          "metadata": {},
          "execution_count": 16
        }
      ],
      "source": [
        "# 고유값 분해 곱\n",
        "np.dot(np.dot(eigenvectors,mat),eigenvectors.T)"
      ]
    },
    {
      "cell_type": "code",
      "source": [
        "# 분해된 고유값 shape 확인\n",
        "eigenvectors.shape"
      ],
      "metadata": {
        "colab": {
          "base_uri": "https://localhost:8080/"
        },
        "id": "1orhS1cHbmIm",
        "outputId": "85b29c2b-1aba-4e95-9a1f-b5fd8b346dc0"
      },
      "execution_count": 17,
      "outputs": [
        {
          "output_type": "execute_result",
          "data": {
            "text/plain": [
              "(3, 3)"
            ]
          },
          "metadata": {},
          "execution_count": 17
        }
      ]
    },
    {
      "cell_type": "markdown",
      "metadata": {
        "id": "N4t2RjoNPgss"
      },
      "source": [
        "### 1-5) 마지막으로 고유 벡터 축으로 값을 변환합니다\n",
        "\n",
        "\n",
        "https://docs.scipy.org/doc/numpy/reference/generated/numpy.concatenate.html"
      ]
    },
    {
      "cell_type": "markdown",
      "source": [
        "**고유 벡터 축**\n",
        "\n",
        "첫 번째 고유 벡터 축은 가장 큰 데이터 변동성을 기반으로 생성되므로, 고유값이 가장 큰 고유 벡터값을 축으로 추출한다.\n",
        "- 데이터들의 평균점을 지나는 직선들 중에서 데이터들을 직선에 투영(projection)시켰을 때 해당 직선을 따라서 데이터의 분산이 최대가 되는 방향의 직선을 구함\n",
        "- `numpy.concatenate` 사용! (numpy 배열들을 하나로 합치는데 이용됨)"
      ],
      "metadata": {
        "id": "UTn4vgZvcm2T"
      }
    },
    {
      "cell_type": "code",
      "execution_count": 18,
      "metadata": {
        "id": "HkhBLg0jPgss"
      },
      "outputs": [],
      "source": [
        "# 모든 data projection 진행\n",
        "def new_coordinates(X,eigenvectors):\n",
        "    for i in range(eigenvectors.shape[0]):\n",
        "        if i == 0:\n",
        "            new = [X.dot(eigenvectors.T[i])]  # X, eigenvector 행렬곱\n",
        "        else:\n",
        "            new = np.concatenate((new,[X.dot(eigenvectors.T[i])]),axis=0)\n",
        "    return new.T"
      ]
    },
    {
      "cell_type": "code",
      "source": [
        "# 고유값이 가장 큰 순으로 추출된 고유벡터를 이용해 새롭게 입력 데이터를 변환\n",
        "new_coordinates(X_std,eigenvectors)"
      ],
      "metadata": {
        "colab": {
          "base_uri": "https://localhost:8080/"
        },
        "id": "xjEzaUVjenUI",
        "outputId": "15ca0244-18fe-40fb-ece1-20c1c6f8d93d"
      },
      "execution_count": 19,
      "outputs": [
        {
          "output_type": "execute_result",
          "data": {
            "text/plain": [
              "array([[ 0.31019368, -1.08215716, -0.07983642],\n",
              "       [ 1.28092404, -0.43132556,  0.13533091],\n",
              "       [ 1.38766381,  0.78428014, -0.12911446],\n",
              "       [ 0.95087515, -1.15737142,  1.6495519 ],\n",
              "       [ 1.84222365,  0.88189889,  0.11493111],\n",
              "       [-1.12563709, -0.52680338,  0.06564012],\n",
              "       [-2.71174416,  0.63290138,  0.71195473],\n",
              "       [-0.03100441, -0.20059783, -0.50339479],\n",
              "       [ 2.29618509,  0.07661447,  0.01087174],\n",
              "       [-0.61585248, -0.205764  ,  1.82651199],\n",
              "       [-1.73320252,  1.29971699,  0.09045178],\n",
              "       [-0.82366049, -0.57164535, -0.27123176],\n",
              "       [ 0.75619512,  0.73995175, -0.76710616],\n",
              "       [-0.42344386,  0.26555394, -1.41533681],\n",
              "       [-0.39581307, -1.64646874,  0.24104031],\n",
              "       [-0.88581498,  0.15195119, -0.82271209],\n",
              "       [ 0.24587691,  0.39139878, -1.15801831],\n",
              "       [ 0.14741103, -1.22874561, -0.03110396],\n",
              "       [-0.7161265 , -0.56781471, -0.86180345],\n",
              "       [ 0.24475107,  2.39442622,  1.19337361]])"
            ]
          },
          "metadata": {},
          "execution_count": 19
        }
      ]
    },
    {
      "cell_type": "markdown",
      "metadata": {
        "id": "B7c1o5URPgst"
      },
      "source": [
        "# 2) PCA를 구현해보기\n",
        "\n",
        "위의 과정을 하나의 함수로 표현해주세요!\n",
        "\n",
        "1)에서 진행한 과정을 그대로 가져오면 됩니다..! , \n",
        "\n",
        "위에서 만든 함수(new_coordinate)도 가져오셔서 사용해도 좋아요!\n",
        "\n",
        "+하지만 이 함수는 number이라는 인자를 받아서 pca에서 주성분 개수를 고려하도록 합니다!\n",
        "\n",
        "고유값이 큰 축 순서로 정렬하는 과정 + 주성분 개수 number을 고려해야한다는 점을 유의해서 함수를 정의해주세요\n"
      ]
    },
    {
      "cell_type": "code",
      "execution_count": 20,
      "metadata": {
        "colab": {
          "base_uri": "https://localhost:8080/"
        },
        "id": "P_cF1LnX6eBh",
        "outputId": "6f61eb95-18d2-465d-824d-8b145eae3ee7"
      },
      "outputs": [
        {
          "output_type": "execute_result",
          "data": {
            "text/plain": [
              "array([[ 0.47018528, -0.85137353, -0.23257022],\n",
              "       [-0.64960236, -0.15545725, -0.74421087],\n",
              "       [-0.59744671, -0.50099516,  0.62614797]])"
            ]
          },
          "metadata": {},
          "execution_count": 20
        }
      ],
      "source": [
        "eigenvectors"
      ]
    },
    {
      "cell_type": "code",
      "source": [
        "from sklearn.preprocessing import StandardScaler\n",
        "\n",
        "def MYPCA(X,number):\n",
        "    # Scaling\n",
        "    scaler = StandardScaler()\n",
        "    x_std = scaler.fit_transform(X)\n",
        "    features = x_std.T\n",
        "\n",
        "    # Covariance\n",
        "    cov_matrix = np.cov(features) \n",
        "    \n",
        "    # eigenvalues, eigenvectors\n",
        "    eigenvalues = lin.eig(cov_matrix)[0] #eigenvalue\n",
        "    eigenvectors = lin.eig(cov_matrix)[1] #eigenvector\n",
        "    \n",
        "    #np.dot(np.dot(eigenvectors,mat),eigenvectors.T)\n",
        "\n",
        "    # 새로운 고유벡터 축 추출\n",
        "    new_coordinates(x_std,eigenvectors)\n",
        "    \n",
        "    new_coordinate = new_coordinates(x_std,eigenvectors)\n",
        "    \n",
        "    index = eigenvalues.argsort()\n",
        "    index = list(index)\n",
        "    \n",
        "    # 고유값 정렬 및 고유값 크기에 따라 고유벡터도 정렬\n",
        "    # def new_coordinates(X,eigenvectors):\n",
        "    for i in range(number):\n",
        "        if i==0:\n",
        "            new = [new_coordinate[:,index.index(i)]] # X, eigenvector 행렬곱\n",
        "        else:\n",
        "            new = np.concatenate(([new_coordinate[:,index.index(i)]],new),axis=0)\n",
        "    return new.T # 새로운 축으로 변환되어 나타난 데이터 return"
      ],
      "metadata": {
        "id": "eZY0-Ka-goKQ"
      },
      "execution_count": 23,
      "outputs": []
    },
    {
      "cell_type": "code",
      "execution_count": 24,
      "metadata": {
        "id": "XAtXIzPHPgst",
        "outputId": "cb20497e-1329-4f5c-af9b-70369b618572",
        "scrolled": true,
        "colab": {
          "base_uri": "https://localhost:8080/"
        }
      },
      "outputs": [
        {
          "output_type": "execute_result",
          "data": {
            "text/plain": [
              "array([[ 0.31019368, -1.08215716, -0.07983642],\n",
              "       [ 1.28092404, -0.43132556,  0.13533091],\n",
              "       [ 1.38766381,  0.78428014, -0.12911446],\n",
              "       [ 0.95087515, -1.15737142,  1.6495519 ],\n",
              "       [ 1.84222365,  0.88189889,  0.11493111],\n",
              "       [-1.12563709, -0.52680338,  0.06564012],\n",
              "       [-2.71174416,  0.63290138,  0.71195473],\n",
              "       [-0.03100441, -0.20059783, -0.50339479],\n",
              "       [ 2.29618509,  0.07661447,  0.01087174],\n",
              "       [-0.61585248, -0.205764  ,  1.82651199],\n",
              "       [-1.73320252,  1.29971699,  0.09045178],\n",
              "       [-0.82366049, -0.57164535, -0.27123176],\n",
              "       [ 0.75619512,  0.73995175, -0.76710616],\n",
              "       [-0.42344386,  0.26555394, -1.41533681],\n",
              "       [-0.39581307, -1.64646874,  0.24104031],\n",
              "       [-0.88581498,  0.15195119, -0.82271209],\n",
              "       [ 0.24587691,  0.39139878, -1.15801831],\n",
              "       [ 0.14741103, -1.22874561, -0.03110396],\n",
              "       [-0.7161265 , -0.56781471, -0.86180345],\n",
              "       [ 0.24475107,  2.39442622,  1.19337361]])"
            ]
          },
          "metadata": {},
          "execution_count": 24
        }
      ],
      "source": [
        "MYPCA(X,3)\n",
        "\n",
        "# 새로운 축으로 잘 변환되어서 나타나나요? \n",
        "# 위에서 했던 PCA랑은 차이가 있을 수 있어요 \n",
        "# 왜냐하면 위에서는 고유값이 큰 축 순서로 정렬을 안했었거든요"
      ]
    },
    {
      "cell_type": "markdown",
      "metadata": {
        "id": "Q8E2iMssPgsu"
      },
      "source": [
        "# 3) sklearn이랑 비교를 해보기\n",
        "\n",
        "https://scikit-learn.org/stable/modules/generated/sklearn.decomposition.PCA.html 를 참고하시면 도움이 될거에요"
      ]
    },
    {
      "cell_type": "code",
      "execution_count": 25,
      "metadata": {
        "id": "YLelmhAXPgsu",
        "colab": {
          "base_uri": "https://localhost:8080/"
        },
        "outputId": "479bbcaa-8b5f-4cb9-b355-8b3e260d35df"
      },
      "outputs": [
        {
          "output_type": "execute_result",
          "data": {
            "text/plain": [
              "array([[-0.31019368, -1.08215716, -0.07983642],\n",
              "       [-1.28092404, -0.43132556,  0.13533091],\n",
              "       [-1.38766381,  0.78428014, -0.12911446],\n",
              "       [-0.95087515, -1.15737142,  1.6495519 ],\n",
              "       [-1.84222365,  0.88189889,  0.11493111],\n",
              "       [ 1.12563709, -0.52680338,  0.06564012],\n",
              "       [ 2.71174416,  0.63290138,  0.71195473],\n",
              "       [ 0.03100441, -0.20059783, -0.50339479],\n",
              "       [-2.29618509,  0.07661447,  0.01087174],\n",
              "       [ 0.61585248, -0.205764  ,  1.82651199],\n",
              "       [ 1.73320252,  1.29971699,  0.09045178],\n",
              "       [ 0.82366049, -0.57164535, -0.27123176],\n",
              "       [-0.75619512,  0.73995175, -0.76710616],\n",
              "       [ 0.42344386,  0.26555394, -1.41533681],\n",
              "       [ 0.39581307, -1.64646874,  0.24104031],\n",
              "       [ 0.88581498,  0.15195119, -0.82271209],\n",
              "       [-0.24587691,  0.39139878, -1.15801831],\n",
              "       [-0.14741103, -1.22874561, -0.03110396],\n",
              "       [ 0.7161265 , -0.56781471, -0.86180345],\n",
              "       [-0.24475107,  2.39442622,  1.19337361]])"
            ]
          },
          "metadata": {},
          "execution_count": 25
        }
      ],
      "source": [
        "from sklearn.decomposition import PCA\n",
        "pca = PCA(n_components=3)\n",
        "\n",
        "pca.fit_transform(X_std)"
      ]
    },
    {
      "cell_type": "code",
      "execution_count": 26,
      "metadata": {
        "id": "b23tW08RPgsu",
        "outputId": "c817146a-3f2c-4bd4-91a9-8a9413c1e387",
        "colab": {
          "base_uri": "https://localhost:8080/"
        }
      },
      "outputs": [
        {
          "output_type": "execute_result",
          "data": {
            "text/plain": [
              "array([[ 0.31019368, -1.08215716, -0.07983642],\n",
              "       [ 1.28092404, -0.43132556,  0.13533091],\n",
              "       [ 1.38766381,  0.78428014, -0.12911446],\n",
              "       [ 0.95087515, -1.15737142,  1.6495519 ],\n",
              "       [ 1.84222365,  0.88189889,  0.11493111],\n",
              "       [-1.12563709, -0.52680338,  0.06564012],\n",
              "       [-2.71174416,  0.63290138,  0.71195473],\n",
              "       [-0.03100441, -0.20059783, -0.50339479],\n",
              "       [ 2.29618509,  0.07661447,  0.01087174],\n",
              "       [-0.61585248, -0.205764  ,  1.82651199],\n",
              "       [-1.73320252,  1.29971699,  0.09045178],\n",
              "       [-0.82366049, -0.57164535, -0.27123176],\n",
              "       [ 0.75619512,  0.73995175, -0.76710616],\n",
              "       [-0.42344386,  0.26555394, -1.41533681],\n",
              "       [-0.39581307, -1.64646874,  0.24104031],\n",
              "       [-0.88581498,  0.15195119, -0.82271209],\n",
              "       [ 0.24587691,  0.39139878, -1.15801831],\n",
              "       [ 0.14741103, -1.22874561, -0.03110396],\n",
              "       [-0.7161265 , -0.56781471, -0.86180345],\n",
              "       [ 0.24475107,  2.39442622,  1.19337361]])"
            ]
          },
          "metadata": {},
          "execution_count": 26
        }
      ],
      "source": [
        "# 앞에서 구현한 PCA 값\n",
        "MYPCA(X,3)"
      ]
    },
    {
      "cell_type": "markdown",
      "source": [
        "**Output**\n",
        "\n",
        "값은 동일하지만, 부호가 반대로 되었다. 절댓값 반환이 아닌 numpy array의 부호만을 바꾸는 함수는 따로 존재하지 않아, 그대로 두었다."
      ],
      "metadata": {
        "id": "LJzTdmuLn59H"
      }
    }
  ],
  "metadata": {
    "colab": {
      "name": "Tobigs_Week4_dimensionality_reduction1.ipynb",
      "provenance": [],
      "collapsed_sections": [],
      "toc_visible": true
    },
    "kernelspec": {
      "display_name": "Python 3 (ipykernel)",
      "language": "python",
      "name": "python3"
    },
    "language_info": {
      "codemirror_mode": {
        "name": "ipython",
        "version": 3
      },
      "file_extension": ".py",
      "mimetype": "text/x-python",
      "name": "python",
      "nbconvert_exporter": "python",
      "pygments_lexer": "ipython3",
      "version": "3.8.6"
    },
    "gpuClass": "standard"
  },
  "nbformat": 4,
  "nbformat_minor": 0
}