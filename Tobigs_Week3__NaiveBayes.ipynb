{
  "cells": [
    {
      "cell_type": "markdown",
      "metadata": {
        "id": "W3Zkr2JGup19"
      },
      "source": [
        "# Assignment"
      ]
    },
    {
      "cell_type": "markdown",
      "metadata": {
        "id": "hJEhM1uAup2I"
      },
      "source": [
        "# Naive Bayes Classification"
      ]
    },
    {
      "cell_type": "markdown",
      "metadata": {
        "id": "ZSwttCJnup2K"
      },
      "source": [
        "## 1. 직접 수식을 작성하여 Naive Bayes 모델을 만들겠습니다.\n",
        "\n",
        "- 입력문서가 {fast, fly, shoot} 을 주요 단어로 가질때, 이 문서는 얼마의 확률로 어떤 장르로 분류가 될지 알아보겠습니다.\n",
        "- 주어진 dataset 을 확인해 보기위해 엑셀 파일을 읽습니다."
      ]
    },
    {
      "cell_type": "code",
      "source": [
        "from google.colab import drive\n",
        "drive.mount('/content/drive')"
      ],
      "metadata": {
        "colab": {
          "base_uri": "https://localhost:8080/"
        },
        "id": "s0P8rtjejfUq",
        "outputId": "9090ed7d-0ec7-4dff-f999-acd89a029e93"
      },
      "execution_count": 1,
      "outputs": [
        {
          "output_type": "stream",
          "name": "stdout",
          "text": [
            "Mounted at /content/drive\n"
          ]
        }
      ]
    },
    {
      "cell_type": "code",
      "execution_count": 25,
      "metadata": {
        "id": "PHRU587dup2K"
      },
      "outputs": [],
      "source": [
        "import numpy as np\n",
        "import pandas as pd\n",
        "import matplotlib.pyplot as plt"
      ]
    },
    {
      "cell_type": "code",
      "execution_count": 3,
      "metadata": {
        "colab": {
          "base_uri": "https://localhost:8080/",
          "height": 206
        },
        "id": "yZt4AtNTup2W",
        "outputId": "b33e52d9-b3d5-4680-f2c3-221827a6d47d",
        "scrolled": true
      },
      "outputs": [
        {
          "output_type": "execute_result",
          "data": {
            "text/plain": [
              "    label                        message\n",
              "0  comedy          Fun couple, love love\n",
              "1  action          fast Furious, shoot!!\n",
              "2  comedy  couple^^, fly, fast, fun, fun\n",
              "3  action       furious, shoot shoot fun\n",
              "4  action         fly~~ fast shoot, Love"
            ],
            "text/html": [
              "\n",
              "  <div id=\"df-9ca7c9dd-840b-469e-a895-4ad6c2b54eb3\">\n",
              "    <div class=\"colab-df-container\">\n",
              "      <div>\n",
              "<style scoped>\n",
              "    .dataframe tbody tr th:only-of-type {\n",
              "        vertical-align: middle;\n",
              "    }\n",
              "\n",
              "    .dataframe tbody tr th {\n",
              "        vertical-align: top;\n",
              "    }\n",
              "\n",
              "    .dataframe thead th {\n",
              "        text-align: right;\n",
              "    }\n",
              "</style>\n",
              "<table border=\"1\" class=\"dataframe\">\n",
              "  <thead>\n",
              "    <tr style=\"text-align: right;\">\n",
              "      <th></th>\n",
              "      <th>label</th>\n",
              "      <th>message</th>\n",
              "    </tr>\n",
              "  </thead>\n",
              "  <tbody>\n",
              "    <tr>\n",
              "      <th>0</th>\n",
              "      <td>comedy</td>\n",
              "      <td>Fun couple, love love</td>\n",
              "    </tr>\n",
              "    <tr>\n",
              "      <th>1</th>\n",
              "      <td>action</td>\n",
              "      <td>fast Furious, shoot!!</td>\n",
              "    </tr>\n",
              "    <tr>\n",
              "      <th>2</th>\n",
              "      <td>comedy</td>\n",
              "      <td>couple^^, fly, fast, fun, fun</td>\n",
              "    </tr>\n",
              "    <tr>\n",
              "      <th>3</th>\n",
              "      <td>action</td>\n",
              "      <td>furious, shoot shoot fun</td>\n",
              "    </tr>\n",
              "    <tr>\n",
              "      <th>4</th>\n",
              "      <td>action</td>\n",
              "      <td>fly~~ fast shoot, Love</td>\n",
              "    </tr>\n",
              "  </tbody>\n",
              "</table>\n",
              "</div>\n",
              "      <button class=\"colab-df-convert\" onclick=\"convertToInteractive('df-9ca7c9dd-840b-469e-a895-4ad6c2b54eb3')\"\n",
              "              title=\"Convert this dataframe to an interactive table.\"\n",
              "              style=\"display:none;\">\n",
              "        \n",
              "  <svg xmlns=\"http://www.w3.org/2000/svg\" height=\"24px\"viewBox=\"0 0 24 24\"\n",
              "       width=\"24px\">\n",
              "    <path d=\"M0 0h24v24H0V0z\" fill=\"none\"/>\n",
              "    <path d=\"M18.56 5.44l.94 2.06.94-2.06 2.06-.94-2.06-.94-.94-2.06-.94 2.06-2.06.94zm-11 1L8.5 8.5l.94-2.06 2.06-.94-2.06-.94L8.5 2.5l-.94 2.06-2.06.94zm10 10l.94 2.06.94-2.06 2.06-.94-2.06-.94-.94-2.06-.94 2.06-2.06.94z\"/><path d=\"M17.41 7.96l-1.37-1.37c-.4-.4-.92-.59-1.43-.59-.52 0-1.04.2-1.43.59L10.3 9.45l-7.72 7.72c-.78.78-.78 2.05 0 2.83L4 21.41c.39.39.9.59 1.41.59.51 0 1.02-.2 1.41-.59l7.78-7.78 2.81-2.81c.8-.78.8-2.07 0-2.86zM5.41 20L4 18.59l7.72-7.72 1.47 1.35L5.41 20z\"/>\n",
              "  </svg>\n",
              "      </button>\n",
              "      \n",
              "  <style>\n",
              "    .colab-df-container {\n",
              "      display:flex;\n",
              "      flex-wrap:wrap;\n",
              "      gap: 12px;\n",
              "    }\n",
              "\n",
              "    .colab-df-convert {\n",
              "      background-color: #E8F0FE;\n",
              "      border: none;\n",
              "      border-radius: 50%;\n",
              "      cursor: pointer;\n",
              "      display: none;\n",
              "      fill: #1967D2;\n",
              "      height: 32px;\n",
              "      padding: 0 0 0 0;\n",
              "      width: 32px;\n",
              "    }\n",
              "\n",
              "    .colab-df-convert:hover {\n",
              "      background-color: #E2EBFA;\n",
              "      box-shadow: 0px 1px 2px rgba(60, 64, 67, 0.3), 0px 1px 3px 1px rgba(60, 64, 67, 0.15);\n",
              "      fill: #174EA6;\n",
              "    }\n",
              "\n",
              "    [theme=dark] .colab-df-convert {\n",
              "      background-color: #3B4455;\n",
              "      fill: #D2E3FC;\n",
              "    }\n",
              "\n",
              "    [theme=dark] .colab-df-convert:hover {\n",
              "      background-color: #434B5C;\n",
              "      box-shadow: 0px 1px 3px 1px rgba(0, 0, 0, 0.15);\n",
              "      filter: drop-shadow(0px 1px 2px rgba(0, 0, 0, 0.3));\n",
              "      fill: #FFFFFF;\n",
              "    }\n",
              "  </style>\n",
              "\n",
              "      <script>\n",
              "        const buttonEl =\n",
              "          document.querySelector('#df-9ca7c9dd-840b-469e-a895-4ad6c2b54eb3 button.colab-df-convert');\n",
              "        buttonEl.style.display =\n",
              "          google.colab.kernel.accessAllowed ? 'block' : 'none';\n",
              "\n",
              "        async function convertToInteractive(key) {\n",
              "          const element = document.querySelector('#df-9ca7c9dd-840b-469e-a895-4ad6c2b54eb3');\n",
              "          const dataTable =\n",
              "            await google.colab.kernel.invokeFunction('convertToInteractive',\n",
              "                                                     [key], {});\n",
              "          if (!dataTable) return;\n",
              "\n",
              "          const docLinkHtml = 'Like what you see? Visit the ' +\n",
              "            '<a target=\"_blank\" href=https://colab.research.google.com/notebooks/data_table.ipynb>data table notebook</a>'\n",
              "            + ' to learn more about interactive tables.';\n",
              "          element.innerHTML = '';\n",
              "          dataTable['output_type'] = 'display_data';\n",
              "          await google.colab.output.renderOutput(dataTable, element);\n",
              "          const docLink = document.createElement('div');\n",
              "          docLink.innerHTML = docLinkHtml;\n",
              "          element.appendChild(docLink);\n",
              "        }\n",
              "      </script>\n",
              "    </div>\n",
              "  </div>\n",
              "  "
            ]
          },
          "metadata": {},
          "execution_count": 3
        }
      ],
      "source": [
        "documents = pd.read_excel('/content/drive/MyDrive/ToBigs/NB,DT/week3_NB_DT/week3_Naive_bayes/test_file.xlsx') \n",
        "documents"
      ]
    },
    {
      "cell_type": "markdown",
      "metadata": {
        "id": "cXxX9Yx7up2Y"
      },
      "source": [
        "### step 1. 단어를 모두 소문자로 바꾸어 줍니다. \n",
        "* message 칼럼에 있는 단어들을 모두 소문자로 바꿔주세요."
      ]
    },
    {
      "cell_type": "code",
      "execution_count": 4,
      "metadata": {
        "colab": {
          "base_uri": "https://localhost:8080/"
        },
        "id": "UCX42MsAup2Z",
        "outputId": "ac37097f-dde7-4e69-dea7-ae4dfcfde986"
      },
      "outputs": [
        {
          "output_type": "stream",
          "name": "stdout",
          "text": [
            "['fun couple, love love', 'fast furious, shoot!!', 'couple^^, fly, fast, fun, fun', 'furious, shoot shoot fun', 'fly~~ fast shoot, love']\n"
          ]
        }
      ],
      "source": [
        "lower_documents = [string.lower() for string in documents[\"message\"]]\n",
        "\n",
        "print(lower_documents)"
      ]
    },
    {
      "cell_type": "markdown",
      "metadata": {
        "id": "QZDgo93Lup2a"
      },
      "source": [
        "### step2. string.punctuation 을 이용해서 특수문자를 제거해주세요.\n",
        "- string.punctuation 에는 특수문자들이 저장되어있는것을 확인할수 있습니다."
      ]
    },
    {
      "cell_type": "code",
      "execution_count": 5,
      "metadata": {
        "colab": {
          "base_uri": "https://localhost:8080/",
          "height": 36
        },
        "id": "Nldmu4gvup2a",
        "outputId": "1cb8fdfc-3a5c-431b-e0e3-7f9e94f53aa3"
      },
      "outputs": [
        {
          "output_type": "execute_result",
          "data": {
            "text/plain": [
              "'!\"#$%&\\'()*+,-./:;<=>?@[\\\\]^_`{|}~'"
            ],
            "application/vnd.google.colaboratory.intrinsic+json": {
              "type": "string"
            }
          },
          "metadata": {},
          "execution_count": 5
        }
      ],
      "source": [
        "import string\n",
        "string.punctuation"
      ]
    },
    {
      "cell_type": "code",
      "execution_count": 6,
      "metadata": {
        "colab": {
          "base_uri": "https://localhost:8080/"
        },
        "id": "oWaKMt1Mup2b",
        "outputId": "86dad163-abda-4006-edfa-86c78ba9b29a"
      },
      "outputs": [
        {
          "output_type": "stream",
          "name": "stdout",
          "text": [
            "['fun couple love love', 'fast furious shoot', 'couple fly fast fun fun', 'furious shoot shoot fun', 'fly fast shoot love']\n"
          ]
        }
      ],
      "source": [
        "import re\n",
        "\n",
        "del_punctuation_documents = []\n",
        "\n",
        "for words in lower_documents:\n",
        "    new_string = ''.join([i for i in words if i not in string.punctuation])\n",
        "    del_punctuation_documents.append(new_string)\n",
        "\n",
        "print(del_punctuation_documents)"
      ]
    },
    {
      "cell_type": "markdown",
      "metadata": {
        "id": "kjSXpYvcup2e"
      },
      "source": [
        "### step 3. 단어를 하나씩 띄어쓰기 단위로 쪼개어 줍니다."
      ]
    },
    {
      "cell_type": "code",
      "execution_count": 7,
      "metadata": {
        "colab": {
          "base_uri": "https://localhost:8080/"
        },
        "id": "DheDzRAGup2f",
        "outputId": "6bac6b45-cd35-48cf-8293-f020cadf1bc3"
      },
      "outputs": [
        {
          "output_type": "stream",
          "name": "stdout",
          "text": [
            "[['fun', 'couple', 'love', 'love'], ['fast', 'furious', 'shoot'], ['couple', 'fly', 'fast', 'fun', 'fun'], ['furious', 'shoot', 'shoot', 'fun'], ['fly', 'fast', 'shoot', 'love']]\n"
          ]
        }
      ],
      "source": [
        "preprocessed_documents=[d.split(' ') for d in del_punctuation_documents]\n",
        "\n",
        "print(preprocessed_documents)"
      ]
    },
    {
      "cell_type": "markdown",
      "metadata": {
        "id": "S49LF8aoup2i"
      },
      "source": [
        "### step 4. 문자를 숫자로 변환해줍니다.\n",
        "- 이를 위해 CountVectorizer를 사용합니다.\n",
        "- CountVectorizer는 문서 집합에서 단어 토큰을 생성하고, 각 단어 수를 세어 BOW (Bag of Words) 인코딩한 벡터를 만들어줍니다.\n",
        "\n",
        "- 문서에 해당단어가 몇번 포함되었는지를 나타낼 때 사용하는 방법입니다.\n",
        "\n",
        "- 참고 : https://datascienceschool.net/view-notebook/3e7aadbf88ed4f0d87a76f9ddc925d69/"
      ]
    },
    {
      "cell_type": "markdown",
      "metadata": {
        "id": "ZJSEL2Vwup2i"
      },
      "source": [
        "![CountVectorized](https://user-images.githubusercontent.com/68625698/106378540-15d8ed80-63e9-11eb-8604-5c960c274867.PNG)"
      ]
    },
    {
      "cell_type": "code",
      "execution_count": 8,
      "metadata": {
        "id": "hsLyujsReU1D",
        "outputId": "70b649c3-0d9f-4e3d-b50d-59892fa46a64",
        "colab": {
          "base_uri": "https://localhost:8080/"
        }
      },
      "outputs": [
        {
          "output_type": "execute_result",
          "data": {
            "text/plain": [
              "CountVectorizer()"
            ]
          },
          "metadata": {},
          "execution_count": 8
        }
      ],
      "source": [
        "from sklearn.feature_extraction.text import CountVectorizer\n",
        "count_vector = CountVectorizer()\n",
        "count_vector.fit(documents['message'])"
      ]
    },
    {
      "cell_type": "code",
      "execution_count": 9,
      "metadata": {
        "id": "QVp9CLl3eU1E",
        "outputId": "e4b738e3-054e-4eff-fd27-819775fe1db2",
        "colab": {
          "base_uri": "https://localhost:8080/"
        }
      },
      "outputs": [
        {
          "output_type": "execute_result",
          "data": {
            "text/plain": [
              "array([[1, 0, 0, 1, 0, 2, 0],\n",
              "       [0, 1, 0, 0, 1, 0, 1],\n",
              "       [1, 1, 1, 2, 0, 0, 0],\n",
              "       [0, 0, 0, 1, 1, 0, 2],\n",
              "       [0, 1, 1, 0, 0, 1, 1]])"
            ]
          },
          "metadata": {},
          "execution_count": 9
        }
      ],
      "source": [
        "doc_array = count_vector.transform(documents['message']).toarray()\n",
        "doc_array"
      ]
    },
    {
      "cell_type": "code",
      "execution_count": 10,
      "metadata": {
        "colab": {
          "base_uri": "https://localhost:8080/"
        },
        "id": "mKpKp6q6up2k",
        "outputId": "59b01819-8f19-4ec6-ab57-3c480af0e1e4"
      },
      "outputs": [
        {
          "output_type": "stream",
          "name": "stderr",
          "text": [
            "/usr/local/lib/python3.7/dist-packages/sklearn/utils/deprecation.py:87: FutureWarning: Function get_feature_names is deprecated; get_feature_names is deprecated in 1.0 and will be removed in 1.2. Please use get_feature_names_out instead.\n",
            "  warnings.warn(msg, category=FutureWarning)\n"
          ]
        },
        {
          "output_type": "execute_result",
          "data": {
            "text/plain": [
              "['couple', 'fast', 'fly', 'fun', 'furious', 'love', 'shoot']"
            ]
          },
          "metadata": {},
          "execution_count": 10
        }
      ],
      "source": [
        "count_vector.get_feature_names()"
      ]
    },
    {
      "cell_type": "code",
      "execution_count": 11,
      "metadata": {
        "colab": {
          "base_uri": "https://localhost:8080/"
        },
        "id": "ZYyBzSVUup2k",
        "outputId": "94bc93b6-290a-4028-a9ff-ae5e714d4bad",
        "scrolled": true
      },
      "outputs": [
        {
          "output_type": "execute_result",
          "data": {
            "text/plain": [
              "{'couple': 0,\n",
              " 'fast': 1,\n",
              " 'fly': 2,\n",
              " 'fun': 3,\n",
              " 'furious': 4,\n",
              " 'love': 5,\n",
              " 'shoot': 6}"
            ]
          },
          "metadata": {},
          "execution_count": 11
        }
      ],
      "source": [
        "# doc_array 배열에 순서에 따라 매치되는 단어를 나타낸다.\n",
        "count_vector.vocabulary_"
      ]
    },
    {
      "cell_type": "code",
      "execution_count": 12,
      "metadata": {
        "colab": {
          "base_uri": "https://localhost:8080/",
          "height": 262
        },
        "id": "NxPjKxQTup2l",
        "outputId": "937baa20-03cf-48b4-f0fa-0ef4394d9ca9"
      },
      "outputs": [
        {
          "output_type": "stream",
          "name": "stderr",
          "text": [
            "/usr/local/lib/python3.7/dist-packages/sklearn/utils/deprecation.py:87: FutureWarning: Function get_feature_names is deprecated; get_feature_names is deprecated in 1.0 and will be removed in 1.2. Please use get_feature_names_out instead.\n",
            "  warnings.warn(msg, category=FutureWarning)\n"
          ]
        },
        {
          "output_type": "execute_result",
          "data": {
            "text/plain": [
              "   couple  fast  fly  fun  furious  love  shoot\n",
              "0       1     0    0    1        0     2      0\n",
              "1       0     1    0    0        1     0      1\n",
              "2       1     1    1    2        0     0      0\n",
              "3       0     0    0    1        1     0      2\n",
              "4       0     1    1    0        0     1      1"
            ],
            "text/html": [
              "\n",
              "  <div id=\"df-d88a4e3e-7dda-4e8a-85f4-e31e9aac4980\">\n",
              "    <div class=\"colab-df-container\">\n",
              "      <div>\n",
              "<style scoped>\n",
              "    .dataframe tbody tr th:only-of-type {\n",
              "        vertical-align: middle;\n",
              "    }\n",
              "\n",
              "    .dataframe tbody tr th {\n",
              "        vertical-align: top;\n",
              "    }\n",
              "\n",
              "    .dataframe thead th {\n",
              "        text-align: right;\n",
              "    }\n",
              "</style>\n",
              "<table border=\"1\" class=\"dataframe\">\n",
              "  <thead>\n",
              "    <tr style=\"text-align: right;\">\n",
              "      <th></th>\n",
              "      <th>couple</th>\n",
              "      <th>fast</th>\n",
              "      <th>fly</th>\n",
              "      <th>fun</th>\n",
              "      <th>furious</th>\n",
              "      <th>love</th>\n",
              "      <th>shoot</th>\n",
              "    </tr>\n",
              "  </thead>\n",
              "  <tbody>\n",
              "    <tr>\n",
              "      <th>0</th>\n",
              "      <td>1</td>\n",
              "      <td>0</td>\n",
              "      <td>0</td>\n",
              "      <td>1</td>\n",
              "      <td>0</td>\n",
              "      <td>2</td>\n",
              "      <td>0</td>\n",
              "    </tr>\n",
              "    <tr>\n",
              "      <th>1</th>\n",
              "      <td>0</td>\n",
              "      <td>1</td>\n",
              "      <td>0</td>\n",
              "      <td>0</td>\n",
              "      <td>1</td>\n",
              "      <td>0</td>\n",
              "      <td>1</td>\n",
              "    </tr>\n",
              "    <tr>\n",
              "      <th>2</th>\n",
              "      <td>1</td>\n",
              "      <td>1</td>\n",
              "      <td>1</td>\n",
              "      <td>2</td>\n",
              "      <td>0</td>\n",
              "      <td>0</td>\n",
              "      <td>0</td>\n",
              "    </tr>\n",
              "    <tr>\n",
              "      <th>3</th>\n",
              "      <td>0</td>\n",
              "      <td>0</td>\n",
              "      <td>0</td>\n",
              "      <td>1</td>\n",
              "      <td>1</td>\n",
              "      <td>0</td>\n",
              "      <td>2</td>\n",
              "    </tr>\n",
              "    <tr>\n",
              "      <th>4</th>\n",
              "      <td>0</td>\n",
              "      <td>1</td>\n",
              "      <td>1</td>\n",
              "      <td>0</td>\n",
              "      <td>0</td>\n",
              "      <td>1</td>\n",
              "      <td>1</td>\n",
              "    </tr>\n",
              "  </tbody>\n",
              "</table>\n",
              "</div>\n",
              "      <button class=\"colab-df-convert\" onclick=\"convertToInteractive('df-d88a4e3e-7dda-4e8a-85f4-e31e9aac4980')\"\n",
              "              title=\"Convert this dataframe to an interactive table.\"\n",
              "              style=\"display:none;\">\n",
              "        \n",
              "  <svg xmlns=\"http://www.w3.org/2000/svg\" height=\"24px\"viewBox=\"0 0 24 24\"\n",
              "       width=\"24px\">\n",
              "    <path d=\"M0 0h24v24H0V0z\" fill=\"none\"/>\n",
              "    <path d=\"M18.56 5.44l.94 2.06.94-2.06 2.06-.94-2.06-.94-.94-2.06-.94 2.06-2.06.94zm-11 1L8.5 8.5l.94-2.06 2.06-.94-2.06-.94L8.5 2.5l-.94 2.06-2.06.94zm10 10l.94 2.06.94-2.06 2.06-.94-2.06-.94-.94-2.06-.94 2.06-2.06.94z\"/><path d=\"M17.41 7.96l-1.37-1.37c-.4-.4-.92-.59-1.43-.59-.52 0-1.04.2-1.43.59L10.3 9.45l-7.72 7.72c-.78.78-.78 2.05 0 2.83L4 21.41c.39.39.9.59 1.41.59.51 0 1.02-.2 1.41-.59l7.78-7.78 2.81-2.81c.8-.78.8-2.07 0-2.86zM5.41 20L4 18.59l7.72-7.72 1.47 1.35L5.41 20z\"/>\n",
              "  </svg>\n",
              "      </button>\n",
              "      \n",
              "  <style>\n",
              "    .colab-df-container {\n",
              "      display:flex;\n",
              "      flex-wrap:wrap;\n",
              "      gap: 12px;\n",
              "    }\n",
              "\n",
              "    .colab-df-convert {\n",
              "      background-color: #E8F0FE;\n",
              "      border: none;\n",
              "      border-radius: 50%;\n",
              "      cursor: pointer;\n",
              "      display: none;\n",
              "      fill: #1967D2;\n",
              "      height: 32px;\n",
              "      padding: 0 0 0 0;\n",
              "      width: 32px;\n",
              "    }\n",
              "\n",
              "    .colab-df-convert:hover {\n",
              "      background-color: #E2EBFA;\n",
              "      box-shadow: 0px 1px 2px rgba(60, 64, 67, 0.3), 0px 1px 3px 1px rgba(60, 64, 67, 0.15);\n",
              "      fill: #174EA6;\n",
              "    }\n",
              "\n",
              "    [theme=dark] .colab-df-convert {\n",
              "      background-color: #3B4455;\n",
              "      fill: #D2E3FC;\n",
              "    }\n",
              "\n",
              "    [theme=dark] .colab-df-convert:hover {\n",
              "      background-color: #434B5C;\n",
              "      box-shadow: 0px 1px 3px 1px rgba(0, 0, 0, 0.15);\n",
              "      filter: drop-shadow(0px 1px 2px rgba(0, 0, 0, 0.3));\n",
              "      fill: #FFFFFF;\n",
              "    }\n",
              "  </style>\n",
              "\n",
              "      <script>\n",
              "        const buttonEl =\n",
              "          document.querySelector('#df-d88a4e3e-7dda-4e8a-85f4-e31e9aac4980 button.colab-df-convert');\n",
              "        buttonEl.style.display =\n",
              "          google.colab.kernel.accessAllowed ? 'block' : 'none';\n",
              "\n",
              "        async function convertToInteractive(key) {\n",
              "          const element = document.querySelector('#df-d88a4e3e-7dda-4e8a-85f4-e31e9aac4980');\n",
              "          const dataTable =\n",
              "            await google.colab.kernel.invokeFunction('convertToInteractive',\n",
              "                                                     [key], {});\n",
              "          if (!dataTable) return;\n",
              "\n",
              "          const docLinkHtml = 'Like what you see? Visit the ' +\n",
              "            '<a target=\"_blank\" href=https://colab.research.google.com/notebooks/data_table.ipynb>data table notebook</a>'\n",
              "            + ' to learn more about interactive tables.';\n",
              "          element.innerHTML = '';\n",
              "          dataTable['output_type'] = 'display_data';\n",
              "          await google.colab.output.renderOutput(dataTable, element);\n",
              "          const docLink = document.createElement('div');\n",
              "          docLink.innerHTML = docLinkHtml;\n",
              "          element.appendChild(docLink);\n",
              "        }\n",
              "      </script>\n",
              "    </div>\n",
              "  </div>\n",
              "  "
            ]
          },
          "metadata": {},
          "execution_count": 12
        }
      ],
      "source": [
        "frequency_matrix = pd.DataFrame(doc_array, columns = count_vector.get_feature_names())\n",
        "frequency_matrix"
      ]
    },
    {
      "cell_type": "code",
      "execution_count": 13,
      "metadata": {
        "id": "nFDEoN6iup2l",
        "colab": {
          "base_uri": "https://localhost:8080/",
          "height": 206
        },
        "outputId": "540bec9f-f376-42d8-c601-47598ed7f047"
      },
      "outputs": [
        {
          "output_type": "execute_result",
          "data": {
            "text/plain": [
              "   couple  fast  fly  fun  furious  love  shoot  count\n",
              "0       1     0    0    1        0     2      0      4\n",
              "1       0     1    0    0        1     0      1      3\n",
              "2       1     1    1    2        0     0      0      5\n",
              "3       0     0    0    1        1     0      2      4\n",
              "4       0     1    1    0        0     1      1      4"
            ],
            "text/html": [
              "\n",
              "  <div id=\"df-ac560402-8992-4fa4-8ef3-87053f8db417\">\n",
              "    <div class=\"colab-df-container\">\n",
              "      <div>\n",
              "<style scoped>\n",
              "    .dataframe tbody tr th:only-of-type {\n",
              "        vertical-align: middle;\n",
              "    }\n",
              "\n",
              "    .dataframe tbody tr th {\n",
              "        vertical-align: top;\n",
              "    }\n",
              "\n",
              "    .dataframe thead th {\n",
              "        text-align: right;\n",
              "    }\n",
              "</style>\n",
              "<table border=\"1\" class=\"dataframe\">\n",
              "  <thead>\n",
              "    <tr style=\"text-align: right;\">\n",
              "      <th></th>\n",
              "      <th>couple</th>\n",
              "      <th>fast</th>\n",
              "      <th>fly</th>\n",
              "      <th>fun</th>\n",
              "      <th>furious</th>\n",
              "      <th>love</th>\n",
              "      <th>shoot</th>\n",
              "      <th>count</th>\n",
              "    </tr>\n",
              "  </thead>\n",
              "  <tbody>\n",
              "    <tr>\n",
              "      <th>0</th>\n",
              "      <td>1</td>\n",
              "      <td>0</td>\n",
              "      <td>0</td>\n",
              "      <td>1</td>\n",
              "      <td>0</td>\n",
              "      <td>2</td>\n",
              "      <td>0</td>\n",
              "      <td>4</td>\n",
              "    </tr>\n",
              "    <tr>\n",
              "      <th>1</th>\n",
              "      <td>0</td>\n",
              "      <td>1</td>\n",
              "      <td>0</td>\n",
              "      <td>0</td>\n",
              "      <td>1</td>\n",
              "      <td>0</td>\n",
              "      <td>1</td>\n",
              "      <td>3</td>\n",
              "    </tr>\n",
              "    <tr>\n",
              "      <th>2</th>\n",
              "      <td>1</td>\n",
              "      <td>1</td>\n",
              "      <td>1</td>\n",
              "      <td>2</td>\n",
              "      <td>0</td>\n",
              "      <td>0</td>\n",
              "      <td>0</td>\n",
              "      <td>5</td>\n",
              "    </tr>\n",
              "    <tr>\n",
              "      <th>3</th>\n",
              "      <td>0</td>\n",
              "      <td>0</td>\n",
              "      <td>0</td>\n",
              "      <td>1</td>\n",
              "      <td>1</td>\n",
              "      <td>0</td>\n",
              "      <td>2</td>\n",
              "      <td>4</td>\n",
              "    </tr>\n",
              "    <tr>\n",
              "      <th>4</th>\n",
              "      <td>0</td>\n",
              "      <td>1</td>\n",
              "      <td>1</td>\n",
              "      <td>0</td>\n",
              "      <td>0</td>\n",
              "      <td>1</td>\n",
              "      <td>1</td>\n",
              "      <td>4</td>\n",
              "    </tr>\n",
              "  </tbody>\n",
              "</table>\n",
              "</div>\n",
              "      <button class=\"colab-df-convert\" onclick=\"convertToInteractive('df-ac560402-8992-4fa4-8ef3-87053f8db417')\"\n",
              "              title=\"Convert this dataframe to an interactive table.\"\n",
              "              style=\"display:none;\">\n",
              "        \n",
              "  <svg xmlns=\"http://www.w3.org/2000/svg\" height=\"24px\"viewBox=\"0 0 24 24\"\n",
              "       width=\"24px\">\n",
              "    <path d=\"M0 0h24v24H0V0z\" fill=\"none\"/>\n",
              "    <path d=\"M18.56 5.44l.94 2.06.94-2.06 2.06-.94-2.06-.94-.94-2.06-.94 2.06-2.06.94zm-11 1L8.5 8.5l.94-2.06 2.06-.94-2.06-.94L8.5 2.5l-.94 2.06-2.06.94zm10 10l.94 2.06.94-2.06 2.06-.94-2.06-.94-.94-2.06-.94 2.06-2.06.94z\"/><path d=\"M17.41 7.96l-1.37-1.37c-.4-.4-.92-.59-1.43-.59-.52 0-1.04.2-1.43.59L10.3 9.45l-7.72 7.72c-.78.78-.78 2.05 0 2.83L4 21.41c.39.39.9.59 1.41.59.51 0 1.02-.2 1.41-.59l7.78-7.78 2.81-2.81c.8-.78.8-2.07 0-2.86zM5.41 20L4 18.59l7.72-7.72 1.47 1.35L5.41 20z\"/>\n",
              "  </svg>\n",
              "      </button>\n",
              "      \n",
              "  <style>\n",
              "    .colab-df-container {\n",
              "      display:flex;\n",
              "      flex-wrap:wrap;\n",
              "      gap: 12px;\n",
              "    }\n",
              "\n",
              "    .colab-df-convert {\n",
              "      background-color: #E8F0FE;\n",
              "      border: none;\n",
              "      border-radius: 50%;\n",
              "      cursor: pointer;\n",
              "      display: none;\n",
              "      fill: #1967D2;\n",
              "      height: 32px;\n",
              "      padding: 0 0 0 0;\n",
              "      width: 32px;\n",
              "    }\n",
              "\n",
              "    .colab-df-convert:hover {\n",
              "      background-color: #E2EBFA;\n",
              "      box-shadow: 0px 1px 2px rgba(60, 64, 67, 0.3), 0px 1px 3px 1px rgba(60, 64, 67, 0.15);\n",
              "      fill: #174EA6;\n",
              "    }\n",
              "\n",
              "    [theme=dark] .colab-df-convert {\n",
              "      background-color: #3B4455;\n",
              "      fill: #D2E3FC;\n",
              "    }\n",
              "\n",
              "    [theme=dark] .colab-df-convert:hover {\n",
              "      background-color: #434B5C;\n",
              "      box-shadow: 0px 1px 3px 1px rgba(0, 0, 0, 0.15);\n",
              "      filter: drop-shadow(0px 1px 2px rgba(0, 0, 0, 0.3));\n",
              "      fill: #FFFFFF;\n",
              "    }\n",
              "  </style>\n",
              "\n",
              "      <script>\n",
              "        const buttonEl =\n",
              "          document.querySelector('#df-ac560402-8992-4fa4-8ef3-87053f8db417 button.colab-df-convert');\n",
              "        buttonEl.style.display =\n",
              "          google.colab.kernel.accessAllowed ? 'block' : 'none';\n",
              "\n",
              "        async function convertToInteractive(key) {\n",
              "          const element = document.querySelector('#df-ac560402-8992-4fa4-8ef3-87053f8db417');\n",
              "          const dataTable =\n",
              "            await google.colab.kernel.invokeFunction('convertToInteractive',\n",
              "                                                     [key], {});\n",
              "          if (!dataTable) return;\n",
              "\n",
              "          const docLinkHtml = 'Like what you see? Visit the ' +\n",
              "            '<a target=\"_blank\" href=https://colab.research.google.com/notebooks/data_table.ipynb>data table notebook</a>'\n",
              "            + ' to learn more about interactive tables.';\n",
              "          element.innerHTML = '';\n",
              "          dataTable['output_type'] = 'display_data';\n",
              "          await google.colab.output.renderOutput(dataTable, element);\n",
              "          const docLink = document.createElement('div');\n",
              "          docLink.innerHTML = docLinkHtml;\n",
              "          element.appendChild(docLink);\n",
              "        }\n",
              "      </script>\n",
              "    </div>\n",
              "  </div>\n",
              "  "
            ]
          },
          "metadata": {},
          "execution_count": 13
        }
      ],
      "source": [
        "frequency_matrix['count'] = frequency_matrix.sum(axis=1)\n",
        "frequency_matrix"
      ]
    },
    {
      "cell_type": "markdown",
      "metadata": {
        "id": "ECND0-Xiup2l"
      },
      "source": [
        "### step 5. 범주형 변수를 dummy변수로 변환해주는 작업(One-Hot Encoding!)을 해주어야합니다.\n",
        "- label 을 comedy =1, action =0 으로 변환해주세요"
      ]
    },
    {
      "cell_type": "code",
      "execution_count": 14,
      "metadata": {
        "id": "X3ZgPf6EeU1H"
      },
      "outputs": [],
      "source": [
        "documents['label'] = documents['label'].map({'comedy': 1, 'action': 0})"
      ]
    },
    {
      "cell_type": "code",
      "execution_count": 15,
      "metadata": {
        "id": "21OXioBWup2m"
      },
      "outputs": [],
      "source": [
        "# documents['label'],frequency_matrix 결합\n",
        "doc = pd.concat([documents['label'],frequency_matrix],axis=1)"
      ]
    },
    {
      "cell_type": "code",
      "execution_count": 16,
      "metadata": {
        "colab": {
          "base_uri": "https://localhost:8080/",
          "height": 206
        },
        "id": "Q2835Qg-up2m",
        "outputId": "0d074fc0-3390-4228-b1c7-4d2d0fec33bc"
      },
      "outputs": [
        {
          "output_type": "execute_result",
          "data": {
            "text/plain": [
              "   label  couple  fast  fly  fun  furious  love  shoot  count\n",
              "0      1       1     0    0    1        0     2      0      4\n",
              "1      0       0     1    0    0        1     0      1      3\n",
              "2      1       1     1    1    2        0     0      0      5\n",
              "3      0       0     0    0    1        1     0      2      4\n",
              "4      0       0     1    1    0        0     1      1      4"
            ],
            "text/html": [
              "\n",
              "  <div id=\"df-b4e46553-803e-4010-a1fd-1c216eebf732\">\n",
              "    <div class=\"colab-df-container\">\n",
              "      <div>\n",
              "<style scoped>\n",
              "    .dataframe tbody tr th:only-of-type {\n",
              "        vertical-align: middle;\n",
              "    }\n",
              "\n",
              "    .dataframe tbody tr th {\n",
              "        vertical-align: top;\n",
              "    }\n",
              "\n",
              "    .dataframe thead th {\n",
              "        text-align: right;\n",
              "    }\n",
              "</style>\n",
              "<table border=\"1\" class=\"dataframe\">\n",
              "  <thead>\n",
              "    <tr style=\"text-align: right;\">\n",
              "      <th></th>\n",
              "      <th>label</th>\n",
              "      <th>couple</th>\n",
              "      <th>fast</th>\n",
              "      <th>fly</th>\n",
              "      <th>fun</th>\n",
              "      <th>furious</th>\n",
              "      <th>love</th>\n",
              "      <th>shoot</th>\n",
              "      <th>count</th>\n",
              "    </tr>\n",
              "  </thead>\n",
              "  <tbody>\n",
              "    <tr>\n",
              "      <th>0</th>\n",
              "      <td>1</td>\n",
              "      <td>1</td>\n",
              "      <td>0</td>\n",
              "      <td>0</td>\n",
              "      <td>1</td>\n",
              "      <td>0</td>\n",
              "      <td>2</td>\n",
              "      <td>0</td>\n",
              "      <td>4</td>\n",
              "    </tr>\n",
              "    <tr>\n",
              "      <th>1</th>\n",
              "      <td>0</td>\n",
              "      <td>0</td>\n",
              "      <td>1</td>\n",
              "      <td>0</td>\n",
              "      <td>0</td>\n",
              "      <td>1</td>\n",
              "      <td>0</td>\n",
              "      <td>1</td>\n",
              "      <td>3</td>\n",
              "    </tr>\n",
              "    <tr>\n",
              "      <th>2</th>\n",
              "      <td>1</td>\n",
              "      <td>1</td>\n",
              "      <td>1</td>\n",
              "      <td>1</td>\n",
              "      <td>2</td>\n",
              "      <td>0</td>\n",
              "      <td>0</td>\n",
              "      <td>0</td>\n",
              "      <td>5</td>\n",
              "    </tr>\n",
              "    <tr>\n",
              "      <th>3</th>\n",
              "      <td>0</td>\n",
              "      <td>0</td>\n",
              "      <td>0</td>\n",
              "      <td>0</td>\n",
              "      <td>1</td>\n",
              "      <td>1</td>\n",
              "      <td>0</td>\n",
              "      <td>2</td>\n",
              "      <td>4</td>\n",
              "    </tr>\n",
              "    <tr>\n",
              "      <th>4</th>\n",
              "      <td>0</td>\n",
              "      <td>0</td>\n",
              "      <td>1</td>\n",
              "      <td>1</td>\n",
              "      <td>0</td>\n",
              "      <td>0</td>\n",
              "      <td>1</td>\n",
              "      <td>1</td>\n",
              "      <td>4</td>\n",
              "    </tr>\n",
              "  </tbody>\n",
              "</table>\n",
              "</div>\n",
              "      <button class=\"colab-df-convert\" onclick=\"convertToInteractive('df-b4e46553-803e-4010-a1fd-1c216eebf732')\"\n",
              "              title=\"Convert this dataframe to an interactive table.\"\n",
              "              style=\"display:none;\">\n",
              "        \n",
              "  <svg xmlns=\"http://www.w3.org/2000/svg\" height=\"24px\"viewBox=\"0 0 24 24\"\n",
              "       width=\"24px\">\n",
              "    <path d=\"M0 0h24v24H0V0z\" fill=\"none\"/>\n",
              "    <path d=\"M18.56 5.44l.94 2.06.94-2.06 2.06-.94-2.06-.94-.94-2.06-.94 2.06-2.06.94zm-11 1L8.5 8.5l.94-2.06 2.06-.94-2.06-.94L8.5 2.5l-.94 2.06-2.06.94zm10 10l.94 2.06.94-2.06 2.06-.94-2.06-.94-.94-2.06-.94 2.06-2.06.94z\"/><path d=\"M17.41 7.96l-1.37-1.37c-.4-.4-.92-.59-1.43-.59-.52 0-1.04.2-1.43.59L10.3 9.45l-7.72 7.72c-.78.78-.78 2.05 0 2.83L4 21.41c.39.39.9.59 1.41.59.51 0 1.02-.2 1.41-.59l7.78-7.78 2.81-2.81c.8-.78.8-2.07 0-2.86zM5.41 20L4 18.59l7.72-7.72 1.47 1.35L5.41 20z\"/>\n",
              "  </svg>\n",
              "      </button>\n",
              "      \n",
              "  <style>\n",
              "    .colab-df-container {\n",
              "      display:flex;\n",
              "      flex-wrap:wrap;\n",
              "      gap: 12px;\n",
              "    }\n",
              "\n",
              "    .colab-df-convert {\n",
              "      background-color: #E8F0FE;\n",
              "      border: none;\n",
              "      border-radius: 50%;\n",
              "      cursor: pointer;\n",
              "      display: none;\n",
              "      fill: #1967D2;\n",
              "      height: 32px;\n",
              "      padding: 0 0 0 0;\n",
              "      width: 32px;\n",
              "    }\n",
              "\n",
              "    .colab-df-convert:hover {\n",
              "      background-color: #E2EBFA;\n",
              "      box-shadow: 0px 1px 2px rgba(60, 64, 67, 0.3), 0px 1px 3px 1px rgba(60, 64, 67, 0.15);\n",
              "      fill: #174EA6;\n",
              "    }\n",
              "\n",
              "    [theme=dark] .colab-df-convert {\n",
              "      background-color: #3B4455;\n",
              "      fill: #D2E3FC;\n",
              "    }\n",
              "\n",
              "    [theme=dark] .colab-df-convert:hover {\n",
              "      background-color: #434B5C;\n",
              "      box-shadow: 0px 1px 3px 1px rgba(0, 0, 0, 0.15);\n",
              "      filter: drop-shadow(0px 1px 2px rgba(0, 0, 0, 0.3));\n",
              "      fill: #FFFFFF;\n",
              "    }\n",
              "  </style>\n",
              "\n",
              "      <script>\n",
              "        const buttonEl =\n",
              "          document.querySelector('#df-b4e46553-803e-4010-a1fd-1c216eebf732 button.colab-df-convert');\n",
              "        buttonEl.style.display =\n",
              "          google.colab.kernel.accessAllowed ? 'block' : 'none';\n",
              "\n",
              "        async function convertToInteractive(key) {\n",
              "          const element = document.querySelector('#df-b4e46553-803e-4010-a1fd-1c216eebf732');\n",
              "          const dataTable =\n",
              "            await google.colab.kernel.invokeFunction('convertToInteractive',\n",
              "                                                     [key], {});\n",
              "          if (!dataTable) return;\n",
              "\n",
              "          const docLinkHtml = 'Like what you see? Visit the ' +\n",
              "            '<a target=\"_blank\" href=https://colab.research.google.com/notebooks/data_table.ipynb>data table notebook</a>'\n",
              "            + ' to learn more about interactive tables.';\n",
              "          element.innerHTML = '';\n",
              "          dataTable['output_type'] = 'display_data';\n",
              "          await google.colab.output.renderOutput(dataTable, element);\n",
              "          const docLink = document.createElement('div');\n",
              "          docLink.innerHTML = docLinkHtml;\n",
              "          element.appendChild(docLink);\n",
              "        }\n",
              "      </script>\n",
              "    </div>\n",
              "  </div>\n",
              "  "
            ]
          },
          "metadata": {},
          "execution_count": 16
        }
      ],
      "source": [
        "doc"
      ]
    },
    {
      "cell_type": "markdown",
      "metadata": {
        "id": "J3djcEgzup2n"
      },
      "source": [
        "###  step 6. 나이브 베이즈 계산을 해봅시다!\n",
        "\n",
        "- 입력문서가 {fast, fly, shoot} 을 주요 단어로 가질때, 이 문서는 얼마의 확률로 어떤 장르로 분류가 될까요? (계산과정을 채워주세요) "
      ]
    },
    {
      "cell_type": "code",
      "execution_count": 17,
      "metadata": {
        "colab": {
          "base_uri": "https://localhost:8080/"
        },
        "id": "GdeYF_4rup2n",
        "outputId": "944f8606-a643-411a-80e2-f9905ee8bf1c"
      },
      "outputs": [
        {
          "output_type": "execute_result",
          "data": {
            "text/plain": [
              "array([[1, 1, 0, 0, 1, 0, 2, 0, 4],\n",
              "       [0, 0, 1, 0, 0, 1, 0, 1, 3],\n",
              "       [1, 1, 1, 1, 2, 0, 0, 0, 5],\n",
              "       [0, 0, 0, 0, 1, 1, 0, 2, 4],\n",
              "       [0, 0, 1, 1, 0, 0, 1, 1, 4]])"
            ]
          },
          "metadata": {},
          "execution_count": 17
        }
      ],
      "source": [
        "doc = np.array(doc)      # dataframe을 np-array로 변환해줍니다.\n",
        "                         # return값은 np-matrix가 아니라 np-array입니다.\n",
        "doc"
      ]
    },
    {
      "cell_type": "code",
      "execution_count": 18,
      "metadata": {
        "colab": {
          "base_uri": "https://localhost:8080/"
        },
        "id": "JgtmVeawup2n",
        "outputId": "528d7548-3e53-4077-f9f2-0f39aa50deaa"
      },
      "outputs": [
        {
          "output_type": "execute_result",
          "data": {
            "text/plain": [
              "numpy.ndarray"
            ]
          },
          "metadata": {},
          "execution_count": 18
        }
      ],
      "source": [
        "type(doc)"
      ]
    },
    {
      "cell_type": "markdown",
      "metadata": {
        "id": "1qxqVZyXup2o"
      },
      "source": [
        "####  P(Y=comedy), P(Y=action) 계산하기"
      ]
    },
    {
      "cell_type": "code",
      "execution_count": 19,
      "metadata": {
        "id": "oyAV6HOSeU1J"
      },
      "outputs": [],
      "source": [
        "# P(Y=comedy)\n",
        "p_comedy = sum(doc[:,0]==1) / len(doc)\n",
        "\n",
        "# P(Y=action)\n",
        "p_action = sum(doc[:,0]==0) / len(doc)"
      ]
    },
    {
      "cell_type": "code",
      "execution_count": 20,
      "metadata": {
        "colab": {
          "base_uri": "https://localhost:8080/"
        },
        "id": "Yeh96yycup2q",
        "outputId": "7e37e2ee-d528-4d88-e344-6cbdc0700249"
      },
      "outputs": [
        {
          "output_type": "stream",
          "name": "stdout",
          "text": [
            "p_comedy :  0.4\n",
            "p_action :  0.6\n"
          ]
        }
      ],
      "source": [
        "print('p_comedy : ',p_comedy)\n",
        "print('p_action : ', p_action)"
      ]
    },
    {
      "cell_type": "markdown",
      "metadata": {
        "id": "85_GjF4Yup2r"
      },
      "source": [
        "#### P(fast=1|comedy=1), P(fly=1|comedy=1), P(shoot=1|comedy=1) 계산하기\n",
        "\n",
        "* 문서에 두번 등장한 단어 주의\n",
        "* 조건부 확률 계산식 참고 \n",
        "![스크린샷 2022-08-09 오후 9.24.47.png](data:image/png;base64,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)"
      ]
    },
    {
      "cell_type": "markdown",
      "source": [
        "**P(fast=1|comedy=1)**\n",
        "\n",
        ": 장르가 comedy인 문서 중에서 fast를 주요 단어를 가질 확률\n",
        "- `sum(doc[(doc[:, 0] == 1) & (doc[:, 2] >= 1)][:, 2])` : 장르가 comedy이면서 fast가 주요 단어인 문서의 개수\n",
        "- `sum(doc[doc[:, 0] == 1][:, -1]` : 장르가 comedy인 문서의 개수\n",
        "\n",
        "**P(fly=1|comedy=1)**\n",
        "\n",
        ": 장르가 comedy인 문서 중에서 fly를 주요 단어를 가질 확률\n",
        "- `sum(doc[(doc[:, 0] == 1) & (doc[:, 3] >= 1)][:, 3])` : 장르가 comedy이면서 fly가 주요 단어인 문서의 개수\n",
        "- `sum(doc[doc[:, 0] == 1][:, -1]` : 장르가 comedy인 문서의 개수\n",
        "\n",
        "**P(shoot=1|comedy=1)**\n",
        "\n",
        ": 장르가 comedy인 문서 중에서 shoot를 주요 단어를 가질 확률\n",
        "- `sum(doc[(doc[:, 0] == 1) & (doc[:, 7] >= 1)][:, 7])` : 장르가 comedy이면서 shoot가 주요 단어인 문서의 개수\n",
        "- `sum(doc[doc[:, 0] == 1][:, -1]` : 장르가 comedy인 문서의 개수\n",
        "\n",
        "\n",
        "\n"
      ],
      "metadata": {
        "id": "_Qq3wg8xkOrE"
      }
    },
    {
      "cell_type": "code",
      "execution_count": 21,
      "metadata": {
        "id": "jAwsNsT1eU1J"
      },
      "outputs": [],
      "source": [
        "# P(fast=1|comedy=1)\n",
        "p_comedy_fast = (sum(doc[(doc[:, 0] == 1) & (doc[:, 2] >= 1)][:, 2])) / sum(doc[doc[:, 0] == 1][:, -1])\n",
        "\n",
        "# P(fly=1|comedy=1)\n",
        "p_comedy_fly = (sum(doc[(doc[:, 0] == 1) & (doc[:, 3] >= 1)][:, 3])) / sum(doc[doc[:, 0] == 1][:, -1])\n",
        "\n",
        "# P(shoot=1|comedy=1)\n",
        "p_comedy_shoot = (sum(doc[(doc[:, 0] == 1) & (doc[:, 7] >= 1)][:, 7])) / sum(doc[doc[:, 0] == 1][:, -1])"
      ]
    },
    {
      "cell_type": "code",
      "execution_count": 22,
      "metadata": {
        "colab": {
          "base_uri": "https://localhost:8080/"
        },
        "id": "_1GyvhmTup21",
        "outputId": "db447e73-d5cb-4bc6-9a27-0f91e4316fe4"
      },
      "outputs": [
        {
          "output_type": "stream",
          "name": "stdout",
          "text": [
            "p_comedy_fast :  0.1111111111111111\n",
            "p_comedy_fly :  0.1111111111111111\n",
            "p_comedy_shoot :  0.0\n"
          ]
        }
      ],
      "source": [
        "print('p_comedy_fast : ' , p_comedy_fast)\n",
        "print('p_comedy_fly : ' , p_comedy_fly)\n",
        "print('p_comedy_shoot : ' , p_comedy_shoot)   "
      ]
    },
    {
      "cell_type": "code",
      "source": [
        "# visualize p-value\n",
        "x = np.arange(3)\n",
        "words = ['fast', 'fly', 'shoot']\n",
        "values = [p_comedy_fast, p_comedy_fly, p_comedy_shoot]\n",
        "\n",
        "plt.bar(x, values)\n",
        "plt.xticks(x, words)\n",
        "plt.ylim([0, 1])\n",
        "plt.title('Main words in Comedy')\n",
        "\n",
        "plt.show()"
      ],
      "metadata": {
        "colab": {
          "base_uri": "https://localhost:8080/",
          "height": 281
        },
        "id": "FHXRsK5NoAIW",
        "outputId": "35b23433-38d8-4dc0-98ab-d0427e38dc93"
      },
      "execution_count": 28,
      "outputs": [
        {
          "output_type": "display_data",
          "data": {
            "text/plain": [
              "<Figure size 432x288 with 1 Axes>"
            ],
            "image/png": "[encoded data removed]"
          },
          "metadata": {
            "needs_background": "light"
          }
        }
      ]
    },
    {
      "cell_type": "markdown",
      "source": [
        "**Output**\n",
        "\n",
        "Comedy 문서는 fast, fly를 주요 단어로 가질 확률이 있지만 그 확률 역시 희박하고, shoot을 주요 단어로 가질 확률은 전혀 없다."
      ],
      "metadata": {
        "id": "GzY8qHLQm4iC"
      }
    },
    {
      "cell_type": "markdown",
      "metadata": {
        "id": "qefcvWQ-up22"
      },
      "source": [
        "#### P(fast=1|action=1), P(fly=1|action=1), P(shoot=1|action=1) 계산하기"
      ]
    },
    {
      "cell_type": "markdown",
      "source": [
        "**P(fast=1|action=1)**\n",
        "\n",
        ": 장르가 action인 문서 중에서 fast를 주요 단어를 가질 확률\n",
        "- `sum(doc[(doc[:, 0] == 0) & (doc[:, 2] >= 1)][:, 2])` : 장르가 action이면서 fast가 주요 단어인 문서의 개수\n",
        "- `sum(doc[doc[:, 0] == 0][:, -1]` : 장르가 action인 문서의 개수\n",
        "\n",
        "**P(fly=1|action=1)**\n",
        "\n",
        ": 장르가 action인 문서 중에서 fly를 주요 단어를 가질 확률\n",
        "- `sum(doc[(doc[:, 0] == 0) & (doc[:, 3] >= 1)][:, 3])` : 장르가 action이면서 fly가 주요 단어인 문서의 개수\n",
        "- `sum(doc[doc[:, 0] == 0][:, -1]` : 장르가 action인 문서의 개수\n",
        "\n",
        "**P(shoot=1|action=1)**\n",
        "\n",
        ": 장르가 action인 문서 중에서 shoot를 주요 단어를 가질 확률\n",
        "- `sum(doc[(doc[:, 0] == 0) & (doc[:, 7] >= 1)][:, 7])` : 장르가 action이면서 shoot가 주요 단어인 문서의 개수\n",
        "- `sum(doc[doc[:, 0] == 0][:, -1]` : 장르가 action인 문서의 개수"
      ],
      "metadata": {
        "id": "3Xhj1KWFnHdb"
      }
    },
    {
      "cell_type": "code",
      "execution_count": 23,
      "metadata": {
        "id": "axBALqHFeU1K"
      },
      "outputs": [],
      "source": [
        "# P(fast=1|action=1)\n",
        "p_action_fast = (sum(doc[(doc[:, 0] == 0) & (doc[:, 2] >= 1)][:, 2])) / sum(doc[doc[:, 0] == 0][:, -1])\n",
        "# P(fly=1|action=1)\n",
        "p_action_fly = (sum(doc[(doc[:, 0] == 0) & (doc[:, 3] >= 1)][:, 3])) / sum(doc[doc[:, 0] == 0][:, -1])\n",
        "# P(shoot=1|action=1)\n",
        "p_action_shoot = (sum(doc[(doc[:, 0] == 0) & (doc[:, 7] >= 1)][:, 7])) / sum(doc[doc[:, 0] == 0][:, -1])"
      ]
    },
    {
      "cell_type": "code",
      "execution_count": 24,
      "metadata": {
        "colab": {
          "base_uri": "https://localhost:8080/"
        },
        "id": "qZlOkRG7up23",
        "outputId": "a049c0db-89d2-4336-ad98-b063a21ac543"
      },
      "outputs": [
        {
          "output_type": "stream",
          "name": "stdout",
          "text": [
            "p_action_fast :  0.18181818181818182\n",
            "p_action_fly :  0.09090909090909091\n",
            "p_action_shoot :  0.36363636363636365\n"
          ]
        }
      ],
      "source": [
        "print('p_action_fast : ' , p_action_fast)\n",
        "print('p_action_fly : ' , p_action_fly)\n",
        "print('p_action_shoot : ' , p_action_shoot)"
      ]
    },
    {
      "cell_type": "code",
      "source": [
        "# visualize p-value\n",
        "x = np.arange(3)\n",
        "words = ['fast', 'fly', 'shoot']\n",
        "values = [p_action_fast, p_action_fly, p_action_shoot]\n",
        "\n",
        "plt.bar(x, values)\n",
        "plt.xticks(x, words)\n",
        "plt.ylim([0, 1])\n",
        "plt.title('Main words in Action')\n",
        "\n",
        "plt.show()"
      ],
      "metadata": {
        "colab": {
          "base_uri": "https://localhost:8080/",
          "height": 281
        },
        "id": "5MXWHoOFpeUw",
        "outputId": "be58bea8-7f67-4458-faf6-349035b25953"
      },
      "execution_count": 29,
      "outputs": [
        {
          "output_type": "display_data",
          "data": {
            "text/plain": [
              "<Figure size 432x288 with 1 Axes>"
            ],
            "image/png": "[encoded data removed]"
          },
          "metadata": {
            "needs_background": "light"
          }
        }
      ]
    },
    {
      "cell_type": "markdown",
      "source": [
        "**Output**\n",
        "\n",
        "Action 문서는 fast, fly, shoot 모두 주요 단어로 가질 확률이 있지만 그 중에서 shoot을 주요 단어로 가질 확률이 제일 높고, fly를 주요 단어로 가질 확률이 가장 낮다."
      ],
      "metadata": {
        "id": "G5iniqefntPo"
      }
    },
    {
      "cell_type": "markdown",
      "metadata": {
        "id": "sts9BLUeup23"
      },
      "source": [
        "#### P(Y = comedy| X = fast, fly, shoot) , P(Y = action=1| X = fast, fly, shoot) 값 계산하기"
      ]
    },
    {
      "cell_type": "code",
      "execution_count": 31,
      "metadata": {
        "id": "5H89LgDMeU1L"
      },
      "outputs": [],
      "source": [
        "#P(Y = comedy| X = fast, fly, shoot)\n",
        "proba_comedy = p_comedy_fast*p_comedy_fly*p_comedy_shoot*p_comedy\n",
        "\n",
        "#P(Y = action=1| X = fast, fly, shoot)\n",
        "proba_action = p_action_fast*p_action_fly*p_action_shoot*p_action"
      ]
    },
    {
      "cell_type": "code",
      "execution_count": 32,
      "metadata": {
        "colab": {
          "base_uri": "https://localhost:8080/"
        },
        "id": "dU21-UF6up24",
        "outputId": "89780218-d291-4e4b-af69-c65075fc92b0"
      },
      "outputs": [
        {
          "output_type": "stream",
          "name": "stdout",
          "text": [
            "proba_comedy 0.0\n",
            "proba_action 0.0036063110443275734\n"
          ]
        }
      ],
      "source": [
        "print('proba_comedy', proba_comedy)\n",
        "print('proba_action', proba_action)"
      ]
    },
    {
      "cell_type": "code",
      "source": [
        "# visualize p-value\n",
        "x = np.arange(2)\n",
        "words = ['Comdey', 'Action']\n",
        "values = [proba_comedy, proba_action]\n",
        "\n",
        "plt.bar(x, values)\n",
        "plt.xticks(x, words)\n",
        "plt.ylim([0, 0.005])\n",
        "plt.title('Probability')\n",
        "\n",
        "plt.show()"
      ],
      "metadata": {
        "colab": {
          "base_uri": "https://localhost:8080/",
          "height": 281
        },
        "id": "SiYRdL3lxMAC",
        "outputId": "010f03f8-27b5-4ff7-b66a-7d8cfdc303e5"
      },
      "execution_count": 43,
      "outputs": [
        {
          "output_type": "display_data",
          "data": {
            "text/plain": [
              "<Figure size 432x288 with 1 Axes>"
            ],
            "image/png": "[encoded data removed]"
          },
          "metadata": {
            "needs_background": "light"
          }
        }
      ]
    },
    {
      "cell_type": "markdown",
      "source": [
        "**Output**\n",
        "\n",
        "앞서 `p_comedy_shoot`의 값이 0이였으므로, likelihood가 0이 되어 결과값인 `proba_comedy`가 0이 되었다. 따라서 이를 해결하기위해 Laplace Smoothing을 적용해야한다."
      ],
      "metadata": {
        "id": "tlEAb5l8sRCm"
      }
    },
    {
      "cell_type": "markdown",
      "metadata": {
        "id": "ypxC3cfrup24"
      },
      "source": [
        "### step 7. 라플라스 스무딩\n",
        "1. P(Y = comedy| X = fast, fly, shoot) => 0\n",
        "2. P(Y = action| X = fast, fly, shoot) => 0.003606311044327574\n",
        "\n",
        "- proba_comedy를 보면 p_comedy_shoot의 값인 0으로 인해 확률이 0으로 계산되었다는 것을 확인할 수 있습니다. 이 문제점을 해결해주세요."
      ]
    },
    {
      "cell_type": "markdown",
      "source": [
        "**Laplace Smoothing**\n",
        "\n",
        "\n",
        ": 훈련 데이터에 없던 값이 들어오거나 이상값이 들어올 경우 그에 대한 likelihood가 0이 되어, 정상적인 분류가 되지 않을 때를 방지하기 위해 사용되는 방법\n",
        "\n",
        "![스크린샷 2022-08-09 오후 9.57.07.png](data:image/png;base64,iVBORw0KGgoAAAANSUhEUgAAA7AAAADyCAYAAAB0xSk4AAAMbWlDQ1BJQ0MgUHJvZmlsZQAASImVVwdYU8kWnltSSWgBBKSE3gSRGkBKCC2A9CLYCEkgocSYEFTsZVHBtSAiihVdFVFsKyB27Mqi2PtiQUVZF3WxofImJKDrvvK9831z758zZ/5T7kzuPQBofeBJpXmoNgD5kgJZQngwc3RaOpP0FBCAHqABOrDi8eVSdlxcNIAycP+7vLsBEOX9qrOS65/z/1V0BUI5HwBkLMSZAjk/H+LjAOBr+VJZAQBEpd5qcoFUiWdDrCeDAUJcrsTZKrxdiTNV+HC/TVICB+LLAJBpPJ4sGwDNe1DPLORnQx7NzxC7SgRiCQBawyAO4It4AoiVsQ/Lz5+oxJUQ20N7KcQwHsDK/I4z+2/8mYP8PF72IFbl1S/kELFcmseb+n+W5n9Lfp5iwIctHDSRLCJBmT+s4a3ciVFKTIO4S5IZE6usNcQfxAJV3QFAqSJFRLLKHjXhyzmwfsAAYlcBLyQKYhOIwyR5MdFqfWaWOIwLMdwt6BRxATcJYkOIFwrloYlqm42yiQlqX2h9lozDVuvP8WT9fpW+Hihyk9lq/jciIVfNj2kWiZJSIaZCbF0oTomBWBNiF3luYpTaZmSRiBMzYCNTJCjjt4Y4QSgJD1bxY4VZsrAEtX1JvnwgX2yjSMyNUeN9BaKkCFV9sFN8Xn/8MBfsslDCTh7gEcpHRw/kIhCGhKpyx54LJcmJap4P0oLgBNVanCrNi1Pb45bCvHCl3hJiD3lhonotnlIAN6eKH8+SFsQlqeLEi3J4kXGqePBlIBpwQAhgAgUcmWAiyAHi1q6GLvhLNRMGeEAGsoEQOKs1AytS+2ck8JoIisAfEAmBfHBdcP+sEBRC/ZdBrerqDLL6Zwv7V+SCpxDngyiQB38r+ldJBr2lgCdQI/6Hdx4cfBhvHhzK+X+vH9B+07ChJlqtUQx4ZGoNWBJDiSHECGIY0QE3xgNwPzwaXoPgcMNZuM9AHt/sCU8JbYRHhOuEdsLtCeK5sh+iHAXaIX+YuhaZ39cCt4Wcnngw7g/ZITNugBsDZ9wD+mHjgdCzJ9Ry1HErq8L8gftvGXz3NNR2FFcKShlCCaLY/7hS01HTc5BFWevv66OKNXOw3pzBmR/9c76rvgDeo360xBZi+7Gz2AnsPHYYawBM7BjWiLVgR5R4cHc96d9dA94S+uPJhTzif/gbeLLKSspda107XT+r5gqEUwqUB48zUTpVJs4WFTDZ8O0gZHIlfJdhTDdXNzcAlO8a1d/X2/j+dwhi0PJNN+93APyP9fX1HfqmizwGwF5vePwPftPZswDQ0QDg3EG+Qlao0uHKCwH+S2jBk2YEzIAVsIf5uAEv4AeCQCiIBLEgCaSB8TB6EdznMjAZTAdzQDEoBcvASrAGbACbwXawC+wDDeAwOAHOgIvgMrgO7sLd0wFegm7wDvQiCEJC6AgDMULMERvECXFDWEgAEopEIwlIGpKBZCMSRIFMR+YhpUgZsgbZhNQge5GDyAnkPNKG3EYeIp3IG+QTiqE0VA81RW3R4SgLZaNRaBI6Ds1GJ6FF6Hx0CVqJVqM70Xr0BHoRvY62oy/RHgxgGpgBZoE5YyyMg8Vi6VgWJsNmYiVYBVaN1WFN8DlfxdqxLuwjTsQZOBN3hjs4Ak/G+fgkfCa+GF+Db8fr8VP4Vfwh3o1/JdAJJgQngi+BSxhNyCZMJhQTKghbCQcIp+FZ6iC8IxKJBkQ7ojc8i2nEHOI04mLiOuJu4nFiG/ExsYdEIhmRnEj+pFgSj1RAKiatJu0kHSNdIXWQPpA1yOZkN3IYOZ0sIc8lV5B3kI+Sr5CfkXsp2hQbii8lliKgTKUspWyhNFEuUToovVQdqh3Vn5pEzaHOoVZS66inqfeobzU0NCw1fDTiNcQaszUqNfZonNN4qPGRpktzpHFoY2kK2hLaNtpx2m3aWzqdbksPoqfTC+hL6DX0k/QH9A+aDE0XTa6mQHOWZpVmveYVzVdaFC0bLbbWeK0irQqt/VqXtLq0Kdq22hxtnvZM7Srtg9o3tXt0GDojdGJ18nUW6+zQOa/zXJeka6sbqivQna+7Wfek7mMGxrBicBh8xjzGFsZpRoceUc9Oj6uXo1eqt0uvVa9bX1ffQz9Ff4p+lf4R/XYDzMDWgGuQZ7DUYJ/BDYNPQ0yHsIcIhywaUjfkypD3hkMNgwyFhiWGuw2vG34yYhqFGuUaLTdqMLpvjBs7GscbTzZeb3zauGuo3lC/ofyhJUP3Db1jgpo4miSYTDPZbNJi0mNqZhpuKjVdbXrStMvMwCzILMes3OyoWac5wzzAXGxebn7M/AVTn8lm5jErmaeY3RYmFhEWCotNFq0WvZZ2lsmWcy13W963olqxrLKsyq2arbqtza1HWU+3rrW+Y0OxYdmIbFbZnLV5b2tnm2q7wLbB9rmdoR3Xrsiu1u6ePd0+0H6SfbX9NQeiA8sh12Gdw2VH1NHTUeRY5XjJCXXychI7rXNqG0YY5jNMMqx62E1nmjPbudC51vmhi4FLtMtclwaXV8Oth6cPXz787PCvrp6uea5bXO+O0B0ROWLuiKYRb9wc3fhuVW7X3OnuYe6z3BvdX3s4eQg91nvc8mR4jvJc4Nns+cXL20vmVefV6W3tneG91vsmS48Vx1rMOudD8An2meVz2Oejr5dvge8+3z/9nP1y/Xb4PR9pN1I4csvIx/6W/jz/Tf7tAcyAjICNAe2BFoG8wOrAR0FWQYKgrUHP2A7sHPZO9qtg12BZ8IHg9xxfzgzO8RAsJDykJKQ1VDc0OXRN6IMwy7DssNqw7nDP8GnhxyMIEVERyyNuck25fG4NtzvSO3JG5KkoWlRi1JqoR9GO0bLoplHoqMhRK0bdi7GJkcQ0xIJYbuyK2PtxdnGT4g7FE+Pj4qvinyaMSJiecDaRkTghcUfiu6TgpKVJd5PtkxXJzSlaKWNTalLep4aklqW2jx4+esboi2nGaeK0xnRSekr61vSeMaFjVo7pGOs5tnjsjXF246aMOz/eeHze+CMTtCbwJuzPIGSkZuzI+MyL5VXzejK5mWszu/kc/ir+S0GQoFzQKfQXlgmfZflnlWU9z/bPXpHdKQoUVYi6xBzxGvHrnIicDTnvc2Nzt+X25aXm7c4n52fkH5ToSnIlpyaaTZwysU3qJC2Wtk/ynbRyUrcsSrZVjsjHyRsL9OBHfYvCXvGT4mFhQGFV4YfJKZP3T9GZIpnSMtVx6qKpz4rCin6Zhk/jT2uebjF9zvSHM9gzNs1EZmbObJ5lNWv+rI7Z4bO3z6HOyZ3z21zXuWVz/5qXOq9pvun82fMf/xT+U22xZrGs+OYCvwUbFuILxQtbF7kvWr3oa4mg5EKpa2lF6efF/MUXfh7xc+XPfUuylrQu9Vq6fhlxmWTZjeWBy7eX6ZQVlT1eMWpFfTmzvKT8r5UTVp6v8KjYsIq6SrGqvTK6snG19eplqz+vEa25XhVctXutydpFa9+vE6y7sj5ofd0G0w2lGz5tFG+8tSl8U321bXXFZuLmws1Pt6RsOfsL65earcZbS7d+2SbZ1r49YfupGu+amh0mO5bWorWK2s6dY3de3hWyq7HOuW7TboPdpXvAHsWeF3sz9t7YF7WveT9rf92vNr+uPcA4UFKP1E+t724QNbQ3pjW2HYw82Nzk13TgkMuhbYctDlcd0T+y9Cj16PyjfceKjvUclx7vOpF94nHzhOa7J0efvHYq/lTr6ajT586EnTl5ln322Dn/c4fP+54/eIF1oeGi18X6Fs+WA795/nag1au1/pL3pcbLPpeb2ka2Hb0SeOXE1ZCrZ65xr128HnO97UbyjVs3x95svyW49fx23u3Xdwrv9N6dfY9wr+S+9v2KByYPqn93+H13u1f7kYchD1seJT66+5j/+OUT+ZPPHfOf0p9WPDN/VvPc7fnhzrDOyy/GvOh4KX3Z21X8h84fa1/Zv/r1z6A/W7pHd3e8lr3ue7P4rdHbbX95/NXcE9fz4F3+u973JR+MPmz/yPp49lPqp2e9kz+TPld+cfjS9DXq672+/L4+KU/G6/8UwOBAs7IAeLMNAHoaAAzYt1HHqHrBfkFU/Ws/Av8Jq/rFfvECoA5+v8d3wa+bmwDs2QLbL8ivBXvVODoAST4AdXcfHGqRZ7m7qbhosE8hPOjrewt7NtIKAL4s6+vrre7r+7IZBgt7x+MSVQ+qFCLsGTbGfMnMzwT/RlT96Xc5/ngHygg8wI/3fwFQoJDj3GBNpgAAAIplWElmTU0AKgAAAAgABAEaAAUAAAABAAAAPgEbAAUAAAABAAAARgEoAAMAAAABAAIAAIdpAAQAAAABAAAATgAAAAAAAACQAAAAAQAAAJAAAAABAAOShgAHAAAAEgAAAHigAgAEAAAAAQAAA7CgAwAEAAAAAQAAAPIAAAAAQVNDSUkAAABTY3JlZW5zaG90m541ZwAAAAlwSFlzAAAWJQAAFiUBSVIk8AAAAdZpVFh0WE1MOmNvbS5hZG9iZS54bXAAAAAAADx4OnhtcG1ldGEgeG1sbnM6eD0iYWRvYmU6bnM6bWV0YS8iIHg6eG1wdGs9IlhNUCBDb3JlIDYuMC4wIj4KICAgPHJkZjpSREYgeG1sbnM6cmRmPSJodHRwOi8vd3d3LnczLm9yZy8xOTk5LzAyLzIyLXJkZi1zeW50YXgtbnMjIj4KICAgICAgPHJkZjpEZXNjcmlwdGlvbiByZGY6YWJvdXQ9IiIKICAgICAgICAgICAgeG1sbnM6ZXhpZj0iaHR0cDovL25zLmFkb2JlLmNvbS9leGlmLzEuMC8iPgogICAgICAgICA8ZXhpZjpQaXhlbFlEaW1lbnNpb24+MjQyPC9leGlmOlBpeGVsWURpbWVuc2lvbj4KICAgICAgICAgPGV4aWY6UGl4ZWxYRGltZW5zaW9uPjk0NDwvZXhpZjpQaXhlbFhEaW1lbnNpb24+CiAgICAgICAgIDxleGlmOlVzZXJDb21tZW50PlNjcmVlbnNob3Q8L2V4aWY6VXNlckNvbW1lbnQ+CiAgICAgIDwvcmRmOkRlc2NyaXB0aW9uPgogICA8L3JkZjpSREY+CjwveDp4bXBtZXRhPgqU/cgFAAAAHGlET1QAAAACAAAAAAAAAHkAAAAoAAAAeQAAAHkAAD1KaizquwAAPRZJREFUeAHs3YufHFWZxvFib4qrKFfdjXIJyEVAEm4BEsCF/btXJCTcbwGBBCGAoCDgKrure3f5lvuMlTiT9GSmO909z/l83s/pzHRXnfpVTaeeet7znkv+8GUb2kqgBEqgBEqgBEqgBEqgBEqgBEpgyQlcUgG75GeowyuBEiiBEiiBEiiBEiiBEiiBEhgJVMD2QiiBEiiBEiiBEiiBEiiBEiiBElgJAhWwK3GaOsgSKIESKIESKIESKIESKIESKIEK2F4DJVACJVACJVACJVACJVACJVACK0GgAnYlTlMHWQIlUAIlUAIlUAIlUAIlUAIlUAHba6AESqAESqAESqAESqAESqAESmAlCFTArsRp6iBLoARKoARKoARKoARKoARKoAQqYHsNlEAJlEAJlEAJlEAJlEAJlEAJrASBCtiVOE0dZAmUQAmUQAmUQAmUQAmUQAmUQAVsr4ESKIESKIESKIESKIESKIESKIGVIFABuxKnqYMsgRIogRIogRIogRIogRIogRKogO01UAIlUAIlUAIlUAIlUAIlUAIlsBIEKmBX4jR1kCVQAiVQAiVQAiVQAiVQAiVQAhWwvQZKoARKoARKoARKoARKoARKoARWgkAF7Eqcpg6yBEqgBEqgBEqgBEqgBEqgBEqgArbXQAmUQAmUQAkskMD//M//DIn//M//HP793/99jEsuuWT46le/OnzlK18Z/uZv/mb4y7/8y+Gv/uqvhr/4i79Y4Oj+uCvj++///u8xjFH8x3/8x/hLY8w4jdH4LsYYFw6lOyyBEiiBElgKAhWwS3EaOogSKIESKIG9QoBg/f3vfz+K1s8//3z41a9+NQYxePXVVw/XXHPN8K1vfWu49NJLh6997WujoF00G+P713/91+Hf/u3fht/85jeDcYo//OEPw3e+850xrrrqqlFoR3AveozdXwmUQAmUwN4kUAG7N897j7oESqAESuAiEfiXf/mX4be//e3wxRdfDO+///7w9ttvDz/72c+Gv/7rvx5uuumm4cYbbxz27ds3ithvfvObw9e//vWFj9T4CNbPPvts+MUvfjGO87333hsF7K233jrccsstww033DD87d/+7RiEdlsJlEAJlEAJLIJABewiKHcfJVACJVACJfAlAQ4mURjX9d133x1Onjw5nDp1anRbb7/99kFcf/31wxVXXDFcfvnlwze+8Y2Fs+O6GuOnn346EK5vvfXWOM7/+q//GsdnjMT2lVdeOY6TY9xWAtsh4G9Bm6ar/+///u/4N+LnUuo91BFS6dtKoARKIAQqYEOifQmUQAmUQAnMiYCb9dywc10JV0Eg/vrXvx7++Z//eRSr3M3bbrtt+O53vzs6m9xX800X3X73u9+NDjGX+Oc///koYN98882BeyyF+Nvf/vbw93//98O11147hvG2lcCsBAjVhHR11xnX32uC1u+k1HtAIjzIaSuBEiiBEKiADYn2JVACJVACJTAnAnGWiNg33nhjeO2114YTJ06M82BTrIkolJp78803jyLxYrpPnNYUb5JCTLwKriw3zNguu+yy4Qc/+MHoyBp3WwnMSiBFzBQK4/b/8pe/HMODnDiyrjFp6rIRPChpK4ESKIEQqIANifYlUAIlUAIlMCcCqeirf/nll4fnn39+DDfpijYRr9/73veG/fv3j6FA0rK0Tz75ZEwflurMjeWWCZWH77333uGee+4Z7rrrro1qxK1IvCxnbrnGkYc4+jwcUdk6aepS1aXXR9zKPLjjjjvGByQyE9pKoARKIAQqYEOifQmUQAmUQAnMgQDXVXokp4nw42RyYX/605+OhZoUbRLScCNmL8a8160O3bg/+uijMQjYDz74YBSyqhTfeeedY3BipTsbt978xbYSmBKQlq6qtT5/D3oC9uOPPx48KPF7Va2JV/OqMye8Dv+UZF+XQAlUwPYaKIESKIESKIE5EuA4ScNNcJrE6dOnx2rDBw4cGB1Mc0pV9SUArQO7LM28RCKW2Pjwww/H1Gcp0ESHdGfi4vvf//4oviPA68Iuy9lbnnGY681hVd3atSOkDvtZBK2HPea7KmBmrnVS1F1nbSVQAiUQAhWwIdG+BEqgBEqgBOZAQEqkpXISnCZzSfXE35EjR4bDhw+PN+xz2P2ON0mAJwWagD169Ojw1FNPjcdz3XXXjXMUzVPMfEW9eb1tJZDCZUh4gOP6ER7eJAhaqcTWR+a8ykQQri0CVlGzCtheSyVQAlMCFbBTGn1dAiVQAiVQArtEwM17xB/H8vXXXx/DjboiSYJzeffdd49x9dVX79Ked3czjkEQ4lyzzN+1dq1CTtaqle4ZsUFwdNmT3T0Hq7I11/x0fquU4EQqDXPzkzbseuLMqm7t966bCFgPRVxLFbCrcvY7zhJYHIEK2MWx7p5KoARKoAT2CIGIV8KPu/TCCy+M8eKLL45z/MwVFYo2Rfgt61IhjiXHI92TGBfvvPPO6MwStlKGCfGDBw+ORZ0qYPfIhX7WYboWzI0mWolSQjVrHnPx8zDE7wlWMU0ttjkCVkEzDizx6u/Dg562EiiBEgiBCtiQaF8CJVACJVACu0SA4HMzL8whPXbs2Jh2q1dx2LIgZ6ffLlPhpq0wWObk1KlTY/pw1rElagkRadAPPfTQ2Kuu3Lb3CBCpWddYanDmeusVZzLHW/j78F5ZCK6pzA/390K8ErFTB7YCdu9dSz3iEjgXgQrYc9Hp70qgBEqgBErgAgi4EZ+mTj733HMbqbfmiFoWhLvkRl2xGqL2a1/72gXsabEf4a6lCrHePEZCVjGeQ4cObQSRYj4j0bIXCjrFWdSf3Rx/4uzfrdu/pQ8To1nXVbpwCoC5vlOp2t9H5r1yaF1DriU/I2CnDqy/kwrYdbtSejwlsDMCFbA749dPl0AJlEAJlMCfEeAscaC4k27QMwdWLyVSqq0gXs0hFctUefjPDuj/f8BNdkzC0jpJJ1agyvEkjfjKK68c58WaG7sX0okJMuc8abLhR7g6fo70XihsZX43MSref//98bhd146feE0QulKMPRCxNJOlpd56663x3xGwHNg86KmAzRXVvgRKAIEK2F4HJVACJVACJbDLBDhJqq26ORcKHiWIvKTbEnpu8FfFqSTSMsdRFeWnn356jFdeeWW44447xnU7rQ1rSSDi/O/+7u9WQpjv9PTj4pwLYjaNaHVuxV5Iq7bGq/WNrXPsencdJBT8ioCVnSB1WLqxudSuH8GtrYDN1dO+BEpgKwIVsFuR6c9LoARKoARK4AIJcCq5UG7O9Znjp7/nnnvGuaLmi3IoiRxxySWXXODeFvexpH4Sahxmy+mY16s41Y033rgR5vcmpBKveyPczAPmKnodMUu0XnXVVYMK01z2dW+ue9e8kGJOvHqIoZdWfumll46p8ji5fgT33vXz0ksvjaJ2KmClD3Nh68Cu+5XT4yuB7RGogN0er767BEqgBEqgBM5LgIiREilOnjw5/Pa3vx2Dw3TgwIFxruh99903ihpppsTrKghYczylyQoOWhxY4oNQietKzBIdN9100yhazgtsxd+ARSruSq92nrmLnFdr/QrCbN0bJxoH4fiTHu9BjUyDBLFfAbvuV0OPrwTmR6ACdn5su+USKIESKIE9SkCK5IkTJ8aQTpn5kXoptln7NZWHV0G8OpVZUkdPlCtO9eyzzw4vv/zyuCasNFHBNTPXV6xCcaqdXqbSqTmO5n1KGTc/WHAcH3zwwdFxv/3223e6m6X/vAcc3OesBcuBTqSQld61UwG79KezAyyBpSVQAbu0p6YDK4ESKIESmAcBN9lSYeMk6glLP/M74iy919NGaLoBT9qvm/PMcZwWK5IiKS1SELJxnvREHRErpFWerxlDBIE+49VPx2fbxiJl17gyTn2a41JoJymujjmR9+h9Ptvz2rGJ6bYcI+c1x4iJ9+jNh73rrrvGMO9x3ZvU8KSLp4DRe18uHUPAPvbYY8Pjjz8+PrRYdw6zHl8F7Kyk+r4SKIHNCFTAbkalPyuBEiiBElhbAkSgFF/BKSXEhNdTp5TYS4CRNN+IROJEiqT5jeY5ToWaFMlnnnlmDCJPCuXll18+9jfffPOYUsqlnMWdJFSztqZUVWNVSElvfGn2cc0114zBBTW+iNm8x7GriiykeRKz5i3qp2LYcSkwJVJ8h9h27GlxmVUiVrgnzpueeJUife+99w5xmfO5dewrYLd3Vitgt8er7y6BEjiTQAXsmTz6rxIogRIogTUnQLARguYpSmOMoCMSp+4k4ZjgPMZ9JeSSKmve5/79+8cgYtPcoB89enR48sknx/Vf9+3bNxay0ef95onOUuCIIEw1Y5WNM8dQzz3ViE/bzrxTc1EzxuzDexy76rAK53AMiWBiW0wFrM+nCJNjjJidOsaZ52sJlFOnTm1UlcV2WqjKONa9VcBu7wxXwG6PV99dAiVwJoEK2DN59F8lUAIlUAJrSIDQi7tKtGUt0/TEIEGb1FpOpfdPg5j1b4KMoCNYr/9yrUqVUsW3v/3tUQQSgkTcE088MfzkJz8ZXVjFjATReu21144FffRTR3Mr7ES1dNTEL3/5y42qxn5nrILglLorbNv4ps6wcXFNuaVZ6sTxO3Y9kS5dWPg8p5ggVnyIy8zdnbrMqThLEEubNeeTkNPff//9w8MPPzwGZzju9VbHuOo/r4Dd3hmsgN0er767BErgTAIVsGfy6L9KoARKoATWkADRSlQmOK8cVy5ixNXZPbEaIcul/fjjj8eQEpulQQhYIk8QtRG8ts995cI+//zzGwWNCN0sLWIb5pmer9lmXFdC0zgUDRLGlZ5rqtot4WlcHNnvfve7Y9py9uF4sx6tXuEh7q5e2vAVV1wxHgcByym+4YYbNlKSCfe4ubZHPCtalCBiT58+PYpZ6cOPPPLIKGBtM/NjMV7HVgG7vbNaAbs9Xn13CZTAmQQqYM/k0X+VQAmUQAmsIQFCj0gTXnNbhZZ5owSoeaOZOxpnU285nNdff310LglYApHjqReEHgFI1HEmCc7pGqmWzklwauOOcjvP18xzJTxtVx8xqydCpe8KTqdxCOKT2yvsK43DPBWtlvjxWT1h7bOOh4AV3FfbJbTFtFCVbRFuQmqzVOIEAcuBJWLtP5+fFoHKmNahr4Dd3lmsgN0er767BErgTAIVsGfy6L9KoARKoATWhEAKMEkfJtqINEKUgCUEpdMqosQ9jWvJZSREidSpgLVczPHjx8fwO8JQSjARy+Uk9MwPVVxJcEW93zqpr7zyyljQSFqtokYEHVEopoJwFuyOiYvMPRa2nUrA0pEz19b4sowNpzeN6JSCnDRkS/wIwtNnLPXic47H57i6WxWawicOMFfYWFRc1jtO4lVIP+bcejDAiV3HVgG7vbNaAbs9Xn13CZTAmQQqYM/k0X+VQAmUQAmsCQFpw26UBQGraBHHkktqLifByXUl1gSxRmQRbPoUcNK/+uqr43IxL7zwwvi5FDgiGH1OEGmKIdkvQZcqxETdoUOHxiBipdQSycTydgWseawRyQS4cUXAEurEtWPjwB48eHAMAjsFmri4SfU1p5YIjiDmvGauLtEZkb3VPN1pajPBbi3YhCJOR44cGYPDjanY7vGuyqVYAbu9M1UBuz1efXcJlMCZBCpgz+TRf5VACZRACawJAS6jgkKCgM1cTemsSZUl7rIMjmVuUsSI0IqDq+dQWi5GGjFxS7gK4myaDiwt2c25fXNtn3322fEzDz744PDAAw+MYT+EprgQR3LqDBPHBKwgnAlVQYwSzfbpdX5O9MZ1lTqc1F4iNU6y1GFjc5xE+VZjJGDN9U0lZ+vBRkwTz4cPHx5DyrSHBWKWlOlVvPwqYLd31ipgt8er7y6BEjiTQAXsmTz6rxIogRIogTUhwG1N2jABGzFLsHJCBccxriXBtlXj3lp6hugj9ogy4pWbyqnkqJrfmSJRBI3iTRxbFX8feuihUcwRst4bB3grcbjVOM7+OVEd15PrSxgIIvTRRx8dU3gdIxFOxHKIIzKNy/u4yXousuMShO35Gmc6Dq75uI41YR1YxypsN4J9FQUsbudrzjdn23WikBV3W3CdH3vssTHuvvvu821m4/frWuwqB1gBGxLtS6AELoRABeyFUOtnSqAESqAElpIAV5BDqU/hJa4pYSl1WJjbySFUVIk7mfmZ5xJtxGHmjRJhRCjhSogSKdxFIjHVjYlljqTg3iadlispdTgptTstakRUO077UE2YkDJOIpT7SkBKj5Y6LLi0fi+ITq5r3GTOcNKGZ0n1JWAJEa6z4+Y4J+68885x/1xgvDO3+FyMl+WCcu3gJFWbY53rRq9tJi4JedeIVGp9XjteYl54kDBLwyrVoD1UsT/XyWb7nWV7y/ieCthlPCsdUwmsDoEK2NU5Vx1pCZRACZTAOQhwyhRnSkzdSfNDk8bKbVSsSBBvxBpRei43lKARHEzvI3oFgZIgfIhCS90QsJxO7iiBmYJGhCw3Mp/fqYAlWjl90qMzx5fzTGCbhyqI2TjDRFma4+COTos1RczPMi5M8RC2r2CVlGlzf61FqxIxl1t14wjjrebTZkzL0Lt+IvKnFauJrq1EpM9gm2skqeQYe0iQVPVZjs97szRTliCynVnOySzbX4b3VMAuw1noGEpgdQlUwK7uuevIS6AESqAEJgQIWDfGCQKSIyiVl5OVVFkFjlQdJhKkARMlWwmTbD4puHotn5n2HE6CR1hWRjVeRZakMf/oRz8aU3ql9RLSEb07FSUEc9aB5cLan3mxhOIPf/jDgRNKPMYVJLKm69A6finVeiIpx5PjPldPwNqeINhSdVmvkrFKxML+CDFBIC97cyweAnC3pQWHHdZbNdeea0N4kKHas9Bce8I5n6Vhxz3nXs/6gGWW7S7Teypgl+lsdCwlsHoEKmBX75x1xCVQAiVQApsQIB4i5vQcWIJOEE+33HLLcOutt44Vermwws93qxGw2T8Ba79ErHmzBGxE7FTAnk84n29s3E+CSyjOFNeXuHR80oe5sSn8RDATlIQR55W4TTr0dscSASvNNgI2Sw1FwHKA7WtVBaz5rNKDM9c35+NsVgRsQqpxUpBdkxx3acHO+yzNgxXzZQWHXHbA+TIEZtnuMr2nAnaZzkbHUgKrR6ACdvXOWUdcAiVQAiWwCQGCalptmHDkfgqiLXMRzXtNsSLiYrfa2QI2Duw8BSyxZL+CgFVEybxbAsH83IinzG8lJFOsiesad5AzerYoOx+XdRWw2KUgkxRt6cFEOsZbtakDS7xyawVGudacg1maBw8etAgVritgbx2zJWZh1/eUQAnsDQIVsHvjPPcoS6AESmDtCRALEaxEY+aGmh9q2ZysxSqVmOsoCLjdalMBS/jE/Z2ngE3aqp6ATRElxZyksgru39R9zrI/xGzmVl5IKvO6CliutmuH+2ouLLaOVb9Vm75HQSvn38MUn3O9uf48OJilebCQDAEOeQVsBews103fUwJ7iUAF7F462z3WEiiBElhjAqriShtOEB9SeoU5ryoAW85GWm2qAM86L3EWbAQs180cWEWcFHDiwhLV5r5mWRvOqP2ap3ohwnE6FsecsJ+sxSqFOfNTCVgVl8Vtt922kc47qyM43d/0NXHGbRQp4qSAk2JOCmQp4jSdA2t/q1DEidtq3qvrhxidpcUJ59a63ghgwZnFXEo153+WRrR6yEDISjtWZEzs9FqZZd+Lek9TiBdFuvspgfUkUAG7nue1R1UCJVACe44AIZela8wFNW/RjbIgIAhYVYBVeU0RJQ7kbjUiRgXiaRVi41CF+OGHH96IVCHm/u5UlBDNBBfhpPCQJYOs78qBTYVgAtZcVHMqcSAkBaG0k4a3feCLtQrECcWjstbudK7tKghY84Vz3WA7S/P+6bmPgHV9pZgVF3yW5rpwjXjQkYccKbA1y+dX4T14eTggFMvKgxcPQjxgEgQ/8S+V2rzgthIogRIIgQrYkGhfAiVQAiWw0gSky8YBJKSID5VgCRLLukREmg9LOIrtzvs8FyACNgV/CMjMR5XaG/E8XQeWu7ZTAUsIuOlXRIlokq5MyHIPI8KIIW6o4IwSrkIK9U4aAZt9E2+qPSdUQFZJV0idJaLFbjreOxn7uT4rHTjp145xlsZ1lzKcZY0iYM0tdt1ZRgmTWRqxKm04rqtrdDev01nGMO/3VMDOm3C3XwLrTaACdr3Pb4+uBEqgBPYMAaLjqaeeGo4ePTocO3ZsFK45eI4gIcGB5QjOoxHLEXQEJDFnTipHVOrygw8+OAbxyF0TF+IAE1XSd/UcLGnLBGTSl71O6rRUWC7ewYMHx+BoTefA7oRD9k+023cEOzdNwawcMwHrWAlpwmwdmwcW1uFV/EmYd03EclMfe+yx4fHHHx8d8HU89gs5pgrYC6HWz5RACYRABWxItC+BEiiBElhpAgTsT37yk+HJJ58cw/zDzB8kYAkqMWsxne3CmKaeEo5JpzUnN26kQlLSd+NIblfAOqZUxdVz/iJWOYc5XiKWGyuMyxxgKaw33XTTmEItRZMTvZOGt/0Q0cYgXTohXZnbLFTh5Tabd1wBuxPi6/PZCtj1OZc9khK4GAQqYC8G9e6zBEqgBEpg1wkQak888cRGSM/lgEnjlEIcEUlQzaMRdOaEKmpE0ClmJKVZNeLMB9VfeeWVG1WQCc7tNAI2acrc3hQb4vhydjN/0Hs4olxgr837FarbErPmFO7fv387u/6z9zpeApr7ahwKVgnFq8y5Tcr2dLme7R7vn+10SX9QB3Z7J6YCdnu8+u4SKIEzCVTAnsmj/yqBEiiBElhRAhGwP/7xj0cRy91MtWECNsvoEFSzNGm6CXMQM2c2/dlzE6XUmncrCDtpzMePH98QdESduPrqqzcqAc8i6IjWLNNiH3Fc9cQpIavnqEoRFv4tndoYVCTOvFfinRstvC/HcCFzLPEmXAUBx2lWREqvcJF5n0LKsocIUpm36zjPcp6W4T0VsNs7CxGwHHxFnOLcu5bzEMbyQ7meW8Rpe3z77hJYdwIVsOt+hnt8JVACJbBHCHAEkz5sHizhl2rD23VgfZYQtRSNntDMtvRSYfXTIkzErnmwwo25MQhzQiMa9ebgEtHCNs7XbFe6sDAebmucV+MiDIXt7du3bxSy9p85uIoLaUSqeajSe4WiQj6fgkHnG8fZv3ecxLHCRSIpy3oFoyJgOc7Zz5TX2dtb5X9XwG7v7BGwrlHuPQHLtRcEbLIFUoWYiJU10FYCJVACIVABGxLtS6AESqAEVpoAActxjPPJrSTaiCYCVhElc2BnSSHmeLrBTnAQ4+ZOe8IsjeglNu2XA2o+rlDIyfxTy4G4EXeDTmgKwvN8zfbMM7VNvTVmCSbBdXWjL8ytTbEkDrDUZSm9p0+f3qhIzAHlREun5gZH/Oq368KqumzbCYWLiGW9VOlU3zUu50Bsdx/nY7Msv6+A3d6ZUDWbeI2ATeq5n/u78DfCgbXsk6iA3R7fvrsE1p1ABey6n+EeXwmUQAnsEQIEbAon6Qks4k+4CU4VYEWcCKkE4anpE4QoUcLt1BOGWXqGi5nYqiiRG/En/n8+rnmwBOYNN9ww9l4LN+iE8WYt4yCkOZ3TsSRtV0+YJzXZmDTH5XfWnxWW1YlLionCSoQ8kam4kmPTb1dcWoM2rqt9TFObObCZA7vT5Xo247NsP5sKWII+Yt4c7H/4h38YKxGrBN32RwKcVteLBy0cWA9bhL8bD2WIWPO1Lfsksobudq/R8i6BElhPAhWw63lee1QlUAIlsOcIEKopJORmmGMpVVEQj1lKhoDlOBKPXMGIXL15nYQw0ejzws22eatSfwWhSJiIqQM7BW6fcYMVU0rKsF4lYHP6hG1s1owlacNu6gkiQYhOBTdnijiXZkmEam7yObWEVJZ1IRKITOPC4cCBA2MKseNKYLGdJrXaEkHWuX3zzTfH9GYFrKQ52weXl9ur4vK6t6mAdY6IMw8RnJNUv/awoe2PBDiv0s+F69L14zpyffobkSXBhZVyL9Xd9R0Xf7vXaZmXQAmsH4EK2PU7pz2iEiiBEtiTBLimboTjPE5TbYlWKbzC6yxjw0ElVjmTeqJMRDzqOY3coBtvvHGs3EvAbjYHdgqdkJM6LIjqOJ3cTm4S0clZko68WTOepA0TQwSoeO/LtUXd3Ocmn5MrCPSpGCYEiCpByCquJDheRK8xCMfFCdZvt8ASoZoHBgo3cYuJaz3hYZ4td9gxr3ubCljC1UMPDx4cOw6KWjUN9k9XgcyGpJ4TsAl/N1LOzZv2sMiDFkH8e1jkGt3qodGftt5XJVAC606gAnbdz3CPrwRKoAT2CAECNjfFhF5En14aa8SeG2M3yKmOG8FKkBF+hIflcKaCjPB1E010EiVxg7ZKabQtRWkIPOLO+3xGbxtuyu+6664txZ0xcaeIcPNK43S+8847G64UkSjdkiAX04JQPh8BjIVCUoKLS6yq9KrnbEXYb1fARqQrFuU4OdpEtJ5ANz4RZ3idL8OpgDVvOg8+POxw3QgPGdr+SCBFv06ePDlmCSTDwN+Nh0u4uabzEIQLm4dGW6Xtl20JlMDeIVABu3fOdY+0BEqgBNaaAMHJYczcOmJPcHeIRyJWuDkmQoWb4WkKsW0kpBkThXrpjASfINAiSLcCSkASnYIjHEGjdzPOkRPGkm1JXea8CqnLKYikzxxWx5b0Yz33NA6qcaVxkwlM4fOpSIwH8R4Bby3YOMuEAybGRMwal5g2DqsHBYLQN7/XfGPLoHggkG0bG2HM5d3KZZ5ud9VfO19JG/bwQyq6IOjzsGCW4mGrzsHfTjIaXMeyF3Lt+zvze9eOFGKi3wMa3Pzb367PYOaaMec81+f1X2YZ+FtMxInVe0Di79r1O32Is+osO/4SKIGtCVTAbs2mvymBEiiBElghAsQVBycxnQPqJjrClCiThpiUxLip/u1mOOm+bogjerOOqt77NhN3U1QpcMT9JaDdoGfZEK5SKgHbXvbv5j2pp9JQM3+VeI0z7NgIIoJaRMxKT52mEBMLhIQgEghNQUwTuoJIsI2su5k5vpyviPSzjxPDiDMOr3Vun3766dHdnTq7hEdiKqynjNbptevLufHAAHP8CTUPSHLteDiw7s1xu1ZzvRL2rnvXSuaXe1CDU97ntQc+wu8wE67nK664YnwooidOXUt5sBQx68FAruG9wHjdr6EeXwnMQqACdhZKfU8JlEAJlMBKECCwMg9TWmJSirk7bqIFseFG280ygeZG2Y1x0haTkuvGOEG0Rmj6zPkaMSp1N5EUSf9WoffIkSNjmO8XN8mNvLmBIimWBLBU4ohv+43TqZeqmxTVaaouBpqe00VoisxVJa78LsennxaXsq3Njhe3OGtE+VNPPTWGQlVJRZaWHEFBIBMc695yzeX6C3vXSjjq170RqcmC8BAmhZpczx7quHZEBL4+zNLnoUnY+fsQ/kYTcWn1HpQkvZ/QbSuBElh/AhWw63+Oe4QlUAIlsCcJuJF2Ey04QVJehRtpN85CI7AERzLiUCqsm2GRdUy3A9GNfFJKCdJpcSnzQolYoRhTXF/OXUS2z3JOCQBCMY0IIrQFh1j6sBt48yvd3G/WHLtUZkWc3vtSQEc8EAxxB/VTN9a27CtiIts1xrjEjkvqsLm1Ksia0ys9Wk8QYym4aW17g4Bry/WWcO26lv0tunbi3kesEv7ifM11GMdVn79Z16l54Pkb8DfRVgIlsP4EKmDX/xz3CEugBEpgTxLgaJqPmBRFwlVwXt1AcyHdGHNXBaEVMZmeqBXet53mRl6KpP27mVfQidhT7IjTyTEiZKXtRugRjEmlNOYIbqmpacbhpt0NvJ7AzrzTrYQix5nYFASyY4+AmDpZEbMEu23Z19nHbXzZFnGtCI/gMBPkqg7rpV5L58SRe9a2Nwi4rlwjrjnhOk5qtb+J6cMTRGYRryHnbzTZCvmb1btu8zfgb6KtBEpg/QlUwK7/Oe4RlkAJlMCeJECg5obZ6wg3vZab5wg1AtINcvrp6+0CtO04Tm7kk8Jrvui+ffvGwkmEbOaNcj8JZWMz1ow945/u3/gSEd4RnNP35bVtxfki3rUce45VPxUFYZJtpCfIMzeXm8slFoSx9U4ffPDBsScksu2zRXC21X79CLiucg2nzzXsd4kLOfLpNZnXucZc/8K/20qgBNafQAXs+p/jHmEJlEAJlMCCCUxv5AlZlXoVUbIurDTHuK5SfxVgElzLZWyORdMTqtKFpUSraEycp/gO5/X+++8fHVhioq0ESqAESqAE5kGgAnYeVLvNEiiBEiiBPU+AA0X0cT9fffXVMX34xIkTo7sad5cLm3mj0iCXsTmGONjmMkqFlhKtunLSmbnHUqKTGs3NbSuBEiiBEiiBeRCogJ0H1W6zBEqgBEpgzxOIcymF0jxRS9jozYnNMiOc1wceeGBcVkfho2VshLhjECoaS4MWKiQroGMer54Yt6asnkBvK4ESKIESKIF5EKiAnQfVFdummxPzojJHKjcq+gtpmZvis5mfop/Or3Jzk+j8qAuh3M+UQAmsCgHupWVEPvjggzG8zr+lEEu9FURgKq0ukwD0f0NShRVuev755wfL5jgeYtVatHrjF+b4di7iqlydHWcJlEAJrB6BCtjVO2e7PmLiNSXvLY+gYmAiDsJmO50K1env3bhEuOZmTK8ipaUf9CpfJppqNqXX1yVQAutGwENC37Hmj+o5l6neay6s9VNvueWWUfylqrCU3GVpKslmKRQCVuqw+a/+v7AOrTB+1YtVhNX3weSynL2OowRKoATWj0AF7Pqd020fkUXFp87AZ599NiTceG3WIl43e8pOkHIP9G7CLKOgT9GSq6++erzJUbBEELdtJVACJbCuBDwIVMjJd63eeqyW0xGWw5GCK1QiVpVYELLL0vx/QLCqPkzARohzlrP2q7mvvssdj74CdlnOXsdRAiVQAutHoAJ2/c7pto/IuohZFuH06dPjkghuUiyNwJ1N8Y6IUtUlz04Hnjq1cV/1KfChJ2CvueaajTDfSxC3bna8vzc92z59/UAJlMCKEVDISSEk4TvWd6CQfpuKxL4bfScmFn2IHl767hfWfVV1WPXhjz/+eGM5Ig8nFW5ShIoL21YCJVACJVACiyBQAbsIyku+D/ObVJYU0sSI2ITUMUskCKm/qmRyBqaL1HviHgGrN3fWTY8bM+LY3ClBxCZtmNOwf//+wfwv28tT+6YTL/nF0uGVQAnsmIAHhqdOnRpTiX/zm9+MzqzvSt+F5pMKjmy+L30/Lrpxi00l8d2vcJO0Z2G8yZ7xUNJ3uO9yrnFbCZRACZRACSyCQAXsIigv+T6IzYhMgtWNVSpmSh2TLiak/l5//fXjDct3vvOdUcwStJ7Cp9lWRKsbnyxyP3VzvcdNT5ZccKNGHNvOxbhRy9jbl0AJlMAiCHhQyNUkDKfBhU0VX4WQzCcVvh8X3VRJ9r3v/wDf33mo6YHnddddN/5f8L3vfW/8f8H/Dcu6BNCiuXV/JVACJVAC8ydQATt/xiu1B+6p+VkJNy5usNxscU2JTkGAEp6E7GWXXbZxjD5PBH/xxRfjk3ppZ5aO0Cv44aZIqFh57733jpU33Qwp+iHcwLWVQAmUwDoTyHek70nCMMvrmKbhu9WDQt+3hKHgeC66Ea++94X/B0wrUTlZSrP5rrfffvsotpP+zC1uK4ESKIESKIFFEKiAXQTlFdoHAfraa68N5mjpiVdzntzEuKm6++67x/A6RZmmDqx5U9xcLiwHVqpcin9EDNsmd+FsMUwQT8XwCmHrUEugBEpgZgK+HxPc2LiwxGHqBEgn9n0oLsaDPSLbQ0cpw6mgTNQaI+eVwPYAc1q4aWYAfWMJlEAJlEAJ7IBABewO4K3jR81bJV5fffXVsSdc3WAJqW2HDh0a7r///lHMZh7U9Mm7ObC2QQirtumpfSJzqPTSzczzUrAkc2GJ4qahreNV1WMqgRKYEvD96HtSeNBHLApF7DwQFL5XTakQCuctukkVJrLNhY3Y9nDSGIlq3//Gmarzy7Ru7aJZdX8lUAIlUAKLJVABu1jeS783N1TEa5Z44L6mwJO1Cg8fPjyGgh250dpqGRxubD6rJ4xt1/Y5CrbhSb504ttuu21cC1HlzbYSKIES2GsEUghvmSuxr8IY99p10+MtgRIogb1IoAJ2L571cxwzAfviiy8OL7zwwhhSx6SQCcskHDlyZAzCkzOgsvBWlYMJ2Gnq2csvvzxu29IRPmvJCEHAmlMlpBG3lUAJlEAJlEAJlEAJlEAJlMBmBCpgN6Oyh39GwD777LPDM888M4a0tsxpJTAffvjhMcx/ylqw5kRt1jytj/hVuIkofu6554bnn39+kG7GbTXfSyrxgQMHhrvuumucG7vZtvqzEiiBEiiBEiiBEiiBEiiBEqiA7TVwBgHzno4dOzbGU089Nc5jNV/L0jcWq3/kkUeGRx99dHROffBc6W4ELAFsLUE98fr000+PwthnzXdVqMQ82HvuuWcMzm5bCZRACZRACZRACZRACZRACWxGoAJ2Myp77GeEpnRfoWAH4ZrwO24pt1XV4MyBVX3yfM1nOa+WiogDy90lZAnfVDHmwKa6MWe3rQRKoARKoARKoARKoARKoAQ2I1ABuxmVPfYzQlPqsFARM+L16NGj4xIJKdYkhVgFYpWIpf6er9muObCWYtCbAyt92BxbgjjLRRCw0oelEVtep60ESqAESqAESqAESqAESqAENiNQAbsZlT32sziv3FepvgQs8ar/xje+Mab5SvdVxClOKff0fM12P/vss+HTTz8de9WHiVihcrGCTZxcRZykJ3N4FXVqK4ESKIESKIESKIESKIESKIHNCFTAbkZlj/3M/FbzVIWiS+apHj9+fAxzVIlMYRmdCM1Z1mslYC3DYy1Z/euvvz689tprY1hGR7qw4MBaRkfMkpq8x07PUh8u1956v+ZOu44W2aShWx/TwxC9YmJ+dq552YscX/dVAiVQAiVQAiVQAiWw+wQqYHef6cptUZEmab7EK8dUmm9Cmq/CSoSmYksRmpdffvl5j5OA/fnPfz58+OGHY7z55ptD4pvf/OZwww03jHHjjTeOLiwhe/XVV593u33D8hDg2LtuXD+E7CIboXrZZZeN4XoyV1tEyC5yLN1XCZRACZRACZRACZTAYghUwC6G81LvhYv2q1/9akz1/eSTT4ZXXnllTPPVS+klNK+//voNkUloEgznaxy59957bzh9+vTYv/3220OCg0sQi/3794/btw+Ob9vqEPDA46OPPhrD/OlFNkI1SzHpObFZ2qku7CLPRPdVAiVQAiVQAiVQAosjUAG7ONZLuyfOmTTfX/ziF6MQkeqbuO6668YUX6I1jqne3NitGuc1haFOnTo1JLixcWTNf7399tvHebW259/EMketbXUIuG48oBCcWA8tOPqugXk3AtZDj8RXvvKVMZVYOnEF7Lzpd/slUAIlUAIlUAIlcHEIVMBeHO5LtVfFmz744IMx3n///eHkyZPDW2+9NfbSexVvkjpMzEolllKsMvFmjXAlYLi6tmvO64kTJ8ZemmmW1SE6VB4W11577SAlWZgb27Y6BLiv77zzzhiKdZlHzYldRDoxt9V16foUX/3qVytgV+fS6UhLoARKoARKoARK4IIIVMBeELb1+tDvf//7UYC8++67Z/SESQo3Kd5EvCqyJF1zK6HJeSNeBCFjzdfMpyVsCVztlltuGe65557h3nvvHZfOufTSSwfBPWtbHQLmN3PYpYYTs59//vkYi0gnJmBdP7mOcv3UgV2d66cjLYESKIESKIESKIHtEqiA3S6xNXz/7373u9Ft5byKqRtraRtL5xAJUnzNXRXcrohRPeEqspYsJ47bGvH6wgsvjJ+Reiw4Z7Zp2wTxtADPGiJe20OSdh4Hlpg1l1oo7jTvRqjed999o4jVuyaJ2grYeZPv9kugBEqgBEqgBErg4hGogL147Jdmz9yyzHl94403NubDEicHDx4cDh06NAb31RxVBZyIhAhXzioXV8qwbSnsk/jZz362IXBUGDbXVUhNNq9WSB02n7HVY5fmkph5INLCFf4iWn/9618PX3zxxfjgwrUw7+ahhwJgCddkHoR0Duy86Xf7JVACJVACJVACJXBxCFTAXhzuS7VXbunLL788Vh82X9VcxgRn68iRI8Phw4fHJW7MfZU+TGxyXBXtIVYIF0HEZNkcAti/pZXqCY1UHt63b9/G+rK2GcGRfqkAdTBbEnDuOfgeXHgtddyasB5qzLu5Vr71rW9tRB6A6NtKoARKoARKoARKoATWk0AF7Hqe120dFeGZVF9CNut66rmvBOzDDz88pg5bqkRoqTjLfY1I5cRZOkeoOJzUYr2qw+bSCm7s17/+9TE4Z20lsNcJbJaS7++mrQRKoARKoATmQcCD4EQeAuff89hft1kCu0WgAna3SK7gdnLDbK7q008/PQYhG0eNq6bYEuEpCM7pOpv5vHmvPpPP2Z4wD9K8xITqxaoPq2YsFTk/l/bZVgJ7mQCh6u+Icz3NaFjEXOK9zL3HXgIlUAJ7mQADQVadIojT3rJ0bSWwzAQqYJf57Mx5bASoMI/x6NGjYzzzzDPjjbSbaaHAUuat+kLLkzlP6gjPPLFzA57t+Vl+f8UVVwyJabqnbUUMe29bCexlAhGushlkRGRNZuvstpVACZRACZTAPAiYwqUOSe7T0iu22VYCy0ygAnaZz86cxxbRaX7qj3/84+Gf/umfhmPHjp0xH5XQFNxS4jWfIV49uZNOrM/7PMFLpWK9pXeEOa8+YxsVrHM+sd38yhHwsIjbKhRAS0VwRdDaSqAESqAESmAeBBTltMLE2XHVVVfNY3fdZgnsGoEK2F1DuVobIkQV2xFumJ988skxnn322VGsSichWvM0jhjlmE5dVv8mSvVEbIRslsqRJhwx68swwpWIbSuBEvgTAQJWMTVp+x4oZWmi06dP/+lNfVUCJVACJVACu0jAfZpMO6tMTHv3fm0lsMwEKmCX+ezMcWxSFjNnVeElzuvx48eHF198caOqq7QS81avvfbaMbisBKwWJ5UoFUknJmbjxhLAHNlULvaZitc5ntRuemUJTP8ezR9///33x1AIra0ESqAESqAE5kFAbRNFNZkM+rw25autBJaZQAXsMp+dOY6N8+pGOfPtnnvuuYH7+uqrr24sb+OJ3G233TbGD37wg1GMnj2kqSDNa4I2YlUfkXv2Z/vvEiiBPxI4ew7sRx99NIiPP/64iEqgBEqgBEpgLgSYDMm0m/adAzsX3N3oLhKogN1FmKu0KZVOLX0jfdiN8ksvvTS6r2+88caG68p9VYWYiL311lvHKnXzPsbpjbyCNsYpCG5PCrm5+sy9lbYc4XyhY7PPLAkkhTNzEbnJXGjhS36WZqwZtzVRE8aYJYi41ZlLnJ6z7T1xrLM2bh4GzLLvi/Eex5sK1DlW5wrTeTe8PCU2h0eElX7VmusPN4Fn/jalE7eVQAmUQAmUwDwIyJQjVt1XZfqXftZ7nnmMqdssgVkIVMDOQmkN3+MmmbsjpCmeOHFijFOnTg379+8fbrzxxo3+pptuGv/ti27ejSAiqt3AZ21ZN/Gc4mmRAV+wRJ4gCHfS7DPCMzww8QV+8803D9///veHa665ZqZdGGvGbh1dwekmqsw1EYQsgRfhTMQKgmw6DyVzjCPMZhrAgt+kgrUU9E8++WSsZu08CTzn3XBxrYobbrhh5OpnrgcsV6l5gJFrwnxYD1LMifV32lYCJVACJVAC8yDgPsO9XYp1ZgqY+5S2ElhmAhWwy3x25jg2N8cffvjhKF7Nt+O8vvnmm4OiMVzXhDVbzYHV+2Kbd+N+fvDBB2MQkcYoPv3009EFjhusOFRKv/sC3knDIq4rAf/aa6+Nwd176KGHxiCSZmlh6hgsgULYEcVEFRFsfglhHLeNWOG+CaLLwwKCWfgPxLGJZRVklntRcOjdd98dnXxiVmA674bLvffeuxH+E/az3XDl5z32zbafAmkeZuSa8LqtBEqgBEqgBOZBwL2FB79nx7Lec8yDQbe5mgQqYFfzvO141FwyYlUQH5brePvtt0dBe8cddwzi9ttvH5fAsQ4s93MRT+Sm43rvvffOELB33nnn8MMf/nDQm6uR9FGiZSeNOCa69AQsMf/Tn/50FJuPPvroIDix+UJPv9k+CddwJe7ichP/UrItKcSFJWCJV2m33DbhdRxFfVKmd8Nl3mysu/Ezgh0z145U9LjnixCwhOpUwKqc7WerKmB343x0GyVQAiVQAiVQAiWw7gQqYNf9DG9xfFJbiQ7ig3glFgXBdeDAgeHgwYNjr6x6KtMRBvNunNCMhQNrPElPjXjVE3cECzfTk8OdNA50RKfX9iuk8x45cmQMzuj0CeVW+/M547cd4ybohPEmLZv4jsNmvmxScKUfY82pjVubfy+C/VbHdK6fE61Z8sVxJPWVGJ938+BCcbEEB7YCdt7Uu/0SKIESKIESKIESuLgEKmAvLv+LtndiidMoTp48ObpncdDuu+++4f777x/0UnU5nWKnTucsB5sUYgLQeDKnlKM3dWA5mtJyd2O+o9RpacOvv/76KJgzd5Vb+uCDD45BfGZ/+q0aR9LYObGEa7ZFtCb92UOBpIua48gBFz5HkAviXOr29ddfP6ZvL2L+8VbHdK6fS5OO+Hesmce5iNRXDxTwMf9V75qogD3X2ervSqAESqAESqAESmD1CVTArv45vKAjIK4smSPeeuut0QXkoEnhjWjTq+6aVNZzCbcLGsQmH5o6sFJwCVeunpRbKc2JnY4lQktPwEsZJmSlERsDDvv27RsOHTo0inkpvcQREX8uIU+4EqJEnW0QqFxWa6xxColYzm6a39uvMXDEpyKZaM58WIJ2GZvryIMGwt15WmQjYD0MSES8Oj/nSvNe5Bi7rxIogRIogRIogRIogd0lUAG7uzxXZmvE6gsvvDAunUO8qZTLQVM99vDhw2Pa7MMPPzxW+eVsiZ2m6s4CxzikNEtLJYyk2qZCr3moiZ0IWO4nYZyQpsxJTLqy1F98pPFyoc2zJGDNARaE0laNk2rsxCjhmiYVmBiViux1GgHrAQIB67gxJr70BGyOd1kFLLGvErFYRNpwuOlx8oAl1Z0JV9dFGE7f29clUAIlUAIlUAIlUALrQaACdj3O47aPglh7+umnh2eeeWZMnyW2BLH4yCOPjIWLFC/azVTdWQZJCBFzRB1XL+KZgJMqmtiJmHaMnMME0U586QnZ9/5/Dqsqx/fcc88Y9mssUnnPVcyKcDV2rirxbdyCGJbmqpqzdOI0AtbxCsJXi3tI7BKwKkIvq4BNISr8HO+iWx4q6CNcw2/RY+n+SqAESqAESqAESqAE5k+gAnb+jJdmD5l3ScBJzz127Njw1FNPjQI2RYU4WD/60Y824lxu4zwOzJxXc1GFgkiZf0tMmpOa2KmAJY4Fl5f4IRCJU/+OI2qt2RSzIj4zN5WQ3aqZU2zs5tRiaQ4xwSptOOvYcg3TpN0Su/ZJ/E7TlLm+WVZnWQVsjqN9CZRACZRACZRACZRACSyCQAXsIigvyT7M9+SUmU9KvB0/fnx0YYkuglAQcVKHubBi0QKWK/ryyy+PQcBmCR995jrqdyJgifWk+uoJzFT+tU/i88SJE6NgVfH4rrvuGp1Ty9mIcxVU8jnjf+mll0ZRnKVzjF/qsDCnOA8TpOCah+xzzkMEr55Y93nFnM4lmpfk8uowSqAESqAESqAESqAESmDuBCpg5454eXZAvGbeJ6EmffjZZ58d01eTqst1zBxYS8icq2DRPI7M3NPnnntueP7558diSOaBCm4koSmIu52kiRLyXM84n0Qip9M+cMncYM5s1sSV+otNlu/Z6thffPHFcfyOgdMq/VcQsHGTCeAIWHN+c7xEbFKk9YQ6watf9IOErY6vPy+BEiiBEiiBEiiBEiiBi0mgAvZi0l/AviOU9OZbpuCOSrnEFrFm7mXcRSLrgQceGEMVYsKJ20kw7kQ0znqo5qByhoUxWjqHiFS9V7EeIlJ/IWOROi040ApXJQhM+7Av+yTszQ+WApw1RrmgKRYklXizhjExKjVbEJ9xcAnYMMY0Y1E4y0MEwYnNOPTSpolgsegHCZsdX39WAiVQAiVQAiVQAiVQAhebQAXsxT4Dc94/1zUFmogly8RwOc31NOfy1KlTY+GiFCgisrLeKvFFPMV5JKLmIWYjss+em0tMqgAsDhw4MKbkmgsqtitgpQ1b1iZL5EhVxkJPnHI8ObCWv4mgtI9bb711dFC5tMQ9HhhNW8So4yB+M7fY+yOALaNDuArbzTI+HipkPq7zkmVzOMLcXmLZ/naSMj0da1+XQAmUQAmUQAmUQAmUwCoTqIBd5bM3w9iny5wQSIo3nb1kDGGbJUgI2aTtElGKDyX8jisptisgzzVUwi9FpAjrJ598cgwCVhqzsB6rMUYEnmt7m/2O6+q4BQ6OgSgUnFJzYKXqcqOT0ms7WfomApYrSlhOm7ETpHrOrcJYR48eHd/n8yoJc28j1L1P9V5j8jk/14zFfkTmveZ4d5P3dOx9XQIlUAIlUAIlUAIlUAKrRKACdpXO1gWM9fPPP98Qbpy+Dz74YAzuo2VjuLOEVBphR7BKedVzJSNoOYFEZJzYfGanPQczjqQ5qE888cQYxvqP//iPw+OPPz4WlNrJfhyndVYFYez4EgSpYxN+b/6t1GrC0vELBZUyB5cjPW3EaELqM/FKhHOKr/+yerHgpHLDE1m6hzDdt2/fRhDSEdR1XaeU+7oESqAESqAESqAESqAEhuH/AAAA///afQF0AABAAElEQVTt3Yu7pEV1NfA2FxMTA96QhBHFOwhyGYVEIMFH//BEBZHLMAOIBK8ETSQaNSQmMdfv4/fqOhbNOXO65/S9Vz3Pnurp0/2+VWvX20+tWrt2veP/vVlmLQeLwL/+67/Ofv7zn89+8YtfzP7pn/5psp/+9Kezf/mXf5n913/912T/8z//c9L/3/md35m95z3vmb33ve+d7E//9E9nsT/8wz+c/e7v/u5k73jHO06+c9EX//3f/z37j//4j9mvfvWr2Y9+9KPZU089Ndnrr78+++IXvzh77LHHZl/4wheWvo2hrW//+7//O/vlL385+973vjf7/ve/P/vhD384+8AHPjB7//vfP9X6xf7gD/5guv/LL788Y/r6kY98ZHbHHXfMLl26dPL5m2666aQt7qHt//7v/z7Vzz333OzKlSuzZ555ZsLxU5/61OyTn/zk7E/+5E9m+jlvcNSO2M033zyLrRLjkwb3RREoAkWgCBSBIlAEikAR2GME3lECu8feW6Dp//mf/3lCrv7t3/5txpA5ZBGxY//3f/93ciWk6V3veteJIV4Im/r3fu/3Zgiuz6ySXGkLoo1U/8M//MPshRdemL344osT8X7kkUdmDz/88OzBBx88aeOiL/RN/5lrv/rqq5MhsPoU+/3f//2pb/qH3Ps7e+c73zm7/fbbZx/+8Idnf/Znfzb74Ac/OBFeBD8FgX3jjTem67sH4vutb31rMp+/5557Znffffe0GDDinddw/KM/+qPZH//xH091yLR6lRinva2LQBEoAkWgCBSBIlAEisA+I1ACu8/eW6DtCBaCmtrr/N97SmqvQ05DVNWUSHX+Pr1Y4T9INZWYIbCU0u9+97sT0X7ooYcm8vrAAw8sfUfqa0j7P//zP89ee+21yf7+7/9+UltDFtNnNSJNrWaIPOWVIbC33nrrRGKp0ymw/NnPfjYZhfvv/u7vTogy8nv58uWZtlN8R5zH1+4L3xFz77UUgSJQBIpAESgCRaAIFIEi8FYESmDfikf/twUEKJf/+I//OJmwYSSWCXFG/hglcywjEReWm3BoJDDE1PtIJVUVOQ6ZFe5LXWXU15EsIq4/+clPJvO3hE+HwPr/+973vpOmaIc2x9IP10Bg77vvvsmECLcUgSJQBIpAESgCRaAIFIEicDEESmAvhl+/vQIEkEZ7XymjCCC11HsK4sruvPPOt9yJuhpDTCmnDOnM/l1hugkbRmTf/e53TyZc1+eYsOGRwCKi+Y4bCgO+5ZZbJvUViWUjGUVgE3KsFk6ctiCwn/nMZyYbVdu3dKT/KQJFoAgUgSJQBIpAESgCRWBhBEpgF4aqH1wXAkJwf/CDH0xGLc2+VQrppz/96ck+8YlPvOX2UVx9FtlNgiqJmIT83nbbbVOo9EsvvTRjiPHHP/7xye54MykT4hobLywEOEmc3ANZpbgisrmucOAUJFliKO1X+06I9Yc+9KEpgZNEThIztRSBIlAEikARKAJFoAgUgSJwMQRKYC+GX7+9AgSE237729+eDBFNpmOK6cc+9rGJdMoGPBaJqIQeR+3MawQ2e1URSWT0b//2b6c9qlFDEcrcQz0WRFQCqW9+85tToivEU9ImKixFFSn1OgWBfeWVV6a2q4UwJzQZif7oRz869UESrJYisG8ICMP3rIlykG3b3u1x//a+9WfZ9vo9YdlykHqM2lj2mv18ESgCRaAIFIEicDEESmAvhl+/vQIEfvzjH08qKaXUXlXEFeETdisDMKN+joVSm/2miKoJZcijrL6MOitxE1XVJFwYMnOszZgwabwuAqsdCKy9ssnCTHXVDkSaGpvi3vm82n2RXhmOhRsjvUyfWorAviFggSjJzzxv2XuuPvTiNyLbEdQ53koteqOlCBSBIlAEikAR2A4CJbDbwb13HRCw//XatWuTCQeOgqrOvlOvx2JSjWy++ubROPay5uxar6miJtgIaEKLKUmUV0bVjYKSOtd2vRBSqpP9sgyBFXrMJHJKQWCvXr160n7hxtrqM9qeGrFtKQL7hoDnx/hm3/nOd06O3vKMpVBk55+j/G2f6ijL6YvoDAtnoi7UeZ4905TYliJQBIpAESgCRWA7CJTAbgf3o78rgon8mQgjo88999w0SZbAKRNGIbj2oLIkQUoII/LquB1G3fQdRjURTiyZEtVV2CMzGaW8MgRWyURVW0J6o8A6y9X3cyauNthD67smstrhe4ixtsdMbqO6ZsKL0JbAHv2Q30sAqK5PPfXUZBZ2nNnseRLdEMI3dswzxTxvnsWzIh3G76zjddqW34s8r3nWx3vms+N7XlNZPe8xERh5toUVtxSBIlAEikARKALbQaAEdju4H/1dTYAppIzqSYF9/vnnJ+IZMor4CeFFUBHATD6RTRmLE9pI9cwk02eEJMsmjMhmEu0a1NcQ2EysTba1xcScjQRW+GSO5KHAhgBTYxBX5jtRj7Ufab3jTZVWqLHPIeGMittSBPYNAQpsnk17yXNec7KE6w8CmMUg/6dOZu9osn2rPXObKH4DQlj9VjCLZZ5Xzzrz3nkFgZU8znOvLoE9D7H+vQgUgSJQBIrAZhAogd0Mzr3LHALIYY7Lkb1X4iSGdIbA2muaCbDJpAmoiSijDIWoUj1lK7a/1Weost/97ncnMmwvKhKMgPoMEktJDbFVU1qTDMp3qa9MWzIRl7gp99C+EF7fTdtfeOGFqe1J3GTCm750D+zcAOh/9wIBRBVxZUKILRwJ+XdOszKqlyGxohaMd+Z1FoE2tW8UOc1il9+DZCy3WJazoL0/X9KX9IOKnCzo6hLYecT6/yJQBIpAESgC20GgBHY7uB/9XYX4Oj6HwiPJkgmyLL4IIRWTCdsdi4moiSejBPm+2meToMlnci0E1DWQV2ouFQV5pZAirglz9DntYRTYZETWlhDoKLAIMEXVZFgopc/kfmqqK/XVPUJevVcFdvRkX+8LAhZ2REh4Rj0bFoYQWYtOUTmRRSXET7SEhaMsHuU1MpuFo3x2HTiMqmvIK9XVc27RjFmAymJY2h8Cm74g3PldUXuuG0K8Do/1mkWgCBSBIlAElkOgBHY5vPrpFSGAACJ/JshILEWHmVja7yop07xqmVBAte/GfD6husgtZda1EMyEILseEkvVpaaaSJtEq31Oe5jsxr7PtMUkFtF1nSRkcr9MjH0mbVcLZ0Z23cPrWPfMrWjg9DIbRcCz4fnMc2EfLLNY4xlADNXIX0ipsT7uHc+zaTEpauw6kyAhpLGQVL8LiKt+MAtfIbOee6UEdqNDqzcrAkWgCBSBInDDCJTA3jB0/eJFEDCxDAkMmUVIkVOTXJPg+UmuSWlUHxPSfN/nE7LoMyG27uEa2ZNHBaUOsUy21T7neuq0Raih/4fouoZ7uIb7jSqP+/m82t9M3t3D6/wfCW4pAvuGgGcgCzwiHpKRWLh8xrx6JLDGuoUfJjpC1IIQXBEJOYpmnREJ2hILkVUj4lncEgr9wx/+cLLs5/WdFL8LVWCDRusiUASKQBEoAruFQAnsbvmjrSkCRaAI7CQCoiWeeeaZyWTdRvxiI4EdG4+03n///ZNJhiQyQRSEiIhNl5/85CfT/l3E1V73hP5L+JbFsZDYEthNe6f3KwJFoAgUgSKwOAIlsItj1U8WgSJQBI4WAdEJkpslhFgypxgCmKiGESCENdm7s//c/nDh+D5/2nfG76/ytT2wVFhKsj29L7/88mT6oG9MSLRSArtK5HutIlAEikARKAKrRaAEdrV49mpFoAgUgYNEwH5vxC8m6VpMSP1pZFTIsD2wQoll57777rsnQ2JDYE/73joARE5DVJHWZBuXpCpJ4ajMSgnsOjzQaxaBIlAEikARWA0CJbCrwbFXKQJFoAgcNAL2iVMwmWOshBHbE6u2V/Y0ImoPePa9yuL74IMPzh566KFpT+wmMhLPOyQhwvbCJiGVzMr2xErCpm9KCew8cv1/ESgCRaAIFIHdQaAEdnd80ZYUgSJQBHYWASqrMNwcR/P888/PmIROlEvJnphw4hTJz5I4jQp73333TfthJXaSFE1273UmdEo75mtE1VFA9sLGEFkkVimBnUes/y8CRaAIFIEisDsIlMDuji/akiJQBIrAziKAmArDFUos83AUTLWjaXIuM6U2RUZiJNZ5yo6XuuuuuyZzJrNjreyFtU9208WZz8gqJRaR/eY3vzmZs26VEthNe6T3KwJFoAgUgSKwOAIlsItj1U8WgSJQBI4agWTrRVJl8U0m3xxJY29pEiEBChFkilDij33sYycmqZP/2w+76WIvrHNgZVG2B1Z25aeffnra06stJbCb9kjvVwSKQBEoAkVgcQRKYBfHqp8sAkWgCBSBNxEQTvzaa69NCZ3UwnC/853vzIThUmdzTnL2nAJNKLEwYqqr43WixspSTKF17qp6E8UZ0jm/GflGXp966qkpK7H9vEy58847T8we3ttvv30y51Qfa+HbKPFqYeNUeYb4Z2/zWfjws7Oy7Y/Oed9R6c/6zjbfN4ZzTrg648Y41w8h8Cx9MIZhsOnCFzkbPWc3W6iBccL1vYa/yIhttHHTmGz7fvyRZ2P0T35fTmufRcIsFOZM+YwvY4zVd6ch1/eODYES2GPzePtbBIpAEbggAiZYQoZjMvomDJeymYk0spNi4nXTTTdN5izYz372s5PJTJx9suootvneOmoTSG00qRRKHAVWPzL5R1ZKYN+OPsyiXlOwjQF7imVyRo5CkM7yIx+/733vm73//e+fzgPOmNjGXui39+7t7xjryCoyqDZeYsLfLcow/QiZ3dRCTFqLZGd/uv3ozjyOiXywYGTxxfnLFg4YP7WsFwG+8Fwwzwwf2b6A1J5W+NFvZhbRjC8LfrZb8KOcAWzT4+u0tva9IrBtBEpgt+2B3r8IFIEisGcImGhFWVBfu3Zt9uyzz86uXLkykZkcVzMqDVQDyo+Js8nY5cuXJ5PYycQ6dhbxWSVE2h+V4/XXX5/ajsQisCaaJpn6UAL7dtSROHuHkTjZm6PEex0VUq3M+xLu733ve08IFeJncm6i7v1dLMawMcEQkYTOq4W/f/rTn57Moow+IOebVuiNZfvQkVa1fd1JUgZji0T33HPPdKQVNZZtuo276Nt1t4kvcla23xnZ2/kox3V5HuaLhTWLZ+qPvnn0mHwBDJGVR4BZgGgpAseOQAnssY+A9r8IFIEicAMImNgnVPjFF1+cSKxjdZCbqA7UutMKpYoCa1LNTM6iZG06PI56qN3s5ZdfngiAiScSWwL7du8Joc2eZ2cCCx8XOv7qm3uJqZAUIvVIZkNkTdgtXjgbmI2Tcu/vWtFeRAJZD2nXT8m+1IjFZz7zmYkgIrAWYfRj0+QwERHGMkX829/+9gnRpnTL+s0osdppwQCJPebCt7FEY6j9puV9SmfC3W9E9eSLjJssLvCRZyiF7xJerPY3huTymfHF4jsLPtrUUgSOHYES2GMfAe1/ESgCReAGEDDxiiEwr7zyymRIDYJDeRgnauMtKAhJ6DSqDAgBlXaTBdmWSZn6auJPSWRIbAns2z3BpyOBhZn9z0hdSKnFCEQu4cGjT02+/S1kL4rgrk3KQ2Io8frHqJohGGrjNWOE+qoPQqQ3HZ6rrWO7tNViDJVYWxKyfenSpZPnDrE95oKo5vdLKHwsJNbfLLQhjEi/hZlli2iFRHQIH+YjxHRc2KO25t7qEF01dT+LfCWwy6Lfzx86AiWwh+7h9q8IFIEisAYETJoVNcKH1AgnNXlGZk2eTd5OK9Q5k0KTQyqcMOLYpif/lNYQFGoiIsaobiEn6iZx+rUnTcJDYKmQ8TXMJORC6tR8m8n/qF4hs1Fnvc/4fCS5p42ZTb4X8orEIBxC5Cn0FjqQVAsw6vSVUoaI64O+RHHeZJtFRCBDaosKCCxDwNMfBPbee++doh+8PuYCp5hnPaG+8AqWwnX5mFGtly25DlIc33gPeU5BZnNvv6MWAGMIrN9F0Sr2MOc3c9cWe9KX1kVgkwiUwG4S7d6rCBSBInCACCSRD9USoRFS/MILL0z7YTNJRAZSTPKjzlGu7If93Oc+N9UmZyE2myACCEomjGqkjJnUUolz3E8yEFNCNh0iGtx2oZ4nsFH6EFh7LRNSCyckiSq7b3ghGIgFo4o999xzk0lUpj8UZrVFjdgu7UvkC1ERzL7LhPQjYZ61Bx54YGp3Fg82vWi0jXGMxOe3CJmUrC0ZtLP4ZgGOz31W4WcKqHHt9TqKHAKUfT5Tx29qC2dZ2CuBXQf6veY+I1ACu8/ea9uLQBEoAjuAQELjkEETLwSW2f/lb8zEMMU+V0SVUa7G/bDJTivEdBMT6zEpkUQrSbaClGe/oBphQcjYvhGy4L6K+hgIrLEa0mc8JHETkpH9pNQxhJBKZ8wig7tShJ9qt+fPogxixITEImNMAiqh3Mz7h14sSvh9Esqrjn/VY9iu3yZ4CAVHGrMoUwJ76COk/ds3BEpg981jbW8RKAJFYMcQoGgwoXImyjlSh6Ihacl84hLKKnIq5BIZTCZXdUjipogiBYRyrI0ms0KKM8k1iQ3RTqIpRDZZdnfMDRtpzjEQ2PRRaGfUOUSQmploAREDiI7xQX3ddPKx6znbogySxpDvJCnzHeHdDIFFytgx7If1+4SoJhNw9rqrPfPBy4KaRQmLE/bnJ4mS538dpQrsOlDtNY8BgRLYY/By+1gEikAR2BACSOsYVooAIAJCMbMXb2wKEisM04RanX2FJtkIJLIbG7+3qtdItwksQ1xMKClwo2LsXia12YO2S2rbqnBY9Dohd/wq1Hr0ddQq9b6GEBuj9m4nKRnVNWodYvgXf/EXsy984QuT7eo4oDYmXFYkxNe//vXZE088MY3tLBB51oTHM4syh1L4z3aF1Nlz6rmmSFOmbQ8Ytw3wa0KKkXljl/ktQmDvuuuuaa/+OjAqgV0Hqr3mMSBQAnsMXm4fi0ARKAIbQoDKEdWKGitBkqQylA8TS5PrcT8s5SqKh9pkMURIGDG1k60ryY8JrsQtmcD6fxTlEbLs2VVvIrR5vPcuvT5UApvFFWOTGm8PN5PYy98Ufr///vtPbFfHwficIeLOZ2aIuUUhRlH0nNnjSWk8lOL5zSKU51o0RSIqjN2YqIuEDidTsEUse/KRV+HDCKzfoxLYQxkd7cchIVACe0jebF+KQBEoAltGwGSRYmUPKQKLBDz//PMTqUUMTTBZCnU1obpq+2GRBIlmEFohfUI116V2meyHtKr9P5Y2qpFo4c7qXQoXHdu4ideHTGCzuEKpe+aZZ2ZPP/30tADjGBrExni0B1ZyHeHu61pUuagfQ8bVFGTZk4X1W0QKudOfz3/+87MHH3xw6stF77kr39e/hAP7HYrq6vfIc5tojhBZ6isyG0Jr0Qx5jQJbArsrnm07isBbESiBfSse/V8RKAJFoAhcAAEhucnuSb1CBBgya3LJfOasgrxmYi200USbHXPipLOw2sb7h0pgE3ZrkcW+SCG3jz/++ERgc2ax+sMf/vCJ7SqBHceFvkis5lkU3p/kThaFHn744dmjjz46LRqF2KlXXaJgz193HfdCSCnoCKu+CnMXLoygOsuVWRTLQppaSDGcbHUQYYHAjgqsBYvugZ33Xv9fBLaLQAnsdvHv3YtAESgCB4WACSGCykwIk5EYgTWpZFTaswqFi+ph75l9egnnM+Fu2T4Ch0pgR+VOCHzCbo1hobbMuJTcJ9mp90GJR+aQM0aNzTEtyCP19aGHHpr6ligISalWWSwMRNkerws7ZhFglURWODCf6S/SKowYqbUwEfLqtySLbGq4IPgMuS2BHT3V10VgNxEogd1Nv7RVRaAIFIG9RCD770xahSyaMNsHi8BSgJi9Z2cVhDUql0ROCdcU2teyfQQOlcAKO82eSIrdt771rSn01oKLiAAmOgDBiZK3SuK1Ls8mpF84rWfx2rVrkyHs2c+LmAuTTqj0KtuS/eTzURf2D9sWwFa5EIC0hqRLHIesIuf8FvP/7ItVy9QszJrP/a0EdpUjoNcqAutBoAR2Pbj2qkWgCBSBo0fABDJZiBFYGWsZEntWMYmWCZRRvRxbwihfLdtH4FAJLIJnXCKvwk6pcsYs9e4v//Ivp1BbGYgRr9j2vXF+C2TTpjJSIiVTExb9ta99bcoK7vkS6ZDjq4Tsr/K8U6HDyeiNMI+hxNlT7giiVYZiCwe231fkh7GaDOeyL4fAUpmzT59CbY/+c889N9k8gbWA1hDi88dZP1EENo1ACeymEe/9ikARKAJHgkD2o5kkIrImlpQOxIAiY3I7r8yMCpdw4vvuu28yE2uTS5NPk9+W7SBwqAQ2yp1oAURW9IA9lCIJcmyOkNsx9HU7HljurhRQzxjTtxyp45m8482jq2IyEXst+mFVBWEV0htLtm+1fe05h3aV2wMQ0+x7RdxvvfXWySyI5cxevx/ZzqCmSiOwwsZLYFfl/V6nCKwXgRLY9eLbqxeBIlAEjhYBk2YklskGShWRldhEWsim8D2EaCwml1QZSZskzaEQMWF9ssAmM/H4nb7eHAKHSmCRVSGkzGKLfhqj1FbEVQixzNjChpHYfQgfNiqyB1Vt4ejJJ5+cfeMb35gIevbzIpIWi5hzYVdVbCdI0ig10hzzPFOAHeODXK6qIMciPxjyngUxJDlhy/xXArsqxHudIrAdBEpgt4N771oEikAROHgEKDA5kobCJVSP2mHPWSayJpJjGQmCSW4m1hSi7I0VZtyyHQQOlcBK+mNsGqOSABm3xi9FDnFlyNa+ENdxdOgHEx7taCCmv0gdsyiETDLhsqsqSDM1VDg2o2zH3Oev/uqvZo899thM6PKqyrgHX5+RVSHKaoX/vF8CuyrEe50isB0ESmC3g3vvWgSKQBE4KgQoIq+88spkkqxkImsibUKppA4wFCIkVmInaiwyK7GTIy1MSikqmZjmO7tSm0gLYYxRoxMyPfaT2oxEUIqozqNKlL4gAlRs5JHCRFnKMSDz10qYtetSs9kq9xhug8AmEVDCYbOvEgZZIAnhVKcgKwymMfjAWz3iYjw67unZZ5+dyF3CTS2WRClclNxpZ/yeY6O02ftj4fOQyCQ00s6RJPteohhcM343JsaiP/F9zivm+/FalOWrV69O5nXw0Y6RpI/XvcjrqL7J8IvMxkRVfOlLX5p9+ctfnp7vi9xn2e8aIyWwy6LWzxeB3UKgBHa3/NHWFIEiUAQOEgHEh7Jl4kwJosIyZBYJCwEZOy/ba86BpcB+9rOfnQypTZixSfouFmSFykx5Nll+4403Tkx/Y8InKVBMpuUQkbFfSIzkNEwoJhLLEJoQWDWs7PlzzIvXzrSEIaxWVbZBYEPg3FvYuT2V8AyZhzVihzAxWIScWeAIsVPDxwIIGzGmENofKsQWzvzCfE6So2XCa7UzEQb2ZMb3+hG/a1eSJqmRyPh+XJTRV+H32mQcxffGRIrP83ns5ptvnvzO/yNJdw370BnCbvy4HsKbI3UQ2VWVEtjzkbTAIbQ7ScOSQVltwSQ5APzm8a/xa3GlpQgcOwIlsMc+Atr/IlAEisAGEDDhNpmnxJpIJ+unPbHIa2xsClUKyWB3vJlgxj7Ez33uc9M+PRN+tquTORPTZLRVSwoUC8lCZoRFm6gyRAb5QGTTL59BMpB9GZxlkg0hUsMtxfftYaRWy7pqwkvFhtOqyjYIrDFj7DBH3SDxTP+RMFgbX6M6idQxBA6ecGWf+MQnJhUfIQ3GsEEYvvKVr8y++tWvTtdGGJgsthZPEsK+CI7aGaXRok387v0QWO2K39WU3rSTCqv4rO/yO/8jnfE9P6S4VvyuRnL4nXmGUlwrURDGJEKMaCsPP/zw7JFHHpnOhc3nL1qXwJ6PYAns+Rj1E0XgNARKYE9Dpe8VgSJQBIrAShFALqKkmTSPBBYJiZm0p1DRkBC1MOKcW4mE2Ldngo6U7GJBqKjNMSoaQ7yQj2CBJAlRFVKJLEVFo5wqIbCSC4XIhBCpkXsKK0OGETP4ILAURDgJU11V2QSB1Wf4mdwzxM+YQbgoklTYkFfjigI7mnBtpN+Ycp2QOTV8QhxhloUTCwMILKOaw9BnEUJjj1kgWKQg3PG7EPn4HvnWLr7XxiQo439KbxS2kE44GC/8zv+UOtfgdzgg4PrAv0LrY/oZBTnX0m4YugZDsJFrpi2PPvrodFyQo4LyzKkvUkpgz0evBPZ8jPqJInAaAiWwp6HS94pAESgCRWClCJjMZh8o8uE4HaGMJucm1iEoo6KYMFB1yIdJOoXxjt8cAUJt2sWCWCFeMaQj5IMCHRv7pU8ILSIqBDgFEUM67CUM+YjC53MhPr7nGtTCZGumvgoRXVXZBIE1BjImkEkYRoU1FpB2faJUUh/VyB4Sa4whiCGQCCAyH0NIkVM1cufzDIF1PioF1r2y7xWJRS6NMzgvUpDU+F0/4ndjAKHle++HJBvTfBffj/7S/5DO0feun8UObePz+N7iRyIU4JOiX9l7bvxkbyqfOuuWOTIInrF890bqEtjzUSuBPR+jfqIInIZACexpqPS9IlAEikARWCkCCAZiYlJrgu8onez3Es7ITK79fSwIi0JpRUKoYAhsVEuT9l0s+hpyZJKKsCAjauGgUVSRDX1g+jWqaOkXFRHxiWIWRc51kB5EiIUEUQvtf0RCkLSLKmlph3oTBNYYSOZaNeKVfa8Ie8iosFvqI7KGqCGwsPJZGYUlLIJVQoBD8ijdzNiKUiu09oknnpjM8Tn2gl6+fHlSSaNmjosKIybzry1exPeuxecMcY3fjX0+1w41/8X3Y2izvsT3sNAfhhTH7+qoxOqQe/7P86ONFo6iBruWtlhIgq+MwCGwWSBQj9+f7+d5/y+BPQ+h2RRhYGGCP9T5TVSLFOge2PMx7CeOE4ES2OP0e3tdBIpAEdgaAkhGyBilLPvy1Cb+yB9DelMkuEFYGKImnNjkzqQ/apF6F4t+IAkhYo5qEUJ95cqViWBG3aMKOqqFOZszZZ7ARjlTI7133XXXNNlF7HKtkQTlOquo10VgYcT3SCjFmSIaswCQEOHs84WVvloAYMhWvk+ddNYpQ2J9Fk5qBC8LIcYYgqlPxp4ETgypTVIjvrA3lVkUWLaEUCOiyGP8Lvogyrl+CCd2LwszY8j3SGAt8PA5cuN9BIfvJZmK313zrAULfUV8GcJkHDILK1FghRAbOwlPLoH99f50Kvw6ShXYdaDaax4DAiWwx+Dl9rEIFIEisEMIjOG1lKlkRqUGCf80qWMIRgqCQmkzuUfuZCQ24UdgEZhk3M3nd6lGzpAifVOHwCJXSFcIA4WQ6idRFWVV8V2ELsoMlcZ1Ysh8CBqlEA4MXuso6yKw82NCP2P8Tv1kfI/EIqFIZYiWxQvXoPpRGhFF+BpTVE44MUQvZA8ptp+WIctPPfXURHrh/ed//uczZM44C6bG2bJFm+J7Yz17v1988cUTv9vHakEmvtdffleQy/ieghu/+1v8btykjeqzSCffRQ1GYOHDEFoJnJg+Jxuy+qxruf95pQrseQhVgT0foX6iCJyOQAns6bj03SJQBIpAEVgTAogpZQpJNSE3iRbyyaiUlCKkwgQ4JXsdhcTa30mxoj4hsAgJhcR+0l0tyBIyo0ZeQmSQraiLiJZssAwpiQqNeITkCxuO6ojoIHIJH/V/xJWdpcJdFJ91EVjjIWHk2aeZWoitvahRGqnwyDqClXGBaCF9TBsRVyZUHeGN+V6+b/xRMvkAgX366acn0xZEzn7Qe++99wTvURldFEc+jN9HYi37dvyupvi6H9/zb/qCtBov/I/MxvfIe/xuDMTv11u48KxRpyXDsgdWBACzTzjj7qGHHjoJyzaeSmCrwC461vu5IrBJBEpgN4l271UEikARKAJvQcDkPmoZAivRTfaKmtifVkzes1/Q/j8Eh1HY9qEgVgnfFFaKtCMWCElCOYW8wgaJR+Z9B4lBtKImUmmFjCLu6jHj7LpwWCWBDUlTI1f2diLownkT6qpGIhE8xyjpJyLJzurvmPQKCYYPs/BhL3XUSsoo3OEP12effXYy4y6ETph67ocwX6TAjt+RV6Q091YjjnxvLyriGN/b/5rFCws7SfRkrIz9WqRd+quvDIFNf5FkhJ3BOSR5Xs0NGTcmmf9nkeW0+/uM+1iYUGdBwrYBixEyH+uvxYVFCn/HQqxTL/L9fEabkfiY3x2/Qcg8H8OY+W1JxuqGEAe91kVgNxAogd0NP7QVRaAIFIGjRMAkF3lAWqhlJrrMpJdCdloxwUbiTDIR10wyTTj3odjHqM9MP7MfGMFCIoSvIigID2KnzmQbmU0IrTp7M5GNMePsunBYJYHleyHUjBKK1CF3iKy/xewLTTIbYcRCbiUqOqu/rof4WgwRMhvCatwgKAnZHnHli5AY5BG5YkJ7fd733PciBbE2zt3LWI/f1e6TsGUkjd8ZXBBc/kfW4ntRB2O/FmmX+1OBmWfsmWeemcKm3d+9kWjh60i+caUeCSK8fFebvEaIGbxPK4gi/C1IMT7Ja/3IMUIU8fOKiIJEWiCTfO+9s8bA9a5XAns9dPq3IrAfCJTA7oef2soiUASKwEEiYDJpAk1pYsiL7KjMBP60gkxQ4kxoEb2QG0RnH4p+UqEoUvY3htQgWMl+S11DWpAXZEFoKNKGRJnAM/0PmVtn2PCIqbbkiBokKKqpPZXJDK3mlyRLGo+FGa9F6QxRQ2wSVk1xRKBiSVaE8MAIaZnPsDteF/FFrFwbaQt2at9DENXIWAgWQpk9ocZk1FD+CMZn9WO89/VeC03m8/gekeV7pm/2wLIQLL5Hpt1X2xHWkDiLHWO/rnff/M2CEBWX8Z09v5JWaQ/llelv9hurRwLLRyHdyGgiB2B9WqGsh+Sqc2+1vuQZ9jynjPfLe2o+D+FVw+S8cTB+f3wdfLMoVAV2RKevi8B+IFACux9+aiuLQBEoAgeJgEluwhrVJpMJbTTR9XcTzrGYvCI3SeozTr7Hz+3qaxPnKFEIoD4jT4gV8seoXxREhoQhhBRndcJhkZh17XU9C7tVEliEjs8pesJYKYKMCiuEOiZZEXWdUUNXVdwbEWMIbMK6jbnHHntsMoQuBJJ/LlIQ9vidX/k9po+IGd/DRZt8xr0T0iqBFZ/zv/GxbHFd/kPsKf9f//rXJwLrNeWV6S9FNDaOL0Q3pBsRt3eWiQo4r8A0art2IJ/6xrw+ryDrohOEdtsrjPTyBzuL9J51zRLYs5Dp+0VgfxAogd0fX7WlRaAIFIGDQ8DE1oQ6E2vqW4gEdSwK3bgfliIWEkflM+mmXMkYuw8FMTfpZwisvXfURxN8JIWNBMXkPdl31VTIhI8uO3m/KD6rJLBUuZxLihwlhBiZlKCLIXUhcMg7wrOqsgiBNa7gzy5KYCnDVF9+d+8ozvwvuVR87F6KZ8M4EG7rb8Z8/D6qlovicVECS31NRmR+s/DALLCcVZBF/WD6rf/MQoS+WYiKT683linmibRIWHcJ7Fmo9/0icPgIlMAevo/bwyJQBIrATiMQZUYtnDIhxEJtKVFUq3GSbPKeEFrkRpIfhuzsQ0EkYvpKcaY8IjXIORtDLBNqqUZiolyprzfpXwcWqySwCI3Q41ffDGd1ZA7iyqh7FiViwmb1m12URI6YnEZgKaIKBfaLX/zi1IZVEVhkLn63MBO/8z0VMqHKyKw+j373f4Qvn7kRHC5KYKnkOdpIFIFnUljyuLg04uu1Psc8xxRbyrJFmBD2Rcg4ApvEbTJSw6EEdh7t/r8IHA8CJbDH4+v2tAgUgSKwswhQaJQQGaGKITcIDtUyRVbY7LF09AziymQ23ZeS/iKw9iIyhD17BhFYijLTL6QmR8Do46aJa3BdJYFFICnQjL+psFQ+ixbCRIWMqql08Mj+17TlonUILEJFWaT8r5PApr18j/Q5tie+R+YRQv6XmCy+l6yM34UOG/fKjfr+ogQW+fQsMu1VMo6n/5zyTxJxqfnXd4UsC1FOiPgYbXDKJaa3hDLnmY8SXwJ7Flp9vwgcPgIlsIfv4/awCBSBIrA3CCSpESU2k12KHMWKCsPsfbVnkDkvFYllJrb7UJCXqM6IW5IHIbAIIkPWokAKpc2eRGRum2WVBFaIuP2uyTxMofMecpRjbB555JEJi2QOHvdkXhQH4a9J4sQPyCtfUAwd78L4YFS8L3JPZC9+R1RzP7W2xPfGdHxvXMf3iyiV12tfkjjBF4lcNonTSPjHiIiz7qm/+mTxSe05zqKUsOh77rlnMgT9vMLvcMhCDvLqt4ByvSyh598kcFLDPxmoYZyQ9R6jc55X+vcisD0ESmC3h33vXASKQBEoAnMIIBJR5Uyyo8pRj4QNMuGUUV2FFWZSi9juQ8meX5N6R+okZNq+QuSCIbCS6jj7VF/1jS2iVq0TA23mk6hpfOXs1hvJQkxpTcIuGCA6DMlzhA3yqkYqblRtux4W9mKGyAhdzl7kHKMjE3H2WyLQxt5FChUSfsy9YRffI4fxvYWZJFWixiZh2UUJLNKZPagWhyjAjOo9f4xO9qeO5ND3Q0avFzYcjBDFJKNSe57dlyHpkq+5r+f5vKId+s8o0YgrUnsjCxolsOeh3b8Xgd1HoAR2933UFhaBIlAEjgYByqtETi+99NKk2FAl7b1DKt797ndPxI7SmiNHhNeuSiHbFMjIiiNSmEk91RmRFcqaxDgIrHM5TfIpVUhMQmk31c7T7rNKAiskNZlwJXDiY8QIWaF+Iq9qe1C9N5Kp09q27HvIWPyAwIZMawMFGIGWOAhhCnla9h7j5/UPYXZPNZ/H995DLvmf8sfv/E+Bje8vmoGZ6mvsMSQy/fV8CddmFkyMvSSLGjFH/GLnhQ7rN8LuPlFdvY45GumLb+4xZotGToSwhrSObRtxPu91Cex5CPXvRWD3ESiB3X0ftYVFoAgUgYNFwEQ4iW3U1DyqFAJrYm2iL8yTApekNib1CT+k5CSUcJHjOLYFJFUxocP6RJESMouwIC7UN+8h7ExfkCfJqZD0JPWxF3KbZZUEln8ff/zxyYQRh6QirKMCy/frKPqSBQPKv2RKFEnj0N5bBv8snGQP6jJtQZbiewomn/OzMR2/q2ER3yN09sDy/x1vKrDGPUMsL1Io/yHPiCTFmVlIyPE0SLP+xm6UJGonAmtPO6LOQl7Vogq+9KUvzb785S8vTGAv0vfxuyWwIxp9XQT2E4ES2P30W1tdBIpAETgIBBBYilCIRAis8EpED8kw8RbSmKQvqZFXmUznlZldA2Z+LyACk2ys2o4YMaQmIaXITs4+1V+knS2qVq0Lg1UT2K985Suzr371q9M+2IQJUztDIBGrdRFY4yphu5T/JFSCvdBWiiQiGTXyRgikRQuYUXsRVSo73/N1lF01BTi+zx5v/jfG43t7QC9StMN9GVU0ez+NR2oz0++E6apLYO+cUYtlPV9HsS8ZyecPNUU+5r45Osi+3CzgXVSJX0c/es0isGkESmA3jXjvVwSKQBEoAicIUEOoTzkPFIHNHlgTbiqO0EtJX3Jcjok9RZKZ7Ee5O7nojr0YFR/kIX1VU1RDVKlj3/jGNyZDKnLMiMkrFdaE1me3WVZJYCmOf/3Xfz37m7/5mykDMMJkco4wIlKxdRFYIbUhlxTYJ598cjLvJ4T3ouHbCEqiCPg+Y50SG7+rJY+K7/U3Z79avIjvF9krer2xgURHAUaYknXZe/b7Ur0tHNjryw+sBLYE9npjqn8rAttCoAR2W8j3vkWgCBSBI0WAIomYJrwy6oM6Ro3wmexvdZyIhDoUCZP6JJmhXu1i0UfqW8KGKW8xRIL6x5DUnG+JwNoT+sQTT0yJdRLGieQmnFjo5TYV51UTWOSVCiuEGGFCniidIa/qRQissRSsjRsh2En0M9bjWBEqjKwyBBbujCorC7B91vBOkrBFFdAsumgPX8fvCCz8+N2943e1LLh8z3wvvhdCnIUb6nt8fyPEkgKcxRPPWUL1RUAgsPYbI7BCuD132Xs8YrbMazjscggxfzBEHv7MGJzPQiwLeBXYZTzfzxaB9SNQArt+jHuHIlAEikARGBBANkzgqVPIQzLZUl+FV0YlMpnMESIm8sgEM5GPWmeivYvF5D3qHhKDOFDf9E/bkTSGnJocU9f0O4l1JHeiPLuOz0uuIzMtEo/QxTbd91USWHh87Wtfm/bASuJkL7N+8TsilcRCixBY+0zhjHwKAc7Cx1jPEzL4+h4TQqwtzEIC5fXuu++e1M/4RwjnIsXY1hZYuVZIozD5nGerThSBWv/je0Qzvkemko1aKHH8DqtlC6LqKBsZpBHYJJHSTuQViYW5e7j+jdxjbNMuE1jE1fMWApujrIw9vy+MMu73pgR29GpfF4HdQKAEdjf80FYUgSJQBI4GgZA7E2eTenvxEs7ovahiyB3lldkLSKkyqTThp6qZYFOkdrFQ0aLwmCgnQQ/Shox/6lOfmoySbNLMKHWIDDWSciX0lCnZE4rIUiljN6LEXQQv/lnVMTrIPMVT6K7M04r+IFBJKrToHlikVdg1DJFYCiZ1Xm0BwGs24mUhJUaBpQYz/op/HGkTQiOsd5ECo/hee+J7ymuuaxyPoboWceJ7hDe+p9DH9/mO7yHjyxZtMq6YREqOz+FLhHsksJ4pOF302dplAsvHzJjxvPkNYrCNv0NgkdgqsMuOtn6+CKwXgRLY9eLbqxeBIlAEisAcAiO5M4EMeTWRpDyFZFCfMuFH+vzf5NK+110syJBJuz4gVAgC8oK0UuIYFcyEmJLKkhhIn2FBCWTUMSosG5MKIbBJKqQOVpvCY5UEVn9l/ZX9F4FDpJjwa6HDMuKqqagJCfY3FuKZGjlEFpFiBFbYr3FCwR/J7Fl4SZwjlJm5hrFm4YTqafGE+f9Zhd/je34OadWm+F5bhSbzO4U3bVHzd3yPXMb3+hEl2rNgvFj0QMqXLdqSe7h+SLbrJIkTzFdV5glsFj7UVM3HHntsskuXLq3qlgtdhx/4OGbxJIsHCGz2nlu8SLZz7/FTfLbQjRb4UJM4LQBSP1IETkGgBPYUUPpWESgCRaAIrA8BkzaT9FiybqqpqtRIE0mkAdljJrkJJ97Vfa/Z84jkIarCNPVR2CbFLOGflGSJeRgikkkxooNY+A6VjCqIcLhW9kHKikuBTljrRVWyZb28SgJLZbRogTzoZ4iee6S/9v4ioFGp5/cWh/QisEJvKfoWEIwXRjU1lmLBer7ffJU9qBTQ7HuFMz8hjwjNWcUig3YLHUaM4nu+i98tOCQhE3VPSXuQupBWGYn5nhnrwcJ34vdF9+OO7bWQgqwxY1KbRTsYm4grQ7BXVeYJLAId1dMzEGK+LnXzrH5oV8g0HIw92xcYLG655ZbJ4B3sLZx51mJnXXvZ90tgl0Wsny8Cv0agBLYjoQgUgSJQBDaGAAJi0mwS7axXiWSyP1Qdhek973nPNNlH2ELaQkIuujdvXZ1FCBKaqC8hIcgMRS8KcpQ9tT6lUA6jCvlOyJ1rmUwnhDqKoJoyucmySgKLbCIPCJvFi5AKRAdh1F81skZ1ZNQzk35mHGkP89p7CC1MfJdJ+JU9neqzCvJoDyo1GNELYabiZj+sLNBnFX2haPK/a+kX/2tXQlL5O7733lio0fE9IhVFEGGK3xHo+J4iuGyBr72ekhWJDkCemWeOKoy86uuqyjyBhZFFBuNcP9yPIYybLPPton5bMFL7beFzBm/tgw2/+Rtb5TNXArtJz/deh4RACewhebN9KQJFoAjsKAKIaxLTmMSaRF+5cmUKH45ypjaZpcgwhCEE9kYUp01AMYazmpgjBizKDiJDUQ0JkhgoyiB1cNzLiOxQ7JjvwAep8jqKojrqLXLn+ybUJtZR89bZ71USWGolnBjSh8gyrxG89JkaGvUd+TDpt1hAdQ2BRVzTf6qlscOQP++fp5wJ+c1ebP5DlPnWtebJXe7jMzEENL5HhvidGfN8noRQOR5nXnVE7uJ7CzvxvQRTwUE4M5/zP0IVv+tb2jTve31Q1MaRkG2GpOsbdRu+2meMuvaqCl/xpfsy/orvLObER8jiqsr4PPKNNsRH/sa8h6xaNFEbf/EdLBF6dsdvMkCLAtBeCyCet/FZg3uIrXrZUgK7LGL9fBH4NQIlsB0JRaAIFIEisHYETMSjwJjsJ5Qxex9N5JAQE3OqGYUmtdcmlLtY9AvxNDkXEpsJO7ULSaCeUub0haIz9skEeVRgXQshcy3fD9lA6ijSzGQ/Kpza//O3TKzPIjOrwG+VBJbPsw+T6hpCAcMkXlKPpg8hJl7ra0hEVFNjBVEMWcxnrocL9VM0gPGI0Ogngg1TZ8Lae0yNc40QxpBo/ufr+B4Z4nfvKfO+53fjfCyuEd8jsPG9NvAv9VnoeHyPUHnP37IXOv0cr4usMUQasXbWrKRZ8JZVmcEJMUb2rxcmPV53kdf8RJGOMu35NsaF2luQcF/kHJFeVXH9hEYHU7h6HSx8Rv/5XK19wtc9v3ybSA/Y8JOFAwnlkNdYSCtSm8UVte8vU0pgl0Grny0Cv0WgBPa3WPRVESgCRaAIrAkBpMzEntKFnAmvRMxMqsdClYlaaXJr4kiVRU52sehXJr9IC0WH6auJMzOhDqEKWYiKipylmGCb3JtgwylkQ0ipiXIUoFGdTHgqQmPiHRJzPbKW+91IrT/8x6hqCJ/2CXmm4tmvrE4b9feso46QqpAN6ruxwFwXBizKakhjiAP1EXZIHAKnRuZD6CmLiCxyFCxSn9ZvRAuBZogoYsO0MVmAkVj31RY1xTS+9x1t53vXiu+1N0mBkKH4PXtg0xZ+j1ncie9dK77XR3gG2/jee8FnnkBlPMHR85ZzhpE2RDqE2Gs2T6zTvhupqZ2IY8z4zuKD5zk+0r9VFfeKko2QWiyDIT8ZT/CABf94dtW+g0gai4r2zI8vbR2PZMprYxBucFT73jKlBHYZtPrZIvBbBEpgf4tFXxWBIlAEisCKEUjYHvU1+wKRhISNImqIlwmtWrimcy8Z8hr1DRHYxYJ4Ia5Mn/QNUdCvFKSCOoNcqUPyEPWz1CfqEKWMUeRCbhAAylASzVDNElYashYyk/uvsl4lgR3bZSKPuDJkMKod8oFwhIhRwKK0Cn0NOUzYOZUSxssWBIf/mDYg5AgpkvPoo49OJiNyCDSSg+DG9z4bAmyspxjT8bs28jmzUHNW4e8QWOMIidZ/fY/v9RsZ5nsKb4j1PIGFawikRSPHFj3++ONTNETGoWskTHk+tPmsNu7q+0mixTcU8Cy2eJ5gwYyn/C55nhYp8OXLWH6XENv4VL3s75T2GDsZbxlDamNE+HJCmPne+N7VxbxFcOxnisCqECiBXRWSvU4RKAJFoAi8BQGT7kwaKSHUOkalCkGhliCqMcdrUPAYxYnSYeK+rLLxloas8T+j4qNPJspIDUKUQvkz0Y1Rziim1C79O62MhN8kPOGPJtxRHSmPIXBROt1rnsScdv0bfW9dBNZYiVqGtNpPHPM3/UfkEISEcVJYR9U1odRwXrboV+6PxCKRQor5NAsqiIR7wl2tfVH7EKb43phIQXTjd+2L3xHGswp/JwGYcRTf6/uoNsf3SCe/n+Z7baREMs9djqxC4iwWMc8c0s+0cZ8LFTVbFWCn33zoPeMoKqw+hsQu0l/PFF+yjD/PLkLrOWZ8u+zvVAnsIuj3M0Xg7QiUwL4dk75TBIpAESgCK0DAZDIJmihJSIHwSBNpk3zqlon0Hb8JX7TXjJqUPYMURRNCE3eT810sJsX6yfSJAsT8fywmvSHjSAiigIiepdiY2Jp4Z/Jtso28qk2aM3lGpEKqYBUiM957la/XRWCRNOMhZlzAQK3fMURCPxkMosbCJCo+rJct7hPfIZCSjEmgJRScUskoYlSwGDIU32t3vm9MpGhvfK+N8bsxcFbxzMT3rh+/u1b8rq/xvVo5zfcWAzx7jMrn2aPuuZa9vY7OsVgUHNX7XGCfRbM8k55Lr40xWKoVz9KiBbbG3Dj+PLssPlUv+ztVAruoB/q5IvBWBEpg34pH/1cEikARKAIrQsCEnjLFTJ4dC8OEzGXyaFJoAi38Tk2djLJk4r/shHBFTV/qMvqS/uR1/p8LpR/q0fL3+Xq8Tq6VetlrzV/7Iv9fF4HVpvQ5r8fa6/ky4uBvwXX+c4v8H7Gh8DJkT5gtEw6efaJqSpuFFobMKPPtjp/8LW3M67RxfN/fxpLraZOS6+U7Y53rjd8fX+sLwqofiHmUYotDjzzyyGQyfY/XHL+/j6+DV3DUh7w3/3qZ/gWj8TvBP/X4t0Vel8AuglI/UwTejkAJ7Nsx6TtFoAgUgSJwgwhE4VBTkV79zZ5GpJX6w4RaRvERXom4MiqXUOKEM56lTt5g0xb6mnazccLriyaoCEtIy0IXO8APrZPAbhMu/o5Ch+Q5D5YhflHYjEsqbMziyy6WEDfj2MJRMn4LkaYaM31JaPQqj87ZRTx2uU0lsLvsnbZtlxEogd1l77RtRaAIFIE9Q4CClX1mkqhk36uJdNQfJMgEWhIehNUePORVjdAmQcqmyWJIDCKTMMPAj6zETlNi8rlDrw+ZwIb4WXh58cUXJ7PggggaD8ajo3Ri21hgWWR8pb3aLHFazpQVmpz9uKIcEhp9x5sh/C3bQaAEdju49677j0AJ7P77sD0oAkWgCOwMAtkXaGKGtF69enXaT0iBtU8QAUIUcgSIxCdRtChBkqRsS+nULnvoYiOoSeCiLoFdzTE6I7678toYQPQorxIpGcMIrb2kQuIdqfPwww9PZizsYkkotFrIfo7O8Uwm4ZAQaCHR9psjsy3bQaAEdju49677j0AJ7P77sD0oAkWgCOwMArKeyv7JTP6jZEmGE2VIIpqPf/zjM2dhqjOpVm86LBNhSbuQ72QulbU0SVqSqEUoqay3u6q8bWIQHKoCO2JnoSWJj4xbYfBM6HvU18uXL59ECwiH33S0wNje+dd85DlEuJ3Re+3atcm00ZE5jOrqSBYZjEVDtGwHgRLY7eDeu+4/AiWw++/D9qAIFIEisDMICBOWLMZRJAhszjV0nEVUTBlYhS/a90p9FUpsEs02TQSQV8SVmfBnny7CklBmBGVM3iOb7LGWYyCwMhIne/Z4/JMoAgsuWXzJmazqXVJjPYPC95nn0Lm6bNxvToH1HDLjvGU7CJTAbgf33nX/ESiB3X8ftgdFoAgUgZ1BwETZ+ZkMCYyS5SgLE2hHfpjwR8mSAZUiy7aRdViYpUmkYzaEijo6RfIeoZeOuYkh2/fee+/MWaAyuB5rOQYCa1HDuBBKTol3pA4TTTCSVipmwnB3aVED0c45ssY0NZbdcsstJ2e/WpBJhMGmox6O9dk5rd8lsKeh0veKwPkIlMCej1E/UQSKQBEoAtdBwESfakXFpGCa6Mt8SomlvArLRQqELLJLly5NZBB5lbiJ6posv9e5zVr+pO2UV0a5evLJJydDWKIKq++///7Z5z//+Slza87dXEuDdvyix0BgRxfor8WM559/flqUSRSBmhL7yU9+cgrJtTgTQrjpKALtzb5tNfIqdJghSAiqNt12220n2b6773X08vZel8BuD/veeb8RKIHdb/+19UWgCBSBrSOQcEtqlZDhKLAIof2E1FcKlYQxLKqV10IZkdfYpjuDeP/iF7+YTMgl9ZUKi7QIbY4hsPY9OnoEWTnWcmwEFsGwKEPVFBKfxQ41BRaBtZfb3mjKPNt0OLF93NqTfa/aKgmVZ1FUQ7J9I62eN+qr9rZsH4ES2O37oC3YTwRKYPfTb211ESgCRWBnEJDcBvkTLmzS7OgOhhjmSBoTZoqrMFzZhoViUmOFNSrbyuwrjgqV+wAACuFJREFUdNg+R1lmJexJwhsk3BE/2qcWOpyw5xLYw81CPP9QUTQtxBgjLPtJ1Yhg9sQaz1HshcNvsohuMH7HNgrfZ8grgs0Q2LSx+1436aGz71UCezY2/UsRuB4CJbDXQ6d/KwJFoAgUgVMRQExNnJmJcpIfUan8X40cUoBM6GU7DQGUuCkJZLYdjpuMswg4UvLSSy9NRsEa9zsi31RYVgL7WwIrTNViBX8nw62avxMybgykCGWlUCbcVnir19sIu02brlcb51FdRRoY50lMpo9ILLPQEbV+0/thPYNIduzHP/7xSRInbbRg5JkzniUkY5tWia+H8aH+zdgZjzTyOr+b6bMIEFstYvntVPOZBT/muLEs+vFfSxE4dgRKYI99BLT/RaAIFIElERCySDlgJmAIzMsvvzwZIphzM5GTKD4mYDIPM6HDmUhverI/31Vhl5k0ImGIK/NeCJiJIwJLhTWZLIH99YQb4U+yIHjZY2l/s9qRQxJgWahAUFP4O+9bvBByC89tj4O0b75GDjPWhcJTOUMU9SOkVT/1g22aHObsWmM54fyiH4T0ayPllWmjxQTWxE3znl79/40X/khot8Uy5jczhcKfo7vUGVvGmYUgvzsSyJXABrHWReDXCJTAdiQUgSJQBIrAUgiYMGdSppawSZIb4bcmYZRXk34T5ihU9gsmlBHJGRW4pW6+4g+b5CPgiBjimhBRRJx6FbvnnntOQqCbhfi3BDZqJNxCTNUIadT3hIcbNyFUcLVAMBLAFbt2JZfT5lFJM7YREyayQD/TV8SVbVpN1sYcBaVGkGJ8kL25Xmsb8hqfrASkXuRUBPwW2l7BEFIJ7SzuIbEpxhZfZZEkv6tUf/urkVeLfh/60IeqwAa01kXgTQRKYDsMikARKAJFYGEETJapUlFZ1RIeXb16dTITe5NkhqAIgxPCaK+gSRjLvteFb7riD+pDzKQSAWeIrMmmEEz9oiRGvTKJpIYgssdMYMeQa3uGKa/MawSJIXEhSKnhrdgLbVGDomQhIyp3kwqteJD3cltHAGlNaLDfFOqq3xfkNM/D2EjvUWSzGCFShQqLyPodyn78hhCPqPX1sSJQAnusnm+/i0ARKAJLIoC4mmTZy0VxQ1zUVLiE3vqMBDEMWXVMDqPAUtuEFFNmt1moHpkomlRSjinI9nNSZIVfmmQmHBaRRWCpIeyYCSy1iLIEI+Rf8iDmvexnpa6HuM77GXbGgcRYxgJFlh0zpvMY9f+HgQA1Naqr3xUmpJiKnzJPZLNn1m+UrQtZQBOS73dT2L1FopYicOwIlMAe+who/4tAESgCCyBgooWchvxJdpTjcoTbUhiYsErEhKKGtFIss4eLciDc0me2WSgcCQWVOfnKlSvT0TkIbMKffSaKMSKLhCOx7JgzuJpgJ9wxGFLdvY7yjryeRWCps8YBDDMW1N5vKQKHhIDFHs9FflMSKuwZOqv4jY1Z1LGnWp1nBXnt/uWz0Ov7x4RACewxebt9LQJFoAjcIAIJbzP5MiEL6VNTFrJ3i1JANaBaChtGYJn3tl2idiBg2ssoyE8//fR0/isCa/Loc8gYAivUlQmDjpp8zAR22z7s/YtAESgCRaAIlMB2DBSBIlAEisC5CCCuyWw67hu1dxShTUiu5Dz2bn30ox+dfeQjH5nInz2P29jjiIiGtGq/NjLhwQnts3czGZRfe+21k88jsElApbYXLft5S2DPHS79QBEoAkWgCBSBtSFQArs2aHvhIlAEisDhICD8DdlLUpLse1VTLRE+oW1IqzBbaiUVNnsct5F4JARWTXVNOJ/9msKdhT4zYcT6JnFTCG/6oj8MgWWU2G305XBGUntSBIpAESgCReBiCJTAXgy/frsIFIEicBQI2OcoxJbJ1kutDJm1L4sqyRC8y5cvzx544IEpa2b2Q561J3Kd4GUvmVr7E+YsE6j2Cx+WxEliFZbjLbQVgbWHl5Kslgk0VgK7Tq/12kWgCBSBIlAEro9ACez18elfi0ARKAJHi4CETUnYY5+rUFuJm5DY8RgdCXhyJqZ9oznvddvZhqmp2dOqH0k2JBTaERfMa+8zKrMSAou8Jhw6fVKXwB7tI9GOF4EiUASKwA4gUAK7A05oE4pAESgCu4gAQpfjHyiVyTqMwFIrf/nLX041tdLRKYisJE45JkXmzG2WhAOrs/9VjaxqO/Pae7IOJztoCKwkVAisenxdArtNr/beRaAIFIEicOwIlMAe+who/4tAESgCZyCA3OV4HOHCCKzjc4QQU2epm2qELxYyi9DaF7sLJUQ2aqz/p/3eG9/X3hDYqK4hr8gs2zYx3wVM24YiUASKQBEoAttCoAR2W8j3vkWgCBSBHUQghA7Bo77+4Ac/mOzVV1+dff/735/M3lElxNBrpG+fy3xfEPHseVULJ77jN3tiS2D32dNtexEoAkWgCOw7AiWw++7Btr8IFIEisEIEhNEKpxU+/NOf/vTkiJnvfe97U8Ij+0btf1XmSd8Km7HxS833BYFN1mEEFnllMhKXwG7cPb1hESgCRaAIFIETBEpgT6DoiyJQBIpAEUBe7W8VPuyImatXr04mbNh7/uY4GmWe9O0zevN9QWBz7qvMyoir82DVEla1FIEiUASKQBEoAttBoAR2O7j3rkWgCBSBnUQAOZWZV/iwfa/Xrl2bzHmv1FkJj5LsSAcQv30PH04/1OmLPbyIawx5vf322ycrgYVUSxEoAkWgCBSB7SBQArsd3HvXIlAEisBOIuCsVBmHmb2uOffVa/tjk/xoVCzHjoQAju/t8uuz+oHACiGOOR4oVgK7yx5t24pAESgCReDQESiBPXQPt39FoAgUgSUQ+PnPfz577bXXJvKKtErexF5//fVJbUX4YvOX3TfymvbPk1j9mE/idOnSpRm77bbbGkIc4FoXgSJQBIpAEdgCAiWwWwC9tywCRaAI7CoCIbBI7I9+9KOJuCKv3j+mgsBK2sTse7311lsn++AHPzh75zvfeUxQtK9FoAgUgSJQBHYKgRLYnXJHG1MEikAR2C4CkjTJMvyzn/3sZC/sG2+8MSVvmm/ZqFzuq/qaPs33xRm2H/jAB07s5ptvnt10002TCS9uKQJFoAgUgSJQBLaDQAnsdnDvXYtAESgCO4mAJE2/+tWvTixH6nj/mApC/q53vWs6MkdNdWX2v+47WT8mP7avRaAIFIEicHgIlMAenk/boyJQBIpAESgCRaAIFIEiUASKwEEiUAJ7kG5tp4pAESgCRaAIFIEiUASKQBEoAoeHQAns4fm0PSoCRaAIFIEiUASKQBEoAkWgCBwkAiWwB+nWdqoIFIEiUASKQBEoAkWgCBSBInB4CJTAHp5P26MiUASKQBEoAkWgCBSBIlAEisBBIlACe5BubaeKQBEoAkWgCBSBIlAEikARKAKHh0AJ7OH5tD0qAkWgCBSBIlAEikARKAJFoAgcJAIlsAfp1naqCBSBIlAEikARKAJFoAgUgSJweAiUwB6eT9ujIlAEikARKAJFoAgUgSJQBIrAQSJQAnuQbm2nikARKAJFoAgUgSJQBIpAESgCh4dACezh+bQ9KgJFoAgUgSJQBIpAESgCRaAIHCQCJbAH6dZ2qggUgSJQBIpAESgCRaAIFIEicHgIlMAenk/boyJQBIpAESgCRaAIFIEiUASKwEEiUAJ7kG5tp4pAESgCRaAIFIEiUASKQBEoAoeHwP8HVRCxygvcRdIAAAAASUVORK5CYII=)\n",
        "\n",
        "- proba_comedy(likelihood)가 0이 되면서 결과값이 0이 되었으므로, Laplace Smoothing을 사용하여 proba_comedy가 0이 되는 것을 방지하도록 최소한의 확률을 정해주어야함\n",
        "- 확률이 0인 경우를 제외하고 실제보다 한번씩 더 관찰되었다고 가정함\n"
      ],
      "metadata": {
        "id": "3Ynm3yOap_mq"
      }
    },
    {
      "cell_type": "markdown",
      "source": [
        "![스크린샷 2022-08-09 오후 10.04.04.png](data:image/png;base64,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)\n",
        "- 분자에 1을 더하고 분모에 입력 변수들의 개수 v를 더하는 꼴을 만들어주어야함\n",
        "- 따라서, **입력변수 개수를 저장하는 변수 v를 찾아야함**"
      ],
      "metadata": {
        "id": "P1a5MuW8tE7i"
      }
    },
    {
      "cell_type": "code",
      "source": [
        "frequency_matrix"
      ],
      "metadata": {
        "colab": {
          "base_uri": "https://localhost:8080/",
          "height": 206
        },
        "id": "WtEg1KJTtpnd",
        "outputId": "863e96b0-4819-44e2-99cd-34974f2d5bbe"
      },
      "execution_count": 30,
      "outputs": [
        {
          "output_type": "execute_result",
          "data": {
            "text/plain": [
              "   couple  fast  fly  fun  furious  love  shoot  count\n",
              "0       1     0    0    1        0     2      0      4\n",
              "1       0     1    0    0        1     0      1      3\n",
              "2       1     1    1    2        0     0      0      5\n",
              "3       0     0    0    1        1     0      2      4\n",
              "4       0     1    1    0        0     1      1      4"
            ],
            "text/html": [
              "\n",
              "  <div id=\"df-699a7d43-bcdf-4c8f-83e2-9f0165be044f\">\n",
              "    <div class=\"colab-df-container\">\n",
              "      <div>\n",
              "<style scoped>\n",
              "    .dataframe tbody tr th:only-of-type {\n",
              "        vertical-align: middle;\n",
              "    }\n",
              "\n",
              "    .dataframe tbody tr th {\n",
              "        vertical-align: top;\n",
              "    }\n",
              "\n",
              "    .dataframe thead th {\n",
              "        text-align: right;\n",
              "    }\n",
              "</style>\n",
              "<table border=\"1\" class=\"dataframe\">\n",
              "  <thead>\n",
              "    <tr style=\"text-align: right;\">\n",
              "      <th></th>\n",
              "      <th>couple</th>\n",
              "      <th>fast</th>\n",
              "      <th>fly</th>\n",
              "      <th>fun</th>\n",
              "      <th>furious</th>\n",
              "      <th>love</th>\n",
              "      <th>shoot</th>\n",
              "      <th>count</th>\n",
              "    </tr>\n",
              "  </thead>\n",
              "  <tbody>\n",
              "    <tr>\n",
              "      <th>0</th>\n",
              "      <td>1</td>\n",
              "      <td>0</td>\n",
              "      <td>0</td>\n",
              "      <td>1</td>\n",
              "      <td>0</td>\n",
              "      <td>2</td>\n",
              "      <td>0</td>\n",
              "      <td>4</td>\n",
              "    </tr>\n",
              "    <tr>\n",
              "      <th>1</th>\n",
              "      <td>0</td>\n",
              "      <td>1</td>\n",
              "      <td>0</td>\n",
              "      <td>0</td>\n",
              "      <td>1</td>\n",
              "      <td>0</td>\n",
              "      <td>1</td>\n",
              "      <td>3</td>\n",
              "    </tr>\n",
              "    <tr>\n",
              "      <th>2</th>\n",
              "      <td>1</td>\n",
              "      <td>1</td>\n",
              "      <td>1</td>\n",
              "      <td>2</td>\n",
              "      <td>0</td>\n",
              "      <td>0</td>\n",
              "      <td>0</td>\n",
              "      <td>5</td>\n",
              "    </tr>\n",
              "    <tr>\n",
              "      <th>3</th>\n",
              "      <td>0</td>\n",
              "      <td>0</td>\n",
              "      <td>0</td>\n",
              "      <td>1</td>\n",
              "      <td>1</td>\n",
              "      <td>0</td>\n",
              "      <td>2</td>\n",
              "      <td>4</td>\n",
              "    </tr>\n",
              "    <tr>\n",
              "      <th>4</th>\n",
              "      <td>0</td>\n",
              "      <td>1</td>\n",
              "      <td>1</td>\n",
              "      <td>0</td>\n",
              "      <td>0</td>\n",
              "      <td>1</td>\n",
              "      <td>1</td>\n",
              "      <td>4</td>\n",
              "    </tr>\n",
              "  </tbody>\n",
              "</table>\n",
              "</div>\n",
              "      <button class=\"colab-df-convert\" onclick=\"convertToInteractive('df-699a7d43-bcdf-4c8f-83e2-9f0165be044f')\"\n",
              "              title=\"Convert this dataframe to an interactive table.\"\n",
              "              style=\"display:none;\">\n",
              "        \n",
              "  <svg xmlns=\"http://www.w3.org/2000/svg\" height=\"24px\"viewBox=\"0 0 24 24\"\n",
              "       width=\"24px\">\n",
              "    <path d=\"M0 0h24v24H0V0z\" fill=\"none\"/>\n",
              "    <path d=\"M18.56 5.44l.94 2.06.94-2.06 2.06-.94-2.06-.94-.94-2.06-.94 2.06-2.06.94zm-11 1L8.5 8.5l.94-2.06 2.06-.94-2.06-.94L8.5 2.5l-.94 2.06-2.06.94zm10 10l.94 2.06.94-2.06 2.06-.94-2.06-.94-.94-2.06-.94 2.06-2.06.94z\"/><path d=\"M17.41 7.96l-1.37-1.37c-.4-.4-.92-.59-1.43-.59-.52 0-1.04.2-1.43.59L10.3 9.45l-7.72 7.72c-.78.78-.78 2.05 0 2.83L4 21.41c.39.39.9.59 1.41.59.51 0 1.02-.2 1.41-.59l7.78-7.78 2.81-2.81c.8-.78.8-2.07 0-2.86zM5.41 20L4 18.59l7.72-7.72 1.47 1.35L5.41 20z\"/>\n",
              "  </svg>\n",
              "      </button>\n",
              "      \n",
              "  <style>\n",
              "    .colab-df-container {\n",
              "      display:flex;\n",
              "      flex-wrap:wrap;\n",
              "      gap: 12px;\n",
              "    }\n",
              "\n",
              "    .colab-df-convert {\n",
              "      background-color: #E8F0FE;\n",
              "      border: none;\n",
              "      border-radius: 50%;\n",
              "      cursor: pointer;\n",
              "      display: none;\n",
              "      fill: #1967D2;\n",
              "      height: 32px;\n",
              "      padding: 0 0 0 0;\n",
              "      width: 32px;\n",
              "    }\n",
              "\n",
              "    .colab-df-convert:hover {\n",
              "      background-color: #E2EBFA;\n",
              "      box-shadow: 0px 1px 2px rgba(60, 64, 67, 0.3), 0px 1px 3px 1px rgba(60, 64, 67, 0.15);\n",
              "      fill: #174EA6;\n",
              "    }\n",
              "\n",
              "    [theme=dark] .colab-df-convert {\n",
              "      background-color: #3B4455;\n",
              "      fill: #D2E3FC;\n",
              "    }\n",
              "\n",
              "    [theme=dark] .colab-df-convert:hover {\n",
              "      background-color: #434B5C;\n",
              "      box-shadow: 0px 1px 3px 1px rgba(0, 0, 0, 0.15);\n",
              "      filter: drop-shadow(0px 1px 2px rgba(0, 0, 0, 0.3));\n",
              "      fill: #FFFFFF;\n",
              "    }\n",
              "  </style>\n",
              "\n",
              "      <script>\n",
              "        const buttonEl =\n",
              "          document.querySelector('#df-699a7d43-bcdf-4c8f-83e2-9f0165be044f button.colab-df-convert');\n",
              "        buttonEl.style.display =\n",
              "          google.colab.kernel.accessAllowed ? 'block' : 'none';\n",
              "\n",
              "        async function convertToInteractive(key) {\n",
              "          const element = document.querySelector('#df-699a7d43-bcdf-4c8f-83e2-9f0165be044f');\n",
              "          const dataTable =\n",
              "            await google.colab.kernel.invokeFunction('convertToInteractive',\n",
              "                                                     [key], {});\n",
              "          if (!dataTable) return;\n",
              "\n",
              "          const docLinkHtml = 'Like what you see? Visit the ' +\n",
              "            '<a target=\"_blank\" href=https://colab.research.google.com/notebooks/data_table.ipynb>data table notebook</a>'\n",
              "            + ' to learn more about interactive tables.';\n",
              "          element.innerHTML = '';\n",
              "          dataTable['output_type'] = 'display_data';\n",
              "          await google.colab.output.renderOutput(dataTable, element);\n",
              "          const docLink = document.createElement('div');\n",
              "          docLink.innerHTML = docLinkHtml;\n",
              "          element.appendChild(docLink);\n",
              "        }\n",
              "      </script>\n",
              "    </div>\n",
              "  </div>\n",
              "  "
            ]
          },
          "metadata": {},
          "execution_count": 30
        }
      ]
    },
    {
      "cell_type": "markdown",
      "source": [
        "**Output**\n",
        "\n",
        "`count`를 제외한 입력변수가 총 7개이므로, v=7이다."
      ],
      "metadata": {
        "id": "XNfUD82DuAfZ"
      }
    },
    {
      "cell_type": "markdown",
      "source": [
        "**Laplace Smoothing으로 계산한 Comedy 조건부 확률값**\n",
        "\n",
        ": 분자와 분모에 각각 라플라스 스무딩 기법을 적용했다.\n",
        "\n",
        "- `분자` : 기존 분자에 1을 더한 값\n",
        "- `분모` : 기존 분모에 입력 변수들의 개수 v인 7을 더한 값"
      ],
      "metadata": {
        "id": "jIWBPCtpuiOa"
      }
    },
    {
      "cell_type": "code",
      "execution_count": 33,
      "metadata": {
        "id": "sFzcgAqaeU1L"
      },
      "outputs": [],
      "source": [
        "# P(fast=1|comedy=1)\n",
        "p_comedy_fast_L =  (sum(doc[(doc[:, 0] == 1) & (doc[:, 2] >= 1)][:, 2]) + 1) / (sum(doc[doc[:, 0] == 1][:, -1]) + 7)\n",
        "\n",
        "# P(fly=1|comedy=1)\n",
        "p_comedy_fly_L =(sum(doc[(doc[:, 0] == 1) & (doc[:, 3] >= 1)][:, 3]) + 1) / (sum(doc[doc[:, 0] == 1][:, -1]) + 7)\n",
        "\n",
        "# P(shoot=1|comedy=1)\n",
        "p_comedy_shoot_L = (sum(doc[(doc[:, 0] == 1) & (doc[:, 7] >= 1)][:, 7]) + 1) / (sum(doc[doc[:, 0] == 1][:, -1]) + 7)"
      ]
    },
    {
      "cell_type": "code",
      "execution_count": 34,
      "metadata": {
        "colab": {
          "base_uri": "https://localhost:8080/"
        },
        "id": "mOtYggdejZpn",
        "outputId": "9be9ee4e-f376-44a7-cafb-6533ba47df57"
      },
      "outputs": [
        {
          "output_type": "stream",
          "name": "stdout",
          "text": [
            "p_comedy_fast_L :  0.125\n",
            "p_comedy_fly_L :  0.125\n",
            "p_comedy_shoot_L :  0.0625\n"
          ]
        }
      ],
      "source": [
        "print('p_comedy_fast_L : ' , p_comedy_fast_L)\n",
        "print('p_comedy_fly_L : ' , p_comedy_fly_L)\n",
        "print('p_comedy_shoot_L : ' , p_comedy_shoot_L)"
      ]
    },
    {
      "cell_type": "code",
      "source": [
        "# visualize p-value\n",
        "x = np.arange(3)\n",
        "words = ['fast', 'fly', 'shoot']\n",
        "values = [p_comedy_fast_L, p_comedy_fly_L, p_comedy_shoot_L]\n",
        "\n",
        "plt.bar(x, values)\n",
        "plt.xticks(x, words)\n",
        "plt.ylim([0, 1])\n",
        "plt.title('Main words in Comedy with Laplace Smoothing')\n",
        "\n",
        "plt.show()"
      ],
      "metadata": {
        "colab": {
          "base_uri": "https://localhost:8080/",
          "height": 281
        },
        "id": "CGy6qjAfv3xm",
        "outputId": "9ef8abc4-0a03-44f7-86a4-c9378dafc9b0"
      },
      "execution_count": 37,
      "outputs": [
        {
          "output_type": "display_data",
          "data": {
            "text/plain": [
              "<Figure size 432x288 with 1 Axes>"
            ],
            "image/png": "[encoded data removed]"
          },
          "metadata": {
            "needs_background": "light"
          }
        }
      ]
    },
    {
      "cell_type": "markdown",
      "source": [
        "**Output**\n",
        "\n",
        "라플라스 스무딩 적용 전과 달리 적용 후 더이상 `p_comedy_shoot_L`이 0이 아님을 확인할 수 있다. "
      ],
      "metadata": {
        "id": "i47vJIOzvY81"
      }
    },
    {
      "cell_type": "markdown",
      "source": [
        "**Laplace Smoothing으로 계산한 Action 조건부 확률값**\n",
        "\n",
        ": 분자와 분모에 각각 라플라스 스무딩 기법을 적용했다.\n",
        "\n",
        "- `분자` : 기존 분자에 1을 더한 값\n",
        "- `분모` : 기존 분모에 입력 변수들의 개수 v인 7을 더한 값"
      ],
      "metadata": {
        "id": "Na58Ywf1vTRR"
      }
    },
    {
      "cell_type": "code",
      "execution_count": 35,
      "metadata": {
        "id": "Lr9NlGXZeU1M"
      },
      "outputs": [],
      "source": [
        "# P(fast=1|action=1)\n",
        "p_action_fast_L = (sum(doc[(doc[:, 0] == 0) & (doc[:, 2] >= 1)][:, 2]) + 1) / (sum(doc[doc[:, 0] == 0][:, -1]) + 7)\n",
        "\n",
        "# P(fly=1|action=1)\n",
        "p_action_fly_L = (sum(doc[(doc[:, 0] == 0) & (doc[:, 3] >= 1)][:, 3]) + 1) / (sum(doc[doc[:, 0] == 0][:, -1]) + 7)\n",
        "# P(shoot=1|action=1)\n",
        "p_action_shoot_L =(sum(doc[(doc[:, 0] == 0) & (doc[:, 7] >= 1)][:, 7]) + 1) / (sum(doc[doc[:, 0] == 0][:, -1]) + 7)"
      ]
    },
    {
      "cell_type": "code",
      "execution_count": 36,
      "metadata": {
        "colab": {
          "base_uri": "https://localhost:8080/"
        },
        "id": "AC42Xd84UTuu",
        "outputId": "3462a936-b1b2-4cfd-d250-46ab9a49be76"
      },
      "outputs": [
        {
          "output_type": "stream",
          "name": "stdout",
          "text": [
            "p_action_fast_L :  0.16666666666666666\n",
            "p_action_fly_L :  0.1111111111111111\n",
            "p_action_shoot_L :  0.2777777777777778\n"
          ]
        }
      ],
      "source": [
        "print('p_action_fast_L : ' , p_action_fast_L)\n",
        "print('p_action_fly_L : ' , p_action_fly_L)\n",
        "print('p_action_shoot_L : ' , p_action_shoot_L)"
      ]
    },
    {
      "cell_type": "code",
      "source": [
        "# visualize p-value\n",
        "x = np.arange(3)\n",
        "words = ['fast', 'fly', 'shoot']\n",
        "values = [p_action_fast_L, p_action_fly_L, p_action_shoot_L]\n",
        "\n",
        "plt.bar(x, values)\n",
        "plt.xticks(x, words)\n",
        "plt.ylim([0, 1])\n",
        "plt.title('Main words in Action with Laplace Smoothing')\n",
        "\n",
        "plt.show()"
      ],
      "metadata": {
        "colab": {
          "base_uri": "https://localhost:8080/",
          "height": 281
        },
        "id": "CGXxksp_wCEL",
        "outputId": "05aa6b11-ee77-4037-b6b2-1fc3cd52bf27"
      },
      "execution_count": 38,
      "outputs": [
        {
          "output_type": "display_data",
          "data": {
            "text/plain": [
              "<Figure size 432x288 with 1 Axes>"
            ],
            "image/png": "[encoded data removed]"
          },
          "metadata": {
            "needs_background": "light"
          }
        }
      ]
    },
    {
      "cell_type": "markdown",
      "source": [
        "**Output**\n",
        "\n",
        "Action 문서 관련 likelihood값에는 0이 존재하지 않았으므로, 라플라스 스무딩 적용 후 값만 달라졌을 뿐 각 단어에 대한 전체적인 분포는 같다."
      ],
      "metadata": {
        "id": "1iVXTNWDwK3M"
      }
    },
    {
      "cell_type": "markdown",
      "source": [
        "**Laplace Smoothing 적용된 P(Y = comedy| X = fast, fly, shoot) , P(Y = action=1| X = fast, fly, shoot) 값**"
      ],
      "metadata": {
        "id": "bg9kXlGQwjsP"
      }
    },
    {
      "cell_type": "code",
      "execution_count": 39,
      "metadata": {
        "id": "WAPDSwdLeU1M"
      },
      "outputs": [],
      "source": [
        "#P(Y = comedy| X = fast, fly, shoot)\n",
        "proba_comedy_L =  p_comedy_fast_L*p_comedy_fly_L*p_comedy_shoot_L*p_comedy\n",
        "\n",
        "#P(Y = action=1| X = fast, fly, shoot)\n",
        "proba_action_L = p_action_fast_L*p_action_fly_L*p_action_shoot_L*p_action\n"
      ]
    },
    {
      "cell_type": "code",
      "execution_count": 40,
      "metadata": {
        "id": "JHKm06PreU1M",
        "outputId": "247e5394-34aa-4ace-b01b-79f5f6fb9de9",
        "colab": {
          "base_uri": "https://localhost:8080/"
        }
      },
      "outputs": [
        {
          "output_type": "stream",
          "name": "stdout",
          "text": [
            "proba_comedy_L :  0.000390625\n",
            "proba_action_L :  0.0030864197530864196\n"
          ]
        }
      ],
      "source": [
        "print('proba_comedy_L : ', proba_comedy_L)\n",
        "print('proba_action_L : ', proba_action_L)"
      ]
    },
    {
      "cell_type": "code",
      "source": [
        "# visualize p-value\n",
        "x = np.arange(2)\n",
        "words = ['Comdey', 'Action']\n",
        "values = [proba_comedy_L, proba_action_L]\n",
        "\n",
        "plt.bar(x, values)\n",
        "plt.xticks(x, words)\n",
        "plt.ylim([0, 0.005])\n",
        "plt.title('Probability with Laplace Smoothing')\n",
        "\n",
        "plt.show()"
      ],
      "metadata": {
        "colab": {
          "base_uri": "https://localhost:8080/",
          "height": 281
        },
        "id": "_peJ1wYpwxOy",
        "outputId": "2c1ec0ee-2e3c-4cac-d839-f05db412c457"
      },
      "execution_count": 42,
      "outputs": [
        {
          "output_type": "display_data",
          "data": {
            "text/plain": [
              "<Figure size 432x288 with 1 Axes>"
            ],
            "image/png": "[encoded data removed]"
          },
          "metadata": {
            "needs_background": "light"
          }
        }
      ]
    },
    {
      "cell_type": "markdown",
      "metadata": {
        "id": "kfXDcNaYeU1M"
      },
      "source": [
        "**Output**\n",
        "### => 두개의 값을 비교하면 action 장르일 때 fast, fly, shoot 단어가 더 자주 나온다고 할 수 있다."
      ]
    },
    {
      "cell_type": "markdown",
      "metadata": {
        "id": "gTI4CrEdeU1M"
      },
      "source": [
        "## 2. sklearn을 활용한 Naive Bayes Model\n",
        "- 먼저 수업 시간에 활용했던 날씨와 온도 데이터를 활용해보겠습니다."
      ]
    },
    {
      "cell_type": "code",
      "execution_count": 44,
      "metadata": {
        "id": "WZL9KObeeU1N"
      },
      "outputs": [],
      "source": [
        "weather=['Sunny','Sunny','Overcast','Rainy','Rainy','Rainy','Overcast','Sunny','Sunny',\n",
        "'Rainy','Sunny','Overcast','Overcast','Rainy']\n",
        "temp=['Hot','Hot','Hot','Mild','Cool','Cool','Cool','Mild','Cool','Mild','Mild','Mild','Hot','Mild']\n",
        "\n",
        "play=['No','No','Yes','Yes','Yes','No','Yes','No','Yes','Yes','Yes','Yes','Yes','No']"
      ]
    },
    {
      "cell_type": "code",
      "execution_count": 45,
      "metadata": {
        "id": "rMm1n_U0eU1N",
        "outputId": "6ed4bbdc-e291-454c-fcfd-5632d0d18e19",
        "colab": {
          "base_uri": "https://localhost:8080/",
          "height": 488
        }
      },
      "outputs": [
        {
          "output_type": "execute_result",
          "data": {
            "text/plain": [
              "     weather temperature play\n",
              "0      Sunny         Hot   No\n",
              "1      Sunny         Hot   No\n",
              "2   Overcast         Hot  Yes\n",
              "3      Rainy        Mild  Yes\n",
              "4      Rainy        Cool  Yes\n",
              "5      Rainy        Cool   No\n",
              "6   Overcast        Cool  Yes\n",
              "7      Sunny        Mild   No\n",
              "8      Sunny        Cool  Yes\n",
              "9      Rainy        Mild  Yes\n",
              "10     Sunny        Mild  Yes\n",
              "11  Overcast        Mild  Yes\n",
              "12  Overcast         Hot  Yes\n",
              "13     Rainy        Mild   No"
            ],
            "text/html": [
              "\n",
              "  <div id=\"df-53e13362-92fd-457e-8e70-1f16873ea46b\">\n",
              "    <div class=\"colab-df-container\">\n",
              "      <div>\n",
              "<style scoped>\n",
              "    .dataframe tbody tr th:only-of-type {\n",
              "        vertical-align: middle;\n",
              "    }\n",
              "\n",
              "    .dataframe tbody tr th {\n",
              "        vertical-align: top;\n",
              "    }\n",
              "\n",
              "    .dataframe thead th {\n",
              "        text-align: right;\n",
              "    }\n",
              "</style>\n",
              "<table border=\"1\" class=\"dataframe\">\n",
              "  <thead>\n",
              "    <tr style=\"text-align: right;\">\n",
              "      <th></th>\n",
              "      <th>weather</th>\n",
              "      <th>temperature</th>\n",
              "      <th>play</th>\n",
              "    </tr>\n",
              "  </thead>\n",
              "  <tbody>\n",
              "    <tr>\n",
              "      <th>0</th>\n",
              "      <td>Sunny</td>\n",
              "      <td>Hot</td>\n",
              "      <td>No</td>\n",
              "    </tr>\n",
              "    <tr>\n",
              "      <th>1</th>\n",
              "      <td>Sunny</td>\n",
              "      <td>Hot</td>\n",
              "      <td>No</td>\n",
              "    </tr>\n",
              "    <tr>\n",
              "      <th>2</th>\n",
              "      <td>Overcast</td>\n",
              "      <td>Hot</td>\n",
              "      <td>Yes</td>\n",
              "    </tr>\n",
              "    <tr>\n",
              "      <th>3</th>\n",
              "      <td>Rainy</td>\n",
              "      <td>Mild</td>\n",
              "      <td>Yes</td>\n",
              "    </tr>\n",
              "    <tr>\n",
              "      <th>4</th>\n",
              "      <td>Rainy</td>\n",
              "      <td>Cool</td>\n",
              "      <td>Yes</td>\n",
              "    </tr>\n",
              "    <tr>\n",
              "      <th>5</th>\n",
              "      <td>Rainy</td>\n",
              "      <td>Cool</td>\n",
              "      <td>No</td>\n",
              "    </tr>\n",
              "    <tr>\n",
              "      <th>6</th>\n",
              "      <td>Overcast</td>\n",
              "      <td>Cool</td>\n",
              "      <td>Yes</td>\n",
              "    </tr>\n",
              "    <tr>\n",
              "      <th>7</th>\n",
              "      <td>Sunny</td>\n",
              "      <td>Mild</td>\n",
              "      <td>No</td>\n",
              "    </tr>\n",
              "    <tr>\n",
              "      <th>8</th>\n",
              "      <td>Sunny</td>\n",
              "      <td>Cool</td>\n",
              "      <td>Yes</td>\n",
              "    </tr>\n",
              "    <tr>\n",
              "      <th>9</th>\n",
              "      <td>Rainy</td>\n",
              "      <td>Mild</td>\n",
              "      <td>Yes</td>\n",
              "    </tr>\n",
              "    <tr>\n",
              "      <th>10</th>\n",
              "      <td>Sunny</td>\n",
              "      <td>Mild</td>\n",
              "      <td>Yes</td>\n",
              "    </tr>\n",
              "    <tr>\n",
              "      <th>11</th>\n",
              "      <td>Overcast</td>\n",
              "      <td>Mild</td>\n",
              "      <td>Yes</td>\n",
              "    </tr>\n",
              "    <tr>\n",
              "      <th>12</th>\n",
              "      <td>Overcast</td>\n",
              "      <td>Hot</td>\n",
              "      <td>Yes</td>\n",
              "    </tr>\n",
              "    <tr>\n",
              "      <th>13</th>\n",
              "      <td>Rainy</td>\n",
              "      <td>Mild</td>\n",
              "      <td>No</td>\n",
              "    </tr>\n",
              "  </tbody>\n",
              "</table>\n",
              "</div>\n",
              "      <button class=\"colab-df-convert\" onclick=\"convertToInteractive('df-53e13362-92fd-457e-8e70-1f16873ea46b')\"\n",
              "              title=\"Convert this dataframe to an interactive table.\"\n",
              "              style=\"display:none;\">\n",
              "        \n",
              "  <svg xmlns=\"http://www.w3.org/2000/svg\" height=\"24px\"viewBox=\"0 0 24 24\"\n",
              "       width=\"24px\">\n",
              "    <path d=\"M0 0h24v24H0V0z\" fill=\"none\"/>\n",
              "    <path d=\"M18.56 5.44l.94 2.06.94-2.06 2.06-.94-2.06-.94-.94-2.06-.94 2.06-2.06.94zm-11 1L8.5 8.5l.94-2.06 2.06-.94-2.06-.94L8.5 2.5l-.94 2.06-2.06.94zm10 10l.94 2.06.94-2.06 2.06-.94-2.06-.94-.94-2.06-.94 2.06-2.06.94z\"/><path d=\"M17.41 7.96l-1.37-1.37c-.4-.4-.92-.59-1.43-.59-.52 0-1.04.2-1.43.59L10.3 9.45l-7.72 7.72c-.78.78-.78 2.05 0 2.83L4 21.41c.39.39.9.59 1.41.59.51 0 1.02-.2 1.41-.59l7.78-7.78 2.81-2.81c.8-.78.8-2.07 0-2.86zM5.41 20L4 18.59l7.72-7.72 1.47 1.35L5.41 20z\"/>\n",
              "  </svg>\n",
              "      </button>\n",
              "      \n",
              "  <style>\n",
              "    .colab-df-container {\n",
              "      display:flex;\n",
              "      flex-wrap:wrap;\n",
              "      gap: 12px;\n",
              "    }\n",
              "\n",
              "    .colab-df-convert {\n",
              "      background-color: #E8F0FE;\n",
              "      border: none;\n",
              "      border-radius: 50%;\n",
              "      cursor: pointer;\n",
              "      display: none;\n",
              "      fill: #1967D2;\n",
              "      height: 32px;\n",
              "      padding: 0 0 0 0;\n",
              "      width: 32px;\n",
              "    }\n",
              "\n",
              "    .colab-df-convert:hover {\n",
              "      background-color: #E2EBFA;\n",
              "      box-shadow: 0px 1px 2px rgba(60, 64, 67, 0.3), 0px 1px 3px 1px rgba(60, 64, 67, 0.15);\n",
              "      fill: #174EA6;\n",
              "    }\n",
              "\n",
              "    [theme=dark] .colab-df-convert {\n",
              "      background-color: #3B4455;\n",
              "      fill: #D2E3FC;\n",
              "    }\n",
              "\n",
              "    [theme=dark] .colab-df-convert:hover {\n",
              "      background-color: #434B5C;\n",
              "      box-shadow: 0px 1px 3px 1px rgba(0, 0, 0, 0.15);\n",
              "      filter: drop-shadow(0px 1px 2px rgba(0, 0, 0, 0.3));\n",
              "      fill: #FFFFFF;\n",
              "    }\n",
              "  </style>\n",
              "\n",
              "      <script>\n",
              "        const buttonEl =\n",
              "          document.querySelector('#df-53e13362-92fd-457e-8e70-1f16873ea46b button.colab-df-convert');\n",
              "        buttonEl.style.display =\n",
              "          google.colab.kernel.accessAllowed ? 'block' : 'none';\n",
              "\n",
              "        async function convertToInteractive(key) {\n",
              "          const element = document.querySelector('#df-53e13362-92fd-457e-8e70-1f16873ea46b');\n",
              "          const dataTable =\n",
              "            await google.colab.kernel.invokeFunction('convertToInteractive',\n",
              "                                                     [key], {});\n",
              "          if (!dataTable) return;\n",
              "\n",
              "          const docLinkHtml = 'Like what you see? Visit the ' +\n",
              "            '<a target=\"_blank\" href=https://colab.research.google.com/notebooks/data_table.ipynb>data table notebook</a>'\n",
              "            + ' to learn more about interactive tables.';\n",
              "          element.innerHTML = '';\n",
              "          dataTable['output_type'] = 'display_data';\n",
              "          await google.colab.output.renderOutput(dataTable, element);\n",
              "          const docLink = document.createElement('div');\n",
              "          docLink.innerHTML = docLinkHtml;\n",
              "          element.appendChild(docLink);\n",
              "        }\n",
              "      </script>\n",
              "    </div>\n",
              "  </div>\n",
              "  "
            ]
          },
          "metadata": {},
          "execution_count": 45
        }
      ],
      "source": [
        "df = pd.DataFrame({'weather':weather, 'temperature':temp, 'play':play})\n",
        "df"
      ]
    },
    {
      "cell_type": "markdown",
      "metadata": {
        "id": "k-BatJcfeU1N"
      },
      "source": [
        "### step 1. 문자를 Label Encoding 해줍니다."
      ]
    },
    {
      "cell_type": "code",
      "execution_count": 47,
      "metadata": {
        "colab": {
          "base_uri": "https://localhost:8080/"
        },
        "id": "TPqjxOaejZpn",
        "outputId": "34e92073-9acc-41cf-ad67-390155ef6eaf"
      },
      "outputs": [
        {
          "output_type": "stream",
          "name": "stdout",
          "text": [
            "weather: [2 2 0 1 1 1 0 2 2 1 2 0 0 1]\n",
            "Temp: [1 1 1 2 0 0 0 2 0 2 2 2 1 2]\n",
            "Play: [0 0 1 1 1 0 1 0 1 1 1 1 1 0]\n"
          ]
        }
      ],
      "source": [
        "# import labelencoder module\n",
        "from sklearn.preprocessing import LabelEncoder\n",
        "\n",
        "# label encoder 객체 생성 (labelencoder 정의)\n",
        "le = LabelEncoder() \n",
        "\n",
        "# label encoding을 진행할 단어들 선택\n",
        "cols = ['weather', 'temperature', 'play']\n",
        "\n",
        "# label encoder 객체 학습\n",
        "le.fit(cols)\n",
        "\n",
        "# 범주형 데이터를 수치형 데이터로 변환\n",
        "df[cols] = df[cols].apply(LabelEncoder().fit_transform)\n",
        "\n",
        "df.head()\n",
        "\n",
        "# weather column에 대한 Label Encoding 결과\n",
        "weather_encoded = df['weather'].values\n",
        "# temperature column에 대한 Label Encoding 결과\n",
        "temp_encoded = df['temperature'].values\n",
        "# play column(target)에 대한 Label Encoding 결과\n",
        "label = df['play'].values\n",
        "\n",
        "print(\"weather:\", weather_encoded)\n",
        "print(\"Temp:\",temp_encoded)\n",
        "print(\"Play:\",label)"
      ]
    },
    {
      "cell_type": "code",
      "execution_count": 48,
      "metadata": {
        "id": "WUdP-tbPeU1N",
        "outputId": "d99a058d-3892-4528-d283-ecd0ba47c633",
        "scrolled": true,
        "colab": {
          "base_uri": "https://localhost:8080/"
        }
      },
      "outputs": [
        {
          "output_type": "stream",
          "name": "stdout",
          "text": [
            "[(2, 1), (2, 1), (0, 1), (1, 2), (1, 0), (1, 0), (0, 0), (2, 2), (2, 0), (1, 2), (2, 2), (0, 2), (0, 1), (1, 2)]\n"
          ]
        }
      ],
      "source": [
        "features = list(zip(weather_encoded,temp_encoded))\n",
        "print(features)"
      ]
    },
    {
      "cell_type": "markdown",
      "source": [
        "**주의할 점!**\n",
        "\n",
        "레이블 인코딩의 경우, 학습하지 않은 값을 transform할 경우 에러가 발생한다."
      ],
      "metadata": {
        "id": "X4YWDsYqzs6n"
      }
    },
    {
      "cell_type": "markdown",
      "metadata": {
        "id": "cJJQoAsxeU1O"
      },
      "source": [
        "### step 2. sklearn의 Naive Bayes 모델인 MultinomialNB를 사용하여 예측하겠습니다.\n",
        "- weather = 0(Overcast), temp = 2(Mild)인 경우 play = Yes로 예측됩니다."
      ]
    },
    {
      "cell_type": "code",
      "execution_count": 49,
      "metadata": {
        "id": "-B1tsuGbeU1O",
        "outputId": "8aca9330-f4f9-4fb4-df10-914bdc6a477c",
        "colab": {
          "base_uri": "https://localhost:8080/"
        }
      },
      "outputs": [
        {
          "output_type": "stream",
          "name": "stdout",
          "text": [
            "Predicted Value: [1]\n"
          ]
        }
      ],
      "source": [
        "from sklearn.naive_bayes import MultinomialNB\n",
        "\n",
        "# 라플라스 스무딩(alpha = 1)\n",
        "model = MultinomialNB(alpha=1)\n",
        "\n",
        "# Train the model using the training sets\n",
        "model.fit(features,label)\n",
        "\n",
        "#Predict Output\n",
        "predicted= model.predict([[0,2]]) # 0:Overcast, 2:Mild\n",
        "print(\"Predicted Value:\", predicted) # 1: Yes"
      ]
    },
    {
      "cell_type": "markdown",
      "metadata": {
        "id": "YtPKc79teU1O"
      },
      "source": [
        "### 이제 sklearn의 와인 데이터를 바탕으로 MultinomialNB를 활용하여 예측해주세요!\n",
        "- train과 test 비율은 8:2로 해주세요.\n",
        "- metrics는 accuracy로 진행해주세요."
      ]
    },
    {
      "cell_type": "code",
      "execution_count": 50,
      "metadata": {
        "id": "fqx64IyFeU1O",
        "outputId": "19135ab0-ee2f-42e3-8fc6-47fb69c4f2e3",
        "colab": {
          "base_uri": "https://localhost:8080/"
        }
      },
      "outputs": [
        {
          "output_type": "stream",
          "name": "stdout",
          "text": [
            "Features:  ['alcohol', 'malic_acid', 'ash', 'alcalinity_of_ash', 'magnesium', 'total_phenols', 'flavanoids', 'nonflavanoid_phenols', 'proanthocyanins', 'color_intensity', 'hue', 'od280/od315_of_diluted_wines', 'proline']\n",
            "Labels:  ['class_0' 'class_1' 'class_2']\n"
          ]
        }
      ],
      "source": [
        "from sklearn import datasets\n",
        "\n",
        "# Load dataset\n",
        "wine = datasets.load_wine()\n",
        "\n",
        "# print the names of the 13 features\n",
        "print(\"Features: \", wine.feature_names)\n",
        "\n",
        "# print the label type of wine(class_0, class_1, class_2)\n",
        "print(\"Labels: \", wine.target_names)"
      ]
    },
    {
      "cell_type": "code",
      "execution_count": 51,
      "metadata": {
        "id": "4nmj1j61eU1P",
        "outputId": "3915b775-b3f4-45b1-dd6c-a05a91694f7c",
        "colab": {
          "base_uri": "https://localhost:8080/",
          "height": 488
        }
      },
      "outputs": [
        {
          "output_type": "execute_result",
          "data": {
            "text/plain": [
              "     Labels  alcohol  malic_acid   ash  alcalinity_of_ash  magnesium  \\\n",
              "0         0    14.23        1.71  2.43               15.6      127.0   \n",
              "1         0    13.20        1.78  2.14               11.2      100.0   \n",
              "2         0    13.16        2.36  2.67               18.6      101.0   \n",
              "3         0    14.37        1.95  2.50               16.8      113.0   \n",
              "4         0    13.24        2.59  2.87               21.0      118.0   \n",
              "..      ...      ...         ...   ...                ...        ...   \n",
              "173       2    13.71        5.65  2.45               20.5       95.0   \n",
              "174       2    13.40        3.91  2.48               23.0      102.0   \n",
              "175       2    13.27        4.28  2.26               20.0      120.0   \n",
              "176       2    13.17        2.59  2.37               20.0      120.0   \n",
              "177       2    14.13        4.10  2.74               24.5       96.0   \n",
              "\n",
              "     total_phenols  flavanoids  nonflavanoid_phenols  proanthocyanins  \\\n",
              "0             2.80        3.06                  0.28             2.29   \n",
              "1             2.65        2.76                  0.26             1.28   \n",
              "2             2.80        3.24                  0.30             2.81   \n",
              "3             3.85        3.49                  0.24             2.18   \n",
              "4             2.80        2.69                  0.39             1.82   \n",
              "..             ...         ...                   ...              ...   \n",
              "173           1.68        0.61                  0.52             1.06   \n",
              "174           1.80        0.75                  0.43             1.41   \n",
              "175           1.59        0.69                  0.43             1.35   \n",
              "176           1.65        0.68                  0.53             1.46   \n",
              "177           2.05        0.76                  0.56             1.35   \n",
              "\n",
              "     color_intensity   hue  od280/od315_of_diluted_wines  proline  \n",
              "0               5.64  1.04                          3.92   1065.0  \n",
              "1               4.38  1.05                          3.40   1050.0  \n",
              "2               5.68  1.03                          3.17   1185.0  \n",
              "3               7.80  0.86                          3.45   1480.0  \n",
              "4               4.32  1.04                          2.93    735.0  \n",
              "..               ...   ...                           ...      ...  \n",
              "173             7.70  0.64                          1.74    740.0  \n",
              "174             7.30  0.70                          1.56    750.0  \n",
              "175            10.20  0.59                          1.56    835.0  \n",
              "176             9.30  0.60                          1.62    840.0  \n",
              "177             9.20  0.61                          1.60    560.0  \n",
              "\n",
              "[178 rows x 14 columns]"
            ],
            "text/html": [
              "\n",
              "  <div id=\"df-7e8be34d-cba6-4fd8-afd7-e58fedf55eaa\">\n",
              "    <div class=\"colab-df-container\">\n",
              "      <div>\n",
              "<style scoped>\n",
              "    .dataframe tbody tr th:only-of-type {\n",
              "        vertical-align: middle;\n",
              "    }\n",
              "\n",
              "    .dataframe tbody tr th {\n",
              "        vertical-align: top;\n",
              "    }\n",
              "\n",
              "    .dataframe thead th {\n",
              "        text-align: right;\n",
              "    }\n",
              "</style>\n",
              "<table border=\"1\" class=\"dataframe\">\n",
              "  <thead>\n",
              "    <tr style=\"text-align: right;\">\n",
              "      <th></th>\n",
              "      <th>Labels</th>\n",
              "      <th>alcohol</th>\n",
              "      <th>malic_acid</th>\n",
              "      <th>ash</th>\n",
              "      <th>alcalinity_of_ash</th>\n",
              "      <th>magnesium</th>\n",
              "      <th>total_phenols</th>\n",
              "      <th>flavanoids</th>\n",
              "      <th>nonflavanoid_phenols</th>\n",
              "      <th>proanthocyanins</th>\n",
              "      <th>color_intensity</th>\n",
              "      <th>hue</th>\n",
              "      <th>od280/od315_of_diluted_wines</th>\n",
              "      <th>proline</th>\n",
              "    </tr>\n",
              "  </thead>\n",
              "  <tbody>\n",
              "    <tr>\n",
              "      <th>0</th>\n",
              "      <td>0</td>\n",
              "      <td>14.23</td>\n",
              "      <td>1.71</td>\n",
              "      <td>2.43</td>\n",
              "      <td>15.6</td>\n",
              "      <td>127.0</td>\n",
              "      <td>2.80</td>\n",
              "      <td>3.06</td>\n",
              "      <td>0.28</td>\n",
              "      <td>2.29</td>\n",
              "      <td>5.64</td>\n",
              "      <td>1.04</td>\n",
              "      <td>3.92</td>\n",
              "      <td>1065.0</td>\n",
              "    </tr>\n",
              "    <tr>\n",
              "      <th>1</th>\n",
              "      <td>0</td>\n",
              "      <td>13.20</td>\n",
              "      <td>1.78</td>\n",
              "      <td>2.14</td>\n",
              "      <td>11.2</td>\n",
              "      <td>100.0</td>\n",
              "      <td>2.65</td>\n",
              "      <td>2.76</td>\n",
              "      <td>0.26</td>\n",
              "      <td>1.28</td>\n",
              "      <td>4.38</td>\n",
              "      <td>1.05</td>\n",
              "      <td>3.40</td>\n",
              "      <td>1050.0</td>\n",
              "    </tr>\n",
              "    <tr>\n",
              "      <th>2</th>\n",
              "      <td>0</td>\n",
              "      <td>13.16</td>\n",
              "      <td>2.36</td>\n",
              "      <td>2.67</td>\n",
              "      <td>18.6</td>\n",
              "      <td>101.0</td>\n",
              "      <td>2.80</td>\n",
              "      <td>3.24</td>\n",
              "      <td>0.30</td>\n",
              "      <td>2.81</td>\n",
              "      <td>5.68</td>\n",
              "      <td>1.03</td>\n",
              "      <td>3.17</td>\n",
              "      <td>1185.0</td>\n",
              "    </tr>\n",
              "    <tr>\n",
              "      <th>3</th>\n",
              "      <td>0</td>\n",
              "      <td>14.37</td>\n",
              "      <td>1.95</td>\n",
              "      <td>2.50</td>\n",
              "      <td>16.8</td>\n",
              "      <td>113.0</td>\n",
              "      <td>3.85</td>\n",
              "      <td>3.49</td>\n",
              "      <td>0.24</td>\n",
              "      <td>2.18</td>\n",
              "      <td>7.80</td>\n",
              "      <td>0.86</td>\n",
              "      <td>3.45</td>\n",
              "      <td>1480.0</td>\n",
              "    </tr>\n",
              "    <tr>\n",
              "      <th>4</th>\n",
              "      <td>0</td>\n",
              "      <td>13.24</td>\n",
              "      <td>2.59</td>\n",
              "      <td>2.87</td>\n",
              "      <td>21.0</td>\n",
              "      <td>118.0</td>\n",
              "      <td>2.80</td>\n",
              "      <td>2.69</td>\n",
              "      <td>0.39</td>\n",
              "      <td>1.82</td>\n",
              "      <td>4.32</td>\n",
              "      <td>1.04</td>\n",
              "      <td>2.93</td>\n",
              "      <td>735.0</td>\n",
              "    </tr>\n",
              "    <tr>\n",
              "      <th>...</th>\n",
              "      <td>...</td>\n",
              "      <td>...</td>\n",
              "      <td>...</td>\n",
              "      <td>...</td>\n",
              "      <td>...</td>\n",
              "      <td>...</td>\n",
              "      <td>...</td>\n",
              "      <td>...</td>\n",
              "      <td>...</td>\n",
              "      <td>...</td>\n",
              "      <td>...</td>\n",
              "      <td>...</td>\n",
              "      <td>...</td>\n",
              "      <td>...</td>\n",
              "    </tr>\n",
              "    <tr>\n",
              "      <th>173</th>\n",
              "      <td>2</td>\n",
              "      <td>13.71</td>\n",
              "      <td>5.65</td>\n",
              "      <td>2.45</td>\n",
              "      <td>20.5</td>\n",
              "      <td>95.0</td>\n",
              "      <td>1.68</td>\n",
              "      <td>0.61</td>\n",
              "      <td>0.52</td>\n",
              "      <td>1.06</td>\n",
              "      <td>7.70</td>\n",
              "      <td>0.64</td>\n",
              "      <td>1.74</td>\n",
              "      <td>740.0</td>\n",
              "    </tr>\n",
              "    <tr>\n",
              "      <th>174</th>\n",
              "      <td>2</td>\n",
              "      <td>13.40</td>\n",
              "      <td>3.91</td>\n",
              "      <td>2.48</td>\n",
              "      <td>23.0</td>\n",
              "      <td>102.0</td>\n",
              "      <td>1.80</td>\n",
              "      <td>0.75</td>\n",
              "      <td>0.43</td>\n",
              "      <td>1.41</td>\n",
              "      <td>7.30</td>\n",
              "      <td>0.70</td>\n",
              "      <td>1.56</td>\n",
              "      <td>750.0</td>\n",
              "    </tr>\n",
              "    <tr>\n",
              "      <th>175</th>\n",
              "      <td>2</td>\n",
              "      <td>13.27</td>\n",
              "      <td>4.28</td>\n",
              "      <td>2.26</td>\n",
              "      <td>20.0</td>\n",
              "      <td>120.0</td>\n",
              "      <td>1.59</td>\n",
              "      <td>0.69</td>\n",
              "      <td>0.43</td>\n",
              "      <td>1.35</td>\n",
              "      <td>10.20</td>\n",
              "      <td>0.59</td>\n",
              "      <td>1.56</td>\n",
              "      <td>835.0</td>\n",
              "    </tr>\n",
              "    <tr>\n",
              "      <th>176</th>\n",
              "      <td>2</td>\n",
              "      <td>13.17</td>\n",
              "      <td>2.59</td>\n",
              "      <td>2.37</td>\n",
              "      <td>20.0</td>\n",
              "      <td>120.0</td>\n",
              "      <td>1.65</td>\n",
              "      <td>0.68</td>\n",
              "      <td>0.53</td>\n",
              "      <td>1.46</td>\n",
              "      <td>9.30</td>\n",
              "      <td>0.60</td>\n",
              "      <td>1.62</td>\n",
              "      <td>840.0</td>\n",
              "    </tr>\n",
              "    <tr>\n",
              "      <th>177</th>\n",
              "      <td>2</td>\n",
              "      <td>14.13</td>\n",
              "      <td>4.10</td>\n",
              "      <td>2.74</td>\n",
              "      <td>24.5</td>\n",
              "      <td>96.0</td>\n",
              "      <td>2.05</td>\n",
              "      <td>0.76</td>\n",
              "      <td>0.56</td>\n",
              "      <td>1.35</td>\n",
              "      <td>9.20</td>\n",
              "      <td>0.61</td>\n",
              "      <td>1.60</td>\n",
              "      <td>560.0</td>\n",
              "    </tr>\n",
              "  </tbody>\n",
              "</table>\n",
              "<p>178 rows × 14 columns</p>\n",
              "</div>\n",
              "      <button class=\"colab-df-convert\" onclick=\"convertToInteractive('df-7e8be34d-cba6-4fd8-afd7-e58fedf55eaa')\"\n",
              "              title=\"Convert this dataframe to an interactive table.\"\n",
              "              style=\"display:none;\">\n",
              "        \n",
              "  <svg xmlns=\"http://www.w3.org/2000/svg\" height=\"24px\"viewBox=\"0 0 24 24\"\n",
              "       width=\"24px\">\n",
              "    <path d=\"M0 0h24v24H0V0z\" fill=\"none\"/>\n",
              "    <path d=\"M18.56 5.44l.94 2.06.94-2.06 2.06-.94-2.06-.94-.94-2.06-.94 2.06-2.06.94zm-11 1L8.5 8.5l.94-2.06 2.06-.94-2.06-.94L8.5 2.5l-.94 2.06-2.06.94zm10 10l.94 2.06.94-2.06 2.06-.94-2.06-.94-.94-2.06-.94 2.06-2.06.94z\"/><path d=\"M17.41 7.96l-1.37-1.37c-.4-.4-.92-.59-1.43-.59-.52 0-1.04.2-1.43.59L10.3 9.45l-7.72 7.72c-.78.78-.78 2.05 0 2.83L4 21.41c.39.39.9.59 1.41.59.51 0 1.02-.2 1.41-.59l7.78-7.78 2.81-2.81c.8-.78.8-2.07 0-2.86zM5.41 20L4 18.59l7.72-7.72 1.47 1.35L5.41 20z\"/>\n",
              "  </svg>\n",
              "      </button>\n",
              "      \n",
              "  <style>\n",
              "    .colab-df-container {\n",
              "      display:flex;\n",
              "      flex-wrap:wrap;\n",
              "      gap: 12px;\n",
              "    }\n",
              "\n",
              "    .colab-df-convert {\n",
              "      background-color: #E8F0FE;\n",
              "      border: none;\n",
              "      border-radius: 50%;\n",
              "      cursor: pointer;\n",
              "      display: none;\n",
              "      fill: #1967D2;\n",
              "      height: 32px;\n",
              "      padding: 0 0 0 0;\n",
              "      width: 32px;\n",
              "    }\n",
              "\n",
              "    .colab-df-convert:hover {\n",
              "      background-color: #E2EBFA;\n",
              "      box-shadow: 0px 1px 2px rgba(60, 64, 67, 0.3), 0px 1px 3px 1px rgba(60, 64, 67, 0.15);\n",
              "      fill: #174EA6;\n",
              "    }\n",
              "\n",
              "    [theme=dark] .colab-df-convert {\n",
              "      background-color: #3B4455;\n",
              "      fill: #D2E3FC;\n",
              "    }\n",
              "\n",
              "    [theme=dark] .colab-df-convert:hover {\n",
              "      background-color: #434B5C;\n",
              "      box-shadow: 0px 1px 3px 1px rgba(0, 0, 0, 0.15);\n",
              "      filter: drop-shadow(0px 1px 2px rgba(0, 0, 0, 0.3));\n",
              "      fill: #FFFFFF;\n",
              "    }\n",
              "  </style>\n",
              "\n",
              "      <script>\n",
              "        const buttonEl =\n",
              "          document.querySelector('#df-7e8be34d-cba6-4fd8-afd7-e58fedf55eaa button.colab-df-convert');\n",
              "        buttonEl.style.display =\n",
              "          google.colab.kernel.accessAllowed ? 'block' : 'none';\n",
              "\n",
              "        async function convertToInteractive(key) {\n",
              "          const element = document.querySelector('#df-7e8be34d-cba6-4fd8-afd7-e58fedf55eaa');\n",
              "          const dataTable =\n",
              "            await google.colab.kernel.invokeFunction('convertToInteractive',\n",
              "                                                     [key], {});\n",
              "          if (!dataTable) return;\n",
              "\n",
              "          const docLinkHtml = 'Like what you see? Visit the ' +\n",
              "            '<a target=\"_blank\" href=https://colab.research.google.com/notebooks/data_table.ipynb>data table notebook</a>'\n",
              "            + ' to learn more about interactive tables.';\n",
              "          element.innerHTML = '';\n",
              "          dataTable['output_type'] = 'display_data';\n",
              "          await google.colab.output.renderOutput(dataTable, element);\n",
              "          const docLink = document.createElement('div');\n",
              "          docLink.innerHTML = docLinkHtml;\n",
              "          element.appendChild(docLink);\n",
              "        }\n",
              "      </script>\n",
              "    </div>\n",
              "  </div>\n",
              "  "
            ]
          },
          "metadata": {},
          "execution_count": 51
        }
      ],
      "source": [
        "data=pd.concat([pd.DataFrame({'Labels':wine.target}),pd.DataFrame(wine.data, columns = wine.feature_names)], axis=1)\n",
        "data"
      ]
    },
    {
      "cell_type": "code",
      "execution_count": 52,
      "metadata": {
        "id": "sL9GoKiDeU1P"
      },
      "outputs": [],
      "source": [
        "# split datasets\n",
        "from sklearn.model_selection import train_test_split\n",
        "\n",
        "X = data.drop(['Labels'], axis = 1)\n",
        "y = data.Labels\n",
        "\n",
        "X_train, X_test, y_train, y_test = train_test_split(data.iloc[:, 1:], data.iloc[:, 0], test_size = 0.2, random_state = 1)"
      ]
    },
    {
      "cell_type": "markdown",
      "source": [
        "**Random state를 조정한 이유?**\n",
        "\n",
        "`random_state`에 어떤 정수든 할당될 경우, 같은 변수를 이용해 같은 결과를 도출한다. 따라서 shuffling시 같은 결과를 도출하기위해 `random_state`를 1로 설정하였다."
      ],
      "metadata": {
        "id": "kSHpxlNR0WDb"
      }
    },
    {
      "cell_type": "code",
      "execution_count": 60,
      "metadata": {
        "id": "knp8pNp1eU1P",
        "colab": {
          "base_uri": "https://localhost:8080/"
        },
        "outputId": "7fbc9b78-ffd6-41b4-fadc-6bae4bc2cbb0"
      },
      "outputs": [
        {
          "output_type": "execute_result",
          "data": {
            "text/plain": [
              "MultinomialNB()"
            ]
          },
          "metadata": {},
          "execution_count": 60
        }
      ],
      "source": [
        "# train model\n",
        "from sklearn.naive_bayes import MultinomialNB\n",
        "\n",
        "classifier = MultinomialNB()\n",
        "classifier.fit(X_train, y_train)"
      ]
    },
    {
      "cell_type": "code",
      "execution_count": 61,
      "metadata": {
        "colab": {
          "base_uri": "https://localhost:8080/"
        },
        "id": "tEKw1ThNjZpo",
        "outputId": "f7a60f73-0f6b-4f6b-8ab7-5765f8295353"
      },
      "outputs": [
        {
          "output_type": "stream",
          "name": "stdout",
          "text": [
            "Accuracy: 0.8333333333333334\n"
          ]
        }
      ],
      "source": [
        "# check accuracy\n",
        "from sklearn.metrics import accuracy_score\n",
        "\n",
        "score = classifier.score(X_test, y_test)\n",
        "\n",
        "print(\"Accuracy:\", score)"
      ]
    }
  ],
  "metadata": {
    "colab": {
      "collapsed_sections": [],
      "name": "Tobigs_Week3__NaiveBayes.ipynb",
      "provenance": []
    },
    "kernelspec": {
      "display_name": "Python 3",
      "language": "python",
      "name": "python3"
    },
    "language_info": {
      "codemirror_mode": {
        "name": "ipython",
        "version": 3
      },
      "file_extension": ".py",
      "mimetype": "text/x-python",
      "name": "python",
      "nbconvert_exporter": "python",
      "pygments_lexer": "ipython3",
      "version": "3.7.10"
    },
    "toc": {
      "base_numbering": 1,
      "nav_menu": {},
      "number_sections": true,
      "sideBar": true,
      "skip_h1_title": false,
      "title_cell": "Table of Contents",
      "title_sidebar": "Contents",
      "toc_cell": false,
      "toc_position": {},
      "toc_section_display": true,
      "toc_window_display": false
    }
  },
  "nbformat": 4,
  "nbformat_minor": 0
}