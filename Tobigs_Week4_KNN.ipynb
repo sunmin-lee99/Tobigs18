{
  "cells": [
    {
      "cell_type": "markdown",
      "metadata": {
        "id": "_PTZ7GaPe4PF"
      },
      "source": [
        "# 17기 KNN 정규세션 과제"
      ]
    },
    {
      "cell_type": "markdown",
      "metadata": {
        "id": "3OFNeO0Ie4PH"
      },
      "source": [
        "## KNN 구현해보기\n",
        "### 1. Preprocssing / EDA\n",
        "지금까지 배운 내용을 토대로 해당 데이터에 대해 자유롭게 전처리와 EDA를 진행해주세요.\n",
        "### 2. KNN 구현 & 파라미터 튜닝\n",
        "수업 내용 및 실습 자료를 참고하여 KNN을 구현하고 파라미터 튜닝을 하며 결과를 비교해주세요.\n",
        "### 3. Evaluation\n",
        "결과에 대한 평가를 진행하고, 나름의 해석을 달아주세요."
      ]
    },
    {
      "cell_type": "markdown",
      "metadata": {
        "id": "k_IkS8Ybe4PI"
      },
      "source": [
        "**데이터:** [blackfriday | Kaggle](https://www.kaggle.com/llopesolivei/blackfriday)"
      ]
    },
    {
      "cell_type": "markdown",
      "metadata": {
        "id": "ZvUdeo2he4PI"
      },
      "source": [
        "---"
      ]
    },
    {
      "cell_type": "markdown",
      "metadata": {
        "id": "lTlQgiSie4PI"
      },
      "source": [
        "## 0. 데이터 불러오기"
      ]
    },
    {
      "cell_type": "markdown",
      "source": [
        "(1) 구글 드라이브 연동하기"
      ],
      "metadata": {
        "id": "SwPkabegwunL"
      }
    },
    {
      "cell_type": "code",
      "source": [
        "from google.colab import drive\n",
        "drive.mount('/content/drive')"
      ],
      "metadata": {
        "colab": {
          "base_uri": "https://localhost:8080/"
        },
        "id": "_daYO0sboG0W",
        "outputId": "16522422-7ae7-4b3e-d565-b7747c9b3f4d"
      },
      "execution_count": null,
      "outputs": [
        {
          "output_type": "stream",
          "name": "stdout",
          "text": [
            "Drive already mounted at /content/drive; to attempt to forcibly remount, call drive.mount(\"/content/drive\", force_remount=True).\n"
          ]
        }
      ]
    },
    {
      "cell_type": "markdown",
      "source": [
        "(2) 필요한 module 불러오기"
      ],
      "metadata": {
        "id": "3hj5Bg4qwwOP"
      }
    },
    {
      "cell_type": "code",
      "source": [
        "# import module\n",
        "import numpy as np\n",
        "import pandas as pd\n",
        "import seaborn as sns\n",
        "import matplotlib.pyplot as plt\n",
        "\n",
        "from sklearn.impute import SimpleImputer\n",
        "from sklearn.preprocessing import OneHotEncoder\n",
        "from sklearn.preprocessing import StandardScaler\n",
        "from sklearn.model_selection import train_test_split, cross_val_score\n",
        "from sklearn.neighbors import KNeighborsRegressor, DistanceMetric, NearestNeighbors\n",
        "\n",
        "from collections import Counter\n",
        "\n",
        "from tqdm import tqdm_notebook\n",
        "\n",
        "import matplotlib.pyplot as plt\n",
        "import seaborn as sns\n",
        "\n",
        "import warnings\n",
        "warnings.filterwarnings('ignore')"
      ],
      "metadata": {
        "id": "WJV1FTtLunHV"
      },
      "execution_count": null,
      "outputs": []
    },
    {
      "cell_type": "markdown",
      "source": [
        "(3) 데이터 불러오기"
      ],
      "metadata": {
        "id": "VqmMtxI3w0IT"
      }
    },
    {
      "cell_type": "code",
      "execution_count": null,
      "metadata": {
        "id": "eNTRK8Ete4PJ",
        "outputId": "ff1bdb37-0c7d-4964-85d4-f2b963cc410b",
        "colab": {
          "base_uri": "https://localhost:8080/",
          "height": 357
        }
      },
      "outputs": [
        {
          "output_type": "execute_result",
          "data": {
            "text/plain": [
              "   User_ID Product_ID Gender   Age  Occupation City_Category  \\\n",
              "0  1001088  P00046042      F  0-17          10             A   \n",
              "1  1004493  P00347742      F  0-17          10             A   \n",
              "2  1005302  P00048942      F  0-17          10             A   \n",
              "3  1001348  P00145242      F  0-17          10             A   \n",
              "4  1001348  P00106742      F  0-17          10             A   \n",
              "\n",
              "  Stay_In_Current_City_Years  Marital_Status  Product_Category_1  \\\n",
              "0                          3               0                   5   \n",
              "1                          1               0                   7   \n",
              "2                          1               0                   1   \n",
              "3                          3               0                   2   \n",
              "4                          3               0                   3   \n",
              "\n",
              "   Product_Category_2  Product_Category_3  Purchase  \n",
              "0                17.0                 NaN      2010  \n",
              "1                 NaN                 NaN      4483  \n",
              "2                 4.0                 NaN      7696  \n",
              "3                 4.0                 NaN     16429  \n",
              "4                 5.0                 NaN      5780  "
            ],
            "text/html": [
              "\n",
              "  <div id=\"df-7bdd50b5-08fd-4fab-b0fc-5b0d7182afc0\">\n",
              "    <div class=\"colab-df-container\">\n",
              "      <div>\n",
              "<style scoped>\n",
              "    .dataframe tbody tr th:only-of-type {\n",
              "        vertical-align: middle;\n",
              "    }\n",
              "\n",
              "    .dataframe tbody tr th {\n",
              "        vertical-align: top;\n",
              "    }\n",
              "\n",
              "    .dataframe thead th {\n",
              "        text-align: right;\n",
              "    }\n",
              "</style>\n",
              "<table border=\"1\" class=\"dataframe\">\n",
              "  <thead>\n",
              "    <tr style=\"text-align: right;\">\n",
              "      <th></th>\n",
              "      <th>User_ID</th>\n",
              "      <th>Product_ID</th>\n",
              "      <th>Gender</th>\n",
              "      <th>Age</th>\n",
              "      <th>Occupation</th>\n",
              "      <th>City_Category</th>\n",
              "      <th>Stay_In_Current_City_Years</th>\n",
              "      <th>Marital_Status</th>\n",
              "      <th>Product_Category_1</th>\n",
              "      <th>Product_Category_2</th>\n",
              "      <th>Product_Category_3</th>\n",
              "      <th>Purchase</th>\n",
              "    </tr>\n",
              "  </thead>\n",
              "  <tbody>\n",
              "    <tr>\n",
              "      <th>0</th>\n",
              "      <td>1001088</td>\n",
              "      <td>P00046042</td>\n",
              "      <td>F</td>\n",
              "      <td>0-17</td>\n",
              "      <td>10</td>\n",
              "      <td>A</td>\n",
              "      <td>3</td>\n",
              "      <td>0</td>\n",
              "      <td>5</td>\n",
              "      <td>17.0</td>\n",
              "      <td>NaN</td>\n",
              "      <td>2010</td>\n",
              "    </tr>\n",
              "    <tr>\n",
              "      <th>1</th>\n",
              "      <td>1004493</td>\n",
              "      <td>P00347742</td>\n",
              "      <td>F</td>\n",
              "      <td>0-17</td>\n",
              "      <td>10</td>\n",
              "      <td>A</td>\n",
              "      <td>1</td>\n",
              "      <td>0</td>\n",
              "      <td>7</td>\n",
              "      <td>NaN</td>\n",
              "      <td>NaN</td>\n",
              "      <td>4483</td>\n",
              "    </tr>\n",
              "    <tr>\n",
              "      <th>2</th>\n",
              "      <td>1005302</td>\n",
              "      <td>P00048942</td>\n",
              "      <td>F</td>\n",
              "      <td>0-17</td>\n",
              "      <td>10</td>\n",
              "      <td>A</td>\n",
              "      <td>1</td>\n",
              "      <td>0</td>\n",
              "      <td>1</td>\n",
              "      <td>4.0</td>\n",
              "      <td>NaN</td>\n",
              "      <td>7696</td>\n",
              "    </tr>\n",
              "    <tr>\n",
              "      <th>3</th>\n",
              "      <td>1001348</td>\n",
              "      <td>P00145242</td>\n",
              "      <td>F</td>\n",
              "      <td>0-17</td>\n",
              "      <td>10</td>\n",
              "      <td>A</td>\n",
              "      <td>3</td>\n",
              "      <td>0</td>\n",
              "      <td>2</td>\n",
              "      <td>4.0</td>\n",
              "      <td>NaN</td>\n",
              "      <td>16429</td>\n",
              "    </tr>\n",
              "    <tr>\n",
              "      <th>4</th>\n",
              "      <td>1001348</td>\n",
              "      <td>P00106742</td>\n",
              "      <td>F</td>\n",
              "      <td>0-17</td>\n",
              "      <td>10</td>\n",
              "      <td>A</td>\n",
              "      <td>3</td>\n",
              "      <td>0</td>\n",
              "      <td>3</td>\n",
              "      <td>5.0</td>\n",
              "      <td>NaN</td>\n",
              "      <td>5780</td>\n",
              "    </tr>\n",
              "  </tbody>\n",
              "</table>\n",
              "</div>\n",
              "      <button class=\"colab-df-convert\" onclick=\"convertToInteractive('df-7bdd50b5-08fd-4fab-b0fc-5b0d7182afc0')\"\n",
              "              title=\"Convert this dataframe to an interactive table.\"\n",
              "              style=\"display:none;\">\n",
              "        \n",
              "  <svg xmlns=\"http://www.w3.org/2000/svg\" height=\"24px\"viewBox=\"0 0 24 24\"\n",
              "       width=\"24px\">\n",
              "    <path d=\"M0 0h24v24H0V0z\" fill=\"none\"/>\n",
              "    <path d=\"M18.56 5.44l.94 2.06.94-2.06 2.06-.94-2.06-.94-.94-2.06-.94 2.06-2.06.94zm-11 1L8.5 8.5l.94-2.06 2.06-.94-2.06-.94L8.5 2.5l-.94 2.06-2.06.94zm10 10l.94 2.06.94-2.06 2.06-.94-2.06-.94-.94-2.06-.94 2.06-2.06.94z\"/><path d=\"M17.41 7.96l-1.37-1.37c-.4-.4-.92-.59-1.43-.59-.52 0-1.04.2-1.43.59L10.3 9.45l-7.72 7.72c-.78.78-.78 2.05 0 2.83L4 21.41c.39.39.9.59 1.41.59.51 0 1.02-.2 1.41-.59l7.78-7.78 2.81-2.81c.8-.78.8-2.07 0-2.86zM5.41 20L4 18.59l7.72-7.72 1.47 1.35L5.41 20z\"/>\n",
              "  </svg>\n",
              "      </button>\n",
              "      \n",
              "  <style>\n",
              "    .colab-df-container {\n",
              "      display:flex;\n",
              "      flex-wrap:wrap;\n",
              "      gap: 12px;\n",
              "    }\n",
              "\n",
              "    .colab-df-convert {\n",
              "      background-color: #E8F0FE;\n",
              "      border: none;\n",
              "      border-radius: 50%;\n",
              "      cursor: pointer;\n",
              "      display: none;\n",
              "      fill: #1967D2;\n",
              "      height: 32px;\n",
              "      padding: 0 0 0 0;\n",
              "      width: 32px;\n",
              "    }\n",
              "\n",
              "    .colab-df-convert:hover {\n",
              "      background-color: #E2EBFA;\n",
              "      box-shadow: 0px 1px 2px rgba(60, 64, 67, 0.3), 0px 1px 3px 1px rgba(60, 64, 67, 0.15);\n",
              "      fill: #174EA6;\n",
              "    }\n",
              "\n",
              "    [theme=dark] .colab-df-convert {\n",
              "      background-color: #3B4455;\n",
              "      fill: #D2E3FC;\n",
              "    }\n",
              "\n",
              "    [theme=dark] .colab-df-convert:hover {\n",
              "      background-color: #434B5C;\n",
              "      box-shadow: 0px 1px 3px 1px rgba(0, 0, 0, 0.15);\n",
              "      filter: drop-shadow(0px 1px 2px rgba(0, 0, 0, 0.3));\n",
              "      fill: #FFFFFF;\n",
              "    }\n",
              "  </style>\n",
              "\n",
              "      <script>\n",
              "        const buttonEl =\n",
              "          document.querySelector('#df-7bdd50b5-08fd-4fab-b0fc-5b0d7182afc0 button.colab-df-convert');\n",
              "        buttonEl.style.display =\n",
              "          google.colab.kernel.accessAllowed ? 'block' : 'none';\n",
              "\n",
              "        async function convertToInteractive(key) {\n",
              "          const element = document.querySelector('#df-7bdd50b5-08fd-4fab-b0fc-5b0d7182afc0');\n",
              "          const dataTable =\n",
              "            await google.colab.kernel.invokeFunction('convertToInteractive',\n",
              "                                                     [key], {});\n",
              "          if (!dataTable) return;\n",
              "\n",
              "          const docLinkHtml = 'Like what you see? Visit the ' +\n",
              "            '<a target=\"_blank\" href=https://colab.research.google.com/notebooks/data_table.ipynb>data table notebook</a>'\n",
              "            + ' to learn more about interactive tables.';\n",
              "          element.innerHTML = '';\n",
              "          dataTable['output_type'] = 'display_data';\n",
              "          await google.colab.output.renderOutput(dataTable, element);\n",
              "          const docLink = document.createElement('div');\n",
              "          docLink.innerHTML = docLinkHtml;\n",
              "          element.appendChild(docLink);\n",
              "        }\n",
              "      </script>\n",
              "    </div>\n",
              "  </div>\n",
              "  "
            ]
          },
          "metadata": {},
          "execution_count": 3
        }
      ],
      "source": [
        "data = pd.read_csv(\"/content/drive/MyDrive/ToBigs/KNN/blackfriday.csv\", index_col = 0)\n",
        "data.head()"
      ]
    },
    {
      "cell_type": "markdown",
      "source": [
        "## 1. Preprocssing / EDA"
      ],
      "metadata": {
        "id": "gutBmOvcmg5h"
      }
    },
    {
      "cell_type": "markdown",
      "source": [
        "### 1-1. 데이터 확인하기\n",
        "\n"
      ],
      "metadata": {
        "id": "ogz1yXapmi24"
      }
    },
    {
      "cell_type": "markdown",
      "source": [
        "(1) 데이터 이해하기\n",
        "\n",
        "> **Traget 변수**\n",
        "\n",
        "- `Purchase` : 구매한 개수\n",
        "\n",
        "\n",
        "> **설명 변수**\n",
        "\n",
        "- `User_ID` : 고객 ID\n",
        "- `Product_ID` : 제품 ID\n",
        "- `Gender` : 성별 (F : 여성 / M : 남성)\n",
        "- `Age` : 나이대 \n",
        "- `Occupation` : 직업 (1-10)\n",
        "- `City_Category` : 거주 도시 (A / B / C)\n",
        "- `Stay_In_Current_City_Years` : 현재 도시 거주 년수\n",
        "- `Marital_Status` : 기혼 상태 (0 : 미혼 / 1 : 기혼)\n",
        "- `Product_Category_1` : 제품 분류 1\n",
        "- `Product_Category_2` : 제품 분류 2\n",
        "- `Product_Category_3` : 제품 분류 3"
      ],
      "metadata": {
        "id": "khskyyyxrKlH"
      }
    },
    {
      "cell_type": "markdown",
      "source": [
        "(2) 전체 데이터 확인하기"
      ],
      "metadata": {
        "id": "2JXBKBy_p-1R"
      }
    },
    {
      "cell_type": "code",
      "source": [
        "data.shape"
      ],
      "metadata": {
        "colab": {
          "base_uri": "https://localhost:8080/"
        },
        "id": "NaA0DvqsvtCg",
        "outputId": "8dee8584-ec58-436f-a587-a11f2d452dd7"
      },
      "execution_count": null,
      "outputs": [
        {
          "output_type": "execute_result",
          "data": {
            "text/plain": [
              "(4998, 12)"
            ]
          },
          "metadata": {},
          "execution_count": 4
        }
      ]
    },
    {
      "cell_type": "code",
      "source": [
        "data.info()"
      ],
      "metadata": {
        "colab": {
          "base_uri": "https://localhost:8080/"
        },
        "id": "VniWUt5zn9fF",
        "outputId": "868726a4-2eb6-48b5-b64d-f12b949690d9"
      },
      "execution_count": null,
      "outputs": [
        {
          "output_type": "stream",
          "name": "stdout",
          "text": [
            "<class 'pandas.core.frame.DataFrame'>\n",
            "Int64Index: 4998 entries, 0 to 4997\n",
            "Data columns (total 12 columns):\n",
            " #   Column                      Non-Null Count  Dtype  \n",
            "---  ------                      --------------  -----  \n",
            " 0   User_ID                     4998 non-null   int64  \n",
            " 1   Product_ID                  4998 non-null   object \n",
            " 2   Gender                      4998 non-null   object \n",
            " 3   Age                         4998 non-null   object \n",
            " 4   Occupation                  4998 non-null   int64  \n",
            " 5   City_Category               4998 non-null   object \n",
            " 6   Stay_In_Current_City_Years  4998 non-null   object \n",
            " 7   Marital_Status              4998 non-null   int64  \n",
            " 8   Product_Category_1          4998 non-null   int64  \n",
            " 9   Product_Category_2          3465 non-null   float64\n",
            " 10  Product_Category_3          1544 non-null   float64\n",
            " 11  Purchase                    4998 non-null   int64  \n",
            "dtypes: float64(2), int64(5), object(5)\n",
            "memory usage: 507.6+ KB\n"
          ]
        }
      ]
    },
    {
      "cell_type": "code",
      "source": [
        "data.describe()"
      ],
      "metadata": {
        "colab": {
          "base_uri": "https://localhost:8080/",
          "height": 300
        },
        "id": "6Ba8EA4Roh7V",
        "outputId": "0f30b104-2135-4ea2-adea-c82fdc3b6fa3"
      },
      "execution_count": null,
      "outputs": [
        {
          "output_type": "execute_result",
          "data": {
            "text/plain": [
              "            User_ID   Occupation  Marital_Status  Product_Category_1  \\\n",
              "count  4.998000e+03  4998.000000     4998.000000         4998.000000   \n",
              "mean   1.003015e+06     8.036815        0.421369            5.320128   \n",
              "std    1.709910e+03     6.442697        0.493828            3.912281   \n",
              "min    1.000003e+06     0.000000        0.000000            1.000000   \n",
              "25%    1.001560e+06     2.000000        0.000000            1.000000   \n",
              "50%    1.003040e+06     7.000000        0.000000            5.000000   \n",
              "75%    1.004417e+06    14.000000        1.000000            8.000000   \n",
              "max    1.006037e+06    20.000000        1.000000           20.000000   \n",
              "\n",
              "       Product_Category_2  Product_Category_3      Purchase  \n",
              "count         3465.000000         1544.000000   4998.000000  \n",
              "mean             9.773737           12.766839   9234.655462  \n",
              "std              5.101867            4.023591   4999.225081  \n",
              "min              2.000000            3.000000     13.000000  \n",
              "25%              5.000000            9.000000   5497.750000  \n",
              "50%              9.000000           14.000000   8049.000000  \n",
              "75%             15.000000           16.000000  12039.000000  \n",
              "max             18.000000           18.000000  23913.000000  "
            ],
            "text/html": [
              "\n",
              "  <div id=\"df-1ed5033d-cc23-4d7a-bdaa-ad6ed893c2f1\">\n",
              "    <div class=\"colab-df-container\">\n",
              "      <div>\n",
              "<style scoped>\n",
              "    .dataframe tbody tr th:only-of-type {\n",
              "        vertical-align: middle;\n",
              "    }\n",
              "\n",
              "    .dataframe tbody tr th {\n",
              "        vertical-align: top;\n",
              "    }\n",
              "\n",
              "    .dataframe thead th {\n",
              "        text-align: right;\n",
              "    }\n",
              "</style>\n",
              "<table border=\"1\" class=\"dataframe\">\n",
              "  <thead>\n",
              "    <tr style=\"text-align: right;\">\n",
              "      <th></th>\n",
              "      <th>User_ID</th>\n",
              "      <th>Occupation</th>\n",
              "      <th>Marital_Status</th>\n",
              "      <th>Product_Category_1</th>\n",
              "      <th>Product_Category_2</th>\n",
              "      <th>Product_Category_3</th>\n",
              "      <th>Purchase</th>\n",
              "    </tr>\n",
              "  </thead>\n",
              "  <tbody>\n",
              "    <tr>\n",
              "      <th>count</th>\n",
              "      <td>4.998000e+03</td>\n",
              "      <td>4998.000000</td>\n",
              "      <td>4998.000000</td>\n",
              "      <td>4998.000000</td>\n",
              "      <td>3465.000000</td>\n",
              "      <td>1544.000000</td>\n",
              "      <td>4998.000000</td>\n",
              "    </tr>\n",
              "    <tr>\n",
              "      <th>mean</th>\n",
              "      <td>1.003015e+06</td>\n",
              "      <td>8.036815</td>\n",
              "      <td>0.421369</td>\n",
              "      <td>5.320128</td>\n",
              "      <td>9.773737</td>\n",
              "      <td>12.766839</td>\n",
              "      <td>9234.655462</td>\n",
              "    </tr>\n",
              "    <tr>\n",
              "      <th>std</th>\n",
              "      <td>1.709910e+03</td>\n",
              "      <td>6.442697</td>\n",
              "      <td>0.493828</td>\n",
              "      <td>3.912281</td>\n",
              "      <td>5.101867</td>\n",
              "      <td>4.023591</td>\n",
              "      <td>4999.225081</td>\n",
              "    </tr>\n",
              "    <tr>\n",
              "      <th>min</th>\n",
              "      <td>1.000003e+06</td>\n",
              "      <td>0.000000</td>\n",
              "      <td>0.000000</td>\n",
              "      <td>1.000000</td>\n",
              "      <td>2.000000</td>\n",
              "      <td>3.000000</td>\n",
              "      <td>13.000000</td>\n",
              "    </tr>\n",
              "    <tr>\n",
              "      <th>25%</th>\n",
              "      <td>1.001560e+06</td>\n",
              "      <td>2.000000</td>\n",
              "      <td>0.000000</td>\n",
              "      <td>1.000000</td>\n",
              "      <td>5.000000</td>\n",
              "      <td>9.000000</td>\n",
              "      <td>5497.750000</td>\n",
              "    </tr>\n",
              "    <tr>\n",
              "      <th>50%</th>\n",
              "      <td>1.003040e+06</td>\n",
              "      <td>7.000000</td>\n",
              "      <td>0.000000</td>\n",
              "      <td>5.000000</td>\n",
              "      <td>9.000000</td>\n",
              "      <td>14.000000</td>\n",
              "      <td>8049.000000</td>\n",
              "    </tr>\n",
              "    <tr>\n",
              "      <th>75%</th>\n",
              "      <td>1.004417e+06</td>\n",
              "      <td>14.000000</td>\n",
              "      <td>1.000000</td>\n",
              "      <td>8.000000</td>\n",
              "      <td>15.000000</td>\n",
              "      <td>16.000000</td>\n",
              "      <td>12039.000000</td>\n",
              "    </tr>\n",
              "    <tr>\n",
              "      <th>max</th>\n",
              "      <td>1.006037e+06</td>\n",
              "      <td>20.000000</td>\n",
              "      <td>1.000000</td>\n",
              "      <td>20.000000</td>\n",
              "      <td>18.000000</td>\n",
              "      <td>18.000000</td>\n",
              "      <td>23913.000000</td>\n",
              "    </tr>\n",
              "  </tbody>\n",
              "</table>\n",
              "</div>\n",
              "      <button class=\"colab-df-convert\" onclick=\"convertToInteractive('df-1ed5033d-cc23-4d7a-bdaa-ad6ed893c2f1')\"\n",
              "              title=\"Convert this dataframe to an interactive table.\"\n",
              "              style=\"display:none;\">\n",
              "        \n",
              "  <svg xmlns=\"http://www.w3.org/2000/svg\" height=\"24px\"viewBox=\"0 0 24 24\"\n",
              "       width=\"24px\">\n",
              "    <path d=\"M0 0h24v24H0V0z\" fill=\"none\"/>\n",
              "    <path d=\"M18.56 5.44l.94 2.06.94-2.06 2.06-.94-2.06-.94-.94-2.06-.94 2.06-2.06.94zm-11 1L8.5 8.5l.94-2.06 2.06-.94-2.06-.94L8.5 2.5l-.94 2.06-2.06.94zm10 10l.94 2.06.94-2.06 2.06-.94-2.06-.94-.94-2.06-.94 2.06-2.06.94z\"/><path d=\"M17.41 7.96l-1.37-1.37c-.4-.4-.92-.59-1.43-.59-.52 0-1.04.2-1.43.59L10.3 9.45l-7.72 7.72c-.78.78-.78 2.05 0 2.83L4 21.41c.39.39.9.59 1.41.59.51 0 1.02-.2 1.41-.59l7.78-7.78 2.81-2.81c.8-.78.8-2.07 0-2.86zM5.41 20L4 18.59l7.72-7.72 1.47 1.35L5.41 20z\"/>\n",
              "  </svg>\n",
              "      </button>\n",
              "      \n",
              "  <style>\n",
              "    .colab-df-container {\n",
              "      display:flex;\n",
              "      flex-wrap:wrap;\n",
              "      gap: 12px;\n",
              "    }\n",
              "\n",
              "    .colab-df-convert {\n",
              "      background-color: #E8F0FE;\n",
              "      border: none;\n",
              "      border-radius: 50%;\n",
              "      cursor: pointer;\n",
              "      display: none;\n",
              "      fill: #1967D2;\n",
              "      height: 32px;\n",
              "      padding: 0 0 0 0;\n",
              "      width: 32px;\n",
              "    }\n",
              "\n",
              "    .colab-df-convert:hover {\n",
              "      background-color: #E2EBFA;\n",
              "      box-shadow: 0px 1px 2px rgba(60, 64, 67, 0.3), 0px 1px 3px 1px rgba(60, 64, 67, 0.15);\n",
              "      fill: #174EA6;\n",
              "    }\n",
              "\n",
              "    [theme=dark] .colab-df-convert {\n",
              "      background-color: #3B4455;\n",
              "      fill: #D2E3FC;\n",
              "    }\n",
              "\n",
              "    [theme=dark] .colab-df-convert:hover {\n",
              "      background-color: #434B5C;\n",
              "      box-shadow: 0px 1px 3px 1px rgba(0, 0, 0, 0.15);\n",
              "      filter: drop-shadow(0px 1px 2px rgba(0, 0, 0, 0.3));\n",
              "      fill: #FFFFFF;\n",
              "    }\n",
              "  </style>\n",
              "\n",
              "      <script>\n",
              "        const buttonEl =\n",
              "          document.querySelector('#df-1ed5033d-cc23-4d7a-bdaa-ad6ed893c2f1 button.colab-df-convert');\n",
              "        buttonEl.style.display =\n",
              "          google.colab.kernel.accessAllowed ? 'block' : 'none';\n",
              "\n",
              "        async function convertToInteractive(key) {\n",
              "          const element = document.querySelector('#df-1ed5033d-cc23-4d7a-bdaa-ad6ed893c2f1');\n",
              "          const dataTable =\n",
              "            await google.colab.kernel.invokeFunction('convertToInteractive',\n",
              "                                                     [key], {});\n",
              "          if (!dataTable) return;\n",
              "\n",
              "          const docLinkHtml = 'Like what you see? Visit the ' +\n",
              "            '<a target=\"_blank\" href=https://colab.research.google.com/notebooks/data_table.ipynb>data table notebook</a>'\n",
              "            + ' to learn more about interactive tables.';\n",
              "          element.innerHTML = '';\n",
              "          dataTable['output_type'] = 'display_data';\n",
              "          await google.colab.output.renderOutput(dataTable, element);\n",
              "          const docLink = document.createElement('div');\n",
              "          docLink.innerHTML = docLinkHtml;\n",
              "          element.appendChild(docLink);\n",
              "        }\n",
              "      </script>\n",
              "    </div>\n",
              "  </div>\n",
              "  "
            ]
          },
          "metadata": {},
          "execution_count": 6
        }
      ]
    },
    {
      "cell_type": "code",
      "source": [
        "for col in data.columns:\n",
        "    print(data[col].value_counts())\n",
        "    print('*' * 50)"
      ],
      "metadata": {
        "colab": {
          "base_uri": "https://localhost:8080/"
        },
        "id": "uDlE6Yoqv0Tp",
        "outputId": "eae726e1-e477-47ed-d46c-254e9232100b"
      },
      "execution_count": null,
      "outputs": [
        {
          "output_type": "stream",
          "name": "stdout",
          "text": [
            "1002063    12\n",
            "1005795    12\n",
            "1001980    11\n",
            "1004344    11\n",
            "1006036    10\n",
            "           ..\n",
            "1004980     1\n",
            "1004385     1\n",
            "1004138     1\n",
            "1002648     1\n",
            "1000837     1\n",
            "Name: User_ID, Length: 2656, dtype: int64\n",
            "**************************************************\n",
            "P00265242    21\n",
            "P00220442    16\n",
            "P00114942    15\n",
            "P00010742    15\n",
            "P00148642    15\n",
            "             ..\n",
            "P00072342     1\n",
            "P00037842     1\n",
            "P00207042     1\n",
            "P00129742     1\n",
            "P00358242     1\n",
            "Name: Product_ID, Length: 1797, dtype: int64\n",
            "**************************************************\n",
            "M    3765\n",
            "F    1233\n",
            "Name: Gender, dtype: int64\n",
            "**************************************************\n",
            "26-35    1996\n",
            "36-45    1000\n",
            "18-25     906\n",
            "46-50     414\n",
            "51-55     350\n",
            "55+       195\n",
            "0-17      137\n",
            "Name: Age, dtype: int64\n",
            "**************************************************\n",
            "4     706\n",
            "0     572\n",
            "7     535\n",
            "1     460\n",
            "17    339\n",
            "12    305\n",
            "20    285\n",
            "2     251\n",
            "14    245\n",
            "16    244\n",
            "6     186\n",
            "3     160\n",
            "15    133\n",
            "10    122\n",
            "5      98\n",
            "11     95\n",
            "19     73\n",
            "13     65\n",
            "18     56\n",
            "9      50\n",
            "8      18\n",
            "Name: Occupation, dtype: int64\n",
            "**************************************************\n",
            "B    2102\n",
            "C    1555\n",
            "A    1341\n",
            "Name: City_Category, dtype: int64\n",
            "**************************************************\n",
            "1     1758\n",
            "2      915\n",
            "3      908\n",
            "4+     742\n",
            "0      675\n",
            "Name: Stay_In_Current_City_Years, dtype: int64\n",
            "**************************************************\n",
            "0    2892\n",
            "1    2106\n",
            "Name: Marital_Status, dtype: int64\n",
            "**************************************************\n",
            "5     1407\n",
            "1     1285\n",
            "8      995\n",
            "2      227\n",
            "11     206\n",
            "3      193\n",
            "6      193\n",
            "4      107\n",
            "16      78\n",
            "15      57\n",
            "13      43\n",
            "10      41\n",
            "7       40\n",
            "12      31\n",
            "20      31\n",
            "19      20\n",
            "14      19\n",
            "18      18\n",
            "17       6\n",
            "9        1\n",
            "Name: Product_Category_1, dtype: int64\n",
            "**************************************************\n",
            "8.0     588\n",
            "14.0    496\n",
            "2.0     448\n",
            "16.0    392\n",
            "15.0    345\n",
            "5.0     258\n",
            "4.0     246\n",
            "6.0     148\n",
            "17.0    132\n",
            "11.0    110\n",
            "13.0    102\n",
            "9.0      65\n",
            "12.0     40\n",
            "3.0      35\n",
            "10.0     30\n",
            "18.0     23\n",
            "7.0       7\n",
            "Name: Product_Category_2, dtype: int64\n",
            "**************************************************\n",
            "16.0    318\n",
            "15.0    260\n",
            "14.0    162\n",
            "17.0    146\n",
            "5.0     140\n",
            "8.0     116\n",
            "9.0     105\n",
            "12.0     96\n",
            "13.0     50\n",
            "18.0     44\n",
            "6.0      44\n",
            "10.0     23\n",
            "11.0     22\n",
            "4.0      17\n",
            "3.0       1\n",
            "Name: Product_Category_3, dtype: int64\n",
            "**************************************************\n",
            "7001     6\n",
            "7063     6\n",
            "5328     6\n",
            "8115     6\n",
            "7176     5\n",
            "        ..\n",
            "12069    1\n",
            "16668    1\n",
            "3187     1\n",
            "4043     1\n",
            "1413     1\n",
            "Name: Purchase, Length: 3736, dtype: int64\n",
            "**************************************************\n"
          ]
        }
      ]
    },
    {
      "cell_type": "markdown",
      "source": [
        "(3) 결측치 확인하기"
      ],
      "metadata": {
        "id": "2ee3sPtxpjjq"
      }
    },
    {
      "cell_type": "code",
      "source": [
        "data.isnull().sum()"
      ],
      "metadata": {
        "colab": {
          "base_uri": "https://localhost:8080/"
        },
        "id": "XUyoZhf7qDhG",
        "outputId": "bf577df0-4f8b-498d-ebe8-478c09958d25"
      },
      "execution_count": null,
      "outputs": [
        {
          "output_type": "execute_result",
          "data": {
            "text/plain": [
              "User_ID                          0\n",
              "Product_ID                       0\n",
              "Gender                           0\n",
              "Age                              0\n",
              "Occupation                       0\n",
              "City_Category                    0\n",
              "Stay_In_Current_City_Years       0\n",
              "Marital_Status                   0\n",
              "Product_Category_1               0\n",
              "Product_Category_2            1533\n",
              "Product_Category_3            3454\n",
              "Purchase                         0\n",
              "dtype: int64"
            ]
          },
          "metadata": {},
          "execution_count": 8
        }
      ]
    },
    {
      "cell_type": "markdown",
      "source": [
        "**Output**\n",
        "\n",
        "- `Product_Category_2`, `Product_Category_3`에 NaN값이 존재하므로 **결측치를 처리**하는 과정이 필요하다.\n",
        "- *int*값인 `Product_Category_1`과 달리 `Product_Category_2`, `Product_Category_3`의 값은 *float*값이다.\n",
        "- `Gender`, `Age`, `City_Category`, `Stay_In_Current_City_Years`와 같이 *object*로 되어있는 값들을 KNN 모델에 적용하기위해 **one-hot encoding**을 적용하는 과정이 필요하다."
      ],
      "metadata": {
        "id": "66sVsCfDnH7G"
      }
    },
    {
      "cell_type": "markdown",
      "source": [
        "(4) 이상치 확인하기"
      ],
      "metadata": {
        "id": "hO_dzBWppnKr"
      }
    },
    {
      "cell_type": "code",
      "source": [
        "# dataframe으로 변환\n",
        "df = pd.DataFrame(data)"
      ],
      "metadata": {
        "id": "hv7SQ40Uqsw9"
      },
      "execution_count": null,
      "outputs": []
    },
    {
      "cell_type": "code",
      "source": [
        "# user ID 제거\n",
        "df_user = df.drop(columns='User_ID')\n",
        "\n",
        "df_user"
      ],
      "metadata": {
        "colab": {
          "base_uri": "https://localhost:8080/",
          "height": 574
        },
        "id": "rhWgXdbSr2Qe",
        "outputId": "e749037e-942d-4239-f755-53ffb6dd4ea3"
      },
      "execution_count": null,
      "outputs": [
        {
          "output_type": "execute_result",
          "data": {
            "text/plain": [
              "     Product_ID Gender   Age  Occupation City_Category  \\\n",
              "0     P00046042      F  0-17          10             A   \n",
              "1     P00347742      F  0-17          10             A   \n",
              "2     P00048942      F  0-17          10             A   \n",
              "3     P00145242      F  0-17          10             A   \n",
              "4     P00106742      F  0-17          10             A   \n",
              "...         ...    ...   ...         ...           ...   \n",
              "4993  P00147942      M   55+           7             C   \n",
              "4994  P00358242      M   55+           1             C   \n",
              "4995  P00173342      M   55+          13             C   \n",
              "4996  P00336742      M   55+           0             C   \n",
              "4997  P00141842      M   55+           6             C   \n",
              "\n",
              "     Stay_In_Current_City_Years  Marital_Status  Product_Category_1  \\\n",
              "0                             3               0                   5   \n",
              "1                             1               0                   7   \n",
              "2                             1               0                   1   \n",
              "3                             3               0                   2   \n",
              "4                             3               0                   3   \n",
              "...                         ...             ...                 ...   \n",
              "4993                          1               1                   1   \n",
              "4994                          1               1                   8   \n",
              "4995                          3               1                   1   \n",
              "4996                          2               1                  12   \n",
              "4997                          0               1                   5   \n",
              "\n",
              "      Product_Category_2  Product_Category_3  Purchase  \n",
              "0                   17.0                 NaN      2010  \n",
              "1                    NaN                 NaN      4483  \n",
              "2                    4.0                 NaN      7696  \n",
              "3                    4.0                 NaN     16429  \n",
              "4                    5.0                 NaN      5780  \n",
              "...                  ...                 ...       ...  \n",
              "4993                16.0                 NaN     11701  \n",
              "4994                 NaN                 NaN      2045  \n",
              "4995                 6.0                14.0      4505  \n",
              "4996                 NaN                 NaN      1413  \n",
              "4997                14.0                 NaN      7182  \n",
              "\n",
              "[4998 rows x 11 columns]"
            ],
            "text/html": [
              "\n",
              "  <div id=\"df-59bb10b2-b3fa-412e-92a7-fb94703340eb\">\n",
              "    <div class=\"colab-df-container\">\n",
              "      <div>\n",
              "<style scoped>\n",
              "    .dataframe tbody tr th:only-of-type {\n",
              "        vertical-align: middle;\n",
              "    }\n",
              "\n",
              "    .dataframe tbody tr th {\n",
              "        vertical-align: top;\n",
              "    }\n",
              "\n",
              "    .dataframe thead th {\n",
              "        text-align: right;\n",
              "    }\n",
              "</style>\n",
              "<table border=\"1\" class=\"dataframe\">\n",
              "  <thead>\n",
              "    <tr style=\"text-align: right;\">\n",
              "      <th></th>\n",
              "      <th>Product_ID</th>\n",
              "      <th>Gender</th>\n",
              "      <th>Age</th>\n",
              "      <th>Occupation</th>\n",
              "      <th>City_Category</th>\n",
              "      <th>Stay_In_Current_City_Years</th>\n",
              "      <th>Marital_Status</th>\n",
              "      <th>Product_Category_1</th>\n",
              "      <th>Product_Category_2</th>\n",
              "      <th>Product_Category_3</th>\n",
              "      <th>Purchase</th>\n",
              "    </tr>\n",
              "  </thead>\n",
              "  <tbody>\n",
              "    <tr>\n",
              "      <th>0</th>\n",
              "      <td>P00046042</td>\n",
              "      <td>F</td>\n",
              "      <td>0-17</td>\n",
              "      <td>10</td>\n",
              "      <td>A</td>\n",
              "      <td>3</td>\n",
              "      <td>0</td>\n",
              "      <td>5</td>\n",
              "      <td>17.0</td>\n",
              "      <td>NaN</td>\n",
              "      <td>2010</td>\n",
              "    </tr>\n",
              "    <tr>\n",
              "      <th>1</th>\n",
              "      <td>P00347742</td>\n",
              "      <td>F</td>\n",
              "      <td>0-17</td>\n",
              "      <td>10</td>\n",
              "      <td>A</td>\n",
              "      <td>1</td>\n",
              "      <td>0</td>\n",
              "      <td>7</td>\n",
              "      <td>NaN</td>\n",
              "      <td>NaN</td>\n",
              "      <td>4483</td>\n",
              "    </tr>\n",
              "    <tr>\n",
              "      <th>2</th>\n",
              "      <td>P00048942</td>\n",
              "      <td>F</td>\n",
              "      <td>0-17</td>\n",
              "      <td>10</td>\n",
              "      <td>A</td>\n",
              "      <td>1</td>\n",
              "      <td>0</td>\n",
              "      <td>1</td>\n",
              "      <td>4.0</td>\n",
              "      <td>NaN</td>\n",
              "      <td>7696</td>\n",
              "    </tr>\n",
              "    <tr>\n",
              "      <th>3</th>\n",
              "      <td>P00145242</td>\n",
              "      <td>F</td>\n",
              "      <td>0-17</td>\n",
              "      <td>10</td>\n",
              "      <td>A</td>\n",
              "      <td>3</td>\n",
              "      <td>0</td>\n",
              "      <td>2</td>\n",
              "      <td>4.0</td>\n",
              "      <td>NaN</td>\n",
              "      <td>16429</td>\n",
              "    </tr>\n",
              "    <tr>\n",
              "      <th>4</th>\n",
              "      <td>P00106742</td>\n",
              "      <td>F</td>\n",
              "      <td>0-17</td>\n",
              "      <td>10</td>\n",
              "      <td>A</td>\n",
              "      <td>3</td>\n",
              "      <td>0</td>\n",
              "      <td>3</td>\n",
              "      <td>5.0</td>\n",
              "      <td>NaN</td>\n",
              "      <td>5780</td>\n",
              "    </tr>\n",
              "    <tr>\n",
              "      <th>...</th>\n",
              "      <td>...</td>\n",
              "      <td>...</td>\n",
              "      <td>...</td>\n",
              "      <td>...</td>\n",
              "      <td>...</td>\n",
              "      <td>...</td>\n",
              "      <td>...</td>\n",
              "      <td>...</td>\n",
              "      <td>...</td>\n",
              "      <td>...</td>\n",
              "      <td>...</td>\n",
              "    </tr>\n",
              "    <tr>\n",
              "      <th>4993</th>\n",
              "      <td>P00147942</td>\n",
              "      <td>M</td>\n",
              "      <td>55+</td>\n",
              "      <td>7</td>\n",
              "      <td>C</td>\n",
              "      <td>1</td>\n",
              "      <td>1</td>\n",
              "      <td>1</td>\n",
              "      <td>16.0</td>\n",
              "      <td>NaN</td>\n",
              "      <td>11701</td>\n",
              "    </tr>\n",
              "    <tr>\n",
              "      <th>4994</th>\n",
              "      <td>P00358242</td>\n",
              "      <td>M</td>\n",
              "      <td>55+</td>\n",
              "      <td>1</td>\n",
              "      <td>C</td>\n",
              "      <td>1</td>\n",
              "      <td>1</td>\n",
              "      <td>8</td>\n",
              "      <td>NaN</td>\n",
              "      <td>NaN</td>\n",
              "      <td>2045</td>\n",
              "    </tr>\n",
              "    <tr>\n",
              "      <th>4995</th>\n",
              "      <td>P00173342</td>\n",
              "      <td>M</td>\n",
              "      <td>55+</td>\n",
              "      <td>13</td>\n",
              "      <td>C</td>\n",
              "      <td>3</td>\n",
              "      <td>1</td>\n",
              "      <td>1</td>\n",
              "      <td>6.0</td>\n",
              "      <td>14.0</td>\n",
              "      <td>4505</td>\n",
              "    </tr>\n",
              "    <tr>\n",
              "      <th>4996</th>\n",
              "      <td>P00336742</td>\n",
              "      <td>M</td>\n",
              "      <td>55+</td>\n",
              "      <td>0</td>\n",
              "      <td>C</td>\n",
              "      <td>2</td>\n",
              "      <td>1</td>\n",
              "      <td>12</td>\n",
              "      <td>NaN</td>\n",
              "      <td>NaN</td>\n",
              "      <td>1413</td>\n",
              "    </tr>\n",
              "    <tr>\n",
              "      <th>4997</th>\n",
              "      <td>P00141842</td>\n",
              "      <td>M</td>\n",
              "      <td>55+</td>\n",
              "      <td>6</td>\n",
              "      <td>C</td>\n",
              "      <td>0</td>\n",
              "      <td>1</td>\n",
              "      <td>5</td>\n",
              "      <td>14.0</td>\n",
              "      <td>NaN</td>\n",
              "      <td>7182</td>\n",
              "    </tr>\n",
              "  </tbody>\n",
              "</table>\n",
              "<p>4998 rows × 11 columns</p>\n",
              "</div>\n",
              "      <button class=\"colab-df-convert\" onclick=\"convertToInteractive('df-59bb10b2-b3fa-412e-92a7-fb94703340eb')\"\n",
              "              title=\"Convert this dataframe to an interactive table.\"\n",
              "              style=\"display:none;\">\n",
              "        \n",
              "  <svg xmlns=\"http://www.w3.org/2000/svg\" height=\"24px\"viewBox=\"0 0 24 24\"\n",
              "       width=\"24px\">\n",
              "    <path d=\"M0 0h24v24H0V0z\" fill=\"none\"/>\n",
              "    <path d=\"M18.56 5.44l.94 2.06.94-2.06 2.06-.94-2.06-.94-.94-2.06-.94 2.06-2.06.94zm-11 1L8.5 8.5l.94-2.06 2.06-.94-2.06-.94L8.5 2.5l-.94 2.06-2.06.94zm10 10l.94 2.06.94-2.06 2.06-.94-2.06-.94-.94-2.06-.94 2.06-2.06.94z\"/><path d=\"M17.41 7.96l-1.37-1.37c-.4-.4-.92-.59-1.43-.59-.52 0-1.04.2-1.43.59L10.3 9.45l-7.72 7.72c-.78.78-.78 2.05 0 2.83L4 21.41c.39.39.9.59 1.41.59.51 0 1.02-.2 1.41-.59l7.78-7.78 2.81-2.81c.8-.78.8-2.07 0-2.86zM5.41 20L4 18.59l7.72-7.72 1.47 1.35L5.41 20z\"/>\n",
              "  </svg>\n",
              "      </button>\n",
              "      \n",
              "  <style>\n",
              "    .colab-df-container {\n",
              "      display:flex;\n",
              "      flex-wrap:wrap;\n",
              "      gap: 12px;\n",
              "    }\n",
              "\n",
              "    .colab-df-convert {\n",
              "      background-color: #E8F0FE;\n",
              "      border: none;\n",
              "      border-radius: 50%;\n",
              "      cursor: pointer;\n",
              "      display: none;\n",
              "      fill: #1967D2;\n",
              "      height: 32px;\n",
              "      padding: 0 0 0 0;\n",
              "      width: 32px;\n",
              "    }\n",
              "\n",
              "    .colab-df-convert:hover {\n",
              "      background-color: #E2EBFA;\n",
              "      box-shadow: 0px 1px 2px rgba(60, 64, 67, 0.3), 0px 1px 3px 1px rgba(60, 64, 67, 0.15);\n",
              "      fill: #174EA6;\n",
              "    }\n",
              "\n",
              "    [theme=dark] .colab-df-convert {\n",
              "      background-color: #3B4455;\n",
              "      fill: #D2E3FC;\n",
              "    }\n",
              "\n",
              "    [theme=dark] .colab-df-convert:hover {\n",
              "      background-color: #434B5C;\n",
              "      box-shadow: 0px 1px 3px 1px rgba(0, 0, 0, 0.15);\n",
              "      filter: drop-shadow(0px 1px 2px rgba(0, 0, 0, 0.3));\n",
              "      fill: #FFFFFF;\n",
              "    }\n",
              "  </style>\n",
              "\n",
              "      <script>\n",
              "        const buttonEl =\n",
              "          document.querySelector('#df-59bb10b2-b3fa-412e-92a7-fb94703340eb button.colab-df-convert');\n",
              "        buttonEl.style.display =\n",
              "          google.colab.kernel.accessAllowed ? 'block' : 'none';\n",
              "\n",
              "        async function convertToInteractive(key) {\n",
              "          const element = document.querySelector('#df-59bb10b2-b3fa-412e-92a7-fb94703340eb');\n",
              "          const dataTable =\n",
              "            await google.colab.kernel.invokeFunction('convertToInteractive',\n",
              "                                                     [key], {});\n",
              "          if (!dataTable) return;\n",
              "\n",
              "          const docLinkHtml = 'Like what you see? Visit the ' +\n",
              "            '<a target=\"_blank\" href=https://colab.research.google.com/notebooks/data_table.ipynb>data table notebook</a>'\n",
              "            + ' to learn more about interactive tables.';\n",
              "          element.innerHTML = '';\n",
              "          dataTable['output_type'] = 'display_data';\n",
              "          await google.colab.output.renderOutput(dataTable, element);\n",
              "          const docLink = document.createElement('div');\n",
              "          docLink.innerHTML = docLinkHtml;\n",
              "          element.appendChild(docLink);\n",
              "        }\n",
              "      </script>\n",
              "    </div>\n",
              "  </div>\n",
              "  "
            ]
          },
          "metadata": {},
          "execution_count": 10
        }
      ]
    },
    {
      "cell_type": "code",
      "source": [
        "# 이상치 탐지\n",
        "df_user.hist(bins=30, figsize=(30,20))\n",
        "plt.suptitle(\"Histogram\", fontsize=18)"
      ],
      "metadata": {
        "colab": {
          "base_uri": "https://localhost:8080/",
          "height": 822
        },
        "id": "EbNWPBf4qJDS",
        "outputId": "7496074f-1184-4865-d76e-b8d7f6ff062f"
      },
      "execution_count": null,
      "outputs": [
        {
          "output_type": "execute_result",
          "data": {
            "text/plain": [
              "Text(0.5, 0.98, 'Histogram')"
            ]
          },
          "metadata": {},
          "execution_count": 11
        },
        {
          "output_type": "display_data",
          "data": {
            "text/plain": [
              "<Figure size 2160x1440 with 6 Axes>"
            ],
            "image/png": "[encoded data removed]"
          },
          "metadata": {
            "needs_background": "light"
          }
        }
      ]
    },
    {
      "cell_type": "markdown",
      "source": [
        "**Output**\n",
        "\n",
        "- `Marital_Status`는 기혼 상태를 나타내는 항목이므로, 0 또는 1의 값을 가진다.\n",
        "- 각 항목에 대한 이상치가 보이지 않는다."
      ],
      "metadata": {
        "id": "nRkDXQ1usjK-"
      }
    },
    {
      "cell_type": "markdown",
      "source": [
        "### 1-2. 데이터 EDA하기"
      ],
      "metadata": {
        "id": "INk_YGUhpL56"
      }
    },
    {
      "cell_type": "markdown",
      "source": [
        "(1) 각 변수 간 상관관계 확인하기"
      ],
      "metadata": {
        "id": "l28QxrjVpPJ-"
      }
    },
    {
      "cell_type": "code",
      "source": [
        "# check correlation\n",
        "df.corr()"
      ],
      "metadata": {
        "colab": {
          "base_uri": "https://localhost:8080/",
          "height": 269
        },
        "id": "-YaAVOYdpN5u",
        "outputId": "d97d1994-1d98-4058-f80a-e7b401ddee67"
      },
      "execution_count": null,
      "outputs": [
        {
          "output_type": "execute_result",
          "data": {
            "text/plain": [
              "                     User_ID  Occupation  Marital_Status  Product_Category_1  \\\n",
              "User_ID             1.000000   -0.027100        0.029083           -0.003481   \n",
              "Occupation         -0.027100    1.000000        0.028712           -0.005366   \n",
              "Marital_Status      0.029083    0.028712        1.000000            0.020386   \n",
              "Product_Category_1 -0.003481   -0.005366        0.020386            1.000000   \n",
              "Product_Category_2 -0.002472    0.015663        0.043645            0.523190   \n",
              "Product_Category_3 -0.016563    0.010676        0.071383            0.219465   \n",
              "Purchase            0.016931    0.032258        0.002917           -0.346402   \n",
              "\n",
              "                    Product_Category_2  Product_Category_3  Purchase  \n",
              "User_ID                      -0.002472           -0.016563  0.016931  \n",
              "Occupation                    0.015663            0.010676  0.032258  \n",
              "Marital_Status                0.043645            0.071383  0.002917  \n",
              "Product_Category_1            0.523190            0.219465 -0.346402  \n",
              "Product_Category_2            1.000000            0.532458 -0.191558  \n",
              "Product_Category_3            0.532458            1.000000 -0.019311  \n",
              "Purchase                     -0.191558           -0.019311  1.000000  "
            ],
            "text/html": [
              "\n",
              "  <div id=\"df-e3a7847e-b350-4a8a-95ef-56195cc8f2c2\">\n",
              "    <div class=\"colab-df-container\">\n",
              "      <div>\n",
              "<style scoped>\n",
              "    .dataframe tbody tr th:only-of-type {\n",
              "        vertical-align: middle;\n",
              "    }\n",
              "\n",
              "    .dataframe tbody tr th {\n",
              "        vertical-align: top;\n",
              "    }\n",
              "\n",
              "    .dataframe thead th {\n",
              "        text-align: right;\n",
              "    }\n",
              "</style>\n",
              "<table border=\"1\" class=\"dataframe\">\n",
              "  <thead>\n",
              "    <tr style=\"text-align: right;\">\n",
              "      <th></th>\n",
              "      <th>User_ID</th>\n",
              "      <th>Occupation</th>\n",
              "      <th>Marital_Status</th>\n",
              "      <th>Product_Category_1</th>\n",
              "      <th>Product_Category_2</th>\n",
              "      <th>Product_Category_3</th>\n",
              "      <th>Purchase</th>\n",
              "    </tr>\n",
              "  </thead>\n",
              "  <tbody>\n",
              "    <tr>\n",
              "      <th>User_ID</th>\n",
              "      <td>1.000000</td>\n",
              "      <td>-0.027100</td>\n",
              "      <td>0.029083</td>\n",
              "      <td>-0.003481</td>\n",
              "      <td>-0.002472</td>\n",
              "      <td>-0.016563</td>\n",
              "      <td>0.016931</td>\n",
              "    </tr>\n",
              "    <tr>\n",
              "      <th>Occupation</th>\n",
              "      <td>-0.027100</td>\n",
              "      <td>1.000000</td>\n",
              "      <td>0.028712</td>\n",
              "      <td>-0.005366</td>\n",
              "      <td>0.015663</td>\n",
              "      <td>0.010676</td>\n",
              "      <td>0.032258</td>\n",
              "    </tr>\n",
              "    <tr>\n",
              "      <th>Marital_Status</th>\n",
              "      <td>0.029083</td>\n",
              "      <td>0.028712</td>\n",
              "      <td>1.000000</td>\n",
              "      <td>0.020386</td>\n",
              "      <td>0.043645</td>\n",
              "      <td>0.071383</td>\n",
              "      <td>0.002917</td>\n",
              "    </tr>\n",
              "    <tr>\n",
              "      <th>Product_Category_1</th>\n",
              "      <td>-0.003481</td>\n",
              "      <td>-0.005366</td>\n",
              "      <td>0.020386</td>\n",
              "      <td>1.000000</td>\n",
              "      <td>0.523190</td>\n",
              "      <td>0.219465</td>\n",
              "      <td>-0.346402</td>\n",
              "    </tr>\n",
              "    <tr>\n",
              "      <th>Product_Category_2</th>\n",
              "      <td>-0.002472</td>\n",
              "      <td>0.015663</td>\n",
              "      <td>0.043645</td>\n",
              "      <td>0.523190</td>\n",
              "      <td>1.000000</td>\n",
              "      <td>0.532458</td>\n",
              "      <td>-0.191558</td>\n",
              "    </tr>\n",
              "    <tr>\n",
              "      <th>Product_Category_3</th>\n",
              "      <td>-0.016563</td>\n",
              "      <td>0.010676</td>\n",
              "      <td>0.071383</td>\n",
              "      <td>0.219465</td>\n",
              "      <td>0.532458</td>\n",
              "      <td>1.000000</td>\n",
              "      <td>-0.019311</td>\n",
              "    </tr>\n",
              "    <tr>\n",
              "      <th>Purchase</th>\n",
              "      <td>0.016931</td>\n",
              "      <td>0.032258</td>\n",
              "      <td>0.002917</td>\n",
              "      <td>-0.346402</td>\n",
              "      <td>-0.191558</td>\n",
              "      <td>-0.019311</td>\n",
              "      <td>1.000000</td>\n",
              "    </tr>\n",
              "  </tbody>\n",
              "</table>\n",
              "</div>\n",
              "      <button class=\"colab-df-convert\" onclick=\"convertToInteractive('df-e3a7847e-b350-4a8a-95ef-56195cc8f2c2')\"\n",
              "              title=\"Convert this dataframe to an interactive table.\"\n",
              "              style=\"display:none;\">\n",
              "        \n",
              "  <svg xmlns=\"http://www.w3.org/2000/svg\" height=\"24px\"viewBox=\"0 0 24 24\"\n",
              "       width=\"24px\">\n",
              "    <path d=\"M0 0h24v24H0V0z\" fill=\"none\"/>\n",
              "    <path d=\"M18.56 5.44l.94 2.06.94-2.06 2.06-.94-2.06-.94-.94-2.06-.94 2.06-2.06.94zm-11 1L8.5 8.5l.94-2.06 2.06-.94-2.06-.94L8.5 2.5l-.94 2.06-2.06.94zm10 10l.94 2.06.94-2.06 2.06-.94-2.06-.94-.94-2.06-.94 2.06-2.06.94z\"/><path d=\"M17.41 7.96l-1.37-1.37c-.4-.4-.92-.59-1.43-.59-.52 0-1.04.2-1.43.59L10.3 9.45l-7.72 7.72c-.78.78-.78 2.05 0 2.83L4 21.41c.39.39.9.59 1.41.59.51 0 1.02-.2 1.41-.59l7.78-7.78 2.81-2.81c.8-.78.8-2.07 0-2.86zM5.41 20L4 18.59l7.72-7.72 1.47 1.35L5.41 20z\"/>\n",
              "  </svg>\n",
              "      </button>\n",
              "      \n",
              "  <style>\n",
              "    .colab-df-container {\n",
              "      display:flex;\n",
              "      flex-wrap:wrap;\n",
              "      gap: 12px;\n",
              "    }\n",
              "\n",
              "    .colab-df-convert {\n",
              "      background-color: #E8F0FE;\n",
              "      border: none;\n",
              "      border-radius: 50%;\n",
              "      cursor: pointer;\n",
              "      display: none;\n",
              "      fill: #1967D2;\n",
              "      height: 32px;\n",
              "      padding: 0 0 0 0;\n",
              "      width: 32px;\n",
              "    }\n",
              "\n",
              "    .colab-df-convert:hover {\n",
              "      background-color: #E2EBFA;\n",
              "      box-shadow: 0px 1px 2px rgba(60, 64, 67, 0.3), 0px 1px 3px 1px rgba(60, 64, 67, 0.15);\n",
              "      fill: #174EA6;\n",
              "    }\n",
              "\n",
              "    [theme=dark] .colab-df-convert {\n",
              "      background-color: #3B4455;\n",
              "      fill: #D2E3FC;\n",
              "    }\n",
              "\n",
              "    [theme=dark] .colab-df-convert:hover {\n",
              "      background-color: #434B5C;\n",
              "      box-shadow: 0px 1px 3px 1px rgba(0, 0, 0, 0.15);\n",
              "      filter: drop-shadow(0px 1px 2px rgba(0, 0, 0, 0.3));\n",
              "      fill: #FFFFFF;\n",
              "    }\n",
              "  </style>\n",
              "\n",
              "      <script>\n",
              "        const buttonEl =\n",
              "          document.querySelector('#df-e3a7847e-b350-4a8a-95ef-56195cc8f2c2 button.colab-df-convert');\n",
              "        buttonEl.style.display =\n",
              "          google.colab.kernel.accessAllowed ? 'block' : 'none';\n",
              "\n",
              "        async function convertToInteractive(key) {\n",
              "          const element = document.querySelector('#df-e3a7847e-b350-4a8a-95ef-56195cc8f2c2');\n",
              "          const dataTable =\n",
              "            await google.colab.kernel.invokeFunction('convertToInteractive',\n",
              "                                                     [key], {});\n",
              "          if (!dataTable) return;\n",
              "\n",
              "          const docLinkHtml = 'Like what you see? Visit the ' +\n",
              "            '<a target=\"_blank\" href=https://colab.research.google.com/notebooks/data_table.ipynb>data table notebook</a>'\n",
              "            + ' to learn more about interactive tables.';\n",
              "          element.innerHTML = '';\n",
              "          dataTable['output_type'] = 'display_data';\n",
              "          await google.colab.output.renderOutput(dataTable, element);\n",
              "          const docLink = document.createElement('div');\n",
              "          docLink.innerHTML = docLinkHtml;\n",
              "          element.appendChild(docLink);\n",
              "        }\n",
              "      </script>\n",
              "    </div>\n",
              "  </div>\n",
              "  "
            ]
          },
          "metadata": {},
          "execution_count": 25
        }
      ]
    },
    {
      "cell_type": "code",
      "source": [
        "plt.figure(figsize=(20,10))\n",
        "sns.heatmap(df.corr(),annot=True)"
      ],
      "metadata": {
        "colab": {
          "base_uri": "https://localhost:8080/",
          "height": 590
        },
        "id": "cKFonVZXzWJb",
        "outputId": "87a938cc-668c-4b12-d9a2-10093096c7fb"
      },
      "execution_count": null,
      "outputs": [
        {
          "output_type": "execute_result",
          "data": {
            "text/plain": [
              "<matplotlib.axes._subplots.AxesSubplot at 0x7fce08d6a450>"
            ]
          },
          "metadata": {},
          "execution_count": 26
        },
        {
          "output_type": "display_data",
          "data": {
            "text/plain": [
              "<Figure size 1440x720 with 2 Axes>"
            ],
            "image/png": "[encoded data removed]"
          },
          "metadata": {
            "needs_background": "light"
          }
        }
      ]
    },
    {
      "cell_type": "markdown",
      "source": [
        "(2) 각 Column값 EDA하기"
      ],
      "metadata": {
        "id": "BFRlyGkR9Snz"
      }
    },
    {
      "cell_type": "code",
      "source": [
        "# Gender\n",
        "plt.figure(figsize= (10,5))\n",
        "sns.countplot(df['Gender'])"
      ],
      "metadata": {
        "colab": {
          "base_uri": "https://localhost:8080/",
          "height": 352
        },
        "id": "jw6MnK159SZP",
        "outputId": "a784e708-6a98-4001-b7f2-f34960e0af02"
      },
      "execution_count": null,
      "outputs": [
        {
          "output_type": "execute_result",
          "data": {
            "text/plain": [
              "<matplotlib.axes._subplots.AxesSubplot at 0x7f7b9062c390>"
            ]
          },
          "metadata": {},
          "execution_count": 37
        },
        {
          "output_type": "display_data",
          "data": {
            "text/plain": [
              "<Figure size 720x360 with 1 Axes>"
            ],
            "image/png": "[encoded data removed]"
          },
          "metadata": {
            "needs_background": "light"
          }
        }
      ]
    },
    {
      "cell_type": "code",
      "source": [
        "# Marital_Status (0:single / 1:married)\n",
        "plt.figure(figsize= (10,5))\n",
        "sns.countplot(df['Marital_Status'])"
      ],
      "metadata": {
        "colab": {
          "base_uri": "https://localhost:8080/",
          "height": 353
        },
        "id": "W_M9YWfy9lGT",
        "outputId": "1221e613-412d-4e91-fe6d-665d9e4bfe2d"
      },
      "execution_count": null,
      "outputs": [
        {
          "output_type": "execute_result",
          "data": {
            "text/plain": [
              "<matplotlib.axes._subplots.AxesSubplot at 0x7f7b90557650>"
            ]
          },
          "metadata": {},
          "execution_count": 38
        },
        {
          "output_type": "display_data",
          "data": {
            "text/plain": [
              "<Figure size 720x360 with 1 Axes>"
            ],
            "image/png": "[encoded data removed]"
          },
          "metadata": {
            "needs_background": "light"
          }
        }
      ]
    },
    {
      "cell_type": "code",
      "source": [
        "# Age\n",
        "plt.figure(figsize= (10,5))\n",
        "sns.countplot(df['Age'])"
      ],
      "metadata": {
        "colab": {
          "base_uri": "https://localhost:8080/",
          "height": 352
        },
        "id": "-0W7E6VG9t0R",
        "outputId": "31384cec-a824-4a76-d2d5-46fe6c822ea2"
      },
      "execution_count": null,
      "outputs": [
        {
          "output_type": "execute_result",
          "data": {
            "text/plain": [
              "<matplotlib.axes._subplots.AxesSubplot at 0x7f7b9076c2d0>"
            ]
          },
          "metadata": {},
          "execution_count": 47
        },
        {
          "output_type": "display_data",
          "data": {
            "text/plain": [
              "<Figure size 720x360 with 1 Axes>"
            ],
            "image/png": "[encoded data removed]"
          },
          "metadata": {
            "needs_background": "light"
          }
        }
      ]
    },
    {
      "cell_type": "code",
      "source": [
        "# Occupation\n",
        "plt.figure(figsize= (20,5))\n",
        "sns.countplot(df['Occupation'])"
      ],
      "metadata": {
        "colab": {
          "base_uri": "https://localhost:8080/",
          "height": 328
        },
        "id": "bZVAFkQWBB9m",
        "outputId": "1be90849-c2c2-4988-d187-8feda766ddbc"
      },
      "execution_count": null,
      "outputs": [
        {
          "output_type": "execute_result",
          "data": {
            "text/plain": [
              "<matplotlib.axes._subplots.AxesSubplot at 0x7f7b901f7690>"
            ]
          },
          "metadata": {},
          "execution_count": 50
        },
        {
          "output_type": "display_data",
          "data": {
            "text/plain": [
              "<Figure size 1440x360 with 1 Axes>"
            ],
            "image/png": "[encoded data removed]"
          },
          "metadata": {
            "needs_background": "light"
          }
        }
      ]
    },
    {
      "cell_type": "markdown",
      "source": [
        "해당 숫자가 어떤 직업을 의미하는지 알지 못하므로, `Occupation`값을 이용한 정확한 데이터 분석 진행이 어렵다."
      ],
      "metadata": {
        "id": "9nL_OO01BNsG"
      }
    },
    {
      "cell_type": "code",
      "source": [
        "# City category\n",
        "plt.figure(figsize= (10,5))\n",
        "sns.countplot(df['City_Category'])"
      ],
      "metadata": {
        "colab": {
          "base_uri": "https://localhost:8080/",
          "height": 353
        },
        "id": "vuHUCfEW948H",
        "outputId": "2dc455df-34c4-4769-f7d7-40703bb93e31"
      },
      "execution_count": null,
      "outputs": [
        {
          "output_type": "execute_result",
          "data": {
            "text/plain": [
              "<matplotlib.axes._subplots.AxesSubplot at 0x7f7b90a45750>"
            ]
          },
          "metadata": {},
          "execution_count": 46
        },
        {
          "output_type": "display_data",
          "data": {
            "text/plain": [
              "<Figure size 720x360 with 1 Axes>"
            ],
            "image/png": "[encoded data removed]"
          },
          "metadata": {
            "needs_background": "light"
          }
        }
      ]
    },
    {
      "cell_type": "code",
      "source": [
        "# Stay in current city years\n",
        "plt.figure(figsize= (10,5))\n",
        "sns.countplot(df['Stay_In_Current_City_Years'])"
      ],
      "metadata": {
        "colab": {
          "base_uri": "https://localhost:8080/",
          "height": 353
        },
        "id": "UdDQGOY3-ITS",
        "outputId": "ccb05bbd-9bd8-400e-f44c-92ef91bd326e"
      },
      "execution_count": null,
      "outputs": [
        {
          "output_type": "execute_result",
          "data": {
            "text/plain": [
              "<matplotlib.axes._subplots.AxesSubplot at 0x7f7b9076c1d0>"
            ]
          },
          "metadata": {},
          "execution_count": 48
        },
        {
          "output_type": "display_data",
          "data": {
            "text/plain": [
              "<Figure size 720x360 with 1 Axes>"
            ],
            "image/png": "[encoded data removed]"
          },
          "metadata": {
            "needs_background": "light"
          }
        }
      ]
    },
    {
      "cell_type": "markdown",
      "source": [
        "**Output**\n",
        "\n",
        "- 여성보다 남성의 구매율이 더 높다.\n",
        "- 기혼자보다 미혼자의 구매율이 더 높다.\n",
        "- 26-35세의 사람의 구매율이 가장 높다.\n",
        "- B지역에 거주하는 사람의 구매율이 가장 높다.\n",
        "- 현재 지역에 1년 정도 거주한 사람들의 구매율이 가장 높다. "
      ],
      "metadata": {
        "id": "xc7mJm_jAYZn"
      }
    },
    {
      "cell_type": "code",
      "source": [
        "# Product_Category_1\n",
        "plt.figure(figsize=(20,10))\n",
        "sns.countplot(x = 'Product_Category_1',data = df)"
      ],
      "metadata": {
        "colab": {
          "base_uri": "https://localhost:8080/",
          "height": 576
        },
        "id": "9F03tulPFLzi",
        "outputId": "09cd0ccf-60f2-42a5-9269-16b4c720f6a2"
      },
      "execution_count": null,
      "outputs": [
        {
          "output_type": "execute_result",
          "data": {
            "text/plain": [
              "<matplotlib.axes._subplots.AxesSubplot at 0x7f7b8c309610>"
            ]
          },
          "metadata": {},
          "execution_count": 59
        },
        {
          "output_type": "display_data",
          "data": {
            "text/plain": [
              "<Figure size 1440x720 with 1 Axes>"
            ],
            "image/png": "[encoded data removed]"
          },
          "metadata": {
            "needs_background": "light"
          }
        }
      ]
    },
    {
      "cell_type": "markdown",
      "source": [
        "**Output**\n",
        "\n",
        "`Product_Category_1`에서는 1, 5, 8의 개수가 가장 많다."
      ],
      "metadata": {
        "id": "j06fdFoWFb8L"
      }
    },
    {
      "cell_type": "markdown",
      "source": [
        "(3)\b 서로 다른 변수들 EDA하기"
      ],
      "metadata": {
        "id": "xqYsrKvy-b9P"
      }
    },
    {
      "cell_type": "code",
      "source": [
        "# Age & Gender\n",
        "plt.figure(figsize= (20,10))\n",
        "sns.countplot(df['Age'],hue=df['Gender'])"
      ],
      "metadata": {
        "colab": {
          "base_uri": "https://localhost:8080/",
          "height": 576
        },
        "id": "hcetfK2G-m8o",
        "outputId": "1e5da62e-6728-414f-e519-39ba6fbf2bab"
      },
      "execution_count": null,
      "outputs": [
        {
          "output_type": "execute_result",
          "data": {
            "text/plain": [
              "<matplotlib.axes._subplots.AxesSubplot at 0x7f7b90842e50>"
            ]
          },
          "metadata": {},
          "execution_count": 32
        },
        {
          "output_type": "display_data",
          "data": {
            "text/plain": [
              "<Figure size 1440x720 with 1 Axes>"
            ],
            "image/png": "[encoded data removed]"
          },
          "metadata": {
            "needs_background": "light"
          }
        }
      ]
    },
    {
      "cell_type": "code",
      "source": [
        "# Age & Gender & Purchase\n",
        "plt.figure(figsize = (20,10))\n",
        "sns.barplot(x='Age', y='Purchase',hue = 'Gender',data= df)"
      ],
      "metadata": {
        "colab": {
          "base_uri": "https://localhost:8080/",
          "height": 574
        },
        "id": "X_SRqEAGGLXO",
        "outputId": "16e34c73-a845-4348-b84c-cbb2c24bdfb9"
      },
      "execution_count": null,
      "outputs": [
        {
          "output_type": "execute_result",
          "data": {
            "text/plain": [
              "<matplotlib.axes._subplots.AxesSubplot at 0x7f7b8c1d7050>"
            ]
          },
          "metadata": {},
          "execution_count": 61
        },
        {
          "output_type": "display_data",
          "data": {
            "text/plain": [
              "<Figure size 1440x720 with 1 Axes>"
            ],
            "image/png": "[encoded data removed]"
          },
          "metadata": {
            "needs_background": "light"
          }
        }
      ]
    },
    {
      "cell_type": "markdown",
      "source": [
        "**Output**\n",
        "\n",
        "대체로 Female과 Male의 분포가 비슷하다. 따라서 `Gender`보다 `Age`에 따른 경향성이 더 커보였으나, 실제 `Purchase`와 비교하면, `Gender`와 `Age`에 대한 차이가 크지 않으므로 두 값 모두 큰 영향을 끼치지 못함을 알 수 있다."
      ],
      "metadata": {
        "id": "9em5Qqn0GTZF"
      }
    },
    {
      "cell_type": "code",
      "source": [
        "# Gender & Stay in current city years\n",
        "plt.figure(figsize= (20,10))\n",
        "sns.countplot(data=df,x='Stay_In_Current_City_Years',hue='Gender')"
      ],
      "metadata": {
        "colab": {
          "base_uri": "https://localhost:8080/",
          "height": 576
        },
        "id": "a6r8T5mj-wZz",
        "outputId": "a092d11a-ddbb-4755-b17d-207f5e5994a2"
      },
      "execution_count": null,
      "outputs": [
        {
          "output_type": "execute_result",
          "data": {
            "text/plain": [
              "<matplotlib.axes._subplots.AxesSubplot at 0x7f7b9076ccd0>"
            ]
          },
          "metadata": {},
          "execution_count": 33
        },
        {
          "output_type": "display_data",
          "data": {
            "text/plain": [
              "<Figure size 1440x720 with 1 Axes>"
            ],
            "image/png": "[encoded data removed]"
          },
          "metadata": {
            "needs_background": "light"
          }
        }
      ]
    },
    {
      "cell_type": "code",
      "source": [
        "# Stay in current city years & Gender & Purchase\n",
        "plt.figure(figsize = (20,10))\n",
        "sns.barplot(x='Stay_In_Current_City_Years', y='Purchase',hue = 'Gender',data= df)"
      ],
      "metadata": {
        "colab": {
          "base_uri": "https://localhost:8080/",
          "height": 574
        },
        "id": "O0t9m0lPGgFc",
        "outputId": "805190fa-458b-4af4-e921-d3c6826676c0"
      },
      "execution_count": null,
      "outputs": [
        {
          "output_type": "execute_result",
          "data": {
            "text/plain": [
              "<matplotlib.axes._subplots.AxesSubplot at 0x7f7b8c1dd3d0>"
            ]
          },
          "metadata": {},
          "execution_count": 62
        },
        {
          "output_type": "display_data",
          "data": {
            "text/plain": [
              "<Figure size 1440x720 with 1 Axes>"
            ],
            "image/png": "[encoded data removed]"
          },
          "metadata": {
            "needs_background": "light"
          }
        }
      ]
    },
    {
      "cell_type": "markdown",
      "source": [
        "**Output**\n",
        "\n",
        "대체로 Female과 Male의 분포가 비슷하다. 따라서 `Gender`보다 `Stay_In_Current_City_Years`에 따른 경향성이 더 커보였으나, 실제 `Purchase`와 비교하면, `Gender`와 `Stay_In_Current_City_Years`에 대한 차이가 크지 않으므로 두 값 모두 큰 영향을 끼치지 못함을 알 수 있다."
      ],
      "metadata": {
        "id": "3L0BcUJ0BplH"
      }
    },
    {
      "cell_type": "code",
      "source": [
        "# City category & Gender & Purchase\n",
        "plt.figure(figsize = (20,10))\n",
        "sns.barplot(x='City_Category', y='Purchase',hue = 'Gender',data= df)"
      ],
      "metadata": {
        "colab": {
          "base_uri": "https://localhost:8080/",
          "height": 574
        },
        "id": "TR72Tu6wG-ee",
        "outputId": "86fe6105-af2d-45e6-878e-14bb73ab4ebc"
      },
      "execution_count": null,
      "outputs": [
        {
          "output_type": "execute_result",
          "data": {
            "text/plain": [
              "<matplotlib.axes._subplots.AxesSubplot at 0x7f7b8bfff790>"
            ]
          },
          "metadata": {},
          "execution_count": 63
        },
        {
          "output_type": "display_data",
          "data": {
            "text/plain": [
              "<Figure size 1440x720 with 1 Axes>"
            ],
            "image/png": "[encoded data removed]"
          },
          "metadata": {
            "needs_background": "light"
          }
        }
      ]
    },
    {
      "cell_type": "markdown",
      "source": [
        "(4) Target 변수 확인하기"
      ],
      "metadata": {
        "id": "07Y3VApBKrEC"
      }
    },
    {
      "cell_type": "markdown",
      "source": [
        "### 1-3. 데이터 전처리하기"
      ],
      "metadata": {
        "id": "_MX8SU29n_FC"
      }
    },
    {
      "cell_type": "markdown",
      "source": [
        "(1) 결측치 처리하기\n",
        "\n",
        "  (결측치를 채우는 부분이 부족하여, 16기 이예림님의 우수코드를 참고했습니다.)"
      ],
      "metadata": {
        "id": "eek6gBkBp1ID"
      }
    },
    {
      "cell_type": "markdown",
      "source": [
        "- `User_ID`\n",
        "\n",
        "  Target 변수 예측에 불필요한 column인 `User_ID`를 제거한다."
      ],
      "metadata": {
        "id": "O_foh7Me7uQ9"
      }
    },
    {
      "cell_type": "code",
      "source": [
        "# df_1 = df.drop(columns='User_ID')\n",
        "\n",
        "# df_1"
      ],
      "metadata": {
        "colab": {
          "base_uri": "https://localhost:8080/",
          "height": 574
        },
        "id": "6DlW7VQR73N-",
        "outputId": "19227b25-ea54-4633-ec1b-317dfbc889fa"
      },
      "execution_count": null,
      "outputs": [
        {
          "output_type": "execute_result",
          "data": {
            "text/plain": [
              "     Product_ID Gender   Age  Occupation City_Category  \\\n",
              "0     P00046042      F  0-17          10             A   \n",
              "1     P00347742      F  0-17          10             A   \n",
              "2     P00048942      F  0-17          10             A   \n",
              "3     P00145242      F  0-17          10             A   \n",
              "4     P00106742      F  0-17          10             A   \n",
              "...         ...    ...   ...         ...           ...   \n",
              "4993  P00147942      M   55+           7             C   \n",
              "4994  P00358242      M   55+           1             C   \n",
              "4995  P00173342      M   55+          13             C   \n",
              "4996  P00336742      M   55+           0             C   \n",
              "4997  P00141842      M   55+           6             C   \n",
              "\n",
              "     Stay_In_Current_City_Years  Marital_Status  Product_Category_1  \\\n",
              "0                             3               0                   5   \n",
              "1                             1               0                   7   \n",
              "2                             1               0                   1   \n",
              "3                             3               0                   2   \n",
              "4                             3               0                   3   \n",
              "...                         ...             ...                 ...   \n",
              "4993                          1               1                   1   \n",
              "4994                          1               1                   8   \n",
              "4995                          3               1                   1   \n",
              "4996                          2               1                  12   \n",
              "4997                          0               1                   5   \n",
              "\n",
              "      Product_Category_2  Product_Category_3  Purchase  \n",
              "0                   17.0                 NaN      2010  \n",
              "1                    NaN                 NaN      4483  \n",
              "2                    4.0                 NaN      7696  \n",
              "3                    4.0                 NaN     16429  \n",
              "4                    5.0                 NaN      5780  \n",
              "...                  ...                 ...       ...  \n",
              "4993                16.0                 NaN     11701  \n",
              "4994                 NaN                 NaN      2045  \n",
              "4995                 6.0                14.0      4505  \n",
              "4996                 NaN                 NaN      1413  \n",
              "4997                14.0                 NaN      7182  \n",
              "\n",
              "[4998 rows x 11 columns]"
            ],
            "text/html": [
              "\n",
              "  <div id=\"df-4448e991-dd89-43f2-9985-5bd6894d45ff\">\n",
              "    <div class=\"colab-df-container\">\n",
              "      <div>\n",
              "<style scoped>\n",
              "    .dataframe tbody tr th:only-of-type {\n",
              "        vertical-align: middle;\n",
              "    }\n",
              "\n",
              "    .dataframe tbody tr th {\n",
              "        vertical-align: top;\n",
              "    }\n",
              "\n",
              "    .dataframe thead th {\n",
              "        text-align: right;\n",
              "    }\n",
              "</style>\n",
              "<table border=\"1\" class=\"dataframe\">\n",
              "  <thead>\n",
              "    <tr style=\"text-align: right;\">\n",
              "      <th></th>\n",
              "      <th>Product_ID</th>\n",
              "      <th>Gender</th>\n",
              "      <th>Age</th>\n",
              "      <th>Occupation</th>\n",
              "      <th>City_Category</th>\n",
              "      <th>Stay_In_Current_City_Years</th>\n",
              "      <th>Marital_Status</th>\n",
              "      <th>Product_Category_1</th>\n",
              "      <th>Product_Category_2</th>\n",
              "      <th>Product_Category_3</th>\n",
              "      <th>Purchase</th>\n",
              "    </tr>\n",
              "  </thead>\n",
              "  <tbody>\n",
              "    <tr>\n",
              "      <th>0</th>\n",
              "      <td>P00046042</td>\n",
              "      <td>F</td>\n",
              "      <td>0-17</td>\n",
              "      <td>10</td>\n",
              "      <td>A</td>\n",
              "      <td>3</td>\n",
              "      <td>0</td>\n",
              "      <td>5</td>\n",
              "      <td>17.0</td>\n",
              "      <td>NaN</td>\n",
              "      <td>2010</td>\n",
              "    </tr>\n",
              "    <tr>\n",
              "      <th>1</th>\n",
              "      <td>P00347742</td>\n",
              "      <td>F</td>\n",
              "      <td>0-17</td>\n",
              "      <td>10</td>\n",
              "      <td>A</td>\n",
              "      <td>1</td>\n",
              "      <td>0</td>\n",
              "      <td>7</td>\n",
              "      <td>NaN</td>\n",
              "      <td>NaN</td>\n",
              "      <td>4483</td>\n",
              "    </tr>\n",
              "    <tr>\n",
              "      <th>2</th>\n",
              "      <td>P00048942</td>\n",
              "      <td>F</td>\n",
              "      <td>0-17</td>\n",
              "      <td>10</td>\n",
              "      <td>A</td>\n",
              "      <td>1</td>\n",
              "      <td>0</td>\n",
              "      <td>1</td>\n",
              "      <td>4.0</td>\n",
              "      <td>NaN</td>\n",
              "      <td>7696</td>\n",
              "    </tr>\n",
              "    <tr>\n",
              "      <th>3</th>\n",
              "      <td>P00145242</td>\n",
              "      <td>F</td>\n",
              "      <td>0-17</td>\n",
              "      <td>10</td>\n",
              "      <td>A</td>\n",
              "      <td>3</td>\n",
              "      <td>0</td>\n",
              "      <td>2</td>\n",
              "      <td>4.0</td>\n",
              "      <td>NaN</td>\n",
              "      <td>16429</td>\n",
              "    </tr>\n",
              "    <tr>\n",
              "      <th>4</th>\n",
              "      <td>P00106742</td>\n",
              "      <td>F</td>\n",
              "      <td>0-17</td>\n",
              "      <td>10</td>\n",
              "      <td>A</td>\n",
              "      <td>3</td>\n",
              "      <td>0</td>\n",
              "      <td>3</td>\n",
              "      <td>5.0</td>\n",
              "      <td>NaN</td>\n",
              "      <td>5780</td>\n",
              "    </tr>\n",
              "    <tr>\n",
              "      <th>...</th>\n",
              "      <td>...</td>\n",
              "      <td>...</td>\n",
              "      <td>...</td>\n",
              "      <td>...</td>\n",
              "      <td>...</td>\n",
              "      <td>...</td>\n",
              "      <td>...</td>\n",
              "      <td>...</td>\n",
              "      <td>...</td>\n",
              "      <td>...</td>\n",
              "      <td>...</td>\n",
              "    </tr>\n",
              "    <tr>\n",
              "      <th>4993</th>\n",
              "      <td>P00147942</td>\n",
              "      <td>M</td>\n",
              "      <td>55+</td>\n",
              "      <td>7</td>\n",
              "      <td>C</td>\n",
              "      <td>1</td>\n",
              "      <td>1</td>\n",
              "      <td>1</td>\n",
              "      <td>16.0</td>\n",
              "      <td>NaN</td>\n",
              "      <td>11701</td>\n",
              "    </tr>\n",
              "    <tr>\n",
              "      <th>4994</th>\n",
              "      <td>P00358242</td>\n",
              "      <td>M</td>\n",
              "      <td>55+</td>\n",
              "      <td>1</td>\n",
              "      <td>C</td>\n",
              "      <td>1</td>\n",
              "      <td>1</td>\n",
              "      <td>8</td>\n",
              "      <td>NaN</td>\n",
              "      <td>NaN</td>\n",
              "      <td>2045</td>\n",
              "    </tr>\n",
              "    <tr>\n",
              "      <th>4995</th>\n",
              "      <td>P00173342</td>\n",
              "      <td>M</td>\n",
              "      <td>55+</td>\n",
              "      <td>13</td>\n",
              "      <td>C</td>\n",
              "      <td>3</td>\n",
              "      <td>1</td>\n",
              "      <td>1</td>\n",
              "      <td>6.0</td>\n",
              "      <td>14.0</td>\n",
              "      <td>4505</td>\n",
              "    </tr>\n",
              "    <tr>\n",
              "      <th>4996</th>\n",
              "      <td>P00336742</td>\n",
              "      <td>M</td>\n",
              "      <td>55+</td>\n",
              "      <td>0</td>\n",
              "      <td>C</td>\n",
              "      <td>2</td>\n",
              "      <td>1</td>\n",
              "      <td>12</td>\n",
              "      <td>NaN</td>\n",
              "      <td>NaN</td>\n",
              "      <td>1413</td>\n",
              "    </tr>\n",
              "    <tr>\n",
              "      <th>4997</th>\n",
              "      <td>P00141842</td>\n",
              "      <td>M</td>\n",
              "      <td>55+</td>\n",
              "      <td>6</td>\n",
              "      <td>C</td>\n",
              "      <td>0</td>\n",
              "      <td>1</td>\n",
              "      <td>5</td>\n",
              "      <td>14.0</td>\n",
              "      <td>NaN</td>\n",
              "      <td>7182</td>\n",
              "    </tr>\n",
              "  </tbody>\n",
              "</table>\n",
              "<p>4998 rows × 11 columns</p>\n",
              "</div>\n",
              "      <button class=\"colab-df-convert\" onclick=\"convertToInteractive('df-4448e991-dd89-43f2-9985-5bd6894d45ff')\"\n",
              "              title=\"Convert this dataframe to an interactive table.\"\n",
              "              style=\"display:none;\">\n",
              "        \n",
              "  <svg xmlns=\"http://www.w3.org/2000/svg\" height=\"24px\"viewBox=\"0 0 24 24\"\n",
              "       width=\"24px\">\n",
              "    <path d=\"M0 0h24v24H0V0z\" fill=\"none\"/>\n",
              "    <path d=\"M18.56 5.44l.94 2.06.94-2.06 2.06-.94-2.06-.94-.94-2.06-.94 2.06-2.06.94zm-11 1L8.5 8.5l.94-2.06 2.06-.94-2.06-.94L8.5 2.5l-.94 2.06-2.06.94zm10 10l.94 2.06.94-2.06 2.06-.94-2.06-.94-.94-2.06-.94 2.06-2.06.94z\"/><path d=\"M17.41 7.96l-1.37-1.37c-.4-.4-.92-.59-1.43-.59-.52 0-1.04.2-1.43.59L10.3 9.45l-7.72 7.72c-.78.78-.78 2.05 0 2.83L4 21.41c.39.39.9.59 1.41.59.51 0 1.02-.2 1.41-.59l7.78-7.78 2.81-2.81c.8-.78.8-2.07 0-2.86zM5.41 20L4 18.59l7.72-7.72 1.47 1.35L5.41 20z\"/>\n",
              "  </svg>\n",
              "      </button>\n",
              "      \n",
              "  <style>\n",
              "    .colab-df-container {\n",
              "      display:flex;\n",
              "      flex-wrap:wrap;\n",
              "      gap: 12px;\n",
              "    }\n",
              "\n",
              "    .colab-df-convert {\n",
              "      background-color: #E8F0FE;\n",
              "      border: none;\n",
              "      border-radius: 50%;\n",
              "      cursor: pointer;\n",
              "      display: none;\n",
              "      fill: #1967D2;\n",
              "      height: 32px;\n",
              "      padding: 0 0 0 0;\n",
              "      width: 32px;\n",
              "    }\n",
              "\n",
              "    .colab-df-convert:hover {\n",
              "      background-color: #E2EBFA;\n",
              "      box-shadow: 0px 1px 2px rgba(60, 64, 67, 0.3), 0px 1px 3px 1px rgba(60, 64, 67, 0.15);\n",
              "      fill: #174EA6;\n",
              "    }\n",
              "\n",
              "    [theme=dark] .colab-df-convert {\n",
              "      background-color: #3B4455;\n",
              "      fill: #D2E3FC;\n",
              "    }\n",
              "\n",
              "    [theme=dark] .colab-df-convert:hover {\n",
              "      background-color: #434B5C;\n",
              "      box-shadow: 0px 1px 3px 1px rgba(0, 0, 0, 0.15);\n",
              "      filter: drop-shadow(0px 1px 2px rgba(0, 0, 0, 0.3));\n",
              "      fill: #FFFFFF;\n",
              "    }\n",
              "  </style>\n",
              "\n",
              "      <script>\n",
              "        const buttonEl =\n",
              "          document.querySelector('#df-4448e991-dd89-43f2-9985-5bd6894d45ff button.colab-df-convert');\n",
              "        buttonEl.style.display =\n",
              "          google.colab.kernel.accessAllowed ? 'block' : 'none';\n",
              "\n",
              "        async function convertToInteractive(key) {\n",
              "          const element = document.querySelector('#df-4448e991-dd89-43f2-9985-5bd6894d45ff');\n",
              "          const dataTable =\n",
              "            await google.colab.kernel.invokeFunction('convertToInteractive',\n",
              "                                                     [key], {});\n",
              "          if (!dataTable) return;\n",
              "\n",
              "          const docLinkHtml = 'Like what you see? Visit the ' +\n",
              "            '<a target=\"_blank\" href=https://colab.research.google.com/notebooks/data_table.ipynb>data table notebook</a>'\n",
              "            + ' to learn more about interactive tables.';\n",
              "          element.innerHTML = '';\n",
              "          dataTable['output_type'] = 'display_data';\n",
              "          await google.colab.output.renderOutput(dataTable, element);\n",
              "          const docLink = document.createElement('div');\n",
              "          docLink.innerHTML = docLinkHtml;\n",
              "          element.appendChild(docLink);\n",
              "        }\n",
              "      </script>\n",
              "    </div>\n",
              "  </div>\n",
              "  "
            ]
          },
          "metadata": {},
          "execution_count": 12
        }
      ]
    },
    {
      "cell_type": "markdown",
      "source": [
        "- `Product_Category_3`\n",
        "\n",
        "  4998개 중에서 결측치에 해당하는 값이 3454개이므로, 전체의 약 70% 정도가 결측치이다. 학습의 정확도를 높이기위해 데이터의 50%이상 즉 절반 이상이 결측치라면 그 컬럼은 삭제하는 것이 좋으므로, 해당 column을 삭제하기로 판단했다."
      ],
      "metadata": {
        "id": "4AbYFdjxwYYo"
      }
    },
    {
      "cell_type": "code",
      "source": [
        "# Product_Category_3\n",
        "\n",
        "# column 제거\n",
        "\n",
        "# df_2 = df_1.drop(columns='Product_Category_3')\n",
        "\n",
        "# df_2"
      ],
      "metadata": {
        "colab": {
          "base_uri": "https://localhost:8080/",
          "height": 574
        },
        "id": "jU6X9zpxp5zY",
        "outputId": "c391d276-9237-4920-fee8-976927968b9b"
      },
      "execution_count": null,
      "outputs": [
        {
          "output_type": "execute_result",
          "data": {
            "text/plain": [
              "     Product_ID Gender   Age  Occupation City_Category  \\\n",
              "0     P00046042      F  0-17          10             A   \n",
              "1     P00347742      F  0-17          10             A   \n",
              "2     P00048942      F  0-17          10             A   \n",
              "3     P00145242      F  0-17          10             A   \n",
              "4     P00106742      F  0-17          10             A   \n",
              "...         ...    ...   ...         ...           ...   \n",
              "4993  P00147942      M   55+           7             C   \n",
              "4994  P00358242      M   55+           1             C   \n",
              "4995  P00173342      M   55+          13             C   \n",
              "4996  P00336742      M   55+           0             C   \n",
              "4997  P00141842      M   55+           6             C   \n",
              "\n",
              "     Stay_In_Current_City_Years  Marital_Status  Product_Category_1  \\\n",
              "0                             3               0                   5   \n",
              "1                             1               0                   7   \n",
              "2                             1               0                   1   \n",
              "3                             3               0                   2   \n",
              "4                             3               0                   3   \n",
              "...                         ...             ...                 ...   \n",
              "4993                          1               1                   1   \n",
              "4994                          1               1                   8   \n",
              "4995                          3               1                   1   \n",
              "4996                          2               1                  12   \n",
              "4997                          0               1                   5   \n",
              "\n",
              "      Product_Category_2  Purchase  \n",
              "0                   17.0      2010  \n",
              "1                    NaN      4483  \n",
              "2                    4.0      7696  \n",
              "3                    4.0     16429  \n",
              "4                    5.0      5780  \n",
              "...                  ...       ...  \n",
              "4993                16.0     11701  \n",
              "4994                 NaN      2045  \n",
              "4995                 6.0      4505  \n",
              "4996                 NaN      1413  \n",
              "4997                14.0      7182  \n",
              "\n",
              "[4998 rows x 10 columns]"
            ],
            "text/html": [
              "\n",
              "  <div id=\"df-678c4b82-c19e-4d8a-b630-c097c659d004\">\n",
              "    <div class=\"colab-df-container\">\n",
              "      <div>\n",
              "<style scoped>\n",
              "    .dataframe tbody tr th:only-of-type {\n",
              "        vertical-align: middle;\n",
              "    }\n",
              "\n",
              "    .dataframe tbody tr th {\n",
              "        vertical-align: top;\n",
              "    }\n",
              "\n",
              "    .dataframe thead th {\n",
              "        text-align: right;\n",
              "    }\n",
              "</style>\n",
              "<table border=\"1\" class=\"dataframe\">\n",
              "  <thead>\n",
              "    <tr style=\"text-align: right;\">\n",
              "      <th></th>\n",
              "      <th>Product_ID</th>\n",
              "      <th>Gender</th>\n",
              "      <th>Age</th>\n",
              "      <th>Occupation</th>\n",
              "      <th>City_Category</th>\n",
              "      <th>Stay_In_Current_City_Years</th>\n",
              "      <th>Marital_Status</th>\n",
              "      <th>Product_Category_1</th>\n",
              "      <th>Product_Category_2</th>\n",
              "      <th>Purchase</th>\n",
              "    </tr>\n",
              "  </thead>\n",
              "  <tbody>\n",
              "    <tr>\n",
              "      <th>0</th>\n",
              "      <td>P00046042</td>\n",
              "      <td>F</td>\n",
              "      <td>0-17</td>\n",
              "      <td>10</td>\n",
              "      <td>A</td>\n",
              "      <td>3</td>\n",
              "      <td>0</td>\n",
              "      <td>5</td>\n",
              "      <td>17.0</td>\n",
              "      <td>2010</td>\n",
              "    </tr>\n",
              "    <tr>\n",
              "      <th>1</th>\n",
              "      <td>P00347742</td>\n",
              "      <td>F</td>\n",
              "      <td>0-17</td>\n",
              "      <td>10</td>\n",
              "      <td>A</td>\n",
              "      <td>1</td>\n",
              "      <td>0</td>\n",
              "      <td>7</td>\n",
              "      <td>NaN</td>\n",
              "      <td>4483</td>\n",
              "    </tr>\n",
              "    <tr>\n",
              "      <th>2</th>\n",
              "      <td>P00048942</td>\n",
              "      <td>F</td>\n",
              "      <td>0-17</td>\n",
              "      <td>10</td>\n",
              "      <td>A</td>\n",
              "      <td>1</td>\n",
              "      <td>0</td>\n",
              "      <td>1</td>\n",
              "      <td>4.0</td>\n",
              "      <td>7696</td>\n",
              "    </tr>\n",
              "    <tr>\n",
              "      <th>3</th>\n",
              "      <td>P00145242</td>\n",
              "      <td>F</td>\n",
              "      <td>0-17</td>\n",
              "      <td>10</td>\n",
              "      <td>A</td>\n",
              "      <td>3</td>\n",
              "      <td>0</td>\n",
              "      <td>2</td>\n",
              "      <td>4.0</td>\n",
              "      <td>16429</td>\n",
              "    </tr>\n",
              "    <tr>\n",
              "      <th>4</th>\n",
              "      <td>P00106742</td>\n",
              "      <td>F</td>\n",
              "      <td>0-17</td>\n",
              "      <td>10</td>\n",
              "      <td>A</td>\n",
              "      <td>3</td>\n",
              "      <td>0</td>\n",
              "      <td>3</td>\n",
              "      <td>5.0</td>\n",
              "      <td>5780</td>\n",
              "    </tr>\n",
              "    <tr>\n",
              "      <th>...</th>\n",
              "      <td>...</td>\n",
              "      <td>...</td>\n",
              "      <td>...</td>\n",
              "      <td>...</td>\n",
              "      <td>...</td>\n",
              "      <td>...</td>\n",
              "      <td>...</td>\n",
              "      <td>...</td>\n",
              "      <td>...</td>\n",
              "      <td>...</td>\n",
              "    </tr>\n",
              "    <tr>\n",
              "      <th>4993</th>\n",
              "      <td>P00147942</td>\n",
              "      <td>M</td>\n",
              "      <td>55+</td>\n",
              "      <td>7</td>\n",
              "      <td>C</td>\n",
              "      <td>1</td>\n",
              "      <td>1</td>\n",
              "      <td>1</td>\n",
              "      <td>16.0</td>\n",
              "      <td>11701</td>\n",
              "    </tr>\n",
              "    <tr>\n",
              "      <th>4994</th>\n",
              "      <td>P00358242</td>\n",
              "      <td>M</td>\n",
              "      <td>55+</td>\n",
              "      <td>1</td>\n",
              "      <td>C</td>\n",
              "      <td>1</td>\n",
              "      <td>1</td>\n",
              "      <td>8</td>\n",
              "      <td>NaN</td>\n",
              "      <td>2045</td>\n",
              "    </tr>\n",
              "    <tr>\n",
              "      <th>4995</th>\n",
              "      <td>P00173342</td>\n",
              "      <td>M</td>\n",
              "      <td>55+</td>\n",
              "      <td>13</td>\n",
              "      <td>C</td>\n",
              "      <td>3</td>\n",
              "      <td>1</td>\n",
              "      <td>1</td>\n",
              "      <td>6.0</td>\n",
              "      <td>4505</td>\n",
              "    </tr>\n",
              "    <tr>\n",
              "      <th>4996</th>\n",
              "      <td>P00336742</td>\n",
              "      <td>M</td>\n",
              "      <td>55+</td>\n",
              "      <td>0</td>\n",
              "      <td>C</td>\n",
              "      <td>2</td>\n",
              "      <td>1</td>\n",
              "      <td>12</td>\n",
              "      <td>NaN</td>\n",
              "      <td>1413</td>\n",
              "    </tr>\n",
              "    <tr>\n",
              "      <th>4997</th>\n",
              "      <td>P00141842</td>\n",
              "      <td>M</td>\n",
              "      <td>55+</td>\n",
              "      <td>6</td>\n",
              "      <td>C</td>\n",
              "      <td>0</td>\n",
              "      <td>1</td>\n",
              "      <td>5</td>\n",
              "      <td>14.0</td>\n",
              "      <td>7182</td>\n",
              "    </tr>\n",
              "  </tbody>\n",
              "</table>\n",
              "<p>4998 rows × 10 columns</p>\n",
              "</div>\n",
              "      <button class=\"colab-df-convert\" onclick=\"convertToInteractive('df-678c4b82-c19e-4d8a-b630-c097c659d004')\"\n",
              "              title=\"Convert this dataframe to an interactive table.\"\n",
              "              style=\"display:none;\">\n",
              "        \n",
              "  <svg xmlns=\"http://www.w3.org/2000/svg\" height=\"24px\"viewBox=\"0 0 24 24\"\n",
              "       width=\"24px\">\n",
              "    <path d=\"M0 0h24v24H0V0z\" fill=\"none\"/>\n",
              "    <path d=\"M18.56 5.44l.94 2.06.94-2.06 2.06-.94-2.06-.94-.94-2.06-.94 2.06-2.06.94zm-11 1L8.5 8.5l.94-2.06 2.06-.94-2.06-.94L8.5 2.5l-.94 2.06-2.06.94zm10 10l.94 2.06.94-2.06 2.06-.94-2.06-.94-.94-2.06-.94 2.06-2.06.94z\"/><path d=\"M17.41 7.96l-1.37-1.37c-.4-.4-.92-.59-1.43-.59-.52 0-1.04.2-1.43.59L10.3 9.45l-7.72 7.72c-.78.78-.78 2.05 0 2.83L4 21.41c.39.39.9.59 1.41.59.51 0 1.02-.2 1.41-.59l7.78-7.78 2.81-2.81c.8-.78.8-2.07 0-2.86zM5.41 20L4 18.59l7.72-7.72 1.47 1.35L5.41 20z\"/>\n",
              "  </svg>\n",
              "      </button>\n",
              "      \n",
              "  <style>\n",
              "    .colab-df-container {\n",
              "      display:flex;\n",
              "      flex-wrap:wrap;\n",
              "      gap: 12px;\n",
              "    }\n",
              "\n",
              "    .colab-df-convert {\n",
              "      background-color: #E8F0FE;\n",
              "      border: none;\n",
              "      border-radius: 50%;\n",
              "      cursor: pointer;\n",
              "      display: none;\n",
              "      fill: #1967D2;\n",
              "      height: 32px;\n",
              "      padding: 0 0 0 0;\n",
              "      width: 32px;\n",
              "    }\n",
              "\n",
              "    .colab-df-convert:hover {\n",
              "      background-color: #E2EBFA;\n",
              "      box-shadow: 0px 1px 2px rgba(60, 64, 67, 0.3), 0px 1px 3px 1px rgba(60, 64, 67, 0.15);\n",
              "      fill: #174EA6;\n",
              "    }\n",
              "\n",
              "    [theme=dark] .colab-df-convert {\n",
              "      background-color: #3B4455;\n",
              "      fill: #D2E3FC;\n",
              "    }\n",
              "\n",
              "    [theme=dark] .colab-df-convert:hover {\n",
              "      background-color: #434B5C;\n",
              "      box-shadow: 0px 1px 3px 1px rgba(0, 0, 0, 0.15);\n",
              "      filter: drop-shadow(0px 1px 2px rgba(0, 0, 0, 0.3));\n",
              "      fill: #FFFFFF;\n",
              "    }\n",
              "  </style>\n",
              "\n",
              "      <script>\n",
              "        const buttonEl =\n",
              "          document.querySelector('#df-678c4b82-c19e-4d8a-b630-c097c659d004 button.colab-df-convert');\n",
              "        buttonEl.style.display =\n",
              "          google.colab.kernel.accessAllowed ? 'block' : 'none';\n",
              "\n",
              "        async function convertToInteractive(key) {\n",
              "          const element = document.querySelector('#df-678c4b82-c19e-4d8a-b630-c097c659d004');\n",
              "          const dataTable =\n",
              "            await google.colab.kernel.invokeFunction('convertToInteractive',\n",
              "                                                     [key], {});\n",
              "          if (!dataTable) return;\n",
              "\n",
              "          const docLinkHtml = 'Like what you see? Visit the ' +\n",
              "            '<a target=\"_blank\" href=https://colab.research.google.com/notebooks/data_table.ipynb>data table notebook</a>'\n",
              "            + ' to learn more about interactive tables.';\n",
              "          element.innerHTML = '';\n",
              "          dataTable['output_type'] = 'display_data';\n",
              "          await google.colab.output.renderOutput(dataTable, element);\n",
              "          const docLink = document.createElement('div');\n",
              "          docLink.innerHTML = docLinkHtml;\n",
              "          element.appendChild(docLink);\n",
              "        }\n",
              "      </script>\n",
              "    </div>\n",
              "  </div>\n",
              "  "
            ]
          },
          "metadata": {},
          "execution_count": 13
        }
      ]
    },
    {
      "cell_type": "markdown",
      "source": [
        "- `Product_Category_2`\n",
        "  \n",
        "  4998개 중에서 결측치에 해당하는 값이 1533개이므로, 전체의 약 30% 정도가 결측치이다. 결측치가 10~50%정도 차지한다면 값을 채워줄 수 있는 기준을 따로 만들어서 처리하는 것이 좋으므로, 결측치를 채우기위한 기준을 생성했다. \n",
        "\n",
        "  - `Product_Category_2`는 제품 분류를 위한 column값이므로, 제품 ID를 나타내는 column값인 `Product_ID`와 깊은 연관성이 있을 것임을 가정하고 `Product_ID`를 기준으로 `Product_Category_2`의 결측치를 채운다.\n",
        "  - 실제로 EDA 과정에서 `Product_ID`과 `Product_Category_2`가 상관관계가 높은지 확인한다.\n"
      ],
      "metadata": {
        "id": "FF1yliISwVLD"
      }
    },
    {
      "cell_type": "code",
      "source": [
        "# Product_Category_2 (1)\n",
        "\n",
        "# Product_ID 고유값 추출\n",
        "\n",
        "product_id = []\n",
        "\n",
        "for i in df.Product_ID.values:\n",
        "    product_id.append(i[:4]) \n",
        "\n",
        "distinct_product_id = list(set(product_id))    \n",
        "distinct_product_id"
      ],
      "metadata": {
        "colab": {
          "base_uri": "https://localhost:8080/"
        },
        "id": "pXU9V_kKoBna",
        "outputId": "103a5174-9040-4e38-b8ef-9ffeb34aaccd"
      },
      "execution_count": null,
      "outputs": [
        {
          "output_type": "execute_result",
          "data": {
            "text/plain": [
              "['P009', 'P000', 'P002', 'P003', 'P001']"
            ]
          },
          "metadata": {},
          "execution_count": 14
        }
      ]
    },
    {
      "cell_type": "code",
      "source": [
        "# Product_Category_2 (2)\n",
        "\n",
        "# 제품 ID 앞 4자리 기준으로 그룹화 진행\n",
        "\n",
        "P003_index = [i for i, value in enumerate(product_id) if value == 'P003']\n",
        "P000_index = [i for i, value in enumerate(product_id) if value == 'P000']\n",
        "P002_index = [i for i, value in enumerate(product_id) if value == 'P002']\n",
        "P009_index = [i for i, value in enumerate(product_id) if value == 'P009']\n",
        "P001_index = [i for i, value in enumerate(product_id) if value == 'P001']\n",
        "\n",
        "print(\"제품 ID가 P003으로 시작하는 제품 개수:\", len(P003_index))\n",
        "print(\"제품 ID가 P000으로 시작하는 제품 개수:\", len(P000_index))\n",
        "print(\"제품 ID가 P002로 시작하는 제품 개수:\", len(P002_index))\n",
        "print(\"제품 ID가 P009로 시작하는 제품 개수:\", len(P009_index))\n",
        "print(\"제품 ID가 P001로 시작하는 제품 개수:\", len(P001_index))\n",
        "print('-'*50)\n",
        "print(len(P003_index)+len(P000_index)+len(P002_index)+len(P009_index)+len(P001_index))"
      ],
      "metadata": {
        "colab": {
          "base_uri": "https://localhost:8080/"
        },
        "id": "MNY5H6Bo5T22",
        "outputId": "df1a43ab-3295-4062-d592-0739d12683ca"
      },
      "execution_count": null,
      "outputs": [
        {
          "output_type": "stream",
          "name": "stdout",
          "text": [
            "제품 ID가 P003으로 시작하는 제품 개수: 718\n",
            "제품 ID가 P000으로 시작하는 제품 개수: 1229\n",
            "제품 ID가 P002로 시작하는 제품 개수: 1282\n",
            "제품 ID가 P009로 시작하는 제품 개수: 82\n",
            "제품 ID가 P001로 시작하는 제품 개수: 1687\n",
            "--------------------------------------------------\n",
            "4998\n"
          ]
        }
      ]
    },
    {
      "cell_type": "code",
      "source": [
        "# Product_Category_2 (3)\n",
        "\n",
        "# 그룹별 Product_Category_2 빈도 확인\n",
        "\n",
        "print(Counter(df.Product_Category_2[P003_index]).most_common()[:3])\n",
        "print(Counter(df.Product_Category_2[P000_index]).most_common()[:3])\n",
        "print(Counter(df.Product_Category_2[P002_index]).most_common()[:3])\n",
        "print(Counter(df.Product_Category_2[P009_index]).most_common()[:3])\n",
        "print(Counter(df.Product_Category_2[P001_index]).most_common()[:3])"
      ],
      "metadata": {
        "colab": {
          "base_uri": "https://localhost:8080/"
        },
        "id": "zQD8GrHI5e56",
        "outputId": "3fab6d80-734a-43a5-bf06-bee360b993e9"
      },
      "execution_count": null,
      "outputs": [
        {
          "output_type": "stream",
          "name": "stdout",
          "text": [
            "[(8.0, 122), (15.0, 60), (14.0, 44)]\n",
            "[(14.0, 189), (16.0, 130), (2.0, 129)]\n",
            "[(8.0, 160), (14.0, 102), (2.0, 97)]\n",
            "[(4.0, 25), (16.0, 11), (8.0, 11)]\n",
            "[(2.0, 201), (8.0, 187), (14.0, 155)]\n"
          ]
        }
      ]
    },
    {
      "cell_type": "markdown",
      "source": [
        "**Output**\n",
        "\n",
        "- `[P003]` : 8.0이 가장 빈도수가 높다.\n",
        "- `[P000]` : 14.0이 가장 빈도수가 높다.\n",
        "- `[P002]` : 8.0이 가장 빈도수가 높다.\n",
        "- `[P009]` : 4.0이 가장 빈도수가 높다.\n",
        "- `[P001]` : 2.0이 가장 빈도수가 높다.\n",
        "\n",
        "  따라서, 각 **빈도수가 가장 높은 값**으로 결측치를 대체한다."
      ],
      "metadata": {
        "id": "iElBhEes6Ba0"
      }
    },
    {
      "cell_type": "code",
      "source": [
        "# Product_Category_2 (4)\n",
        "\n",
        "# Product_Category_2 결측치 채우기\n",
        "\n",
        "df_1 = df.drop(['Product_Category_3', 'User_ID'], axis = 1)\n",
        "\n",
        "for i in P003_index:\n",
        "    if str(df_1.iloc[i, 8]) == 'nan':\n",
        "        df_1.iloc[i, 8] = 8.0\n",
        "for i in P000_index:\n",
        "    if str(df_1.iloc[i, 8]) == 'nan':\n",
        "        df_1.iloc[i, 8] = 14.0\n",
        "for i in P002_index:\n",
        "    if str(df_1.iloc[i, 8]) == 'nan':\n",
        "        df_1.iloc[i, 8] = 8.0\n",
        "for i in P009_index:\n",
        "    if str(df_1.iloc[i, 8]) == 'nan':\n",
        "        df_1.iloc[i, 8] = 4.0\n",
        "for i in P001_index:\n",
        "    if str(df_1.iloc[i, 8]) == 'nan':\n",
        "        df_1.iloc[i, 8] = 2.0\n",
        "\n",
        "df_1"
      ],
      "metadata": {
        "colab": {
          "base_uri": "https://localhost:8080/",
          "height": 574
        },
        "id": "orxrt_Cf6iJ7",
        "outputId": "9df26be8-731b-486d-f4f8-de5945fc04d6"
      },
      "execution_count": null,
      "outputs": [
        {
          "output_type": "execute_result",
          "data": {
            "text/plain": [
              "     Product_ID Gender   Age  Occupation City_Category  \\\n",
              "0     P00046042      F  0-17          10             A   \n",
              "1     P00347742      F  0-17          10             A   \n",
              "2     P00048942      F  0-17          10             A   \n",
              "3     P00145242      F  0-17          10             A   \n",
              "4     P00106742      F  0-17          10             A   \n",
              "...         ...    ...   ...         ...           ...   \n",
              "4993  P00147942      M   55+           7             C   \n",
              "4994  P00358242      M   55+           1             C   \n",
              "4995  P00173342      M   55+          13             C   \n",
              "4996  P00336742      M   55+           0             C   \n",
              "4997  P00141842      M   55+           6             C   \n",
              "\n",
              "     Stay_In_Current_City_Years  Marital_Status  Product_Category_1  \\\n",
              "0                             3               0                   5   \n",
              "1                             1               0                   7   \n",
              "2                             1               0                   1   \n",
              "3                             3               0                   2   \n",
              "4                             3               0                   3   \n",
              "...                         ...             ...                 ...   \n",
              "4993                          1               1                   1   \n",
              "4994                          1               1                   8   \n",
              "4995                          3               1                   1   \n",
              "4996                          2               1                  12   \n",
              "4997                          0               1                   5   \n",
              "\n",
              "      Product_Category_2  Purchase  \n",
              "0                   17.0      2010  \n",
              "1                    8.0      4483  \n",
              "2                    4.0      7696  \n",
              "3                    4.0     16429  \n",
              "4                    5.0      5780  \n",
              "...                  ...       ...  \n",
              "4993                16.0     11701  \n",
              "4994                 8.0      2045  \n",
              "4995                 6.0      4505  \n",
              "4996                 8.0      1413  \n",
              "4997                14.0      7182  \n",
              "\n",
              "[4998 rows x 10 columns]"
            ],
            "text/html": [
              "\n",
              "  <div id=\"df-aaed6ec7-ac17-457c-bbf0-c8d3edf522d4\">\n",
              "    <div class=\"colab-df-container\">\n",
              "      <div>\n",
              "<style scoped>\n",
              "    .dataframe tbody tr th:only-of-type {\n",
              "        vertical-align: middle;\n",
              "    }\n",
              "\n",
              "    .dataframe tbody tr th {\n",
              "        vertical-align: top;\n",
              "    }\n",
              "\n",
              "    .dataframe thead th {\n",
              "        text-align: right;\n",
              "    }\n",
              "</style>\n",
              "<table border=\"1\" class=\"dataframe\">\n",
              "  <thead>\n",
              "    <tr style=\"text-align: right;\">\n",
              "      <th></th>\n",
              "      <th>Product_ID</th>\n",
              "      <th>Gender</th>\n",
              "      <th>Age</th>\n",
              "      <th>Occupation</th>\n",
              "      <th>City_Category</th>\n",
              "      <th>Stay_In_Current_City_Years</th>\n",
              "      <th>Marital_Status</th>\n",
              "      <th>Product_Category_1</th>\n",
              "      <th>Product_Category_2</th>\n",
              "      <th>Purchase</th>\n",
              "    </tr>\n",
              "  </thead>\n",
              "  <tbody>\n",
              "    <tr>\n",
              "      <th>0</th>\n",
              "      <td>P00046042</td>\n",
              "      <td>F</td>\n",
              "      <td>0-17</td>\n",
              "      <td>10</td>\n",
              "      <td>A</td>\n",
              "      <td>3</td>\n",
              "      <td>0</td>\n",
              "      <td>5</td>\n",
              "      <td>17.0</td>\n",
              "      <td>2010</td>\n",
              "    </tr>\n",
              "    <tr>\n",
              "      <th>1</th>\n",
              "      <td>P00347742</td>\n",
              "      <td>F</td>\n",
              "      <td>0-17</td>\n",
              "      <td>10</td>\n",
              "      <td>A</td>\n",
              "      <td>1</td>\n",
              "      <td>0</td>\n",
              "      <td>7</td>\n",
              "      <td>8.0</td>\n",
              "      <td>4483</td>\n",
              "    </tr>\n",
              "    <tr>\n",
              "      <th>2</th>\n",
              "      <td>P00048942</td>\n",
              "      <td>F</td>\n",
              "      <td>0-17</td>\n",
              "      <td>10</td>\n",
              "      <td>A</td>\n",
              "      <td>1</td>\n",
              "      <td>0</td>\n",
              "      <td>1</td>\n",
              "      <td>4.0</td>\n",
              "      <td>7696</td>\n",
              "    </tr>\n",
              "    <tr>\n",
              "      <th>3</th>\n",
              "      <td>P00145242</td>\n",
              "      <td>F</td>\n",
              "      <td>0-17</td>\n",
              "      <td>10</td>\n",
              "      <td>A</td>\n",
              "      <td>3</td>\n",
              "      <td>0</td>\n",
              "      <td>2</td>\n",
              "      <td>4.0</td>\n",
              "      <td>16429</td>\n",
              "    </tr>\n",
              "    <tr>\n",
              "      <th>4</th>\n",
              "      <td>P00106742</td>\n",
              "      <td>F</td>\n",
              "      <td>0-17</td>\n",
              "      <td>10</td>\n",
              "      <td>A</td>\n",
              "      <td>3</td>\n",
              "      <td>0</td>\n",
              "      <td>3</td>\n",
              "      <td>5.0</td>\n",
              "      <td>5780</td>\n",
              "    </tr>\n",
              "    <tr>\n",
              "      <th>...</th>\n",
              "      <td>...</td>\n",
              "      <td>...</td>\n",
              "      <td>...</td>\n",
              "      <td>...</td>\n",
              "      <td>...</td>\n",
              "      <td>...</td>\n",
              "      <td>...</td>\n",
              "      <td>...</td>\n",
              "      <td>...</td>\n",
              "      <td>...</td>\n",
              "    </tr>\n",
              "    <tr>\n",
              "      <th>4993</th>\n",
              "      <td>P00147942</td>\n",
              "      <td>M</td>\n",
              "      <td>55+</td>\n",
              "      <td>7</td>\n",
              "      <td>C</td>\n",
              "      <td>1</td>\n",
              "      <td>1</td>\n",
              "      <td>1</td>\n",
              "      <td>16.0</td>\n",
              "      <td>11701</td>\n",
              "    </tr>\n",
              "    <tr>\n",
              "      <th>4994</th>\n",
              "      <td>P00358242</td>\n",
              "      <td>M</td>\n",
              "      <td>55+</td>\n",
              "      <td>1</td>\n",
              "      <td>C</td>\n",
              "      <td>1</td>\n",
              "      <td>1</td>\n",
              "      <td>8</td>\n",
              "      <td>8.0</td>\n",
              "      <td>2045</td>\n",
              "    </tr>\n",
              "    <tr>\n",
              "      <th>4995</th>\n",
              "      <td>P00173342</td>\n",
              "      <td>M</td>\n",
              "      <td>55+</td>\n",
              "      <td>13</td>\n",
              "      <td>C</td>\n",
              "      <td>3</td>\n",
              "      <td>1</td>\n",
              "      <td>1</td>\n",
              "      <td>6.0</td>\n",
              "      <td>4505</td>\n",
              "    </tr>\n",
              "    <tr>\n",
              "      <th>4996</th>\n",
              "      <td>P00336742</td>\n",
              "      <td>M</td>\n",
              "      <td>55+</td>\n",
              "      <td>0</td>\n",
              "      <td>C</td>\n",
              "      <td>2</td>\n",
              "      <td>1</td>\n",
              "      <td>12</td>\n",
              "      <td>8.0</td>\n",
              "      <td>1413</td>\n",
              "    </tr>\n",
              "    <tr>\n",
              "      <th>4997</th>\n",
              "      <td>P00141842</td>\n",
              "      <td>M</td>\n",
              "      <td>55+</td>\n",
              "      <td>6</td>\n",
              "      <td>C</td>\n",
              "      <td>0</td>\n",
              "      <td>1</td>\n",
              "      <td>5</td>\n",
              "      <td>14.0</td>\n",
              "      <td>7182</td>\n",
              "    </tr>\n",
              "  </tbody>\n",
              "</table>\n",
              "<p>4998 rows × 10 columns</p>\n",
              "</div>\n",
              "      <button class=\"colab-df-convert\" onclick=\"convertToInteractive('df-aaed6ec7-ac17-457c-bbf0-c8d3edf522d4')\"\n",
              "              title=\"Convert this dataframe to an interactive table.\"\n",
              "              style=\"display:none;\">\n",
              "        \n",
              "  <svg xmlns=\"http://www.w3.org/2000/svg\" height=\"24px\"viewBox=\"0 0 24 24\"\n",
              "       width=\"24px\">\n",
              "    <path d=\"M0 0h24v24H0V0z\" fill=\"none\"/>\n",
              "    <path d=\"M18.56 5.44l.94 2.06.94-2.06 2.06-.94-2.06-.94-.94-2.06-.94 2.06-2.06.94zm-11 1L8.5 8.5l.94-2.06 2.06-.94-2.06-.94L8.5 2.5l-.94 2.06-2.06.94zm10 10l.94 2.06.94-2.06 2.06-.94-2.06-.94-.94-2.06-.94 2.06-2.06.94z\"/><path d=\"M17.41 7.96l-1.37-1.37c-.4-.4-.92-.59-1.43-.59-.52 0-1.04.2-1.43.59L10.3 9.45l-7.72 7.72c-.78.78-.78 2.05 0 2.83L4 21.41c.39.39.9.59 1.41.59.51 0 1.02-.2 1.41-.59l7.78-7.78 2.81-2.81c.8-.78.8-2.07 0-2.86zM5.41 20L4 18.59l7.72-7.72 1.47 1.35L5.41 20z\"/>\n",
              "  </svg>\n",
              "      </button>\n",
              "      \n",
              "  <style>\n",
              "    .colab-df-container {\n",
              "      display:flex;\n",
              "      flex-wrap:wrap;\n",
              "      gap: 12px;\n",
              "    }\n",
              "\n",
              "    .colab-df-convert {\n",
              "      background-color: #E8F0FE;\n",
              "      border: none;\n",
              "      border-radius: 50%;\n",
              "      cursor: pointer;\n",
              "      display: none;\n",
              "      fill: #1967D2;\n",
              "      height: 32px;\n",
              "      padding: 0 0 0 0;\n",
              "      width: 32px;\n",
              "    }\n",
              "\n",
              "    .colab-df-convert:hover {\n",
              "      background-color: #E2EBFA;\n",
              "      box-shadow: 0px 1px 2px rgba(60, 64, 67, 0.3), 0px 1px 3px 1px rgba(60, 64, 67, 0.15);\n",
              "      fill: #174EA6;\n",
              "    }\n",
              "\n",
              "    [theme=dark] .colab-df-convert {\n",
              "      background-color: #3B4455;\n",
              "      fill: #D2E3FC;\n",
              "    }\n",
              "\n",
              "    [theme=dark] .colab-df-convert:hover {\n",
              "      background-color: #434B5C;\n",
              "      box-shadow: 0px 1px 3px 1px rgba(0, 0, 0, 0.15);\n",
              "      filter: drop-shadow(0px 1px 2px rgba(0, 0, 0, 0.3));\n",
              "      fill: #FFFFFF;\n",
              "    }\n",
              "  </style>\n",
              "\n",
              "      <script>\n",
              "        const buttonEl =\n",
              "          document.querySelector('#df-aaed6ec7-ac17-457c-bbf0-c8d3edf522d4 button.colab-df-convert');\n",
              "        buttonEl.style.display =\n",
              "          google.colab.kernel.accessAllowed ? 'block' : 'none';\n",
              "\n",
              "        async function convertToInteractive(key) {\n",
              "          const element = document.querySelector('#df-aaed6ec7-ac17-457c-bbf0-c8d3edf522d4');\n",
              "          const dataTable =\n",
              "            await google.colab.kernel.invokeFunction('convertToInteractive',\n",
              "                                                     [key], {});\n",
              "          if (!dataTable) return;\n",
              "\n",
              "          const docLinkHtml = 'Like what you see? Visit the ' +\n",
              "            '<a target=\"_blank\" href=https://colab.research.google.com/notebooks/data_table.ipynb>data table notebook</a>'\n",
              "            + ' to learn more about interactive tables.';\n",
              "          element.innerHTML = '';\n",
              "          dataTable['output_type'] = 'display_data';\n",
              "          await google.colab.output.renderOutput(dataTable, element);\n",
              "          const docLink = document.createElement('div');\n",
              "          docLink.innerHTML = docLinkHtml;\n",
              "          element.appendChild(docLink);\n",
              "        }\n",
              "      </script>\n",
              "    </div>\n",
              "  </div>\n",
              "  "
            ]
          },
          "metadata": {},
          "execution_count": 18
        }
      ]
    },
    {
      "cell_type": "code",
      "source": [
        "# 결측치 확인\n",
        "df_1.isnull().sum()"
      ],
      "metadata": {
        "colab": {
          "base_uri": "https://localhost:8080/"
        },
        "id": "jKhYhbJh8vP5",
        "outputId": "2b66eab9-b396-46f7-e27f-b5a0b6d7918e"
      },
      "execution_count": null,
      "outputs": [
        {
          "output_type": "execute_result",
          "data": {
            "text/plain": [
              "Product_ID                    0\n",
              "Gender                        0\n",
              "Age                           0\n",
              "Occupation                    0\n",
              "City_Category                 0\n",
              "Stay_In_Current_City_Years    0\n",
              "Marital_Status                0\n",
              "Product_Category_1            0\n",
              "Product_Category_2            0\n",
              "Purchase                      0\n",
              "dtype: int64"
            ]
          },
          "metadata": {},
          "execution_count": 19
        }
      ]
    },
    {
      "cell_type": "markdown",
      "source": [
        "**Ouput**\n",
        "\n",
        "모든 column값들에 더이상 결측치가 없음을 확인했다."
      ],
      "metadata": {
        "id": "R6o80iuQ80y8"
      }
    },
    {
      "cell_type": "code",
      "source": [
        "# Product_Category_2\n",
        "plt.figure(figsize=(20,10))\n",
        "sns.countplot(x = 'Product_Category_2',data = df_1)"
      ],
      "metadata": {
        "colab": {
          "base_uri": "https://localhost:8080/",
          "height": 576
        },
        "id": "20dq1_X_FVVy",
        "outputId": "9e3c3d44-336a-41cc-b792-fb46ba48a4b6"
      },
      "execution_count": null,
      "outputs": [
        {
          "output_type": "execute_result",
          "data": {
            "text/plain": [
              "<matplotlib.axes._subplots.AxesSubplot at 0x7f7b8c33ff50>"
            ]
          },
          "metadata": {},
          "execution_count": 60
        },
        {
          "output_type": "display_data",
          "data": {
            "text/plain": [
              "<Figure size 1440x720 with 1 Axes>"
            ],
            "image/png": "[encoded data removed]"
          },
          "metadata": {
            "needs_background": "light"
          }
        }
      ]
    },
    {
      "cell_type": "markdown",
      "source": [
        "**Output**\n",
        "\n",
        "`Product_Category_2`에서는 2, 8, 14의 개수가 가장 많다."
      ],
      "metadata": {
        "id": "gPb-VUE_Fuss"
      }
    },
    {
      "cell_type": "markdown",
      "source": [
        "(2) One-hot Encoding"
      ],
      "metadata": {
        "id": "IBUzY56yyr6x"
      }
    },
    {
      "cell_type": "code",
      "source": [
        "# 범주형 자료 확인\n",
        "cate_cols = []\n",
        "for column in data.columns:\n",
        "    if data[column].dtype == object:\n",
        "        cate_cols.append(column)\n",
        "        print('##########################################################')\n",
        "        print(f'{column} : {data[column].unique()}')\n",
        "        print(f'{data[column].value_counts()}')\n",
        "        print()\n",
        "        \n",
        "print()\n",
        "print(f'Number of categorical column : {len(cate_cols)}')"
      ],
      "metadata": {
        "colab": {
          "base_uri": "https://localhost:8080/"
        },
        "id": "oC9nwUJkyu2u",
        "outputId": "3b3db71c-01da-4682-c127-84df3fb4fd32"
      },
      "execution_count": null,
      "outputs": [
        {
          "output_type": "stream",
          "name": "stdout",
          "text": [
            "##########################################################\n",
            "Product_ID : ['P00046042' 'P00347742' 'P00048942' ... 'P00267142' 'P00085842'\n",
            " 'P00358242']\n",
            "P00265242    21\n",
            "P00220442    16\n",
            "P00114942    15\n",
            "P00010742    15\n",
            "P00148642    15\n",
            "             ..\n",
            "P00072342     1\n",
            "P00037842     1\n",
            "P00207042     1\n",
            "P00129742     1\n",
            "P00358242     1\n",
            "Name: Product_ID, Length: 1797, dtype: int64\n",
            "\n",
            "##########################################################\n",
            "Gender : ['F' 'M']\n",
            "M    3765\n",
            "F    1233\n",
            "Name: Gender, dtype: int64\n",
            "\n",
            "##########################################################\n",
            "Age : ['0-17' '18-25' '26-35' '36-45' '46-50' '51-55' '55+']\n",
            "26-35    1996\n",
            "36-45    1000\n",
            "18-25     906\n",
            "46-50     414\n",
            "51-55     350\n",
            "55+       195\n",
            "0-17      137\n",
            "Name: Age, dtype: int64\n",
            "\n",
            "##########################################################\n",
            "City_Category : ['A' 'B' 'C']\n",
            "B    2102\n",
            "C    1555\n",
            "A    1341\n",
            "Name: City_Category, dtype: int64\n",
            "\n",
            "##########################################################\n",
            "Stay_In_Current_City_Years : ['3' '1' '2' '4+' '0']\n",
            "1     1758\n",
            "2      915\n",
            "3      908\n",
            "4+     742\n",
            "0      675\n",
            "Name: Stay_In_Current_City_Years, dtype: int64\n",
            "\n",
            "\n",
            "Number of categorical column : 5\n"
          ]
        }
      ]
    },
    {
      "cell_type": "markdown",
      "source": [
        "**Output**\n",
        "\n",
        "`Product_ID`, `Gender, Age`, `Occupation`, `City_Category`, `Stay_In_Current_City_Years`, `Product_Category_1`, `Product_Category_2`에 대해 One-hot Encoding을 진행해야한다.\n",
        "- `Product_ID` 제외한 항목들 : One-hot Encoding 그대로 진행\n",
        "- `Product_ID` : 앞에서 그룹화한 방식대로 One-hot Encoding 진행"
      ],
      "metadata": {
        "id": "5xKQYlQ6F7Hf"
      }
    },
    {
      "cell_type": "code",
      "source": [
        "# One-hot Encoding (Product_ID 제외)\n",
        "\n",
        "categorical_1 = ['Gender', 'Age', 'Occupation', 'City_Category', \n",
        "                 'Stay_In_Current_City_Years', 'Product_Category_1', 'Product_Category_2']\n",
        "\n",
        "encoder_1 = OneHotEncoder().fit(df_1[categorical_1])\n",
        "\n",
        "encoder_1.get_feature_names(categorical_1)"
      ],
      "metadata": {
        "colab": {
          "base_uri": "https://localhost:8080/"
        },
        "id": "i_qbdwyPF66y",
        "outputId": "1d84c0e1-f999-48ab-a076-a72a07e95799"
      },
      "execution_count": null,
      "outputs": [
        {
          "output_type": "execute_result",
          "data": {
            "text/plain": [
              "array(['Gender_F', 'Gender_M', 'Age_0-17', 'Age_18-25', 'Age_26-35',\n",
              "       'Age_36-45', 'Age_46-50', 'Age_51-55', 'Age_55+', 'Occupation_0',\n",
              "       'Occupation_1', 'Occupation_2', 'Occupation_3', 'Occupation_4',\n",
              "       'Occupation_5', 'Occupation_6', 'Occupation_7', 'Occupation_8',\n",
              "       'Occupation_9', 'Occupation_10', 'Occupation_11', 'Occupation_12',\n",
              "       'Occupation_13', 'Occupation_14', 'Occupation_15', 'Occupation_16',\n",
              "       'Occupation_17', 'Occupation_18', 'Occupation_19', 'Occupation_20',\n",
              "       'City_Category_A', 'City_Category_B', 'City_Category_C',\n",
              "       'Stay_In_Current_City_Years_0', 'Stay_In_Current_City_Years_1',\n",
              "       'Stay_In_Current_City_Years_2', 'Stay_In_Current_City_Years_3',\n",
              "       'Stay_In_Current_City_Years_4+', 'Product_Category_1_1',\n",
              "       'Product_Category_1_2', 'Product_Category_1_3',\n",
              "       'Product_Category_1_4', 'Product_Category_1_5',\n",
              "       'Product_Category_1_6', 'Product_Category_1_7',\n",
              "       'Product_Category_1_8', 'Product_Category_1_9',\n",
              "       'Product_Category_1_10', 'Product_Category_1_11',\n",
              "       'Product_Category_1_12', 'Product_Category_1_13',\n",
              "       'Product_Category_1_14', 'Product_Category_1_15',\n",
              "       'Product_Category_1_16', 'Product_Category_1_17',\n",
              "       'Product_Category_1_18', 'Product_Category_1_19',\n",
              "       'Product_Category_1_20', 'Product_Category_2_2.0',\n",
              "       'Product_Category_2_3.0', 'Product_Category_2_4.0',\n",
              "       'Product_Category_2_5.0', 'Product_Category_2_6.0',\n",
              "       'Product_Category_2_7.0', 'Product_Category_2_8.0',\n",
              "       'Product_Category_2_9.0', 'Product_Category_2_10.0',\n",
              "       'Product_Category_2_11.0', 'Product_Category_2_12.0',\n",
              "       'Product_Category_2_13.0', 'Product_Category_2_14.0',\n",
              "       'Product_Category_2_15.0', 'Product_Category_2_16.0',\n",
              "       'Product_Category_2_17.0', 'Product_Category_2_18.0'], dtype=object)"
            ]
          },
          "metadata": {},
          "execution_count": 67
        }
      ]
    },
    {
      "cell_type": "code",
      "source": [
        "# One-hot Encoding (Product_ID)\n",
        "\n",
        "for i in P003_index:     \n",
        "    df_1.iloc[i, 0] = 3\n",
        "for i in P000_index:\n",
        "    df_1.iloc[i, 0] = 0\n",
        "for i in P002_index:\n",
        "    df_1.iloc[i, 0] = 2\n",
        "for i in P009_index:\n",
        "    df_1.iloc[i, 0] = 9\n",
        "for i in P001_index:\n",
        "    df_1.iloc[i, 0] = 1\n",
        "\n",
        "encoder_2 = OneHotEncoder().fit(df_1[['Product_ID']])\n",
        "\n",
        "encoder_2.get_feature_names(['Product_ID'])"
      ],
      "metadata": {
        "colab": {
          "base_uri": "https://localhost:8080/"
        },
        "id": "Y7lp-lLlEmyp",
        "outputId": "99607cb6-735b-4eaa-c6e9-dc0148a8a282"
      },
      "execution_count": null,
      "outputs": [
        {
          "output_type": "execute_result",
          "data": {
            "text/plain": [
              "array(['Product_ID_0', 'Product_ID_1', 'Product_ID_2', 'Product_ID_3',\n",
              "       'Product_ID_9'], dtype=object)"
            ]
          },
          "metadata": {},
          "execution_count": 68
        }
      ]
    },
    {
      "cell_type": "code",
      "source": [
        "# 최종 Dataframe 병합\n",
        "\n",
        "# One-hot Encoding (Product_ID 제외)을 Dataframe으로 변환\n",
        "endcoded_data_1 = pd.DataFrame(encoder_1.transform(df_1[categorical_1]).toarray(),\n",
        "                               index = df_1.index,\n",
        "                               columns = encoder_1.get_feature_names(categorical_1))  \n",
        "\n",
        "# One-hot Encoding (Product_ID)을 Dataframe으로 변환\n",
        "endcoded_data_2 = pd.DataFrame(encoder_2.transform(df_1[['Product_ID']]).toarray(),\n",
        "                               index = df_1.index,\n",
        "                               columns = encoder_2.get_feature_names(['Product_ID']))\n",
        "\n",
        "df_2 = pd.concat([df_1, endcoded_data_1], sort = False, axis = 1)\n",
        "df_3 = pd.concat([df_2, endcoded_data_2], sort = False, axis = 1)\n",
        "\n",
        "# 위에서 만들어진 DataFrame과 기존 DataFrame concat한 후, One-Hot-Encoding 이전 Categorical Column들은 drop 진행\n",
        "df_3 = df_3.drop(['Product_ID', 'Gender', 'Age', 'Occupation', 'City_Category',\n",
        "                  'Stay_In_Current_City_Years', 'Product_Category_1', 'Product_Category_2'], axis = 1)\n",
        "\n",
        "df_3"
      ],
      "metadata": {
        "colab": {
          "base_uri": "https://localhost:8080/",
          "height": 505
        },
        "id": "2h0ZTB5WI0PJ",
        "outputId": "2e414e8b-e87e-4ae2-fb83-fda1ed871601"
      },
      "execution_count": null,
      "outputs": [
        {
          "output_type": "execute_result",
          "data": {
            "text/plain": [
              "      Marital_Status  Purchase  Gender_F  Gender_M  Age_0-17  Age_18-25  \\\n",
              "0                  0      2010       1.0       0.0       1.0        0.0   \n",
              "1                  0      4483       1.0       0.0       1.0        0.0   \n",
              "2                  0      7696       1.0       0.0       1.0        0.0   \n",
              "3                  0     16429       1.0       0.0       1.0        0.0   \n",
              "4                  0      5780       1.0       0.0       1.0        0.0   \n",
              "...              ...       ...       ...       ...       ...        ...   \n",
              "4993               1     11701       0.0       1.0       0.0        0.0   \n",
              "4994               1      2045       0.0       1.0       0.0        0.0   \n",
              "4995               1      4505       0.0       1.0       0.0        0.0   \n",
              "4996               1      1413       0.0       1.0       0.0        0.0   \n",
              "4997               1      7182       0.0       1.0       0.0        0.0   \n",
              "\n",
              "      Age_26-35  Age_36-45  Age_46-50  Age_51-55  ...  \\\n",
              "0           0.0        0.0        0.0        0.0  ...   \n",
              "1           0.0        0.0        0.0        0.0  ...   \n",
              "2           0.0        0.0        0.0        0.0  ...   \n",
              "3           0.0        0.0        0.0        0.0  ...   \n",
              "4           0.0        0.0        0.0        0.0  ...   \n",
              "...         ...        ...        ...        ...  ...   \n",
              "4993        0.0        0.0        0.0        0.0  ...   \n",
              "4994        0.0        0.0        0.0        0.0  ...   \n",
              "4995        0.0        0.0        0.0        0.0  ...   \n",
              "4996        0.0        0.0        0.0        0.0  ...   \n",
              "4997        0.0        0.0        0.0        0.0  ...   \n",
              "\n",
              "      Product_Category_2_14.0  Product_Category_2_15.0  \\\n",
              "0                         0.0                      0.0   \n",
              "1                         0.0                      0.0   \n",
              "2                         0.0                      0.0   \n",
              "3                         0.0                      0.0   \n",
              "4                         0.0                      0.0   \n",
              "...                       ...                      ...   \n",
              "4993                      0.0                      0.0   \n",
              "4994                      0.0                      0.0   \n",
              "4995                      0.0                      0.0   \n",
              "4996                      0.0                      0.0   \n",
              "4997                      1.0                      0.0   \n",
              "\n",
              "      Product_Category_2_16.0  Product_Category_2_17.0  \\\n",
              "0                         0.0                      1.0   \n",
              "1                         0.0                      0.0   \n",
              "2                         0.0                      0.0   \n",
              "3                         0.0                      0.0   \n",
              "4                         0.0                      0.0   \n",
              "...                       ...                      ...   \n",
              "4993                      1.0                      0.0   \n",
              "4994                      0.0                      0.0   \n",
              "4995                      0.0                      0.0   \n",
              "4996                      0.0                      0.0   \n",
              "4997                      0.0                      0.0   \n",
              "\n",
              "      Product_Category_2_18.0  Product_ID_0  Product_ID_1  Product_ID_2  \\\n",
              "0                         0.0           1.0           0.0           0.0   \n",
              "1                         0.0           0.0           0.0           0.0   \n",
              "2                         0.0           1.0           0.0           0.0   \n",
              "3                         0.0           0.0           1.0           0.0   \n",
              "4                         0.0           0.0           1.0           0.0   \n",
              "...                       ...           ...           ...           ...   \n",
              "4993                      0.0           0.0           1.0           0.0   \n",
              "4994                      0.0           0.0           0.0           0.0   \n",
              "4995                      0.0           0.0           1.0           0.0   \n",
              "4996                      0.0           0.0           0.0           0.0   \n",
              "4997                      0.0           0.0           1.0           0.0   \n",
              "\n",
              "      Product_ID_3  Product_ID_9  \n",
              "0              0.0           0.0  \n",
              "1              1.0           0.0  \n",
              "2              0.0           0.0  \n",
              "3              0.0           0.0  \n",
              "4              0.0           0.0  \n",
              "...            ...           ...  \n",
              "4993           0.0           0.0  \n",
              "4994           1.0           0.0  \n",
              "4995           0.0           0.0  \n",
              "4996           1.0           0.0  \n",
              "4997           0.0           0.0  \n",
              "\n",
              "[4998 rows x 82 columns]"
            ],
            "text/html": [
              "\n",
              "  <div id=\"df-842f30c7-63b6-4345-a4ab-1e37bfed3103\">\n",
              "    <div class=\"colab-df-container\">\n",
              "      <div>\n",
              "<style scoped>\n",
              "    .dataframe tbody tr th:only-of-type {\n",
              "        vertical-align: middle;\n",
              "    }\n",
              "\n",
              "    .dataframe tbody tr th {\n",
              "        vertical-align: top;\n",
              "    }\n",
              "\n",
              "    .dataframe thead th {\n",
              "        text-align: right;\n",
              "    }\n",
              "</style>\n",
              "<table border=\"1\" class=\"dataframe\">\n",
              "  <thead>\n",
              "    <tr style=\"text-align: right;\">\n",
              "      <th></th>\n",
              "      <th>Marital_Status</th>\n",
              "      <th>Purchase</th>\n",
              "      <th>Gender_F</th>\n",
              "      <th>Gender_M</th>\n",
              "      <th>Age_0-17</th>\n",
              "      <th>Age_18-25</th>\n",
              "      <th>Age_26-35</th>\n",
              "      <th>Age_36-45</th>\n",
              "      <th>Age_46-50</th>\n",
              "      <th>Age_51-55</th>\n",
              "      <th>...</th>\n",
              "      <th>Product_Category_2_14.0</th>\n",
              "      <th>Product_Category_2_15.0</th>\n",
              "      <th>Product_Category_2_16.0</th>\n",
              "      <th>Product_Category_2_17.0</th>\n",
              "      <th>Product_Category_2_18.0</th>\n",
              "      <th>Product_ID_0</th>\n",
              "      <th>Product_ID_1</th>\n",
              "      <th>Product_ID_2</th>\n",
              "      <th>Product_ID_3</th>\n",
              "      <th>Product_ID_9</th>\n",
              "    </tr>\n",
              "  </thead>\n",
              "  <tbody>\n",
              "    <tr>\n",
              "      <th>0</th>\n",
              "      <td>0</td>\n",
              "      <td>2010</td>\n",
              "      <td>1.0</td>\n",
              "      <td>0.0</td>\n",
              "      <td>1.0</td>\n",
              "      <td>0.0</td>\n",
              "      <td>0.0</td>\n",
              "      <td>0.0</td>\n",
              "      <td>0.0</td>\n",
              "      <td>0.0</td>\n",
              "      <td>...</td>\n",
              "      <td>0.0</td>\n",
              "      <td>0.0</td>\n",
              "      <td>0.0</td>\n",
              "      <td>1.0</td>\n",
              "      <td>0.0</td>\n",
              "      <td>1.0</td>\n",
              "      <td>0.0</td>\n",
              "      <td>0.0</td>\n",
              "      <td>0.0</td>\n",
              "      <td>0.0</td>\n",
              "    </tr>\n",
              "    <tr>\n",
              "      <th>1</th>\n",
              "      <td>0</td>\n",
              "      <td>4483</td>\n",
              "      <td>1.0</td>\n",
              "      <td>0.0</td>\n",
              "      <td>1.0</td>\n",
              "      <td>0.0</td>\n",
              "      <td>0.0</td>\n",
              "      <td>0.0</td>\n",
              "      <td>0.0</td>\n",
              "      <td>0.0</td>\n",
              "      <td>...</td>\n",
              "      <td>0.0</td>\n",
              "      <td>0.0</td>\n",
              "      <td>0.0</td>\n",
              "      <td>0.0</td>\n",
              "      <td>0.0</td>\n",
              "      <td>0.0</td>\n",
              "      <td>0.0</td>\n",
              "      <td>0.0</td>\n",
              "      <td>1.0</td>\n",
              "      <td>0.0</td>\n",
              "    </tr>\n",
              "    <tr>\n",
              "      <th>2</th>\n",
              "      <td>0</td>\n",
              "      <td>7696</td>\n",
              "      <td>1.0</td>\n",
              "      <td>0.0</td>\n",
              "      <td>1.0</td>\n",
              "      <td>0.0</td>\n",
              "      <td>0.0</td>\n",
              "      <td>0.0</td>\n",
              "      <td>0.0</td>\n",
              "      <td>0.0</td>\n",
              "      <td>...</td>\n",
              "      <td>0.0</td>\n",
              "      <td>0.0</td>\n",
              "      <td>0.0</td>\n",
              "      <td>0.0</td>\n",
              "      <td>0.0</td>\n",
              "      <td>1.0</td>\n",
              "      <td>0.0</td>\n",
              "      <td>0.0</td>\n",
              "      <td>0.0</td>\n",
              "      <td>0.0</td>\n",
              "    </tr>\n",
              "    <tr>\n",
              "      <th>3</th>\n",
              "      <td>0</td>\n",
              "      <td>16429</td>\n",
              "      <td>1.0</td>\n",
              "      <td>0.0</td>\n",
              "      <td>1.0</td>\n",
              "      <td>0.0</td>\n",
              "      <td>0.0</td>\n",
              "      <td>0.0</td>\n",
              "      <td>0.0</td>\n",
              "      <td>0.0</td>\n",
              "      <td>...</td>\n",
              "      <td>0.0</td>\n",
              "      <td>0.0</td>\n",
              "      <td>0.0</td>\n",
              "      <td>0.0</td>\n",
              "      <td>0.0</td>\n",
              "      <td>0.0</td>\n",
              "      <td>1.0</td>\n",
              "      <td>0.0</td>\n",
              "      <td>0.0</td>\n",
              "      <td>0.0</td>\n",
              "    </tr>\n",
              "    <tr>\n",
              "      <th>4</th>\n",
              "      <td>0</td>\n",
              "      <td>5780</td>\n",
              "      <td>1.0</td>\n",
              "      <td>0.0</td>\n",
              "      <td>1.0</td>\n",
              "      <td>0.0</td>\n",
              "      <td>0.0</td>\n",
              "      <td>0.0</td>\n",
              "      <td>0.0</td>\n",
              "      <td>0.0</td>\n",
              "      <td>...</td>\n",
              "      <td>0.0</td>\n",
              "      <td>0.0</td>\n",
              "      <td>0.0</td>\n",
              "      <td>0.0</td>\n",
              "      <td>0.0</td>\n",
              "      <td>0.0</td>\n",
              "      <td>1.0</td>\n",
              "      <td>0.0</td>\n",
              "      <td>0.0</td>\n",
              "      <td>0.0</td>\n",
              "    </tr>\n",
              "    <tr>\n",
              "      <th>...</th>\n",
              "      <td>...</td>\n",
              "      <td>...</td>\n",
              "      <td>...</td>\n",
              "      <td>...</td>\n",
              "      <td>...</td>\n",
              "      <td>...</td>\n",
              "      <td>...</td>\n",
              "      <td>...</td>\n",
              "      <td>...</td>\n",
              "      <td>...</td>\n",
              "      <td>...</td>\n",
              "      <td>...</td>\n",
              "      <td>...</td>\n",
              "      <td>...</td>\n",
              "      <td>...</td>\n",
              "      <td>...</td>\n",
              "      <td>...</td>\n",
              "      <td>...</td>\n",
              "      <td>...</td>\n",
              "      <td>...</td>\n",
              "      <td>...</td>\n",
              "    </tr>\n",
              "    <tr>\n",
              "      <th>4993</th>\n",
              "      <td>1</td>\n",
              "      <td>11701</td>\n",
              "      <td>0.0</td>\n",
              "      <td>1.0</td>\n",
              "      <td>0.0</td>\n",
              "      <td>0.0</td>\n",
              "      <td>0.0</td>\n",
              "      <td>0.0</td>\n",
              "      <td>0.0</td>\n",
              "      <td>0.0</td>\n",
              "      <td>...</td>\n",
              "      <td>0.0</td>\n",
              "      <td>0.0</td>\n",
              "      <td>1.0</td>\n",
              "      <td>0.0</td>\n",
              "      <td>0.0</td>\n",
              "      <td>0.0</td>\n",
              "      <td>1.0</td>\n",
              "      <td>0.0</td>\n",
              "      <td>0.0</td>\n",
              "      <td>0.0</td>\n",
              "    </tr>\n",
              "    <tr>\n",
              "      <th>4994</th>\n",
              "      <td>1</td>\n",
              "      <td>2045</td>\n",
              "      <td>0.0</td>\n",
              "      <td>1.0</td>\n",
              "      <td>0.0</td>\n",
              "      <td>0.0</td>\n",
              "      <td>0.0</td>\n",
              "      <td>0.0</td>\n",
              "      <td>0.0</td>\n",
              "      <td>0.0</td>\n",
              "      <td>...</td>\n",
              "      <td>0.0</td>\n",
              "      <td>0.0</td>\n",
              "      <td>0.0</td>\n",
              "      <td>0.0</td>\n",
              "      <td>0.0</td>\n",
              "      <td>0.0</td>\n",
              "      <td>0.0</td>\n",
              "      <td>0.0</td>\n",
              "      <td>1.0</td>\n",
              "      <td>0.0</td>\n",
              "    </tr>\n",
              "    <tr>\n",
              "      <th>4995</th>\n",
              "      <td>1</td>\n",
              "      <td>4505</td>\n",
              "      <td>0.0</td>\n",
              "      <td>1.0</td>\n",
              "      <td>0.0</td>\n",
              "      <td>0.0</td>\n",
              "      <td>0.0</td>\n",
              "      <td>0.0</td>\n",
              "      <td>0.0</td>\n",
              "      <td>0.0</td>\n",
              "      <td>...</td>\n",
              "      <td>0.0</td>\n",
              "      <td>0.0</td>\n",
              "      <td>0.0</td>\n",
              "      <td>0.0</td>\n",
              "      <td>0.0</td>\n",
              "      <td>0.0</td>\n",
              "      <td>1.0</td>\n",
              "      <td>0.0</td>\n",
              "      <td>0.0</td>\n",
              "      <td>0.0</td>\n",
              "    </tr>\n",
              "    <tr>\n",
              "      <th>4996</th>\n",
              "      <td>1</td>\n",
              "      <td>1413</td>\n",
              "      <td>0.0</td>\n",
              "      <td>1.0</td>\n",
              "      <td>0.0</td>\n",
              "      <td>0.0</td>\n",
              "      <td>0.0</td>\n",
              "      <td>0.0</td>\n",
              "      <td>0.0</td>\n",
              "      <td>0.0</td>\n",
              "      <td>...</td>\n",
              "      <td>0.0</td>\n",
              "      <td>0.0</td>\n",
              "      <td>0.0</td>\n",
              "      <td>0.0</td>\n",
              "      <td>0.0</td>\n",
              "      <td>0.0</td>\n",
              "      <td>0.0</td>\n",
              "      <td>0.0</td>\n",
              "      <td>1.0</td>\n",
              "      <td>0.0</td>\n",
              "    </tr>\n",
              "    <tr>\n",
              "      <th>4997</th>\n",
              "      <td>1</td>\n",
              "      <td>7182</td>\n",
              "      <td>0.0</td>\n",
              "      <td>1.0</td>\n",
              "      <td>0.0</td>\n",
              "      <td>0.0</td>\n",
              "      <td>0.0</td>\n",
              "      <td>0.0</td>\n",
              "      <td>0.0</td>\n",
              "      <td>0.0</td>\n",
              "      <td>...</td>\n",
              "      <td>1.0</td>\n",
              "      <td>0.0</td>\n",
              "      <td>0.0</td>\n",
              "      <td>0.0</td>\n",
              "      <td>0.0</td>\n",
              "      <td>0.0</td>\n",
              "      <td>1.0</td>\n",
              "      <td>0.0</td>\n",
              "      <td>0.0</td>\n",
              "      <td>0.0</td>\n",
              "    </tr>\n",
              "  </tbody>\n",
              "</table>\n",
              "<p>4998 rows × 82 columns</p>\n",
              "</div>\n",
              "      <button class=\"colab-df-convert\" onclick=\"convertToInteractive('df-842f30c7-63b6-4345-a4ab-1e37bfed3103')\"\n",
              "              title=\"Convert this dataframe to an interactive table.\"\n",
              "              style=\"display:none;\">\n",
              "        \n",
              "  <svg xmlns=\"http://www.w3.org/2000/svg\" height=\"24px\"viewBox=\"0 0 24 24\"\n",
              "       width=\"24px\">\n",
              "    <path d=\"M0 0h24v24H0V0z\" fill=\"none\"/>\n",
              "    <path d=\"M18.56 5.44l.94 2.06.94-2.06 2.06-.94-2.06-.94-.94-2.06-.94 2.06-2.06.94zm-11 1L8.5 8.5l.94-2.06 2.06-.94-2.06-.94L8.5 2.5l-.94 2.06-2.06.94zm10 10l.94 2.06.94-2.06 2.06-.94-2.06-.94-.94-2.06-.94 2.06-2.06.94z\"/><path d=\"M17.41 7.96l-1.37-1.37c-.4-.4-.92-.59-1.43-.59-.52 0-1.04.2-1.43.59L10.3 9.45l-7.72 7.72c-.78.78-.78 2.05 0 2.83L4 21.41c.39.39.9.59 1.41.59.51 0 1.02-.2 1.41-.59l7.78-7.78 2.81-2.81c.8-.78.8-2.07 0-2.86zM5.41 20L4 18.59l7.72-7.72 1.47 1.35L5.41 20z\"/>\n",
              "  </svg>\n",
              "      </button>\n",
              "      \n",
              "  <style>\n",
              "    .colab-df-container {\n",
              "      display:flex;\n",
              "      flex-wrap:wrap;\n",
              "      gap: 12px;\n",
              "    }\n",
              "\n",
              "    .colab-df-convert {\n",
              "      background-color: #E8F0FE;\n",
              "      border: none;\n",
              "      border-radius: 50%;\n",
              "      cursor: pointer;\n",
              "      display: none;\n",
              "      fill: #1967D2;\n",
              "      height: 32px;\n",
              "      padding: 0 0 0 0;\n",
              "      width: 32px;\n",
              "    }\n",
              "\n",
              "    .colab-df-convert:hover {\n",
              "      background-color: #E2EBFA;\n",
              "      box-shadow: 0px 1px 2px rgba(60, 64, 67, 0.3), 0px 1px 3px 1px rgba(60, 64, 67, 0.15);\n",
              "      fill: #174EA6;\n",
              "    }\n",
              "\n",
              "    [theme=dark] .colab-df-convert {\n",
              "      background-color: #3B4455;\n",
              "      fill: #D2E3FC;\n",
              "    }\n",
              "\n",
              "    [theme=dark] .colab-df-convert:hover {\n",
              "      background-color: #434B5C;\n",
              "      box-shadow: 0px 1px 3px 1px rgba(0, 0, 0, 0.15);\n",
              "      filter: drop-shadow(0px 1px 2px rgba(0, 0, 0, 0.3));\n",
              "      fill: #FFFFFF;\n",
              "    }\n",
              "  </style>\n",
              "\n",
              "      <script>\n",
              "        const buttonEl =\n",
              "          document.querySelector('#df-842f30c7-63b6-4345-a4ab-1e37bfed3103 button.colab-df-convert');\n",
              "        buttonEl.style.display =\n",
              "          google.colab.kernel.accessAllowed ? 'block' : 'none';\n",
              "\n",
              "        async function convertToInteractive(key) {\n",
              "          const element = document.querySelector('#df-842f30c7-63b6-4345-a4ab-1e37bfed3103');\n",
              "          const dataTable =\n",
              "            await google.colab.kernel.invokeFunction('convertToInteractive',\n",
              "                                                     [key], {});\n",
              "          if (!dataTable) return;\n",
              "\n",
              "          const docLinkHtml = 'Like what you see? Visit the ' +\n",
              "            '<a target=\"_blank\" href=https://colab.research.google.com/notebooks/data_table.ipynb>data table notebook</a>'\n",
              "            + ' to learn more about interactive tables.';\n",
              "          element.innerHTML = '';\n",
              "          dataTable['output_type'] = 'display_data';\n",
              "          await google.colab.output.renderOutput(dataTable, element);\n",
              "          const docLink = document.createElement('div');\n",
              "          docLink.innerHTML = docLinkHtml;\n",
              "          element.appendChild(docLink);\n",
              "        }\n",
              "      </script>\n",
              "    </div>\n",
              "  </div>\n",
              "  "
            ]
          },
          "metadata": {},
          "execution_count": 69
        }
      ]
    },
    {
      "cell_type": "code",
      "source": [
        "df_3.info()"
      ],
      "metadata": {
        "colab": {
          "base_uri": "https://localhost:8080/"
        },
        "id": "ZPmKJU4VJVCO",
        "outputId": "e594d31d-a8b0-4bf7-e240-5bd52090607b"
      },
      "execution_count": null,
      "outputs": [
        {
          "output_type": "stream",
          "name": "stdout",
          "text": [
            "<class 'pandas.core.frame.DataFrame'>\n",
            "Int64Index: 4998 entries, 0 to 4997\n",
            "Data columns (total 82 columns):\n",
            " #   Column                         Non-Null Count  Dtype  \n",
            "---  ------                         --------------  -----  \n",
            " 0   Marital_Status                 4998 non-null   int64  \n",
            " 1   Purchase                       4998 non-null   int64  \n",
            " 2   Gender_F                       4998 non-null   float64\n",
            " 3   Gender_M                       4998 non-null   float64\n",
            " 4   Age_0-17                       4998 non-null   float64\n",
            " 5   Age_18-25                      4998 non-null   float64\n",
            " 6   Age_26-35                      4998 non-null   float64\n",
            " 7   Age_36-45                      4998 non-null   float64\n",
            " 8   Age_46-50                      4998 non-null   float64\n",
            " 9   Age_51-55                      4998 non-null   float64\n",
            " 10  Age_55+                        4998 non-null   float64\n",
            " 11  Occupation_0                   4998 non-null   float64\n",
            " 12  Occupation_1                   4998 non-null   float64\n",
            " 13  Occupation_2                   4998 non-null   float64\n",
            " 14  Occupation_3                   4998 non-null   float64\n",
            " 15  Occupation_4                   4998 non-null   float64\n",
            " 16  Occupation_5                   4998 non-null   float64\n",
            " 17  Occupation_6                   4998 non-null   float64\n",
            " 18  Occupation_7                   4998 non-null   float64\n",
            " 19  Occupation_8                   4998 non-null   float64\n",
            " 20  Occupation_9                   4998 non-null   float64\n",
            " 21  Occupation_10                  4998 non-null   float64\n",
            " 22  Occupation_11                  4998 non-null   float64\n",
            " 23  Occupation_12                  4998 non-null   float64\n",
            " 24  Occupation_13                  4998 non-null   float64\n",
            " 25  Occupation_14                  4998 non-null   float64\n",
            " 26  Occupation_15                  4998 non-null   float64\n",
            " 27  Occupation_16                  4998 non-null   float64\n",
            " 28  Occupation_17                  4998 non-null   float64\n",
            " 29  Occupation_18                  4998 non-null   float64\n",
            " 30  Occupation_19                  4998 non-null   float64\n",
            " 31  Occupation_20                  4998 non-null   float64\n",
            " 32  City_Category_A                4998 non-null   float64\n",
            " 33  City_Category_B                4998 non-null   float64\n",
            " 34  City_Category_C                4998 non-null   float64\n",
            " 35  Stay_In_Current_City_Years_0   4998 non-null   float64\n",
            " 36  Stay_In_Current_City_Years_1   4998 non-null   float64\n",
            " 37  Stay_In_Current_City_Years_2   4998 non-null   float64\n",
            " 38  Stay_In_Current_City_Years_3   4998 non-null   float64\n",
            " 39  Stay_In_Current_City_Years_4+  4998 non-null   float64\n",
            " 40  Product_Category_1_1           4998 non-null   float64\n",
            " 41  Product_Category_1_2           4998 non-null   float64\n",
            " 42  Product_Category_1_3           4998 non-null   float64\n",
            " 43  Product_Category_1_4           4998 non-null   float64\n",
            " 44  Product_Category_1_5           4998 non-null   float64\n",
            " 45  Product_Category_1_6           4998 non-null   float64\n",
            " 46  Product_Category_1_7           4998 non-null   float64\n",
            " 47  Product_Category_1_8           4998 non-null   float64\n",
            " 48  Product_Category_1_9           4998 non-null   float64\n",
            " 49  Product_Category_1_10          4998 non-null   float64\n",
            " 50  Product_Category_1_11          4998 non-null   float64\n",
            " 51  Product_Category_1_12          4998 non-null   float64\n",
            " 52  Product_Category_1_13          4998 non-null   float64\n",
            " 53  Product_Category_1_14          4998 non-null   float64\n",
            " 54  Product_Category_1_15          4998 non-null   float64\n",
            " 55  Product_Category_1_16          4998 non-null   float64\n",
            " 56  Product_Category_1_17          4998 non-null   float64\n",
            " 57  Product_Category_1_18          4998 non-null   float64\n",
            " 58  Product_Category_1_19          4998 non-null   float64\n",
            " 59  Product_Category_1_20          4998 non-null   float64\n",
            " 60  Product_Category_2_2.0         4998 non-null   float64\n",
            " 61  Product_Category_2_3.0         4998 non-null   float64\n",
            " 62  Product_Category_2_4.0         4998 non-null   float64\n",
            " 63  Product_Category_2_5.0         4998 non-null   float64\n",
            " 64  Product_Category_2_6.0         4998 non-null   float64\n",
            " 65  Product_Category_2_7.0         4998 non-null   float64\n",
            " 66  Product_Category_2_8.0         4998 non-null   float64\n",
            " 67  Product_Category_2_9.0         4998 non-null   float64\n",
            " 68  Product_Category_2_10.0        4998 non-null   float64\n",
            " 69  Product_Category_2_11.0        4998 non-null   float64\n",
            " 70  Product_Category_2_12.0        4998 non-null   float64\n",
            " 71  Product_Category_2_13.0        4998 non-null   float64\n",
            " 72  Product_Category_2_14.0        4998 non-null   float64\n",
            " 73  Product_Category_2_15.0        4998 non-null   float64\n",
            " 74  Product_Category_2_16.0        4998 non-null   float64\n",
            " 75  Product_Category_2_17.0        4998 non-null   float64\n",
            " 76  Product_Category_2_18.0        4998 non-null   float64\n",
            " 77  Product_ID_0                   4998 non-null   float64\n",
            " 78  Product_ID_1                   4998 non-null   float64\n",
            " 79  Product_ID_2                   4998 non-null   float64\n",
            " 80  Product_ID_3                   4998 non-null   float64\n",
            " 81  Product_ID_9                   4998 non-null   float64\n",
            "dtypes: float64(80), int64(2)\n",
            "memory usage: 3.3 MB\n"
          ]
        }
      ]
    },
    {
      "cell_type": "markdown",
      "source": [
        "**Output**\n",
        "\n",
        "`Product_ID`, `Gender, Age`, `Occupation`, `City_Category`, `Stay_In_Current_City_Years`, `Product_Category_1`, `Product_Category_2`에 대해 모두 0 또는 1의 값으로 변환된 것을 확인할 수 있다."
      ],
      "metadata": {
        "id": "YA2uXu3tEMTF"
      }
    },
    {
      "cell_type": "markdown",
      "source": [
        "## 2. KNN 구현 & 파라미터 튜닝"
      ],
      "metadata": {
        "id": "4gs3AYAAJmwD"
      }
    },
    {
      "cell_type": "markdown",
      "source": [
        "### 2-1. 데이터 분리하기"
      ],
      "metadata": {
        "id": "uPbuBzLjKKKq"
      }
    },
    {
      "cell_type": "markdown",
      "source": [
        "전체 Data 중 약 75%를 train Data로, 나머지 25%를 test Data로 분리한다."
      ],
      "metadata": {
        "id": "nkTAmFjjL37n"
      }
    },
    {
      "cell_type": "code",
      "source": [
        "# 설명변수, Target 변수 분리하기\n",
        "X = df_3.drop(['Purchase'], axis = 1)\n",
        "y = df_3.Purchase "
      ],
      "metadata": {
        "id": "FXR-AeEzzWjm"
      },
      "execution_count": null,
      "outputs": []
    },
    {
      "cell_type": "code",
      "source": [
        "X.head()"
      ],
      "metadata": {
        "colab": {
          "base_uri": "https://localhost:8080/",
          "height": 317
        },
        "id": "sRG7Qrm0LVfm",
        "outputId": "c54a7859-5d00-46a2-8a66-682745c49b54"
      },
      "execution_count": null,
      "outputs": [
        {
          "output_type": "execute_result",
          "data": {
            "text/plain": [
              "   Marital_Status  Gender_F  Gender_M  Age_0-17  Age_18-25  Age_26-35  \\\n",
              "0               0       1.0       0.0       1.0        0.0        0.0   \n",
              "1               0       1.0       0.0       1.0        0.0        0.0   \n",
              "2               0       1.0       0.0       1.0        0.0        0.0   \n",
              "3               0       1.0       0.0       1.0        0.0        0.0   \n",
              "4               0       1.0       0.0       1.0        0.0        0.0   \n",
              "\n",
              "   Age_36-45  Age_46-50  Age_51-55  Age_55+  ...  Product_Category_2_14.0  \\\n",
              "0        0.0        0.0        0.0      0.0  ...                      0.0   \n",
              "1        0.0        0.0        0.0      0.0  ...                      0.0   \n",
              "2        0.0        0.0        0.0      0.0  ...                      0.0   \n",
              "3        0.0        0.0        0.0      0.0  ...                      0.0   \n",
              "4        0.0        0.0        0.0      0.0  ...                      0.0   \n",
              "\n",
              "   Product_Category_2_15.0  Product_Category_2_16.0  Product_Category_2_17.0  \\\n",
              "0                      0.0                      0.0                      1.0   \n",
              "1                      0.0                      0.0                      0.0   \n",
              "2                      0.0                      0.0                      0.0   \n",
              "3                      0.0                      0.0                      0.0   \n",
              "4                      0.0                      0.0                      0.0   \n",
              "\n",
              "   Product_Category_2_18.0  Product_ID_0  Product_ID_1  Product_ID_2  \\\n",
              "0                      0.0           1.0           0.0           0.0   \n",
              "1                      0.0           0.0           0.0           0.0   \n",
              "2                      0.0           1.0           0.0           0.0   \n",
              "3                      0.0           0.0           1.0           0.0   \n",
              "4                      0.0           0.0           1.0           0.0   \n",
              "\n",
              "   Product_ID_3  Product_ID_9  \n",
              "0           0.0           0.0  \n",
              "1           1.0           0.0  \n",
              "2           0.0           0.0  \n",
              "3           0.0           0.0  \n",
              "4           0.0           0.0  \n",
              "\n",
              "[5 rows x 81 columns]"
            ],
            "text/html": [
              "\n",
              "  <div id=\"df-44307abc-3c6f-465c-8e6d-34c318be4cca\">\n",
              "    <div class=\"colab-df-container\">\n",
              "      <div>\n",
              "<style scoped>\n",
              "    .dataframe tbody tr th:only-of-type {\n",
              "        vertical-align: middle;\n",
              "    }\n",
              "\n",
              "    .dataframe tbody tr th {\n",
              "        vertical-align: top;\n",
              "    }\n",
              "\n",
              "    .dataframe thead th {\n",
              "        text-align: right;\n",
              "    }\n",
              "</style>\n",
              "<table border=\"1\" class=\"dataframe\">\n",
              "  <thead>\n",
              "    <tr style=\"text-align: right;\">\n",
              "      <th></th>\n",
              "      <th>Marital_Status</th>\n",
              "      <th>Gender_F</th>\n",
              "      <th>Gender_M</th>\n",
              "      <th>Age_0-17</th>\n",
              "      <th>Age_18-25</th>\n",
              "      <th>Age_26-35</th>\n",
              "      <th>Age_36-45</th>\n",
              "      <th>Age_46-50</th>\n",
              "      <th>Age_51-55</th>\n",
              "      <th>Age_55+</th>\n",
              "      <th>...</th>\n",
              "      <th>Product_Category_2_14.0</th>\n",
              "      <th>Product_Category_2_15.0</th>\n",
              "      <th>Product_Category_2_16.0</th>\n",
              "      <th>Product_Category_2_17.0</th>\n",
              "      <th>Product_Category_2_18.0</th>\n",
              "      <th>Product_ID_0</th>\n",
              "      <th>Product_ID_1</th>\n",
              "      <th>Product_ID_2</th>\n",
              "      <th>Product_ID_3</th>\n",
              "      <th>Product_ID_9</th>\n",
              "    </tr>\n",
              "  </thead>\n",
              "  <tbody>\n",
              "    <tr>\n",
              "      <th>0</th>\n",
              "      <td>0</td>\n",
              "      <td>1.0</td>\n",
              "      <td>0.0</td>\n",
              "      <td>1.0</td>\n",
              "      <td>0.0</td>\n",
              "      <td>0.0</td>\n",
              "      <td>0.0</td>\n",
              "      <td>0.0</td>\n",
              "      <td>0.0</td>\n",
              "      <td>0.0</td>\n",
              "      <td>...</td>\n",
              "      <td>0.0</td>\n",
              "      <td>0.0</td>\n",
              "      <td>0.0</td>\n",
              "      <td>1.0</td>\n",
              "      <td>0.0</td>\n",
              "      <td>1.0</td>\n",
              "      <td>0.0</td>\n",
              "      <td>0.0</td>\n",
              "      <td>0.0</td>\n",
              "      <td>0.0</td>\n",
              "    </tr>\n",
              "    <tr>\n",
              "      <th>1</th>\n",
              "      <td>0</td>\n",
              "      <td>1.0</td>\n",
              "      <td>0.0</td>\n",
              "      <td>1.0</td>\n",
              "      <td>0.0</td>\n",
              "      <td>0.0</td>\n",
              "      <td>0.0</td>\n",
              "      <td>0.0</td>\n",
              "      <td>0.0</td>\n",
              "      <td>0.0</td>\n",
              "      <td>...</td>\n",
              "      <td>0.0</td>\n",
              "      <td>0.0</td>\n",
              "      <td>0.0</td>\n",
              "      <td>0.0</td>\n",
              "      <td>0.0</td>\n",
              "      <td>0.0</td>\n",
              "      <td>0.0</td>\n",
              "      <td>0.0</td>\n",
              "      <td>1.0</td>\n",
              "      <td>0.0</td>\n",
              "    </tr>\n",
              "    <tr>\n",
              "      <th>2</th>\n",
              "      <td>0</td>\n",
              "      <td>1.0</td>\n",
              "      <td>0.0</td>\n",
              "      <td>1.0</td>\n",
              "      <td>0.0</td>\n",
              "      <td>0.0</td>\n",
              "      <td>0.0</td>\n",
              "      <td>0.0</td>\n",
              "      <td>0.0</td>\n",
              "      <td>0.0</td>\n",
              "      <td>...</td>\n",
              "      <td>0.0</td>\n",
              "      <td>0.0</td>\n",
              "      <td>0.0</td>\n",
              "      <td>0.0</td>\n",
              "      <td>0.0</td>\n",
              "      <td>1.0</td>\n",
              "      <td>0.0</td>\n",
              "      <td>0.0</td>\n",
              "      <td>0.0</td>\n",
              "      <td>0.0</td>\n",
              "    </tr>\n",
              "    <tr>\n",
              "      <th>3</th>\n",
              "      <td>0</td>\n",
              "      <td>1.0</td>\n",
              "      <td>0.0</td>\n",
              "      <td>1.0</td>\n",
              "      <td>0.0</td>\n",
              "      <td>0.0</td>\n",
              "      <td>0.0</td>\n",
              "      <td>0.0</td>\n",
              "      <td>0.0</td>\n",
              "      <td>0.0</td>\n",
              "      <td>...</td>\n",
              "      <td>0.0</td>\n",
              "      <td>0.0</td>\n",
              "      <td>0.0</td>\n",
              "      <td>0.0</td>\n",
              "      <td>0.0</td>\n",
              "      <td>0.0</td>\n",
              "      <td>1.0</td>\n",
              "      <td>0.0</td>\n",
              "      <td>0.0</td>\n",
              "      <td>0.0</td>\n",
              "    </tr>\n",
              "    <tr>\n",
              "      <th>4</th>\n",
              "      <td>0</td>\n",
              "      <td>1.0</td>\n",
              "      <td>0.0</td>\n",
              "      <td>1.0</td>\n",
              "      <td>0.0</td>\n",
              "      <td>0.0</td>\n",
              "      <td>0.0</td>\n",
              "      <td>0.0</td>\n",
              "      <td>0.0</td>\n",
              "      <td>0.0</td>\n",
              "      <td>...</td>\n",
              "      <td>0.0</td>\n",
              "      <td>0.0</td>\n",
              "      <td>0.0</td>\n",
              "      <td>0.0</td>\n",
              "      <td>0.0</td>\n",
              "      <td>0.0</td>\n",
              "      <td>1.0</td>\n",
              "      <td>0.0</td>\n",
              "      <td>0.0</td>\n",
              "      <td>0.0</td>\n",
              "    </tr>\n",
              "  </tbody>\n",
              "</table>\n",
              "<p>5 rows × 81 columns</p>\n",
              "</div>\n",
              "      <button class=\"colab-df-convert\" onclick=\"convertToInteractive('df-44307abc-3c6f-465c-8e6d-34c318be4cca')\"\n",
              "              title=\"Convert this dataframe to an interactive table.\"\n",
              "              style=\"display:none;\">\n",
              "        \n",
              "  <svg xmlns=\"http://www.w3.org/2000/svg\" height=\"24px\"viewBox=\"0 0 24 24\"\n",
              "       width=\"24px\">\n",
              "    <path d=\"M0 0h24v24H0V0z\" fill=\"none\"/>\n",
              "    <path d=\"M18.56 5.44l.94 2.06.94-2.06 2.06-.94-2.06-.94-.94-2.06-.94 2.06-2.06.94zm-11 1L8.5 8.5l.94-2.06 2.06-.94-2.06-.94L8.5 2.5l-.94 2.06-2.06.94zm10 10l.94 2.06.94-2.06 2.06-.94-2.06-.94-.94-2.06-.94 2.06-2.06.94z\"/><path d=\"M17.41 7.96l-1.37-1.37c-.4-.4-.92-.59-1.43-.59-.52 0-1.04.2-1.43.59L10.3 9.45l-7.72 7.72c-.78.78-.78 2.05 0 2.83L4 21.41c.39.39.9.59 1.41.59.51 0 1.02-.2 1.41-.59l7.78-7.78 2.81-2.81c.8-.78.8-2.07 0-2.86zM5.41 20L4 18.59l7.72-7.72 1.47 1.35L5.41 20z\"/>\n",
              "  </svg>\n",
              "      </button>\n",
              "      \n",
              "  <style>\n",
              "    .colab-df-container {\n",
              "      display:flex;\n",
              "      flex-wrap:wrap;\n",
              "      gap: 12px;\n",
              "    }\n",
              "\n",
              "    .colab-df-convert {\n",
              "      background-color: #E8F0FE;\n",
              "      border: none;\n",
              "      border-radius: 50%;\n",
              "      cursor: pointer;\n",
              "      display: none;\n",
              "      fill: #1967D2;\n",
              "      height: 32px;\n",
              "      padding: 0 0 0 0;\n",
              "      width: 32px;\n",
              "    }\n",
              "\n",
              "    .colab-df-convert:hover {\n",
              "      background-color: #E2EBFA;\n",
              "      box-shadow: 0px 1px 2px rgba(60, 64, 67, 0.3), 0px 1px 3px 1px rgba(60, 64, 67, 0.15);\n",
              "      fill: #174EA6;\n",
              "    }\n",
              "\n",
              "    [theme=dark] .colab-df-convert {\n",
              "      background-color: #3B4455;\n",
              "      fill: #D2E3FC;\n",
              "    }\n",
              "\n",
              "    [theme=dark] .colab-df-convert:hover {\n",
              "      background-color: #434B5C;\n",
              "      box-shadow: 0px 1px 3px 1px rgba(0, 0, 0, 0.15);\n",
              "      filter: drop-shadow(0px 1px 2px rgba(0, 0, 0, 0.3));\n",
              "      fill: #FFFFFF;\n",
              "    }\n",
              "  </style>\n",
              "\n",
              "      <script>\n",
              "        const buttonEl =\n",
              "          document.querySelector('#df-44307abc-3c6f-465c-8e6d-34c318be4cca button.colab-df-convert');\n",
              "        buttonEl.style.display =\n",
              "          google.colab.kernel.accessAllowed ? 'block' : 'none';\n",
              "\n",
              "        async function convertToInteractive(key) {\n",
              "          const element = document.querySelector('#df-44307abc-3c6f-465c-8e6d-34c318be4cca');\n",
              "          const dataTable =\n",
              "            await google.colab.kernel.invokeFunction('convertToInteractive',\n",
              "                                                     [key], {});\n",
              "          if (!dataTable) return;\n",
              "\n",
              "          const docLinkHtml = 'Like what you see? Visit the ' +\n",
              "            '<a target=\"_blank\" href=https://colab.research.google.com/notebooks/data_table.ipynb>data table notebook</a>'\n",
              "            + ' to learn more about interactive tables.';\n",
              "          element.innerHTML = '';\n",
              "          dataTable['output_type'] = 'display_data';\n",
              "          await google.colab.output.renderOutput(dataTable, element);\n",
              "          const docLink = document.createElement('div');\n",
              "          docLink.innerHTML = docLinkHtml;\n",
              "          element.appendChild(docLink);\n",
              "        }\n",
              "      </script>\n",
              "    </div>\n",
              "  </div>\n",
              "  "
            ]
          },
          "metadata": {},
          "execution_count": 74
        }
      ]
    },
    {
      "cell_type": "code",
      "source": [
        "y.tail()"
      ],
      "metadata": {
        "colab": {
          "base_uri": "https://localhost:8080/"
        },
        "id": "7K1jU9tWLYNj",
        "outputId": "b0980630-d1ab-4f80-b7de-2aa0c86e51e5"
      },
      "execution_count": null,
      "outputs": [
        {
          "output_type": "execute_result",
          "data": {
            "text/plain": [
              "4993    11701\n",
              "4994     2045\n",
              "4995     4505\n",
              "4996     1413\n",
              "4997     7182\n",
              "Name: Purchase, dtype: int64"
            ]
          },
          "metadata": {},
          "execution_count": 75
        }
      ]
    },
    {
      "cell_type": "code",
      "source": [
        "# split data\n",
        "X_train, X_test, y_train, y_test = train_test_split(X, y, random_state = 0) \n",
        "\n",
        "print(X_train.shape)\n",
        "print(X_test.shape)"
      ],
      "metadata": {
        "colab": {
          "base_uri": "https://localhost:8080/"
        },
        "id": "NG5A6cGELiVU",
        "outputId": "07c3bf0f-ec30-46ff-f1ba-996fead878d2"
      },
      "execution_count": null,
      "outputs": [
        {
          "output_type": "stream",
          "name": "stdout",
          "text": [
            "(3748, 81)\n",
            "(1250, 81)\n"
          ]
        }
      ]
    },
    {
      "cell_type": "markdown",
      "source": [
        "### 2-2. 하이퍼파라미터 튜닝하기"
      ],
      "metadata": {
        "id": "sLAFYWzkMFqs"
      }
    },
    {
      "cell_type": "markdown",
      "source": [
        "(1) Distance type 결정하기"
      ],
      "metadata": {
        "id": "YeP6RhEvNxcw"
      }
    },
    {
      "cell_type": "markdown",
      "source": [
        "**Euclidean Distance**\n",
        "\n",
        ": 대응되는 x, y 값 간 차이 제곱합의 제곱근으로써, 두 관측치 사이의 직선 거리를 의미\n",
        "- 가장 흔히 사용되는 거리측도\n",
        "\n",
        "$$ d_{(X,Y)}=\\sqrt{\\sum_{i=1}^n(x_i-y_i)^2}$$"
      ],
      "metadata": {
        "id": "Ng_PI_EoN9CA"
      }
    },
    {
      "cell_type": "markdown",
      "source": [
        "(2) 하이퍼파라미터 K값 결정하기"
      ],
      "metadata": {
        "id": "Fwv9zI3gMM0b"
      }
    },
    {
      "cell_type": "markdown",
      "source": [
        "- K값의 변화에 따른 train accuracy, test accuracy 살펴보기"
      ],
      "metadata": {
        "id": "19eMKypsObot"
      }
    },
    {
      "cell_type": "code",
      "source": [
        "k_range = range(1, 31)\n",
        "train_accuracy = []\n",
        "test_accuracy = []\n",
        "\n",
        "for k in tqdm_notebook(k_range):\n",
        "    reg = KNeighborsRegressor(n_neighbors = k)  \n",
        "    reg.fit(X_train, y_train)\n",
        "    train_accuracy.append(reg.score(X_train, y_train))\n",
        "    test_accuracy.append(reg.score(X_test, y_test))"
      ],
      "metadata": {
        "colab": {
          "base_uri": "https://localhost:8080/",
          "height": 49,
          "referenced_widgets": [
            "94268f2c0b8b458bbe434dacf16bd016",
            "76fd0a3b23434bd5850cea0dbeeec355",
            "60a4265f404d420e93945d4120759f2c",
            "2d4ecdaa595c4ba382dea2c0a16a81dd",
            "5f32ad2c3c4440129ccb6782e1eb973f",
            "822112b827e04d6ab36bf8b4c2c46c85",
            "82828ba8d2e149779fefa6032cec021c",
            "dd2646482f23435fb022303c7558abca",
            "1b7098696b5a44b2b8f4834e6c62191c",
            "8a155fe85dd6486daf46a72c9d6f5dc7",
            "803428f304ab4e7f813d00981eb0a98a"
          ]
        },
        "id": "WRuNuUwTLwVk",
        "outputId": "f12f7b74-0c74-4662-e81a-ff6de9189f87"
      },
      "execution_count": null,
      "outputs": [
        {
          "output_type": "display_data",
          "data": {
            "text/plain": [
              "  0%|          | 0/30 [00:00<?, ?it/s]"
            ],
            "application/vnd.jupyter.widget-view+json": {
              "version_major": 2,
              "version_minor": 0,
              "model_id": "94268f2c0b8b458bbe434dacf16bd016"
            }
          },
          "metadata": {}
        }
      ]
    },
    {
      "cell_type": "code",
      "source": [
        "plt.plot(k_range, train_accuracy, label = \"Train Accuracy\")\n",
        "plt.plot(k_range, test_accuracy, label = \"Test Accuracy\")\n",
        "plt.xlabel(\"K\")\n",
        "plt.ylabel(\"Regression Score\")\n",
        "plt.grid()\n",
        "plt.legend()\n",
        "plt.show()"
      ],
      "metadata": {
        "colab": {
          "base_uri": "https://localhost:8080/",
          "height": 279
        },
        "id": "zuWH_5ZgMzFR",
        "outputId": "c82e47f0-12d7-43c7-f63a-47af2eda47ca"
      },
      "execution_count": null,
      "outputs": [
        {
          "output_type": "display_data",
          "data": {
            "text/plain": [
              "<Figure size 432x288 with 1 Axes>"
            ],
            "image/png": "[encoded data removed]"
          },
          "metadata": {
            "needs_background": "light"
          }
        }
      ]
    },
    {
      "cell_type": "markdown",
      "source": [
        "**Output**\n",
        "\n",
        "- Train Data에 대해서는 K가 커질수록 결정계수가 떨어진다.\n",
        "- Test Data에 대해서는 K가 커질수록 결정계수가 높아진다."
      ],
      "metadata": {
        "id": "8VcjHfX7OQ-8"
      }
    },
    {
      "cell_type": "markdown",
      "source": [
        "- 최적 하이퍼파라미터 K값 찾기"
      ],
      "metadata": {
        "id": "UR_OfKx1OhsO"
      }
    },
    {
      "cell_type": "code",
      "source": [
        "train_rank_15 = pd.Series(train_accuracy).sort_values(ascending = False).index[:15]\n",
        "test_rank_15 = pd.Series(test_accuracy).sort_values(ascending = False).index[:15]\n",
        "\n",
        "print(train_rank_15)\n",
        "print(test_rank_15)\n",
        "print()\n",
        "print(train_rank_15.intersection(test_rank_15))"
      ],
      "metadata": {
        "colab": {
          "base_uri": "https://localhost:8080/"
        },
        "id": "KHth6koENzIt",
        "outputId": "b701b37f-2ce5-4312-d2dc-5d1df86ba73a"
      },
      "execution_count": null,
      "outputs": [
        {
          "output_type": "stream",
          "name": "stdout",
          "text": [
            "Int64Index([0, 1, 2, 3, 4, 5, 6, 7, 8, 9, 10, 11, 12, 13, 14], dtype='int64')\n",
            "Int64Index([13, 12, 11, 21, 22, 16, 18, 24, 23, 26, 17, 20, 10, 19, 27], dtype='int64')\n",
            "\n",
            "Int64Index([10, 11, 12, 13], dtype='int64')\n"
          ]
        }
      ]
    },
    {
      "cell_type": "markdown",
      "source": [
        "**Output**\n",
        "\n",
        "K가 **12, 13, 14, 15** 일 때, train_accuracy와 test_accuracy 모두에서 상위 50% 안에 든다."
      ],
      "metadata": {
        "id": "W6E0gv9wOlls"
      }
    },
    {
      "cell_type": "markdown",
      "source": [
        "## 3. Evaluation"
      ],
      "metadata": {
        "id": "blbrSTZ69A3R"
      }
    },
    {
      "cell_type": "markdown",
      "source": [
        "`sklearn`을 이용하여 교차 검증을 진행한다. "
      ],
      "metadata": {
        "id": "7gZd7q9ZPchs"
      }
    },
    {
      "cell_type": "code",
      "source": [
        "cv_scores = []\n",
        "\n",
        "for k in tqdm_notebook(k_range):\n",
        "    cv_reg = KNeighborsRegressor(n_neighbors = k)\n",
        "    scores = cross_val_score(cv_reg, X_train, y_train)\n",
        "    cv_scores.append(scores.mean())"
      ],
      "metadata": {
        "colab": {
          "base_uri": "https://localhost:8080/",
          "height": 49,
          "referenced_widgets": [
            "7f3867217bf2484994c3b5d063f89272",
            "d6ef9a3fe405427dbc06813e434e3b08",
            "d96897e90ae642fda27abcaabdf57b18",
            "0aa505a14e1a4b509814ae355d78a1e5",
            "000364357716409db081c0ec2c64066f",
            "6ddad1d50c6143f58602ea54f5eeba66",
            "49ee6392e144454ca043adbacad5052a",
            "fbb5a06112754f9e88dcfe3908aabd67",
            "25cf69b346fa46acbde049b8ac1877bf",
            "f9acfc798e7344d0b050c25415b8c03b",
            "b5e63dfc0a9344baa503c8ee2018af77"
          ]
        },
        "id": "7XyV87_lPY1n",
        "outputId": "e032dcaa-6bad-438c-a268-bd0869c97cf6"
      },
      "execution_count": null,
      "outputs": [
        {
          "output_type": "display_data",
          "data": {
            "text/plain": [
              "  0%|          | 0/30 [00:00<?, ?it/s]"
            ],
            "application/vnd.jupyter.widget-view+json": {
              "version_major": 2,
              "version_minor": 0,
              "model_id": "7f3867217bf2484994c3b5d063f89272"
            }
          },
          "metadata": {}
        }
      ]
    },
    {
      "cell_type": "code",
      "source": [
        "max_acc = np.max(cv_scores)    \n",
        "\n",
        "best_k = [k_range[i] for i in range(len(cv_scores))\n",
        "         if cv_scores[i] == max_acc]\n",
        "\n",
        "print(max_acc)\n",
        "print(\"Besk K Value :\", best_k)"
      ],
      "metadata": {
        "colab": {
          "base_uri": "https://localhost:8080/"
        },
        "id": "kVuMGv7VPn91",
        "outputId": "dcb08bc4-5cd8-4159-a90a-7be173c17f5b"
      },
      "execution_count": null,
      "outputs": [
        {
          "output_type": "stream",
          "name": "stdout",
          "text": [
            "0.36692663525067315\n",
            "Besk K Value : [18]\n"
          ]
        }
      ]
    },
    {
      "cell_type": "code",
      "source": [
        "# 정확도가 높은 K값 추출\n",
        "pd.Series(cv_scores).sort_values(ascending = False).index[:9] + 1 "
      ],
      "metadata": {
        "colab": {
          "base_uri": "https://localhost:8080/"
        },
        "id": "iyiin-IfPr77",
        "outputId": "578caf6d-1303-4a86-fe78-ae4c1375fcb5"
      },
      "execution_count": null,
      "outputs": [
        {
          "output_type": "execute_result",
          "data": {
            "text/plain": [
              "Int64Index([18, 17, 16, 20, 15, 19, 14, 21, 22], dtype='int64')"
            ]
          },
          "metadata": {},
          "execution_count": 88
        }
      ]
    },
    {
      "cell_type": "code",
      "source": [
        "plt.plot(k_range, cv_scores, 'go-')\n",
        "plt.title(\"Cross Validation Score\", fontsize = 15)\n",
        "plt.xlabel(\"K\")\n",
        "plt.ylabel(\"cv_reg Accuracy\")\n",
        "plt.axvline(best_k[0], color = \"r\", linestyle = \"--\")\n",
        "plt.show()"
      ],
      "metadata": {
        "colab": {
          "base_uri": "https://localhost:8080/",
          "height": 297
        },
        "id": "GHKlqtbNPyOL",
        "outputId": "96485197-1167-4aa2-f73d-5443af319f38"
      },
      "execution_count": null,
      "outputs": [
        {
          "output_type": "display_data",
          "data": {
            "text/plain": [
              "<Figure size 432x288 with 1 Axes>"
            ],
            "image/png": "[encoded data removed]"
          },
          "metadata": {
            "needs_background": "light"
          }
        }
      ]
    },
    {
      "cell_type": "markdown",
      "source": [
        "**Output**\n",
        "\n",
        "- 교차 검증 결과, 상위 30% 안에 드는 K값은 **18, 17, 16, 20, 15, 19, 14, 21, 22**이다. \n",
        "- **K = 18**일 때 Accuracy가 가장 높다.\n",
        "- 최적의 K는 12, 13, 14, 15였는데, Cross Validation Score를 시각화한 그래프를 보면 K가 18일 때와 큰 차이가 보이지 않음을 알 수 있다."
      ],
      "metadata": {
        "id": "pMECklHcP5SC"
      }
    },
    {
      "cell_type": "code",
      "source": [
        ""
      ],
      "metadata": {
        "id": "X7F6SwinPz44"
      },
      "execution_count": null,
      "outputs": []
    }
  ],
  "metadata": {
    "kernelspec": {
      "display_name": "Python 3",
      "language": "python",
      "name": "python3"
    },
    "language_info": {
      "codemirror_mode": {
        "name": "ipython",
        "version": 3
      },
      "file_extension": ".py",
      "mimetype": "text/x-python",
      "name": "python",
      "nbconvert_exporter": "python",
      "pygments_lexer": "ipython3",
      "version": "3.7.6"
    },
    "colab": {
      "name": "Tobigs_Week4_KNN.ipynb",
      "provenance": [],
      "collapsed_sections": [],
      "toc_visible": true
    },
    "widgets": {
      "application/vnd.jupyter.widget-state+json": {
        "94268f2c0b8b458bbe434dacf16bd016": {
          "model_module": "@jupyter-widgets/controls",
          "model_name": "HBoxModel",
          "model_module_version": "1.5.0",
          "state": {
            "_dom_classes": [],
            "_model_module": "@jupyter-widgets/controls",
            "_model_module_version": "1.5.0",
            "_model_name": "HBoxModel",
            "_view_count": null,
            "_view_module": "@jupyter-widgets/controls",
            "_view_module_version": "1.5.0",
            "_view_name": "HBoxView",
            "box_style": "",
            "children": [
              "IPY_MODEL_76fd0a3b23434bd5850cea0dbeeec355",
              "IPY_MODEL_60a4265f404d420e93945d4120759f2c",
              "IPY_MODEL_2d4ecdaa595c4ba382dea2c0a16a81dd"
            ],
            "layout": "IPY_MODEL_5f32ad2c3c4440129ccb6782e1eb973f"
          }
        },
        "76fd0a3b23434bd5850cea0dbeeec355": {
          "model_module": "@jupyter-widgets/controls",
          "model_name": "HTMLModel",
          "model_module_version": "1.5.0",
          "state": {
            "_dom_classes": [],
            "_model_module": "@jupyter-widgets/controls",
            "_model_module_version": "1.5.0",
            "_model_name": "HTMLModel",
            "_view_count": null,
            "_view_module": "@jupyter-widgets/controls",
            "_view_module_version": "1.5.0",
            "_view_name": "HTMLView",
            "description": "",
            "description_tooltip": null,
            "layout": "IPY_MODEL_822112b827e04d6ab36bf8b4c2c46c85",
            "placeholder": "​",
            "style": "IPY_MODEL_82828ba8d2e149779fefa6032cec021c",
            "value": "100%"
          }
        },
        "60a4265f404d420e93945d4120759f2c": {
          "model_module": "@jupyter-widgets/controls",
          "model_name": "FloatProgressModel",
          "model_module_version": "1.5.0",
          "state": {
            "_dom_classes": [],
            "_model_module": "@jupyter-widgets/controls",
            "_model_module_version": "1.5.0",
            "_model_name": "FloatProgressModel",
            "_view_count": null,
            "_view_module": "@jupyter-widgets/controls",
            "_view_module_version": "1.5.0",
            "_view_name": "ProgressView",
            "bar_style": "success",
            "description": "",
            "description_tooltip": null,
            "layout": "IPY_MODEL_dd2646482f23435fb022303c7558abca",
            "max": 30,
            "min": 0,
            "orientation": "horizontal",
            "style": "IPY_MODEL_1b7098696b5a44b2b8f4834e6c62191c",
            "value": 30
          }
        },
        "2d4ecdaa595c4ba382dea2c0a16a81dd": {
          "model_module": "@jupyter-widgets/controls",
          "model_name": "HTMLModel",
          "model_module_version": "1.5.0",
          "state": {
            "_dom_classes": [],
            "_model_module": "@jupyter-widgets/controls",
            "_model_module_version": "1.5.0",
            "_model_name": "HTMLModel",
            "_view_count": null,
            "_view_module": "@jupyter-widgets/controls",
            "_view_module_version": "1.5.0",
            "_view_name": "HTMLView",
            "description": "",
            "description_tooltip": null,
            "layout": "IPY_MODEL_8a155fe85dd6486daf46a72c9d6f5dc7",
            "placeholder": "​",
            "style": "IPY_MODEL_803428f304ab4e7f813d00981eb0a98a",
            "value": " 30/30 [00:18&lt;00:00,  1.83it/s]"
          }
        },
        "5f32ad2c3c4440129ccb6782e1eb973f": {
          "model_module": "@jupyter-widgets/base",
          "model_name": "LayoutModel",
          "model_module_version": "1.2.0",
          "state": {
            "_model_module": "@jupyter-widgets/base",
            "_model_module_version": "1.2.0",
            "_model_name": "LayoutModel",
            "_view_count": null,
            "_view_module": "@jupyter-widgets/base",
            "_view_module_version": "1.2.0",
            "_view_name": "LayoutView",
            "align_content": null,
            "align_items": null,
            "align_self": null,
            "border": null,
            "bottom": null,
            "display": null,
            "flex": null,
            "flex_flow": null,
            "grid_area": null,
            "grid_auto_columns": null,
            "grid_auto_flow": null,
            "grid_auto_rows": null,
            "grid_column": null,
            "grid_gap": null,
            "grid_row": null,
            "grid_template_areas": null,
            "grid_template_columns": null,
            "grid_template_rows": null,
            "height": null,
            "justify_content": null,
            "justify_items": null,
            "left": null,
            "margin": null,
            "max_height": null,
            "max_width": null,
            "min_height": null,
            "min_width": null,
            "object_fit": null,
            "object_position": null,
            "order": null,
            "overflow": null,
            "overflow_x": null,
            "overflow_y": null,
            "padding": null,
            "right": null,
            "top": null,
            "visibility": null,
            "width": null
          }
        },
        "822112b827e04d6ab36bf8b4c2c46c85": {
          "model_module": "@jupyter-widgets/base",
          "model_name": "LayoutModel",
          "model_module_version": "1.2.0",
          "state": {
            "_model_module": "@jupyter-widgets/base",
            "_model_module_version": "1.2.0",
            "_model_name": "LayoutModel",
            "_view_count": null,
            "_view_module": "@jupyter-widgets/base",
            "_view_module_version": "1.2.0",
            "_view_name": "LayoutView",
            "align_content": null,
            "align_items": null,
            "align_self": null,
            "border": null,
            "bottom": null,
            "display": null,
            "flex": null,
            "flex_flow": null,
            "grid_area": null,
            "grid_auto_columns": null,
            "grid_auto_flow": null,
            "grid_auto_rows": null,
            "grid_column": null,
            "grid_gap": null,
            "grid_row": null,
            "grid_template_areas": null,
            "grid_template_columns": null,
            "grid_template_rows": null,
            "height": null,
            "justify_content": null,
            "justify_items": null,
            "left": null,
            "margin": null,
            "max_height": null,
            "max_width": null,
            "min_height": null,
            "min_width": null,
            "object_fit": null,
            "object_position": null,
            "order": null,
            "overflow": null,
            "overflow_x": null,
            "overflow_y": null,
            "padding": null,
            "right": null,
            "top": null,
            "visibility": null,
            "width": null
          }
        },
        "82828ba8d2e149779fefa6032cec021c": {
          "model_module": "@jupyter-widgets/controls",
          "model_name": "DescriptionStyleModel",
          "model_module_version": "1.5.0",
          "state": {
            "_model_module": "@jupyter-widgets/controls",
            "_model_module_version": "1.5.0",
            "_model_name": "DescriptionStyleModel",
            "_view_count": null,
            "_view_module": "@jupyter-widgets/base",
            "_view_module_version": "1.2.0",
            "_view_name": "StyleView",
            "description_width": ""
          }
        },
        "dd2646482f23435fb022303c7558abca": {
          "model_module": "@jupyter-widgets/base",
          "model_name": "LayoutModel",
          "model_module_version": "1.2.0",
          "state": {
            "_model_module": "@jupyter-widgets/base",
            "_model_module_version": "1.2.0",
            "_model_name": "LayoutModel",
            "_view_count": null,
            "_view_module": "@jupyter-widgets/base",
            "_view_module_version": "1.2.0",
            "_view_name": "LayoutView",
            "align_content": null,
            "align_items": null,
            "align_self": null,
            "border": null,
            "bottom": null,
            "display": null,
            "flex": null,
            "flex_flow": null,
            "grid_area": null,
            "grid_auto_columns": null,
            "grid_auto_flow": null,
            "grid_auto_rows": null,
            "grid_column": null,
            "grid_gap": null,
            "grid_row": null,
            "grid_template_areas": null,
            "grid_template_columns": null,
            "grid_template_rows": null,
            "height": null,
            "justify_content": null,
            "justify_items": null,
            "left": null,
            "margin": null,
            "max_height": null,
            "max_width": null,
            "min_height": null,
            "min_width": null,
            "object_fit": null,
            "object_position": null,
            "order": null,
            "overflow": null,
            "overflow_x": null,
            "overflow_y": null,
            "padding": null,
            "right": null,
            "top": null,
            "visibility": null,
            "width": null
          }
        },
        "1b7098696b5a44b2b8f4834e6c62191c": {
          "model_module": "@jupyter-widgets/controls",
          "model_name": "ProgressStyleModel",
          "model_module_version": "1.5.0",
          "state": {
            "_model_module": "@jupyter-widgets/controls",
            "_model_module_version": "1.5.0",
            "_model_name": "ProgressStyleModel",
            "_view_count": null,
            "_view_module": "@jupyter-widgets/base",
            "_view_module_version": "1.2.0",
            "_view_name": "StyleView",
            "bar_color": null,
            "description_width": ""
          }
        },
        "8a155fe85dd6486daf46a72c9d6f5dc7": {
          "model_module": "@jupyter-widgets/base",
          "model_name": "LayoutModel",
          "model_module_version": "1.2.0",
          "state": {
            "_model_module": "@jupyter-widgets/base",
            "_model_module_version": "1.2.0",
            "_model_name": "LayoutModel",
            "_view_count": null,
            "_view_module": "@jupyter-widgets/base",
            "_view_module_version": "1.2.0",
            "_view_name": "LayoutView",
            "align_content": null,
            "align_items": null,
            "align_self": null,
            "border": null,
            "bottom": null,
            "display": null,
            "flex": null,
            "flex_flow": null,
            "grid_area": null,
            "grid_auto_columns": null,
            "grid_auto_flow": null,
            "grid_auto_rows": null,
            "grid_column": null,
            "grid_gap": null,
            "grid_row": null,
            "grid_template_areas": null,
            "grid_template_columns": null,
            "grid_template_rows": null,
            "height": null,
            "justify_content": null,
            "justify_items": null,
            "left": null,
            "margin": null,
            "max_height": null,
            "max_width": null,
            "min_height": null,
            "min_width": null,
            "object_fit": null,
            "object_position": null,
            "order": null,
            "overflow": null,
            "overflow_x": null,
            "overflow_y": null,
            "padding": null,
            "right": null,
            "top": null,
            "visibility": null,
            "width": null
          }
        },
        "803428f304ab4e7f813d00981eb0a98a": {
          "model_module": "@jupyter-widgets/controls",
          "model_name": "DescriptionStyleModel",
          "model_module_version": "1.5.0",
          "state": {
            "_model_module": "@jupyter-widgets/controls",
            "_model_module_version": "1.5.0",
            "_model_name": "DescriptionStyleModel",
            "_view_count": null,
            "_view_module": "@jupyter-widgets/base",
            "_view_module_version": "1.2.0",
            "_view_name": "StyleView",
            "description_width": ""
          }
        },
        "7f3867217bf2484994c3b5d063f89272": {
          "model_module": "@jupyter-widgets/controls",
          "model_name": "HBoxModel",
          "model_module_version": "1.5.0",
          "state": {
            "_dom_classes": [],
            "_model_module": "@jupyter-widgets/controls",
            "_model_module_version": "1.5.0",
            "_model_name": "HBoxModel",
            "_view_count": null,
            "_view_module": "@jupyter-widgets/controls",
            "_view_module_version": "1.5.0",
            "_view_name": "HBoxView",
            "box_style": "",
            "children": [
              "IPY_MODEL_d6ef9a3fe405427dbc06813e434e3b08",
              "IPY_MODEL_d96897e90ae642fda27abcaabdf57b18",
              "IPY_MODEL_0aa505a14e1a4b509814ae355d78a1e5"
            ],
            "layout": "IPY_MODEL_000364357716409db081c0ec2c64066f"
          }
        },
        "d6ef9a3fe405427dbc06813e434e3b08": {
          "model_module": "@jupyter-widgets/controls",
          "model_name": "HTMLModel",
          "model_module_version": "1.5.0",
          "state": {
            "_dom_classes": [],
            "_model_module": "@jupyter-widgets/controls",
            "_model_module_version": "1.5.0",
            "_model_name": "HTMLModel",
            "_view_count": null,
            "_view_module": "@jupyter-widgets/controls",
            "_view_module_version": "1.5.0",
            "_view_name": "HTMLView",
            "description": "",
            "description_tooltip": null,
            "layout": "IPY_MODEL_6ddad1d50c6143f58602ea54f5eeba66",
            "placeholder": "​",
            "style": "IPY_MODEL_49ee6392e144454ca043adbacad5052a",
            "value": "100%"
          }
        },
        "d96897e90ae642fda27abcaabdf57b18": {
          "model_module": "@jupyter-widgets/controls",
          "model_name": "FloatProgressModel",
          "model_module_version": "1.5.0",
          "state": {
            "_dom_classes": [],
            "_model_module": "@jupyter-widgets/controls",
            "_model_module_version": "1.5.0",
            "_model_name": "FloatProgressModel",
            "_view_count": null,
            "_view_module": "@jupyter-widgets/controls",
            "_view_module_version": "1.5.0",
            "_view_name": "ProgressView",
            "bar_style": "success",
            "description": "",
            "description_tooltip": null,
            "layout": "IPY_MODEL_fbb5a06112754f9e88dcfe3908aabd67",
            "max": 30,
            "min": 0,
            "orientation": "horizontal",
            "style": "IPY_MODEL_25cf69b346fa46acbde049b8ac1877bf",
            "value": 30
          }
        },
        "0aa505a14e1a4b509814ae355d78a1e5": {
          "model_module": "@jupyter-widgets/controls",
          "model_name": "HTMLModel",
          "model_module_version": "1.5.0",
          "state": {
            "_dom_classes": [],
            "_model_module": "@jupyter-widgets/controls",
            "_model_module_version": "1.5.0",
            "_model_name": "HTMLModel",
            "_view_count": null,
            "_view_module": "@jupyter-widgets/controls",
            "_view_module_version": "1.5.0",
            "_view_name": "HTMLView",
            "description": "",
            "description_tooltip": null,
            "layout": "IPY_MODEL_f9acfc798e7344d0b050c25415b8c03b",
            "placeholder": "​",
            "style": "IPY_MODEL_b5e63dfc0a9344baa503c8ee2018af77",
            "value": " 30/30 [00:19&lt;00:00,  1.42it/s]"
          }
        },
        "000364357716409db081c0ec2c64066f": {
          "model_module": "@jupyter-widgets/base",
          "model_name": "LayoutModel",
          "model_module_version": "1.2.0",
          "state": {
            "_model_module": "@jupyter-widgets/base",
            "_model_module_version": "1.2.0",
            "_model_name": "LayoutModel",
            "_view_count": null,
            "_view_module": "@jupyter-widgets/base",
            "_view_module_version": "1.2.0",
            "_view_name": "LayoutView",
            "align_content": null,
            "align_items": null,
            "align_self": null,
            "border": null,
            "bottom": null,
            "display": null,
            "flex": null,
            "flex_flow": null,
            "grid_area": null,
            "grid_auto_columns": null,
            "grid_auto_flow": null,
            "grid_auto_rows": null,
            "grid_column": null,
            "grid_gap": null,
            "grid_row": null,
            "grid_template_areas": null,
            "grid_template_columns": null,
            "grid_template_rows": null,
            "height": null,
            "justify_content": null,
            "justify_items": null,
            "left": null,
            "margin": null,
            "max_height": null,
            "max_width": null,
            "min_height": null,
            "min_width": null,
            "object_fit": null,
            "object_position": null,
            "order": null,
            "overflow": null,
            "overflow_x": null,
            "overflow_y": null,
            "padding": null,
            "right": null,
            "top": null,
            "visibility": null,
            "width": null
          }
        },
        "6ddad1d50c6143f58602ea54f5eeba66": {
          "model_module": "@jupyter-widgets/base",
          "model_name": "LayoutModel",
          "model_module_version": "1.2.0",
          "state": {
            "_model_module": "@jupyter-widgets/base",
            "_model_module_version": "1.2.0",
            "_model_name": "LayoutModel",
            "_view_count": null,
            "_view_module": "@jupyter-widgets/base",
            "_view_module_version": "1.2.0",
            "_view_name": "LayoutView",
            "align_content": null,
            "align_items": null,
            "align_self": null,
            "border": null,
            "bottom": null,
            "display": null,
            "flex": null,
            "flex_flow": null,
            "grid_area": null,
            "grid_auto_columns": null,
            "grid_auto_flow": null,
            "grid_auto_rows": null,
            "grid_column": null,
            "grid_gap": null,
            "grid_row": null,
            "grid_template_areas": null,
            "grid_template_columns": null,
            "grid_template_rows": null,
            "height": null,
            "justify_content": null,
            "justify_items": null,
            "left": null,
            "margin": null,
            "max_height": null,
            "max_width": null,
            "min_height": null,
            "min_width": null,
            "object_fit": null,
            "object_position": null,
            "order": null,
            "overflow": null,
            "overflow_x": null,
            "overflow_y": null,
            "padding": null,
            "right": null,
            "top": null,
            "visibility": null,
            "width": null
          }
        },
        "49ee6392e144454ca043adbacad5052a": {
          "model_module": "@jupyter-widgets/controls",
          "model_name": "DescriptionStyleModel",
          "model_module_version": "1.5.0",
          "state": {
            "_model_module": "@jupyter-widgets/controls",
            "_model_module_version": "1.5.0",
            "_model_name": "DescriptionStyleModel",
            "_view_count": null,
            "_view_module": "@jupyter-widgets/base",
            "_view_module_version": "1.2.0",
            "_view_name": "StyleView",
            "description_width": ""
          }
        },
        "fbb5a06112754f9e88dcfe3908aabd67": {
          "model_module": "@jupyter-widgets/base",
          "model_name": "LayoutModel",
          "model_module_version": "1.2.0",
          "state": {
            "_model_module": "@jupyter-widgets/base",
            "_model_module_version": "1.2.0",
            "_model_name": "LayoutModel",
            "_view_count": null,
            "_view_module": "@jupyter-widgets/base",
            "_view_module_version": "1.2.0",
            "_view_name": "LayoutView",
            "align_content": null,
            "align_items": null,
            "align_self": null,
            "border": null,
            "bottom": null,
            "display": null,
            "flex": null,
            "flex_flow": null,
            "grid_area": null,
            "grid_auto_columns": null,
            "grid_auto_flow": null,
            "grid_auto_rows": null,
            "grid_column": null,
            "grid_gap": null,
            "grid_row": null,
            "grid_template_areas": null,
            "grid_template_columns": null,
            "grid_template_rows": null,
            "height": null,
            "justify_content": null,
            "justify_items": null,
            "left": null,
            "margin": null,
            "max_height": null,
            "max_width": null,
            "min_height": null,
            "min_width": null,
            "object_fit": null,
            "object_position": null,
            "order": null,
            "overflow": null,
            "overflow_x": null,
            "overflow_y": null,
            "padding": null,
            "right": null,
            "top": null,
            "visibility": null,
            "width": null
          }
        },
        "25cf69b346fa46acbde049b8ac1877bf": {
          "model_module": "@jupyter-widgets/controls",
          "model_name": "ProgressStyleModel",
          "model_module_version": "1.5.0",
          "state": {
            "_model_module": "@jupyter-widgets/controls",
            "_model_module_version": "1.5.0",
            "_model_name": "ProgressStyleModel",
            "_view_count": null,
            "_view_module": "@jupyter-widgets/base",
            "_view_module_version": "1.2.0",
            "_view_name": "StyleView",
            "bar_color": null,
            "description_width": ""
          }
        },
        "f9acfc798e7344d0b050c25415b8c03b": {
          "model_module": "@jupyter-widgets/base",
          "model_name": "LayoutModel",
          "model_module_version": "1.2.0",
          "state": {
            "_model_module": "@jupyter-widgets/base",
            "_model_module_version": "1.2.0",
            "_model_name": "LayoutModel",
            "_view_count": null,
            "_view_module": "@jupyter-widgets/base",
            "_view_module_version": "1.2.0",
            "_view_name": "LayoutView",
            "align_content": null,
            "align_items": null,
            "align_self": null,
            "border": null,
            "bottom": null,
            "display": null,
            "flex": null,
            "flex_flow": null,
            "grid_area": null,
            "grid_auto_columns": null,
            "grid_auto_flow": null,
            "grid_auto_rows": null,
            "grid_column": null,
            "grid_gap": null,
            "grid_row": null,
            "grid_template_areas": null,
            "grid_template_columns": null,
            "grid_template_rows": null,
            "height": null,
            "justify_content": null,
            "justify_items": null,
            "left": null,
            "margin": null,
            "max_height": null,
            "max_width": null,
            "min_height": null,
            "min_width": null,
            "object_fit": null,
            "object_position": null,
            "order": null,
            "overflow": null,
            "overflow_x": null,
            "overflow_y": null,
            "padding": null,
            "right": null,
            "top": null,
            "visibility": null,
            "width": null
          }
        },
        "b5e63dfc0a9344baa503c8ee2018af77": {
          "model_module": "@jupyter-widgets/controls",
          "model_name": "DescriptionStyleModel",
          "model_module_version": "1.5.0",
          "state": {
            "_model_module": "@jupyter-widgets/controls",
            "_model_module_version": "1.5.0",
            "_model_name": "DescriptionStyleModel",
            "_view_count": null,
            "_view_module": "@jupyter-widgets/base",
            "_view_module_version": "1.2.0",
            "_view_name": "StyleView",
            "description_width": ""
          }
        }
      }
    }
  },
  "nbformat": 4,
  "nbformat_minor": 0
}